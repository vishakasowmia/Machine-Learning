{
  "cells": [
    {
      "cell_type": "markdown",
      "metadata": {
        "id": "fT6qB5dE9y50"
      },
      "source": [
        "**DB Scan clustering**"
      ]
    },
    {
      "cell_type": "markdown",
      "metadata": {
        "id": "6s578pZL9ney"
      },
      "source": [
        "**Problem Statement:**\n",
        "\n",
        "Airplane crashes are a major concern for the aviation industry and have significant impacts on human lives and the economy. Analyzing past airplane crash data can provide valuable insights into the causes and contributing factors of crashes, as well as help identify patterns and trends that can inform safety measures and policies. However, with a large volume of crash data available, it can be challenging to extract meaningful information from the data. The use of text clustering with K-means, hierarchical clustering and DB- scan can help to organize and classify the crash data into meaningful groups, facilitating further analysis and interpretation of the data. Therefore, the problem is to develop an effective text clustering approach using clustering to cluster airplane crash data into meaningful groups that can provide insights into crash patterns and factors.\n",
        "\n",
        "The data of Airplane crash is taken from Kaggle the link of the dataset is provided below:\n",
        "\n",
        "https://www.kaggle.com/datasets/saurograndi/airplane-crashes-since-1908"
      ]
    },
    {
      "cell_type": "markdown",
      "metadata": {
        "id": "lC006bZF9mMf"
      },
      "source": [
        "**Importing the Libraries**"
      ]
    },
    {
      "cell_type": "code",
      "execution_count": null,
      "metadata": {
        "id": "HG-hWgVdjWWs"
      },
      "outputs": [],
      "source": [
        "import pandas as pd\n",
        "import numpy  as np\n",
        "import seaborn as sns\n",
        "import matplotlib.pyplot as plt\n",
        "sns.set_style()\n",
        "import matplotlib\n",
        "%matplotlib inline\n",
        "import warnings\n",
        "warnings.filterwarnings(\"ignore\")"
      ]
    },
    {
      "cell_type": "markdown",
      "metadata": {
        "id": "6di_d9BikTri"
      },
      "source": [
        "**Loading the Accident dataset**"
      ]
    },
    {
      "cell_type": "code",
      "execution_count": null,
      "metadata": {
        "id": "gWqJ-B8hkQy6"
      },
      "outputs": [],
      "source": [
        "import pandas as pd\n",
        "# Load the dataset into a Pandas DataFrame\n",
        "df = pd.read_csv('/content/Airplane_Crashes_and_Fatalities_Since_1908.csv')"
      ]
    },
    {
      "cell_type": "code",
      "execution_count": null,
      "metadata": {
        "colab": {
          "base_uri": "https://localhost:8080/",
          "height": 354
        },
        "id": "lxXJVTkllk5q",
        "outputId": "5863035e-6717-4161-9fd4-c6fb73aa1496"
      },
      "outputs": [
        {
          "data": {
            "text/html": [
              "\n",
              "  <div id=\"df-d10f8f7b-c2c6-4912-abda-f8ba468766af\">\n",
              "    <div class=\"colab-df-container\">\n",
              "      <div>\n",
              "<style scoped>\n",
              "    .dataframe tbody tr th:only-of-type {\n",
              "        vertical-align: middle;\n",
              "    }\n",
              "\n",
              "    .dataframe tbody tr th {\n",
              "        vertical-align: top;\n",
              "    }\n",
              "\n",
              "    .dataframe thead th {\n",
              "        text-align: right;\n",
              "    }\n",
              "</style>\n",
              "<table border=\"1\" class=\"dataframe\">\n",
              "  <thead>\n",
              "    <tr style=\"text-align: right;\">\n",
              "      <th></th>\n",
              "      <th>Date</th>\n",
              "      <th>Time</th>\n",
              "      <th>Location</th>\n",
              "      <th>Operator</th>\n",
              "      <th>Flight #</th>\n",
              "      <th>Route</th>\n",
              "      <th>Type</th>\n",
              "      <th>Registration</th>\n",
              "      <th>cn/In</th>\n",
              "      <th>Aboard</th>\n",
              "      <th>Fatalities</th>\n",
              "      <th>Ground</th>\n",
              "      <th>Summary</th>\n",
              "    </tr>\n",
              "  </thead>\n",
              "  <tbody>\n",
              "    <tr>\n",
              "      <th>0</th>\n",
              "      <td>09/17/1908</td>\n",
              "      <td>17:18</td>\n",
              "      <td>Fort Myer, Virginia</td>\n",
              "      <td>Military - U.S. Army</td>\n",
              "      <td>NaN</td>\n",
              "      <td>Demonstration</td>\n",
              "      <td>Wright Flyer III</td>\n",
              "      <td>NaN</td>\n",
              "      <td>1</td>\n",
              "      <td>2.0</td>\n",
              "      <td>1.0</td>\n",
              "      <td>0.0</td>\n",
              "      <td>During a demonstration flight, a U.S. Army fly...</td>\n",
              "    </tr>\n",
              "    <tr>\n",
              "      <th>1</th>\n",
              "      <td>07/12/1912</td>\n",
              "      <td>06:30</td>\n",
              "      <td>AtlantiCity, New Jersey</td>\n",
              "      <td>Military - U.S. Navy</td>\n",
              "      <td>NaN</td>\n",
              "      <td>Test flight</td>\n",
              "      <td>Dirigible</td>\n",
              "      <td>NaN</td>\n",
              "      <td>NaN</td>\n",
              "      <td>5.0</td>\n",
              "      <td>5.0</td>\n",
              "      <td>0.0</td>\n",
              "      <td>First U.S. dirigible Akron exploded just offsh...</td>\n",
              "    </tr>\n",
              "    <tr>\n",
              "      <th>2</th>\n",
              "      <td>08/06/1913</td>\n",
              "      <td>NaN</td>\n",
              "      <td>Victoria, British Columbia, Canada</td>\n",
              "      <td>Private</td>\n",
              "      <td>-</td>\n",
              "      <td>NaN</td>\n",
              "      <td>Curtiss seaplane</td>\n",
              "      <td>NaN</td>\n",
              "      <td>NaN</td>\n",
              "      <td>1.0</td>\n",
              "      <td>1.0</td>\n",
              "      <td>0.0</td>\n",
              "      <td>The first fatal airplane accident in Canada oc...</td>\n",
              "    </tr>\n",
              "    <tr>\n",
              "      <th>3</th>\n",
              "      <td>09/09/1913</td>\n",
              "      <td>18:30</td>\n",
              "      <td>Over the North Sea</td>\n",
              "      <td>Military - German Navy</td>\n",
              "      <td>NaN</td>\n",
              "      <td>NaN</td>\n",
              "      <td>Zeppelin L-1 (airship)</td>\n",
              "      <td>NaN</td>\n",
              "      <td>NaN</td>\n",
              "      <td>20.0</td>\n",
              "      <td>14.0</td>\n",
              "      <td>0.0</td>\n",
              "      <td>The airship flew into a thunderstorm and encou...</td>\n",
              "    </tr>\n",
              "    <tr>\n",
              "      <th>4</th>\n",
              "      <td>10/17/1913</td>\n",
              "      <td>10:30</td>\n",
              "      <td>Near Johannisthal, Germany</td>\n",
              "      <td>Military - German Navy</td>\n",
              "      <td>NaN</td>\n",
              "      <td>NaN</td>\n",
              "      <td>Zeppelin L-2 (airship)</td>\n",
              "      <td>NaN</td>\n",
              "      <td>NaN</td>\n",
              "      <td>30.0</td>\n",
              "      <td>30.0</td>\n",
              "      <td>0.0</td>\n",
              "      <td>Hydrogen gas which was being vented was sucked...</td>\n",
              "    </tr>\n",
              "  </tbody>\n",
              "</table>\n",
              "</div>\n",
              "      <button class=\"colab-df-convert\" onclick=\"convertToInteractive('df-d10f8f7b-c2c6-4912-abda-f8ba468766af')\"\n",
              "              title=\"Convert this dataframe to an interactive table.\"\n",
              "              style=\"display:none;\">\n",
              "        \n",
              "  <svg xmlns=\"http://www.w3.org/2000/svg\" height=\"24px\"viewBox=\"0 0 24 24\"\n",
              "       width=\"24px\">\n",
              "    <path d=\"M0 0h24v24H0V0z\" fill=\"none\"/>\n",
              "    <path d=\"M18.56 5.44l.94 2.06.94-2.06 2.06-.94-2.06-.94-.94-2.06-.94 2.06-2.06.94zm-11 1L8.5 8.5l.94-2.06 2.06-.94-2.06-.94L8.5 2.5l-.94 2.06-2.06.94zm10 10l.94 2.06.94-2.06 2.06-.94-2.06-.94-.94-2.06-.94 2.06-2.06.94z\"/><path d=\"M17.41 7.96l-1.37-1.37c-.4-.4-.92-.59-1.43-.59-.52 0-1.04.2-1.43.59L10.3 9.45l-7.72 7.72c-.78.78-.78 2.05 0 2.83L4 21.41c.39.39.9.59 1.41.59.51 0 1.02-.2 1.41-.59l7.78-7.78 2.81-2.81c.8-.78.8-2.07 0-2.86zM5.41 20L4 18.59l7.72-7.72 1.47 1.35L5.41 20z\"/>\n",
              "  </svg>\n",
              "      </button>\n",
              "      \n",
              "  <style>\n",
              "    .colab-df-container {\n",
              "      display:flex;\n",
              "      flex-wrap:wrap;\n",
              "      gap: 12px;\n",
              "    }\n",
              "\n",
              "    .colab-df-convert {\n",
              "      background-color: #E8F0FE;\n",
              "      border: none;\n",
              "      border-radius: 50%;\n",
              "      cursor: pointer;\n",
              "      display: none;\n",
              "      fill: #1967D2;\n",
              "      height: 32px;\n",
              "      padding: 0 0 0 0;\n",
              "      width: 32px;\n",
              "    }\n",
              "\n",
              "    .colab-df-convert:hover {\n",
              "      background-color: #E2EBFA;\n",
              "      box-shadow: 0px 1px 2px rgba(60, 64, 67, 0.3), 0px 1px 3px 1px rgba(60, 64, 67, 0.15);\n",
              "      fill: #174EA6;\n",
              "    }\n",
              "\n",
              "    [theme=dark] .colab-df-convert {\n",
              "      background-color: #3B4455;\n",
              "      fill: #D2E3FC;\n",
              "    }\n",
              "\n",
              "    [theme=dark] .colab-df-convert:hover {\n",
              "      background-color: #434B5C;\n",
              "      box-shadow: 0px 1px 3px 1px rgba(0, 0, 0, 0.15);\n",
              "      filter: drop-shadow(0px 1px 2px rgba(0, 0, 0, 0.3));\n",
              "      fill: #FFFFFF;\n",
              "    }\n",
              "  </style>\n",
              "\n",
              "      <script>\n",
              "        const buttonEl =\n",
              "          document.querySelector('#df-d10f8f7b-c2c6-4912-abda-f8ba468766af button.colab-df-convert');\n",
              "        buttonEl.style.display =\n",
              "          google.colab.kernel.accessAllowed ? 'block' : 'none';\n",
              "\n",
              "        async function convertToInteractive(key) {\n",
              "          const element = document.querySelector('#df-d10f8f7b-c2c6-4912-abda-f8ba468766af');\n",
              "          const dataTable =\n",
              "            await google.colab.kernel.invokeFunction('convertToInteractive',\n",
              "                                                     [key], {});\n",
              "          if (!dataTable) return;\n",
              "\n",
              "          const docLinkHtml = 'Like what you see? Visit the ' +\n",
              "            '<a target=\"_blank\" href=https://colab.research.google.com/notebooks/data_table.ipynb>data table notebook</a>'\n",
              "            + ' to learn more about interactive tables.';\n",
              "          element.innerHTML = '';\n",
              "          dataTable['output_type'] = 'display_data';\n",
              "          await google.colab.output.renderOutput(dataTable, element);\n",
              "          const docLink = document.createElement('div');\n",
              "          docLink.innerHTML = docLinkHtml;\n",
              "          element.appendChild(docLink);\n",
              "        }\n",
              "      </script>\n",
              "    </div>\n",
              "  </div>\n",
              "  "
            ],
            "text/plain": [
              "         Date   Time                            Location  \\\n",
              "0  09/17/1908  17:18                 Fort Myer, Virginia   \n",
              "1  07/12/1912  06:30             AtlantiCity, New Jersey   \n",
              "2  08/06/1913    NaN  Victoria, British Columbia, Canada   \n",
              "3  09/09/1913  18:30                  Over the North Sea   \n",
              "4  10/17/1913  10:30          Near Johannisthal, Germany   \n",
              "\n",
              "                 Operator Flight #          Route                    Type  \\\n",
              "0    Military - U.S. Army      NaN  Demonstration        Wright Flyer III   \n",
              "1    Military - U.S. Navy      NaN    Test flight               Dirigible   \n",
              "2                 Private        -            NaN        Curtiss seaplane   \n",
              "3  Military - German Navy      NaN            NaN  Zeppelin L-1 (airship)   \n",
              "4  Military - German Navy      NaN            NaN  Zeppelin L-2 (airship)   \n",
              "\n",
              "  Registration cn/In  Aboard  Fatalities  Ground  \\\n",
              "0          NaN     1     2.0         1.0     0.0   \n",
              "1          NaN   NaN     5.0         5.0     0.0   \n",
              "2          NaN   NaN     1.0         1.0     0.0   \n",
              "3          NaN   NaN    20.0        14.0     0.0   \n",
              "4          NaN   NaN    30.0        30.0     0.0   \n",
              "\n",
              "                                             Summary  \n",
              "0  During a demonstration flight, a U.S. Army fly...  \n",
              "1  First U.S. dirigible Akron exploded just offsh...  \n",
              "2  The first fatal airplane accident in Canada oc...  \n",
              "3  The airship flew into a thunderstorm and encou...  \n",
              "4  Hydrogen gas which was being vented was sucked...  "
            ]
          },
          "execution_count": 83,
          "metadata": {},
          "output_type": "execute_result"
        }
      ],
      "source": [
        "df.head()"
      ]
    },
    {
      "cell_type": "markdown",
      "metadata": {
        "id": "JC9RVjuZm0sr"
      },
      "source": [
        "**DATA DESCRIPTION**"
      ]
    },
    {
      "cell_type": "markdown",
      "metadata": {
        "id": "PF06QPRGm3t1"
      },
      "source": [
        "**The shape**"
      ]
    },
    {
      "cell_type": "code",
      "execution_count": null,
      "metadata": {
        "colab": {
          "base_uri": "https://localhost:8080/"
        },
        "id": "tUmvtrZCmyIU",
        "outputId": "eccec7fc-baab-4f0c-fb19-8491be5c4bce"
      },
      "outputs": [
        {
          "data": {
            "text/plain": [
              "(5268, 13)"
            ]
          },
          "execution_count": 84,
          "metadata": {},
          "output_type": "execute_result"
        }
      ],
      "source": [
        "df.shape"
      ]
    },
    {
      "cell_type": "markdown",
      "metadata": {
        "id": "PwrcAbr4m8bP"
      },
      "source": [
        "**Printing the information of the dataset.**"
      ]
    },
    {
      "cell_type": "code",
      "execution_count": null,
      "metadata": {
        "colab": {
          "base_uri": "https://localhost:8080/"
        },
        "id": "ILUKXS9Km6Ac",
        "outputId": "7260789b-a650-4317-80c5-5e9e3fb48052"
      },
      "outputs": [
        {
          "name": "stdout",
          "output_type": "stream",
          "text": [
            "<class 'pandas.core.frame.DataFrame'>\n",
            "RangeIndex: 5268 entries, 0 to 5267\n",
            "Data columns (total 13 columns):\n",
            " #   Column        Non-Null Count  Dtype  \n",
            "---  ------        --------------  -----  \n",
            " 0   Date          5268 non-null   object \n",
            " 1   Time          3049 non-null   object \n",
            " 2   Location      5248 non-null   object \n",
            " 3   Operator      5250 non-null   object \n",
            " 4   Flight #      1069 non-null   object \n",
            " 5   Route         3562 non-null   object \n",
            " 6   Type          5241 non-null   object \n",
            " 7   Registration  4933 non-null   object \n",
            " 8   cn/In         4040 non-null   object \n",
            " 9   Aboard        5246 non-null   float64\n",
            " 10  Fatalities    5256 non-null   float64\n",
            " 11  Ground        5246 non-null   float64\n",
            " 12  Summary       4878 non-null   object \n",
            "dtypes: float64(3), object(10)\n",
            "memory usage: 535.2+ KB\n"
          ]
        }
      ],
      "source": [
        "df.info()"
      ]
    },
    {
      "cell_type": "markdown",
      "metadata": {
        "id": "A15_uI3p9jSQ"
      },
      "source": [
        "**Details of the null values in the datset.**"
      ]
    },
    {
      "cell_type": "code",
      "execution_count": null,
      "metadata": {
        "colab": {
          "base_uri": "https://localhost:8080/"
        },
        "id": "JThinwHsm-yz",
        "outputId": "63a13cab-f185-41d4-b78a-a307b7673944"
      },
      "outputs": [
        {
          "data": {
            "text/plain": [
              "Date               0\n",
              "Time            2219\n",
              "Location          20\n",
              "Operator          18\n",
              "Flight #        4199\n",
              "Route           1706\n",
              "Type              27\n",
              "Registration     335\n",
              "cn/In           1228\n",
              "Aboard            22\n",
              "Fatalities        12\n",
              "Ground            22\n",
              "Summary          390\n",
              "dtype: int64"
            ]
          },
          "execution_count": 86,
          "metadata": {},
          "output_type": "execute_result"
        }
      ],
      "source": [
        "df.isnull().sum()"
      ]
    },
    {
      "cell_type": "markdown",
      "metadata": {
        "id": "KD9BofxJ-qLc"
      },
      "source": [
        "**Inference:** As there are more null values in Flight # therefore we drop that column."
      ]
    },
    {
      "cell_type": "code",
      "execution_count": null,
      "metadata": {
        "colab": {
          "base_uri": "https://localhost:8080/",
          "height": 457
        },
        "id": "xxnyeahmrHBo",
        "outputId": "fd3df20b-14e8-41b7-8c60-2fa08a5f56e5"
      },
      "outputs": [
        {
          "data": {
            "text/html": [
              "\n",
              "  <div id=\"df-edc642a7-3d73-4bea-9fe9-712a938d8840\">\n",
              "    <div class=\"colab-df-container\">\n",
              "      <div>\n",
              "<style scoped>\n",
              "    .dataframe tbody tr th:only-of-type {\n",
              "        vertical-align: middle;\n",
              "    }\n",
              "\n",
              "    .dataframe tbody tr th {\n",
              "        vertical-align: top;\n",
              "    }\n",
              "\n",
              "    .dataframe thead th {\n",
              "        text-align: right;\n",
              "    }\n",
              "</style>\n",
              "<table border=\"1\" class=\"dataframe\">\n",
              "  <thead>\n",
              "    <tr style=\"text-align: right;\">\n",
              "      <th></th>\n",
              "      <th>percentage of null vlaues</th>\n",
              "      <th>Null Values</th>\n",
              "    </tr>\n",
              "  </thead>\n",
              "  <tbody>\n",
              "    <tr>\n",
              "      <th>Date</th>\n",
              "      <td>0.000</td>\n",
              "      <td>0</td>\n",
              "    </tr>\n",
              "    <tr>\n",
              "      <th>Time</th>\n",
              "      <td>0.421</td>\n",
              "      <td>2219</td>\n",
              "    </tr>\n",
              "    <tr>\n",
              "      <th>Location</th>\n",
              "      <td>0.004</td>\n",
              "      <td>20</td>\n",
              "    </tr>\n",
              "    <tr>\n",
              "      <th>Operator</th>\n",
              "      <td>0.003</td>\n",
              "      <td>18</td>\n",
              "    </tr>\n",
              "    <tr>\n",
              "      <th>Flight #</th>\n",
              "      <td>0.797</td>\n",
              "      <td>4199</td>\n",
              "    </tr>\n",
              "    <tr>\n",
              "      <th>Route</th>\n",
              "      <td>0.324</td>\n",
              "      <td>1706</td>\n",
              "    </tr>\n",
              "    <tr>\n",
              "      <th>Type</th>\n",
              "      <td>0.005</td>\n",
              "      <td>27</td>\n",
              "    </tr>\n",
              "    <tr>\n",
              "      <th>Registration</th>\n",
              "      <td>0.064</td>\n",
              "      <td>335</td>\n",
              "    </tr>\n",
              "    <tr>\n",
              "      <th>cn/In</th>\n",
              "      <td>0.233</td>\n",
              "      <td>1228</td>\n",
              "    </tr>\n",
              "    <tr>\n",
              "      <th>Aboard</th>\n",
              "      <td>0.004</td>\n",
              "      <td>22</td>\n",
              "    </tr>\n",
              "    <tr>\n",
              "      <th>Fatalities</th>\n",
              "      <td>0.002</td>\n",
              "      <td>12</td>\n",
              "    </tr>\n",
              "    <tr>\n",
              "      <th>Ground</th>\n",
              "      <td>0.004</td>\n",
              "      <td>22</td>\n",
              "    </tr>\n",
              "    <tr>\n",
              "      <th>Summary</th>\n",
              "      <td>0.074</td>\n",
              "      <td>390</td>\n",
              "    </tr>\n",
              "  </tbody>\n",
              "</table>\n",
              "</div>\n",
              "      <button class=\"colab-df-convert\" onclick=\"convertToInteractive('df-edc642a7-3d73-4bea-9fe9-712a938d8840')\"\n",
              "              title=\"Convert this dataframe to an interactive table.\"\n",
              "              style=\"display:none;\">\n",
              "        \n",
              "  <svg xmlns=\"http://www.w3.org/2000/svg\" height=\"24px\"viewBox=\"0 0 24 24\"\n",
              "       width=\"24px\">\n",
              "    <path d=\"M0 0h24v24H0V0z\" fill=\"none\"/>\n",
              "    <path d=\"M18.56 5.44l.94 2.06.94-2.06 2.06-.94-2.06-.94-.94-2.06-.94 2.06-2.06.94zm-11 1L8.5 8.5l.94-2.06 2.06-.94-2.06-.94L8.5 2.5l-.94 2.06-2.06.94zm10 10l.94 2.06.94-2.06 2.06-.94-2.06-.94-.94-2.06-.94 2.06-2.06.94z\"/><path d=\"M17.41 7.96l-1.37-1.37c-.4-.4-.92-.59-1.43-.59-.52 0-1.04.2-1.43.59L10.3 9.45l-7.72 7.72c-.78.78-.78 2.05 0 2.83L4 21.41c.39.39.9.59 1.41.59.51 0 1.02-.2 1.41-.59l7.78-7.78 2.81-2.81c.8-.78.8-2.07 0-2.86zM5.41 20L4 18.59l7.72-7.72 1.47 1.35L5.41 20z\"/>\n",
              "  </svg>\n",
              "      </button>\n",
              "      \n",
              "  <style>\n",
              "    .colab-df-container {\n",
              "      display:flex;\n",
              "      flex-wrap:wrap;\n",
              "      gap: 12px;\n",
              "    }\n",
              "\n",
              "    .colab-df-convert {\n",
              "      background-color: #E8F0FE;\n",
              "      border: none;\n",
              "      border-radius: 50%;\n",
              "      cursor: pointer;\n",
              "      display: none;\n",
              "      fill: #1967D2;\n",
              "      height: 32px;\n",
              "      padding: 0 0 0 0;\n",
              "      width: 32px;\n",
              "    }\n",
              "\n",
              "    .colab-df-convert:hover {\n",
              "      background-color: #E2EBFA;\n",
              "      box-shadow: 0px 1px 2px rgba(60, 64, 67, 0.3), 0px 1px 3px 1px rgba(60, 64, 67, 0.15);\n",
              "      fill: #174EA6;\n",
              "    }\n",
              "\n",
              "    [theme=dark] .colab-df-convert {\n",
              "      background-color: #3B4455;\n",
              "      fill: #D2E3FC;\n",
              "    }\n",
              "\n",
              "    [theme=dark] .colab-df-convert:hover {\n",
              "      background-color: #434B5C;\n",
              "      box-shadow: 0px 1px 3px 1px rgba(0, 0, 0, 0.15);\n",
              "      filter: drop-shadow(0px 1px 2px rgba(0, 0, 0, 0.3));\n",
              "      fill: #FFFFFF;\n",
              "    }\n",
              "  </style>\n",
              "\n",
              "      <script>\n",
              "        const buttonEl =\n",
              "          document.querySelector('#df-edc642a7-3d73-4bea-9fe9-712a938d8840 button.colab-df-convert');\n",
              "        buttonEl.style.display =\n",
              "          google.colab.kernel.accessAllowed ? 'block' : 'none';\n",
              "\n",
              "        async function convertToInteractive(key) {\n",
              "          const element = document.querySelector('#df-edc642a7-3d73-4bea-9fe9-712a938d8840');\n",
              "          const dataTable =\n",
              "            await google.colab.kernel.invokeFunction('convertToInteractive',\n",
              "                                                     [key], {});\n",
              "          if (!dataTable) return;\n",
              "\n",
              "          const docLinkHtml = 'Like what you see? Visit the ' +\n",
              "            '<a target=\"_blank\" href=https://colab.research.google.com/notebooks/data_table.ipynb>data table notebook</a>'\n",
              "            + ' to learn more about interactive tables.';\n",
              "          element.innerHTML = '';\n",
              "          dataTable['output_type'] = 'display_data';\n",
              "          await google.colab.output.renderOutput(dataTable, element);\n",
              "          const docLink = document.createElement('div');\n",
              "          docLink.innerHTML = docLinkHtml;\n",
              "          element.appendChild(docLink);\n",
              "        }\n",
              "      </script>\n",
              "    </div>\n",
              "  </div>\n",
              "  "
            ],
            "text/plain": [
              "              percentage of null vlaues  Null Values\n",
              "Date                              0.000            0\n",
              "Time                              0.421         2219\n",
              "Location                          0.004           20\n",
              "Operator                          0.003           18\n",
              "Flight #                          0.797         4199\n",
              "Route                             0.324         1706\n",
              "Type                              0.005           27\n",
              "Registration                      0.064          335\n",
              "cn/In                             0.233         1228\n",
              "Aboard                            0.004           22\n",
              "Fatalities                        0.002           12\n",
              "Ground                            0.004           22\n",
              "Summary                           0.074          390"
            ]
          },
          "execution_count": 87,
          "metadata": {},
          "output_type": "execute_result"
        }
      ],
      "source": [
        "percentage = pd.Series(round(df.isnull().sum()/len(df),3), name = \"percentage of null vlaues\")\n",
        "Null_values = pd.Series(df.isnull().sum(), name =\"Null Values\")\n",
        "pd.concat([percentage,Null_values],axis = 1)"
      ]
    },
    {
      "cell_type": "markdown",
      "metadata": {
        "id": "FAK8PE22-t0T"
      },
      "source": [
        "**Droping the column which has more null values.**"
      ]
    },
    {
      "cell_type": "code",
      "execution_count": null,
      "metadata": {
        "id": "OzUfBoVKrKvY"
      },
      "outputs": [],
      "source": [
        "df.drop([\"Flight #\"],axis=1,inplace = True)"
      ]
    },
    {
      "cell_type": "markdown",
      "metadata": {
        "id": "CcuuBqR9-xjW"
      },
      "source": [
        "**Handelling Null Values**"
      ]
    },
    {
      "cell_type": "code",
      "execution_count": null,
      "metadata": {
        "colab": {
          "base_uri": "https://localhost:8080/"
        },
        "id": "1t3HT2Xb-v9j",
        "outputId": "761a18f0-603d-4365-c177-813d096f8e3f"
      },
      "outputs": [
        {
          "name": "stdout",
          "output_type": "stream",
          "text": [
            "<class 'pandas.core.frame.DataFrame'>\n",
            "RangeIndex: 5268 entries, 0 to 5267\n",
            "Data columns (total 12 columns):\n",
            " #   Column        Non-Null Count  Dtype  \n",
            "---  ------        --------------  -----  \n",
            " 0   Date          5268 non-null   object \n",
            " 1   Time          3049 non-null   object \n",
            " 2   Location      5248 non-null   object \n",
            " 3   Operator      5250 non-null   object \n",
            " 4   Route         3562 non-null   object \n",
            " 5   Type          5241 non-null   object \n",
            " 6   Registration  4933 non-null   object \n",
            " 7   cn/In         4040 non-null   object \n",
            " 8   Aboard        5246 non-null   float64\n",
            " 9   Fatalities    5256 non-null   float64\n",
            " 10  Ground        5246 non-null   float64\n",
            " 11  Summary       4878 non-null   object \n",
            "dtypes: float64(3), object(9)\n",
            "memory usage: 494.0+ KB\n"
          ]
        }
      ],
      "source": [
        "df.info()"
      ]
    },
    {
      "cell_type": "markdown",
      "metadata": {
        "id": "WLwKoTcz-20v"
      },
      "source": [
        "**Imputing the mode for the null values.**"
      ]
    },
    {
      "cell_type": "code",
      "execution_count": null,
      "metadata": {
        "id": "Vvk4glvK-1Ls"
      },
      "outputs": [],
      "source": [
        "mode_loca = df[\"Location\"].mode()\n",
        "df[\"Location\"] = df[\"Location\"].fillna(mode_loca)"
      ]
    },
    {
      "cell_type": "code",
      "execution_count": null,
      "metadata": {
        "colab": {
          "base_uri": "https://localhost:8080/"
        },
        "id": "uARzIGSJ-48r",
        "outputId": "abbe1011-e3d5-42a0-9020-1b5664e5a5af"
      },
      "outputs": [
        {
          "name": "stdout",
          "output_type": "stream",
          "text": [
            "the  number of variables 9\n",
            "the categorical column ['Date', 'Time', 'Location', 'Operator', 'Route', 'Type', 'Registration', 'cn/In', 'Summary']\n"
          ]
        }
      ],
      "source": [
        "categorical = [i for i in df.columns if df[i].dtype==\"object\"]\n",
        "no_categorical = len(categorical)\n",
        "print(\"the  number of variables\", no_categorical)\n",
        "print(\"the categorical column\",categorical)"
      ]
    },
    {
      "cell_type": "code",
      "execution_count": null,
      "metadata": {
        "colab": {
          "base_uri": "https://localhost:8080/"
        },
        "id": "bW90orRF-7J3",
        "outputId": "84ec7a94-df0e-4b1d-ac9c-631cd94e9829"
      },
      "outputs": [
        {
          "name": "stdout",
          "output_type": "stream",
          "text": [
            "09/11/2001    4\n",
            "02/28/1973    4\n",
            "08/31/1988    4\n",
            "08/28/1976    4\n",
            "08/27/1992    4\n",
            "             ..\n",
            "04/22/1962    1\n",
            "05/06/1962    1\n",
            "05/08/1962    1\n",
            "05/09/1962    1\n",
            "06/08/2009    1\n",
            "Name: Date, Length: 4753, dtype: int64\n",
            "15:00    32\n",
            "12:00    31\n",
            "11:00    29\n",
            "19:30    26\n",
            "16:00    26\n",
            "         ..\n",
            "19:37     1\n",
            "19:18     1\n",
            "07:54     1\n",
            "13:49     1\n",
            "15:32     1\n",
            "Name: Time, Length: 1005, dtype: int64\n",
            "Sao Paulo, Brazil                    15\n",
            "Moscow, Russia                       15\n",
            "Rio de Janeiro, Brazil               14\n",
            "Anchorage, Alaska                    13\n",
            "Manila, Philippines                  13\n",
            "                                     ..\n",
            "Near Charana, Bolivia                 1\n",
            "Monte Matto, Italy                    1\n",
            "Misaki Mountain, Japan                1\n",
            "Angelholm, Sweden                     1\n",
            "State of Arunachal Pradesh, India     1\n",
            "Name: Location, Length: 4303, dtype: int64\n",
            "Aeroflot                               179\n",
            "Military - U.S. Air Force              176\n",
            "Air France                              70\n",
            "Deutsche Lufthansa                      65\n",
            "Air Taxi                                44\n",
            "                                      ... \n",
            "Military - Argentine Navy                1\n",
            "Richland Flying Service - Air Taxii      1\n",
            "Harbor Airlines - Air Taxi               1\n",
            "Aerovias Venezolanas SA (Venezuela)      1\n",
            "Strait Air                               1\n",
            "Name: Operator, Length: 2476, dtype: int64\n",
            "Training                      81\n",
            "Sightseeing                   29\n",
            "Test flight                   17\n",
            "Test                           6\n",
            "Sao Paulo - Rio de Janeiro     5\n",
            "                              ..\n",
            "Manila - Lapu Lapu             1\n",
            "Saint Denis - Paris            1\n",
            "Cork - London                  1\n",
            "Peoria, IL - St. Louis, MO     1\n",
            "Mechuka for Jorhat             1\n",
            "Name: Route, Length: 3244, dtype: int64\n",
            "Douglas DC-3                                334\n",
            "de Havilland Canada DHC-6 Twin Otter 300     81\n",
            "Douglas C-47A                                74\n",
            "Douglas C-47                                 62\n",
            "Douglas DC-4                                 40\n",
            "                                           ... \n",
            "Boeing 727-21                                 1\n",
            "NAMC-YS-11-111                                1\n",
            "Lockheed EC-121H                              1\n",
            "Cessna 205A                                   1\n",
            "Airbus A330-203                               1\n",
            "Name: Type, Length: 2446, dtype: int64\n",
            "49            3\n",
            "012           2\n",
            "XA-GOT        2\n",
            "N864JA        2\n",
            "N67941        2\n",
            "             ..\n",
            "PI-C489       1\n",
            "N842D         1\n",
            "N724US        1\n",
            "CCCP-11193    1\n",
            "C-FJJR        1\n",
            "Name: Registration, Length: 4905, dtype: int64\n",
            "178         6\n",
            "229         5\n",
            "19          5\n",
            "213         5\n",
            "125         5\n",
            "           ..\n",
            "1114        1\n",
            "19410       1\n",
            "42929       1\n",
            "45794/52    1\n",
            "424         1\n",
            "Name: cn/In, Length: 3707, dtype: int64\n",
            "Crashed during takeoff.                                                                                                                                                                                                                                                                                                                        15\n",
            "Crashed while en route.                                                                                                                                                                                                                                                                                                                        12\n",
            "Crashed into the sea.                                                                                                                                                                                                                                                                                                                          12\n",
            "Crashed into a mountain.                                                                                                                                                                                                                                                                                                                       12\n",
            "Struck a mountain.                                                                                                                                                                                                                                                                                                                             11\n",
            "                                                                                                                                                                                                                                                                                                                                               ..\n",
            "Shortly after taking off, the aircraft made a left bank attempting to return to McConnell Air Force Base and transmitted a distress message. Soon after, the plane crashed to the ground in a nose-down attitude into houses. Remains of a parachute were found in the No. 1 engine which may have led to an asymmetrical thrust condition.     1\n",
            "Crashed while en-route. VFR flight into adverse weather conditions.                                                                                                                                                                                                                                                                             1\n",
            "Crashed while en-route. Pilot flew into adverse weather conditions. Spatial disorientation.                                                                                                                                                                                                                                                     1\n",
            "The cargo plane veered off course and struck trees while attempting to land.  Loss of control during night instrument approach in adverse weather for undetermined reasons.                                                                                                                                                                     1\n",
            "The military transport went missing while en route and might have crashed due to heavy rain in the mountainous region.                                                                                                                                                                                                                          1\n",
            "Name: Summary, Length: 4673, dtype: int64\n"
          ]
        }
      ],
      "source": [
        "for i in categorical:\n",
        "    print(df[i].value_counts())"
      ]
    },
    {
      "cell_type": "code",
      "execution_count": null,
      "metadata": {
        "id": "L9FQGt-I--fc"
      },
      "outputs": [],
      "source": [
        "for i in categorical:\n",
        "  df[i].fillna(df[i].mode()[0],inplace=True)"
      ]
    },
    {
      "cell_type": "code",
      "execution_count": null,
      "metadata": {
        "id": "0H9PeiwF_BHg"
      },
      "outputs": [],
      "source": [
        "mean_Ab = df[\"Aboard\"].mean()\n",
        "df[\"Aboard\"]= df[\"Aboard\"].fillna(mean_Ab)"
      ]
    },
    {
      "cell_type": "code",
      "execution_count": null,
      "metadata": {
        "id": "7w7NAaSH_C7V"
      },
      "outputs": [],
      "source": [
        "mean_Fa  = df[\"Fatalities\"].mean()\n",
        "df[\"Fatalities\"]=df[\"Fatalities\"].fillna(mean_Fa)"
      ]
    },
    {
      "cell_type": "code",
      "execution_count": null,
      "metadata": {
        "id": "6LTKKipH_E7X"
      },
      "outputs": [],
      "source": [
        "mean_Fa  = df[\"Ground\"].mean()\n",
        "df[\"Ground\"]=df[\"Ground\"].fillna(mean_Fa)"
      ]
    },
    {
      "cell_type": "code",
      "execution_count": null,
      "metadata": {
        "colab": {
          "base_uri": "https://localhost:8080/"
        },
        "id": "KuQ9rSv0_G5A",
        "outputId": "6ad20cb9-5a9c-4f4d-fb32-19fd6cabbea4"
      },
      "outputs": [
        {
          "data": {
            "text/plain": [
              "Date            0\n",
              "Time            0\n",
              "Location        0\n",
              "Operator        0\n",
              "Route           0\n",
              "Type            0\n",
              "Registration    0\n",
              "cn/In           0\n",
              "Aboard          0\n",
              "Fatalities      0\n",
              "Ground          0\n",
              "Summary         0\n",
              "dtype: int64"
            ]
          },
          "execution_count": 97,
          "metadata": {},
          "output_type": "execute_result"
        }
      ],
      "source": [
        "df.isnull().sum()"
      ]
    },
    {
      "cell_type": "code",
      "execution_count": null,
      "metadata": {
        "colab": {
          "base_uri": "https://localhost:8080/",
          "height": 337
        },
        "id": "3cWBrQ-A_Icy",
        "outputId": "fb66887d-bd41-4898-aada-9747ff8525af"
      },
      "outputs": [
        {
          "data": {
            "text/html": [
              "\n",
              "  <div id=\"df-039c348e-19ee-44c0-b590-1a64efbdb8c2\">\n",
              "    <div class=\"colab-df-container\">\n",
              "      <div>\n",
              "<style scoped>\n",
              "    .dataframe tbody tr th:only-of-type {\n",
              "        vertical-align: middle;\n",
              "    }\n",
              "\n",
              "    .dataframe tbody tr th {\n",
              "        vertical-align: top;\n",
              "    }\n",
              "\n",
              "    .dataframe thead th {\n",
              "        text-align: right;\n",
              "    }\n",
              "</style>\n",
              "<table border=\"1\" class=\"dataframe\">\n",
              "  <thead>\n",
              "    <tr style=\"text-align: right;\">\n",
              "      <th></th>\n",
              "      <th>Date</th>\n",
              "      <th>Time</th>\n",
              "      <th>Location</th>\n",
              "      <th>Operator</th>\n",
              "      <th>Route</th>\n",
              "      <th>Type</th>\n",
              "      <th>Registration</th>\n",
              "      <th>cn/In</th>\n",
              "      <th>Aboard</th>\n",
              "      <th>Fatalities</th>\n",
              "      <th>Ground</th>\n",
              "      <th>Summary</th>\n",
              "    </tr>\n",
              "  </thead>\n",
              "  <tbody>\n",
              "    <tr>\n",
              "      <th>0</th>\n",
              "      <td>09/17/1908</td>\n",
              "      <td>17:18</td>\n",
              "      <td>Fort Myer, Virginia</td>\n",
              "      <td>Military - U.S. Army</td>\n",
              "      <td>Demonstration</td>\n",
              "      <td>Wright Flyer III</td>\n",
              "      <td>49</td>\n",
              "      <td>1</td>\n",
              "      <td>2.0</td>\n",
              "      <td>1.0</td>\n",
              "      <td>0.0</td>\n",
              "      <td>During a demonstration flight, a U.S. Army fly...</td>\n",
              "    </tr>\n",
              "    <tr>\n",
              "      <th>1</th>\n",
              "      <td>07/12/1912</td>\n",
              "      <td>06:30</td>\n",
              "      <td>AtlantiCity, New Jersey</td>\n",
              "      <td>Military - U.S. Navy</td>\n",
              "      <td>Test flight</td>\n",
              "      <td>Dirigible</td>\n",
              "      <td>49</td>\n",
              "      <td>178</td>\n",
              "      <td>5.0</td>\n",
              "      <td>5.0</td>\n",
              "      <td>0.0</td>\n",
              "      <td>First U.S. dirigible Akron exploded just offsh...</td>\n",
              "    </tr>\n",
              "    <tr>\n",
              "      <th>2</th>\n",
              "      <td>08/06/1913</td>\n",
              "      <td>15:00</td>\n",
              "      <td>Victoria, British Columbia, Canada</td>\n",
              "      <td>Private</td>\n",
              "      <td>Training</td>\n",
              "      <td>Curtiss seaplane</td>\n",
              "      <td>49</td>\n",
              "      <td>178</td>\n",
              "      <td>1.0</td>\n",
              "      <td>1.0</td>\n",
              "      <td>0.0</td>\n",
              "      <td>The first fatal airplane accident in Canada oc...</td>\n",
              "    </tr>\n",
              "    <tr>\n",
              "      <th>3</th>\n",
              "      <td>09/09/1913</td>\n",
              "      <td>18:30</td>\n",
              "      <td>Over the North Sea</td>\n",
              "      <td>Military - German Navy</td>\n",
              "      <td>Training</td>\n",
              "      <td>Zeppelin L-1 (airship)</td>\n",
              "      <td>49</td>\n",
              "      <td>178</td>\n",
              "      <td>20.0</td>\n",
              "      <td>14.0</td>\n",
              "      <td>0.0</td>\n",
              "      <td>The airship flew into a thunderstorm and encou...</td>\n",
              "    </tr>\n",
              "    <tr>\n",
              "      <th>4</th>\n",
              "      <td>10/17/1913</td>\n",
              "      <td>10:30</td>\n",
              "      <td>Near Johannisthal, Germany</td>\n",
              "      <td>Military - German Navy</td>\n",
              "      <td>Training</td>\n",
              "      <td>Zeppelin L-2 (airship)</td>\n",
              "      <td>49</td>\n",
              "      <td>178</td>\n",
              "      <td>30.0</td>\n",
              "      <td>30.0</td>\n",
              "      <td>0.0</td>\n",
              "      <td>Hydrogen gas which was being vented was sucked...</td>\n",
              "    </tr>\n",
              "  </tbody>\n",
              "</table>\n",
              "</div>\n",
              "      <button class=\"colab-df-convert\" onclick=\"convertToInteractive('df-039c348e-19ee-44c0-b590-1a64efbdb8c2')\"\n",
              "              title=\"Convert this dataframe to an interactive table.\"\n",
              "              style=\"display:none;\">\n",
              "        \n",
              "  <svg xmlns=\"http://www.w3.org/2000/svg\" height=\"24px\"viewBox=\"0 0 24 24\"\n",
              "       width=\"24px\">\n",
              "    <path d=\"M0 0h24v24H0V0z\" fill=\"none\"/>\n",
              "    <path d=\"M18.56 5.44l.94 2.06.94-2.06 2.06-.94-2.06-.94-.94-2.06-.94 2.06-2.06.94zm-11 1L8.5 8.5l.94-2.06 2.06-.94-2.06-.94L8.5 2.5l-.94 2.06-2.06.94zm10 10l.94 2.06.94-2.06 2.06-.94-2.06-.94-.94-2.06-.94 2.06-2.06.94z\"/><path d=\"M17.41 7.96l-1.37-1.37c-.4-.4-.92-.59-1.43-.59-.52 0-1.04.2-1.43.59L10.3 9.45l-7.72 7.72c-.78.78-.78 2.05 0 2.83L4 21.41c.39.39.9.59 1.41.59.51 0 1.02-.2 1.41-.59l7.78-7.78 2.81-2.81c.8-.78.8-2.07 0-2.86zM5.41 20L4 18.59l7.72-7.72 1.47 1.35L5.41 20z\"/>\n",
              "  </svg>\n",
              "      </button>\n",
              "      \n",
              "  <style>\n",
              "    .colab-df-container {\n",
              "      display:flex;\n",
              "      flex-wrap:wrap;\n",
              "      gap: 12px;\n",
              "    }\n",
              "\n",
              "    .colab-df-convert {\n",
              "      background-color: #E8F0FE;\n",
              "      border: none;\n",
              "      border-radius: 50%;\n",
              "      cursor: pointer;\n",
              "      display: none;\n",
              "      fill: #1967D2;\n",
              "      height: 32px;\n",
              "      padding: 0 0 0 0;\n",
              "      width: 32px;\n",
              "    }\n",
              "\n",
              "    .colab-df-convert:hover {\n",
              "      background-color: #E2EBFA;\n",
              "      box-shadow: 0px 1px 2px rgba(60, 64, 67, 0.3), 0px 1px 3px 1px rgba(60, 64, 67, 0.15);\n",
              "      fill: #174EA6;\n",
              "    }\n",
              "\n",
              "    [theme=dark] .colab-df-convert {\n",
              "      background-color: #3B4455;\n",
              "      fill: #D2E3FC;\n",
              "    }\n",
              "\n",
              "    [theme=dark] .colab-df-convert:hover {\n",
              "      background-color: #434B5C;\n",
              "      box-shadow: 0px 1px 3px 1px rgba(0, 0, 0, 0.15);\n",
              "      filter: drop-shadow(0px 1px 2px rgba(0, 0, 0, 0.3));\n",
              "      fill: #FFFFFF;\n",
              "    }\n",
              "  </style>\n",
              "\n",
              "      <script>\n",
              "        const buttonEl =\n",
              "          document.querySelector('#df-039c348e-19ee-44c0-b590-1a64efbdb8c2 button.colab-df-convert');\n",
              "        buttonEl.style.display =\n",
              "          google.colab.kernel.accessAllowed ? 'block' : 'none';\n",
              "\n",
              "        async function convertToInteractive(key) {\n",
              "          const element = document.querySelector('#df-039c348e-19ee-44c0-b590-1a64efbdb8c2');\n",
              "          const dataTable =\n",
              "            await google.colab.kernel.invokeFunction('convertToInteractive',\n",
              "                                                     [key], {});\n",
              "          if (!dataTable) return;\n",
              "\n",
              "          const docLinkHtml = 'Like what you see? Visit the ' +\n",
              "            '<a target=\"_blank\" href=https://colab.research.google.com/notebooks/data_table.ipynb>data table notebook</a>'\n",
              "            + ' to learn more about interactive tables.';\n",
              "          element.innerHTML = '';\n",
              "          dataTable['output_type'] = 'display_data';\n",
              "          await google.colab.output.renderOutput(dataTable, element);\n",
              "          const docLink = document.createElement('div');\n",
              "          docLink.innerHTML = docLinkHtml;\n",
              "          element.appendChild(docLink);\n",
              "        }\n",
              "      </script>\n",
              "    </div>\n",
              "  </div>\n",
              "  "
            ],
            "text/plain": [
              "         Date   Time                            Location  \\\n",
              "0  09/17/1908  17:18                 Fort Myer, Virginia   \n",
              "1  07/12/1912  06:30             AtlantiCity, New Jersey   \n",
              "2  08/06/1913  15:00  Victoria, British Columbia, Canada   \n",
              "3  09/09/1913  18:30                  Over the North Sea   \n",
              "4  10/17/1913  10:30          Near Johannisthal, Germany   \n",
              "\n",
              "                 Operator          Route                    Type Registration  \\\n",
              "0    Military - U.S. Army  Demonstration        Wright Flyer III           49   \n",
              "1    Military - U.S. Navy    Test flight               Dirigible           49   \n",
              "2                 Private       Training        Curtiss seaplane           49   \n",
              "3  Military - German Navy       Training  Zeppelin L-1 (airship)           49   \n",
              "4  Military - German Navy       Training  Zeppelin L-2 (airship)           49   \n",
              "\n",
              "  cn/In  Aboard  Fatalities  Ground  \\\n",
              "0     1     2.0         1.0     0.0   \n",
              "1   178     5.0         5.0     0.0   \n",
              "2   178     1.0         1.0     0.0   \n",
              "3   178    20.0        14.0     0.0   \n",
              "4   178    30.0        30.0     0.0   \n",
              "\n",
              "                                             Summary  \n",
              "0  During a demonstration flight, a U.S. Army fly...  \n",
              "1  First U.S. dirigible Akron exploded just offsh...  \n",
              "2  The first fatal airplane accident in Canada oc...  \n",
              "3  The airship flew into a thunderstorm and encou...  \n",
              "4  Hydrogen gas which was being vented was sucked...  "
            ]
          },
          "execution_count": 98,
          "metadata": {},
          "output_type": "execute_result"
        }
      ],
      "source": [
        "df.head(5)"
      ]
    },
    {
      "cell_type": "code",
      "execution_count": null,
      "metadata": {
        "colab": {
          "base_uri": "https://localhost:8080/"
        },
        "id": "lY-I61Z0_Kb8",
        "outputId": "da8b9677-acd0-4602-81d1-fd5719fca14f"
      },
      "outputs": [
        {
          "data": {
            "text/plain": [
              "0    17/09/1908\n",
              "1    12/07/1912\n",
              "2    06/08/1913\n",
              "3    09/09/1913\n",
              "4    17/10/1913\n",
              "Name: Date, dtype: object"
            ]
          },
          "execution_count": 99,
          "metadata": {},
          "output_type": "execute_result"
        }
      ],
      "source": [
        "df['Date'] = pd.to_datetime(df['Date'])\n",
        "df['Date'] = df['Date'].dt.strftime(\"%d/%m/%Y\")\n",
        "df['Date'].head()"
      ]
    },
    {
      "cell_type": "code",
      "execution_count": null,
      "metadata": {
        "colab": {
          "base_uri": "https://localhost:8080/"
        },
        "id": "oFUDV6AI_M9T",
        "outputId": "365437de-da50-4a22-9e6e-d9bdcc91b25a"
      },
      "outputs": [
        {
          "data": {
            "text/plain": [
              "0    1908\n",
              "1    1912\n",
              "2    1913\n",
              "3    1913\n",
              "4    1913\n",
              "Name: Year, dtype: int64"
            ]
          },
          "execution_count": 100,
          "metadata": {},
          "output_type": "execute_result"
        }
      ],
      "source": [
        "df['Year'] = pd.DatetimeIndex(df['Date']).year\n",
        "df['Year'].head()"
      ]
    },
    {
      "cell_type": "code",
      "execution_count": null,
      "metadata": {
        "colab": {
          "base_uri": "https://localhost:8080/"
        },
        "id": "IMqZn6jp_PVK",
        "outputId": "350c0d4f-a69f-4e64-b0bb-7163cbac8c2c"
      },
      "outputs": [
        {
          "name": "stdout",
          "output_type": "stream",
          "text": [
            "<class 'pandas.core.frame.DataFrame'>\n",
            "RangeIndex: 5268 entries, 0 to 5267\n",
            "Data columns (total 13 columns):\n",
            " #   Column        Non-Null Count  Dtype  \n",
            "---  ------        --------------  -----  \n",
            " 0   Date          5268 non-null   object \n",
            " 1   Time          5268 non-null   object \n",
            " 2   Location      5268 non-null   object \n",
            " 3   Operator      5268 non-null   object \n",
            " 4   Route         5268 non-null   object \n",
            " 5   Type          5268 non-null   object \n",
            " 6   Registration  5268 non-null   object \n",
            " 7   cn/In         5268 non-null   object \n",
            " 8   Aboard        5268 non-null   float64\n",
            " 9   Fatalities    5268 non-null   float64\n",
            " 10  Ground        5268 non-null   float64\n",
            " 11  Summary       5268 non-null   object \n",
            " 12  Year          5268 non-null   int64  \n",
            "dtypes: float64(3), int64(1), object(9)\n",
            "memory usage: 535.2+ KB\n"
          ]
        }
      ],
      "source": [
        "df.info()"
      ]
    },
    {
      "cell_type": "code",
      "execution_count": null,
      "metadata": {
        "id": "uyK0AAbL_SkJ"
      },
      "outputs": [],
      "source": [
        "df['Survived'] = df['Aboard'] - df['Fatalities']\n",
        "df['Survived'].fillna(0, inplace = True)"
      ]
    },
    {
      "cell_type": "code",
      "execution_count": null,
      "metadata": {
        "colab": {
          "base_uri": "https://localhost:8080/",
          "height": 337
        },
        "id": "oQ4LdPA3_Umm",
        "outputId": "4152b7d6-442d-4e49-f6b4-01026c3a9ac8"
      },
      "outputs": [
        {
          "data": {
            "text/html": [
              "\n",
              "  <div id=\"df-38d27b87-b770-4a81-9a51-969f71130989\">\n",
              "    <div class=\"colab-df-container\">\n",
              "      <div>\n",
              "<style scoped>\n",
              "    .dataframe tbody tr th:only-of-type {\n",
              "        vertical-align: middle;\n",
              "    }\n",
              "\n",
              "    .dataframe tbody tr th {\n",
              "        vertical-align: top;\n",
              "    }\n",
              "\n",
              "    .dataframe thead th {\n",
              "        text-align: right;\n",
              "    }\n",
              "</style>\n",
              "<table border=\"1\" class=\"dataframe\">\n",
              "  <thead>\n",
              "    <tr style=\"text-align: right;\">\n",
              "      <th></th>\n",
              "      <th>Date</th>\n",
              "      <th>Time</th>\n",
              "      <th>Location</th>\n",
              "      <th>Operator</th>\n",
              "      <th>Route</th>\n",
              "      <th>Type</th>\n",
              "      <th>Registration</th>\n",
              "      <th>cn/In</th>\n",
              "      <th>Aboard</th>\n",
              "      <th>Fatalities</th>\n",
              "      <th>Ground</th>\n",
              "      <th>Summary</th>\n",
              "      <th>Year</th>\n",
              "      <th>Survived</th>\n",
              "    </tr>\n",
              "  </thead>\n",
              "  <tbody>\n",
              "    <tr>\n",
              "      <th>0</th>\n",
              "      <td>17/09/1908</td>\n",
              "      <td>17:18</td>\n",
              "      <td>Fort Myer, Virginia</td>\n",
              "      <td>Military - U.S. Army</td>\n",
              "      <td>Demonstration</td>\n",
              "      <td>Wright Flyer III</td>\n",
              "      <td>49</td>\n",
              "      <td>1</td>\n",
              "      <td>2.0</td>\n",
              "      <td>1.0</td>\n",
              "      <td>0.0</td>\n",
              "      <td>During a demonstration flight, a U.S. Army fly...</td>\n",
              "      <td>1908</td>\n",
              "      <td>1.0</td>\n",
              "    </tr>\n",
              "    <tr>\n",
              "      <th>1</th>\n",
              "      <td>12/07/1912</td>\n",
              "      <td>06:30</td>\n",
              "      <td>AtlantiCity, New Jersey</td>\n",
              "      <td>Military - U.S. Navy</td>\n",
              "      <td>Test flight</td>\n",
              "      <td>Dirigible</td>\n",
              "      <td>49</td>\n",
              "      <td>178</td>\n",
              "      <td>5.0</td>\n",
              "      <td>5.0</td>\n",
              "      <td>0.0</td>\n",
              "      <td>First U.S. dirigible Akron exploded just offsh...</td>\n",
              "      <td>1912</td>\n",
              "      <td>0.0</td>\n",
              "    </tr>\n",
              "    <tr>\n",
              "      <th>2</th>\n",
              "      <td>06/08/1913</td>\n",
              "      <td>15:00</td>\n",
              "      <td>Victoria, British Columbia, Canada</td>\n",
              "      <td>Private</td>\n",
              "      <td>Training</td>\n",
              "      <td>Curtiss seaplane</td>\n",
              "      <td>49</td>\n",
              "      <td>178</td>\n",
              "      <td>1.0</td>\n",
              "      <td>1.0</td>\n",
              "      <td>0.0</td>\n",
              "      <td>The first fatal airplane accident in Canada oc...</td>\n",
              "      <td>1913</td>\n",
              "      <td>0.0</td>\n",
              "    </tr>\n",
              "    <tr>\n",
              "      <th>3</th>\n",
              "      <td>09/09/1913</td>\n",
              "      <td>18:30</td>\n",
              "      <td>Over the North Sea</td>\n",
              "      <td>Military - German Navy</td>\n",
              "      <td>Training</td>\n",
              "      <td>Zeppelin L-1 (airship)</td>\n",
              "      <td>49</td>\n",
              "      <td>178</td>\n",
              "      <td>20.0</td>\n",
              "      <td>14.0</td>\n",
              "      <td>0.0</td>\n",
              "      <td>The airship flew into a thunderstorm and encou...</td>\n",
              "      <td>1913</td>\n",
              "      <td>6.0</td>\n",
              "    </tr>\n",
              "    <tr>\n",
              "      <th>4</th>\n",
              "      <td>17/10/1913</td>\n",
              "      <td>10:30</td>\n",
              "      <td>Near Johannisthal, Germany</td>\n",
              "      <td>Military - German Navy</td>\n",
              "      <td>Training</td>\n",
              "      <td>Zeppelin L-2 (airship)</td>\n",
              "      <td>49</td>\n",
              "      <td>178</td>\n",
              "      <td>30.0</td>\n",
              "      <td>30.0</td>\n",
              "      <td>0.0</td>\n",
              "      <td>Hydrogen gas which was being vented was sucked...</td>\n",
              "      <td>1913</td>\n",
              "      <td>0.0</td>\n",
              "    </tr>\n",
              "  </tbody>\n",
              "</table>\n",
              "</div>\n",
              "      <button class=\"colab-df-convert\" onclick=\"convertToInteractive('df-38d27b87-b770-4a81-9a51-969f71130989')\"\n",
              "              title=\"Convert this dataframe to an interactive table.\"\n",
              "              style=\"display:none;\">\n",
              "        \n",
              "  <svg xmlns=\"http://www.w3.org/2000/svg\" height=\"24px\"viewBox=\"0 0 24 24\"\n",
              "       width=\"24px\">\n",
              "    <path d=\"M0 0h24v24H0V0z\" fill=\"none\"/>\n",
              "    <path d=\"M18.56 5.44l.94 2.06.94-2.06 2.06-.94-2.06-.94-.94-2.06-.94 2.06-2.06.94zm-11 1L8.5 8.5l.94-2.06 2.06-.94-2.06-.94L8.5 2.5l-.94 2.06-2.06.94zm10 10l.94 2.06.94-2.06 2.06-.94-2.06-.94-.94-2.06-.94 2.06-2.06.94z\"/><path d=\"M17.41 7.96l-1.37-1.37c-.4-.4-.92-.59-1.43-.59-.52 0-1.04.2-1.43.59L10.3 9.45l-7.72 7.72c-.78.78-.78 2.05 0 2.83L4 21.41c.39.39.9.59 1.41.59.51 0 1.02-.2 1.41-.59l7.78-7.78 2.81-2.81c.8-.78.8-2.07 0-2.86zM5.41 20L4 18.59l7.72-7.72 1.47 1.35L5.41 20z\"/>\n",
              "  </svg>\n",
              "      </button>\n",
              "      \n",
              "  <style>\n",
              "    .colab-df-container {\n",
              "      display:flex;\n",
              "      flex-wrap:wrap;\n",
              "      gap: 12px;\n",
              "    }\n",
              "\n",
              "    .colab-df-convert {\n",
              "      background-color: #E8F0FE;\n",
              "      border: none;\n",
              "      border-radius: 50%;\n",
              "      cursor: pointer;\n",
              "      display: none;\n",
              "      fill: #1967D2;\n",
              "      height: 32px;\n",
              "      padding: 0 0 0 0;\n",
              "      width: 32px;\n",
              "    }\n",
              "\n",
              "    .colab-df-convert:hover {\n",
              "      background-color: #E2EBFA;\n",
              "      box-shadow: 0px 1px 2px rgba(60, 64, 67, 0.3), 0px 1px 3px 1px rgba(60, 64, 67, 0.15);\n",
              "      fill: #174EA6;\n",
              "    }\n",
              "\n",
              "    [theme=dark] .colab-df-convert {\n",
              "      background-color: #3B4455;\n",
              "      fill: #D2E3FC;\n",
              "    }\n",
              "\n",
              "    [theme=dark] .colab-df-convert:hover {\n",
              "      background-color: #434B5C;\n",
              "      box-shadow: 0px 1px 3px 1px rgba(0, 0, 0, 0.15);\n",
              "      filter: drop-shadow(0px 1px 2px rgba(0, 0, 0, 0.3));\n",
              "      fill: #FFFFFF;\n",
              "    }\n",
              "  </style>\n",
              "\n",
              "      <script>\n",
              "        const buttonEl =\n",
              "          document.querySelector('#df-38d27b87-b770-4a81-9a51-969f71130989 button.colab-df-convert');\n",
              "        buttonEl.style.display =\n",
              "          google.colab.kernel.accessAllowed ? 'block' : 'none';\n",
              "\n",
              "        async function convertToInteractive(key) {\n",
              "          const element = document.querySelector('#df-38d27b87-b770-4a81-9a51-969f71130989');\n",
              "          const dataTable =\n",
              "            await google.colab.kernel.invokeFunction('convertToInteractive',\n",
              "                                                     [key], {});\n",
              "          if (!dataTable) return;\n",
              "\n",
              "          const docLinkHtml = 'Like what you see? Visit the ' +\n",
              "            '<a target=\"_blank\" href=https://colab.research.google.com/notebooks/data_table.ipynb>data table notebook</a>'\n",
              "            + ' to learn more about interactive tables.';\n",
              "          element.innerHTML = '';\n",
              "          dataTable['output_type'] = 'display_data';\n",
              "          await google.colab.output.renderOutput(dataTable, element);\n",
              "          const docLink = document.createElement('div');\n",
              "          docLink.innerHTML = docLinkHtml;\n",
              "          element.appendChild(docLink);\n",
              "        }\n",
              "      </script>\n",
              "    </div>\n",
              "  </div>\n",
              "  "
            ],
            "text/plain": [
              "         Date   Time                            Location  \\\n",
              "0  17/09/1908  17:18                 Fort Myer, Virginia   \n",
              "1  12/07/1912  06:30             AtlantiCity, New Jersey   \n",
              "2  06/08/1913  15:00  Victoria, British Columbia, Canada   \n",
              "3  09/09/1913  18:30                  Over the North Sea   \n",
              "4  17/10/1913  10:30          Near Johannisthal, Germany   \n",
              "\n",
              "                 Operator          Route                    Type Registration  \\\n",
              "0    Military - U.S. Army  Demonstration        Wright Flyer III           49   \n",
              "1    Military - U.S. Navy    Test flight               Dirigible           49   \n",
              "2                 Private       Training        Curtiss seaplane           49   \n",
              "3  Military - German Navy       Training  Zeppelin L-1 (airship)           49   \n",
              "4  Military - German Navy       Training  Zeppelin L-2 (airship)           49   \n",
              "\n",
              "  cn/In  Aboard  Fatalities  Ground  \\\n",
              "0     1     2.0         1.0     0.0   \n",
              "1   178     5.0         5.0     0.0   \n",
              "2   178     1.0         1.0     0.0   \n",
              "3   178    20.0        14.0     0.0   \n",
              "4   178    30.0        30.0     0.0   \n",
              "\n",
              "                                             Summary  Year  Survived  \n",
              "0  During a demonstration flight, a U.S. Army fly...  1908       1.0  \n",
              "1  First U.S. dirigible Akron exploded just offsh...  1912       0.0  \n",
              "2  The first fatal airplane accident in Canada oc...  1913       0.0  \n",
              "3  The airship flew into a thunderstorm and encou...  1913       6.0  \n",
              "4  Hydrogen gas which was being vented was sucked...  1913       0.0  "
            ]
          },
          "execution_count": 103,
          "metadata": {},
          "output_type": "execute_result"
        }
      ],
      "source": [
        "df.head()"
      ]
    },
    {
      "cell_type": "markdown",
      "metadata": {
        "id": "yQwuSR0O_Y3B"
      },
      "source": [
        "In the 'Summary' column, we have NaN values as well, so we're going to create a new dataframe with the 'Summary' data and dropping all rows with NaN values."
      ]
    },
    {
      "cell_type": "code",
      "execution_count": null,
      "metadata": {
        "id": "S-V1llj-_W4v"
      },
      "outputs": [],
      "source": [
        "text_data = df['Summary'].dropna()\n",
        "text_data = pd.DataFrame(text_data)\n",
        "# for reproducibility\n",
        "random_state = 0"
      ]
    },
    {
      "cell_type": "code",
      "execution_count": null,
      "metadata": {
        "id": "OHPvzkj8_bix"
      },
      "outputs": [],
      "source": [
        "from sklearn.feature_extraction.text import TfidfVectorizer\n",
        "from sklearn.cluster import KMeans\n",
        "from sklearn.cluster import MiniBatchKMeans\n",
        "from sklearn.metrics import adjusted_rand_score\n",
        "from sklearn.preprocessing import LabelEncoder\n",
        "from sklearn.preprocessing import MinMaxScaler\n",
        "import seaborn as sns\n",
        "import matplotlib.pyplot as plt\n",
        "from sklearn.decomposition import PCA"
      ]
    },
    {
      "cell_type": "code",
      "execution_count": null,
      "metadata": {
        "id": "Jh9EAifr_eCd"
      },
      "outputs": [],
      "source": [
        "documents = list(text_data['Summary'])\n",
        "vectorizer = TfidfVectorizer(stop_words='english') # Stop words are like \"a\", \"the\", or \"in\" which don't have significant meaning\n",
        "X = vectorizer.fit_transform(documents)\n",
        "vocabulary = vectorizer.vocabulary_\n",
        "terms = sorted(vocabulary, key=vocabulary.get)"
      ]
    },
    {
      "cell_type": "markdown",
      "metadata": {
        "id": "Q_ICBl6T_iU-"
      },
      "source": [
        "**Using Elbow method to find the number of clusters**"
      ]
    },
    {
      "cell_type": "code",
      "execution_count": null,
      "metadata": {
        "colab": {
          "base_uri": "https://localhost:8080/",
          "height": 472
        },
        "id": "YRNi6KR4_g2H",
        "outputId": "383953a0-8116-41d1-9558-7dfe6de03c60"
      },
      "outputs": [
        {
          "data": {
            "image/png": "[encoded data removed]",
            "text/plain": [
              "<Figure size 640x480 with 1 Axes>"
            ]
          },
          "metadata": {},
          "output_type": "display_data"
        }
      ],
      "source": [
        "from sklearn.cluster import KMeans\n",
        "wcss = []\n",
        "\n",
        "for i in range(1, 11):\n",
        "    kmeans = KMeans(n_clusters=i, init='k-means++', max_iter=300, n_init=10, random_state=0)\n",
        "    kmeans.fit(X)\n",
        "    wcss.append(kmeans.inertia_)\n",
        "plt.plot(range(1, 11), wcss)\n",
        "plt.title('Elbow Method')\n",
        "plt.xlabel('Number of clusters')\n",
        "plt.ylabel('WCSS')\n",
        "plt.show()"
      ]
    },
    {
      "cell_type": "markdown",
      "metadata": {
        "id": "AjOhxqNZ_pU8"
      },
      "source": [
        "**Inference:**\n",
        "From elbow method we choose number of clusters has 2."
      ]
    },
    {
      "cell_type": "markdown",
      "metadata": {
        "id": "wpWqj-Bg_ry3"
      },
      "source": [
        "K-means"
      ]
    },
    {
      "cell_type": "code",
      "execution_count": null,
      "metadata": {
        "colab": {
          "base_uri": "https://localhost:8080/",
          "height": 75
        },
        "id": "geEyFvfe_nVu",
        "outputId": "c1d264b0-a86d-40f8-b72e-19e2b22877e7"
      },
      "outputs": [
        {
          "data": {
            "text/html": [
              "<style>#sk-container-id-3 {color: black;background-color: white;}#sk-container-id-3 pre{padding: 0;}#sk-container-id-3 div.sk-toggleable {background-color: white;}#sk-container-id-3 label.sk-toggleable__label {cursor: pointer;display: block;width: 100%;margin-bottom: 0;padding: 0.3em;box-sizing: border-box;text-align: center;}#sk-container-id-3 label.sk-toggleable__label-arrow:before {content: \"▸\";float: left;margin-right: 0.25em;color: #696969;}#sk-container-id-3 label.sk-toggleable__label-arrow:hover:before {color: black;}#sk-container-id-3 div.sk-estimator:hover label.sk-toggleable__label-arrow:before {color: black;}#sk-container-id-3 div.sk-toggleable__content {max-height: 0;max-width: 0;overflow: hidden;text-align: left;background-color: #f0f8ff;}#sk-container-id-3 div.sk-toggleable__content pre {margin: 0.2em;color: black;border-radius: 0.25em;background-color: #f0f8ff;}#sk-container-id-3 input.sk-toggleable__control:checked~div.sk-toggleable__content {max-height: 200px;max-width: 100%;overflow: auto;}#sk-container-id-3 input.sk-toggleable__control:checked~label.sk-toggleable__label-arrow:before {content: \"▾\";}#sk-container-id-3 div.sk-estimator input.sk-toggleable__control:checked~label.sk-toggleable__label {background-color: #d4ebff;}#sk-container-id-3 div.sk-label input.sk-toggleable__control:checked~label.sk-toggleable__label {background-color: #d4ebff;}#sk-container-id-3 input.sk-hidden--visually {border: 0;clip: rect(1px 1px 1px 1px);clip: rect(1px, 1px, 1px, 1px);height: 1px;margin: -1px;overflow: hidden;padding: 0;position: absolute;width: 1px;}#sk-container-id-3 div.sk-estimator {font-family: monospace;background-color: #f0f8ff;border: 1px dotted black;border-radius: 0.25em;box-sizing: border-box;margin-bottom: 0.5em;}#sk-container-id-3 div.sk-estimator:hover {background-color: #d4ebff;}#sk-container-id-3 div.sk-parallel-item::after {content: \"\";width: 100%;border-bottom: 1px solid gray;flex-grow: 1;}#sk-container-id-3 div.sk-label:hover label.sk-toggleable__label {background-color: #d4ebff;}#sk-container-id-3 div.sk-serial::before {content: \"\";position: absolute;border-left: 1px solid gray;box-sizing: border-box;top: 0;bottom: 0;left: 50%;z-index: 0;}#sk-container-id-3 div.sk-serial {display: flex;flex-direction: column;align-items: center;background-color: white;padding-right: 0.2em;padding-left: 0.2em;position: relative;}#sk-container-id-3 div.sk-item {position: relative;z-index: 1;}#sk-container-id-3 div.sk-parallel {display: flex;align-items: stretch;justify-content: center;background-color: white;position: relative;}#sk-container-id-3 div.sk-item::before, #sk-container-id-3 div.sk-parallel-item::before {content: \"\";position: absolute;border-left: 1px solid gray;box-sizing: border-box;top: 0;bottom: 0;left: 50%;z-index: -1;}#sk-container-id-3 div.sk-parallel-item {display: flex;flex-direction: column;z-index: 1;position: relative;background-color: white;}#sk-container-id-3 div.sk-parallel-item:first-child::after {align-self: flex-end;width: 50%;}#sk-container-id-3 div.sk-parallel-item:last-child::after {align-self: flex-start;width: 50%;}#sk-container-id-3 div.sk-parallel-item:only-child::after {width: 0;}#sk-container-id-3 div.sk-dashed-wrapped {border: 1px dashed gray;margin: 0 0.4em 0.5em 0.4em;box-sizing: border-box;padding-bottom: 0.4em;background-color: white;}#sk-container-id-3 div.sk-label label {font-family: monospace;font-weight: bold;display: inline-block;line-height: 1.2em;}#sk-container-id-3 div.sk-label-container {text-align: center;}#sk-container-id-3 div.sk-container {/* jupyter's `normalize.less` sets `[hidden] { display: none; }` but bootstrap.min.css set `[hidden] { display: none !important; }` so we also need the `!important` here to be able to override the default hidden behavior on the sphinx rendered scikit-learn.org. See: https://github.com/scikit-learn/scikit-learn/issues/21755 */display: inline-block !important;position: relative;}#sk-container-id-3 div.sk-text-repr-fallback {display: none;}</style><div id=\"sk-container-id-3\" class=\"sk-top-container\"><div class=\"sk-text-repr-fallback\"><pre>KMeans(n_clusters=3, n_init=10, random_state=0)</pre><b>In a Jupyter environment, please rerun this cell to show the HTML representation or trust the notebook. <br />On GitHub, the HTML representation is unable to render, please try loading this page with nbviewer.org.</b></div><div class=\"sk-container\" hidden><div class=\"sk-item\"><div class=\"sk-estimator sk-toggleable\"><input class=\"sk-toggleable__control sk-hidden--visually\" id=\"sk-estimator-id-3\" type=\"checkbox\" checked><label for=\"sk-estimator-id-3\" class=\"sk-toggleable__label sk-toggleable__label-arrow\">KMeans</label><div class=\"sk-toggleable__content\"><pre>KMeans(n_clusters=3, n_init=10, random_state=0)</pre></div></div></div></div></div>"
            ],
            "text/plain": [
              "KMeans(n_clusters=3, n_init=10, random_state=0)"
            ]
          },
          "execution_count": 109,
          "metadata": {},
          "output_type": "execute_result"
        }
      ],
      "source": [
        "kmeans = KMeans(n_clusters=3, init='k-means++', max_iter=300, n_init=10, random_state=0)\n",
        "kmeans.fit(X)"
      ]
    },
    {
      "cell_type": "code",
      "execution_count": null,
      "metadata": {
        "colab": {
          "base_uri": "https://localhost:8080/"
        },
        "id": "rl4Zw3u3_t9X",
        "outputId": "9c018a78-112d-42ee-eb51-75d605624111"
      },
      "outputs": [
        {
          "data": {
            "text/plain": [
              "array([[0.00000000e+00, 5.06326377e-03, 0.00000000e+00, ...,\n",
              "        0.00000000e+00, 0.00000000e+00, 0.00000000e+00],\n",
              "       [0.00000000e+00, 0.00000000e+00, 0.00000000e+00, ...,\n",
              "        0.00000000e+00, 0.00000000e+00, 0.00000000e+00],\n",
              "       [1.21780746e-04, 8.09788267e-03, 9.20181767e-05, ...,\n",
              "        1.10416355e-04, 2.51083381e-04, 7.09146769e-05]])"
            ]
          },
          "execution_count": 110,
          "metadata": {},
          "output_type": "execute_result"
        }
      ],
      "source": [
        "kmeans.cluster_centers_"
      ]
    },
    {
      "cell_type": "code",
      "execution_count": null,
      "metadata": {
        "colab": {
          "base_uri": "https://localhost:8080/"
        },
        "id": "-fXIKkIG_xBc",
        "outputId": "9e9f7612-5261-4f09-ada1-53d233b959fc"
      },
      "outputs": [
        {
          "data": {
            "text/plain": [
              "array([2, 2, 2, ..., 2, 2, 0], dtype=int32)"
            ]
          },
          "execution_count": 111,
          "metadata": {},
          "output_type": "execute_result"
        }
      ],
      "source": [
        "y_kmeans = kmeans.predict(X)\n",
        "kmeans.labels_"
      ]
    },
    {
      "cell_type": "code",
      "execution_count": null,
      "metadata": {
        "colab": {
          "base_uri": "https://localhost:8080/"
        },
        "id": "lKSw38eM_4mA",
        "outputId": "7eb9a342-1d2e-45d5-f758-9ddc29233f40"
      },
      "outputs": [
        {
          "name": "stdout",
          "output_type": "stream",
          "text": [
            "Most Common Terms per Cluster:\n",
            "\n",
            "\n",
            "Cluster 0:\n",
            "en\n",
            "route\n",
            "crashed\n",
            "disappeared\n",
            "mountain\n",
            "plane\n",
            "cargo\n",
            "weather\n",
            "flight\n",
            "conditions\n",
            "\n",
            "\n",
            "Cluster 1:\n",
            "takeoff\n",
            "crashed\n",
            "shortly\n",
            "failure\n",
            "overloaded\n",
            "river\n",
            "ocean\n",
            "plane\n",
            "burned\n",
            "sea\n",
            "\n",
            "\n",
            "Cluster 2:\n",
            "crashed\n",
            "aircraft\n",
            "plane\n",
            "approach\n",
            "engine\n",
            "pilot\n",
            "mountain\n",
            "runway\n",
            "flight\n",
            "failure\n"
          ]
        }
      ],
      "source": [
        "print ('Most Common Terms per Cluster:')\n",
        "order_centroids = kmeans.cluster_centers_.argsort()[:,::-1] #sort cluster centers by proximity to centroid\n",
        "\n",
        "for i in range(3):\n",
        "    print(\"\\n\")\n",
        "    print('Cluster %d:' % i)\n",
        "    for j in order_centroids[i, :10]: #replace 10 with n words per cluster\n",
        "        print ('%s' % terms[j]),\n",
        "    print"
      ]
    },
    {
      "cell_type": "code",
      "execution_count": null,
      "metadata": {
        "colab": {
          "base_uri": "https://localhost:8080/",
          "height": 447
        },
        "id": "m1wpmpHv_7Qo",
        "outputId": "3ec4f0f0-8258-4242-bfad-b13c2077a350"
      },
      "outputs": [
        {
          "data": {
            "text/plain": [
              "<matplotlib.collections.PathCollection at 0x7f3dde775400>"
            ]
          },
          "execution_count": 113,
          "metadata": {},
          "output_type": "execute_result"
        },
        {
          "data": {
            "image/png": "[encoded data removed]",
            "text/plain": [
              "<Figure size 640x480 with 1 Axes>"
            ]
          },
          "metadata": {},
          "output_type": "display_data"
        }
      ],
      "source": [
        "# reduce the features to 2D\n",
        "pca = PCA(n_components=3, random_state=random_state)\n",
        "reduced_features = pca.fit_transform(X.toarray())\n",
        "\n",
        "# reduce the cluster centers to 2D\n",
        "reduced_cluster_centers = pca.transform(kmeans.cluster_centers_)\n",
        "plt.scatter(reduced_features[:,0], reduced_features[:,1], c=kmeans.predict(X))\n",
        "plt.scatter(reduced_cluster_centers[:, 0], reduced_cluster_centers[:,1], marker='x', s=150, c='b')"
      ]
    },
    {
      "cell_type": "code",
      "execution_count": null,
      "metadata": {
        "colab": {
          "base_uri": "https://localhost:8080/",
          "height": 472
        },
        "id": "hVozsFnf_9zS",
        "outputId": "3415e3cb-3563-4c8d-8e9d-5d69a606213a"
      },
      "outputs": [
        {
          "data": {
            "image/png": "[encoded data removed]",
            "text/plain": [
              "<Figure size 640x480 with 1 Axes>"
            ]
          },
          "metadata": {},
          "output_type": "display_data"
        }
      ],
      "source": [
        "from sklearn.cluster import KMeans\n",
        "from sklearn.metrics import silhouette_score\n",
        "# define the range of K values to test\n",
        "k_values = range(2, 10)\n",
        "\n",
        "# fit the KMeans model for each value of K and compute silhouette score\n",
        "scores = []\n",
        "for k in k_values:\n",
        "    model = KMeans(n_clusters=k, random_state=0)\n",
        "    labels = model.fit_predict(X)\n",
        "    score = silhouette_score(X, labels)\n",
        "    scores.append(score)\n",
        "# plot the silhouette scores\n",
        "plt.plot(k_values, scores, '-o')\n",
        "plt.xlabel('Number of clusters (K)')\n",
        "plt.ylabel('Silhouette score')\n",
        "plt.title('Silhouette score vs K')\n",
        "plt.show()"
      ]
    },
    {
      "cell_type": "code",
      "execution_count": null,
      "metadata": {
        "colab": {
          "base_uri": "https://localhost:8080/"
        },
        "id": "DzaDHZFhAAQb",
        "outputId": "10ad4d02-4f91-4307-d465-36f77980180f"
      },
      "outputs": [
        {
          "name": "stdout",
          "output_type": "stream",
          "text": [
            "For n_clusters = 3 The average silhouette_score is : 0.7106112688439713\n"
          ]
        }
      ],
      "source": [
        "# Validation\n",
        "from sklearn.metrics import silhouette_score\n",
        "silhouette_avg = silhouette_score(reduced_features,y_kmeans)\n",
        "print(\"For n_clusters =\", 3, \"The average silhouette_score is :\", silhouette_avg)"
      ]
    },
    {
      "cell_type": "markdown",
      "metadata": {
        "id": "lqoT-vC_A7TH"
      },
      "source": [
        "**Inference:**\n",
        "\n",
        "A silhouette score of 0.71 indicates a relatively high level of similarity within clusters and dissimilarity between clusters. In general, a score above 0.5 is considered to be a good silhouette score, but as I mentioned before, the interpretation of the score also depends on the specific problem and dataset."
      ]
    },
    {
      "cell_type": "markdown",
      "metadata": {
        "id": "uulZhaJdBA1w"
      },
      "source": [
        "**PLOTTING A DENDROGRAM**\n",
        "A dendrogram is a tree-like diagram that shows the hierarchical relationships between clusters in hierarchical clustering. It is a useful tool for visualizing the results of hierarchical clustering and can provide insights into the structure of the data."
      ]
    },
    {
      "cell_type": "code",
      "execution_count": null,
      "metadata": {
        "colab": {
          "base_uri": "https://localhost:8080/",
          "height": 472
        },
        "id": "AM5h5k0_A-Iz",
        "outputId": "568a28e6-4645-4ae9-ac7a-4fe8ee49ef79"
      },
      "outputs": [
        {
          "data": {
            "image/png": "[encoded data removed]",
            "text/plain": [
              "<Figure size 1000x500 with 1 Axes>"
            ]
          },
          "metadata": {},
          "output_type": "display_data"
        }
      ],
      "source": [
        "# convert X to a dense matrix\n",
        "X_dense = X.toarray()\n",
        "import scipy.cluster.hierarchy as sch\n",
        "from matplotlib import pyplot\n",
        "pyplot.figure(figsize=(10, 5))\n",
        "dendrogram = sch.dendrogram(sch.linkage(reduced_features, method = 'ward'))\n",
        "plt.title('Dendrogram')\n",
        "plt.ylabel('Euclidean distances')\n",
        "plt.show()"
      ]
    },
    {
      "cell_type": "markdown",
      "metadata": {
        "id": "BHFWCtJUBJOt"
      },
      "source": [
        "**Inference:**\n",
        "We will now determine the optimal number of clusters for our model. For this, We will find the maximum vertical distance that does not cut any horizontal bar."
      ]
    },
    {
      "cell_type": "markdown",
      "metadata": {
        "id": "Y7ihYoGxBMVA"
      },
      "source": [
        "**Hierarchical Model**"
      ]
    },
    {
      "cell_type": "code",
      "execution_count": null,
      "metadata": {
        "id": "xgSn6lV1BHCK"
      },
      "outputs": [],
      "source": [
        "#training the hierarchical model on dataset\n",
        "from sklearn.cluster import AgglomerativeClustering\n",
        "hc= AgglomerativeClustering(n_clusters=3, affinity='euclidean', linkage='ward')\n",
        "y_pred= hc.fit_predict(reduced_features)"
      ]
    },
    {
      "cell_type": "markdown",
      "metadata": {
        "id": "Rdu4iSlrBRnt"
      },
      "source": [
        "**Visualizing**"
      ]
    },
    {
      "cell_type": "code",
      "execution_count": null,
      "metadata": {
        "id": "p7PPYkNnBPfI"
      },
      "outputs": [],
      "source": [
        "import matplotlib\n",
        "matplotlib.use('agg')\n",
        "\n",
        "# Plot the clustered data\n",
        "fig, ax = plt.subplots(figsize=(12, 6))\n",
        "plt.scatter(reduced_features[y_pred == 0, 0], reduced_features[y_pred == 0, 1],\n",
        "            c='green', label='cluster 1')\n",
        "plt.scatter(reduced_features[y_pred == 1, 0], reduced_features[y_pred == 1, 1],\n",
        "            c='blue', label='cluster 2')\n",
        "plt.scatter(reduced_features[y_pred == 2, 0], reduced_features[y_pred == 2, 1],\n",
        "            c='yellow', label='cluster 3')\n",
        "plt.legend()\n",
        "plt.title('Analysis')\n",
        "ax.set_aspect('equal');\n",
        "\n",
        "plt.savefig('plot.png')\n"
      ]
    },
    {
      "cell_type": "code",
      "execution_count": null,
      "metadata": {
        "id": "wW4HVhZqBUFs"
      },
      "outputs": [],
      "source": [
        "# Plot the clustered data\n",
        "fig, ax = plt.subplots(figsize=(12, 6))\n",
        "plt.scatter(reduced_features[y_pred == 0, 0], reduced_features[y_pred == 0, 1],\n",
        "            c='green', label='cluster 1')\n",
        "plt.scatter(reduced_features[y_pred == 1, 0], reduced_features[y_pred == 1, 1],\n",
        "            c='blue', label='cluster 2')\n",
        "plt.scatter(reduced_features[y_pred == 2, 0], reduced_features[y_pred == 2, 1],\n",
        "            c='yellow', label='cluster 3')\n",
        "plt.legend()\n",
        "plt.title('Analysis')\n",
        "ax.set_aspect('equal');"
      ]
    },
    {
      "cell_type": "markdown",
      "metadata": {
        "id": "fjYWRJOaPom1"
      },
      "source": [
        "![plot.png](data:image/png;base64,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)"
      ]
    },
    {
      "cell_type": "markdown",
      "metadata": {
        "id": "ZeCFLPEtBYo4"
      },
      "source": [
        "**Inference:**\n",
        "\n",
        "From the above diagram we can see that there are three distinct clusters are formed. If we compare the both scatter plot of K-means clustering and hierarchical clustering we can infer that the datapoints in third cluster of hierarchical has less datapoints compared to K-means because it has dealt with outliears."
      ]
    },
    {
      "cell_type": "markdown",
      "metadata": {
        "id": "mpzQHjUKHfqG"
      },
      "source": [
        "**DB SCAN CLUSTERING**"
      ]
    },
    {
      "cell_type": "markdown",
      "metadata": {
        "id": "im6spdr4IZ4X"
      },
      "source": [
        "**INFERENCE:**\n",
        "From the above diagram we can see that there are three distinct clusters are formed. If we compare the both scatter plot of K-means clustering ,hierarchical clustering and DB- scan we can infer that the datapoints in third cluster is the outlier of the clusters."
      ]
    },
    {
      "cell_type": "code",
      "execution_count": null,
      "metadata": {
        "id": "C2ZSJad6Mxf9"
      },
      "outputs": [],
      "source": [
        "from sklearn.preprocessing import StandardScaler"
      ]
    },
    {
      "cell_type": "code",
      "execution_count": null,
      "metadata": {
        "id": "q6HCg5TgMyLA"
      },
      "outputs": [],
      "source": [
        "X_sd = StandardScaler().fit_transform(X)"
      ]
    },
    {
      "cell_type": "code",
      "execution_count": null,
      "metadata": {
        "id": "ZC0EkhqQNSAK"
      },
      "outputs": [],
      "source": [
        "import matplotlib.pyplot as plt\n",
        "plt.scatter(X[:, 0], X[:, 1])\n",
        "plt.show()"
      ]
    },
    {
      "cell_type": "code",
      "execution_count": null,
      "metadata": {
        "colab": {
          "base_uri": "https://localhost:8080/"
        },
        "id": "UHqg_iFSNukP",
        "outputId": "7bb1c75f-2da2-4f33-8a65-913bd8ba1235"
      },
      "outputs": [
        {
          "name": "stdout",
          "output_type": "stream",
          "text": [
            "Estimated number of clusters: 2\n",
            "Estimated number of noise points: 58\n"
          ]
        }
      ],
      "source": [
        "import numpy as np\n",
        "from sklearn.cluster import DBSCAN\n",
        "from sklearn import metrics\n",
        "\n",
        "db = DBSCAN(eps=0.3, min_samples=10).fit(X)\n",
        "labels = db.labels_\n",
        "\n",
        "# Number of clusters in labels, ignoring noise if present.\n",
        "n_clusters_ = len(set(labels)) - (1 if -1 in labels else 0)\n",
        "n_noise_ = list(labels).count(-1)\n",
        "\n",
        "print(\"Estimated number of clusters: %d\" % n_clusters_)\n",
        "print(\"Estimated number of noise points: %d\" % n_noise_)"
      ]
    },
    {
      "cell_type": "code",
      "execution_count": null,
      "metadata": {
        "id": "El2R5D_IO3Pa"
      },
      "outputs": [],
      "source": [
        "unique_labels = set(labels)\n",
        "core_samples_mask = np.zeros_like(labels, dtype=bool)\n",
        "core_samples_mask[db.core_sample_indices_] = True\n",
        "\n",
        "colors = [plt.cm.Spectral(each) for each in np.linspace(0, 1, len(unique_labels))]\n",
        "for k, col in zip(unique_labels, colors):\n",
        "    if k == -1:\n",
        "        # Black used for noise.\n",
        "        col = [0, 0, 0, 1]\n",
        "\n",
        "    class_member_mask = labels == k\n",
        "\n",
        "    xy = X[class_member_mask & core_samples_mask]\n",
        "    plt.plot(\n",
        "        xy[:, 0],\n",
        "        xy[:, 1],\n",
        "        \"o\",\n",
        "        markerfacecolor=tuple(col),\n",
        "        markeredgecolor=\"k\",\n",
        "        markersize=14,\n",
        "    )\n",
        "\n",
        "    xy = X[class_member_mask & ~core_samples_mask]\n",
        "    plt.plot(\n",
        "        xy[:, 0],\n",
        "        xy[:, 1],\n",
        "        \"o\",\n",
        "        markerfacecolor=tuple(col),\n",
        "        markeredgecolor=\"k\",\n",
        "        markersize=6,\n",
        "    )\n",
        "\n",
        "plt.title(f\"Estimated number of clusters: {n_clusters_}\")\n",
        "plt.show()\n",
        "plt.savefig('plot2.png')\n"
      ]
    },
    {
      "cell_type": "markdown",
      "metadata": {
        "id": "CvDrQhO2PSue"
      },
      "source": [
        "![plot2.png](data:image/png;base64,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)"
      ]
    },
    {
      "cell_type": "markdown",
      "metadata": {
        "id": "rR1638tKP5Sd"
      },
      "source": [
        "**INFERENCE:**\n",
        "From the above diagram we can see that there are three distinct clusters are formed. If we compare the both scatter plot of K-means clustering ,hierarchical clustering and DB- scan we can infer that the datapoints in third cluster is the outlier of the clusters."
      ]
    }
  ],
  "metadata": {
    "colab": {
      "provenance": []
    },
    "kernelspec": {
      "display_name": "Python 3",
      "name": "python3"
    },
    "language_info": {
      "name": "python"
    }
  },
  "nbformat": 4,
  "nbformat_minor": 0
}
