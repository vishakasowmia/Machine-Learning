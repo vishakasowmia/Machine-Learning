{
  "cells": [
    {
      "cell_type": "markdown",
      "metadata": {
        "id": "JWw00OCEQH9U"
      },
      "source": [
        "**Text Hierarchical Clustering for Airplane Crashes**"
      ]
    },
    {
      "cell_type": "markdown",
      "metadata": {
        "id": "6hGOtyj23GnZ"
      },
      "source": [
        "**Problem:**\n",
        "\n",
        "Airplane crashes are a major concern for the aviation industry and have significant impacts on human lives and the economy. Analyzing past airplane crash data can provide valuable insights into the causes and contributing factors of crashes, as well as help identify patterns and trends that can inform safety measures and policies. However, with a large volume of crash data available, it can be challenging to extract meaningful information from the data. The use of text clustering with K-means and hierarchical clustering can help to organize and classify the crash data into meaningful groups, facilitating further analysis and interpretation of the data. Therefore, the problem is to develop an effective text clustering approach using clustering to cluster airplane crash data into meaningful groups that can provide insights into crash patterns and factors.\n",
        "\n",
        "The dataset used for this project is given below:\n",
        "\n",
        "https://www.kaggle.com/datasets/saurograndi/airplane-crashes-since-1908"
      ]
    },
    {
      "cell_type": "markdown",
      "metadata": {
        "id": "UeVx3zBeQCEf"
      },
      "source": [
        "**Importing the Libraries**"
      ]
    },
    {
      "cell_type": "code",
      "execution_count": null,
      "metadata": {
        "id": "1200pa__PjrB"
      },
      "outputs": [],
      "source": [
        "import pandas as pd\n",
        "import numpy  as np\n",
        "import seaborn as sns\n",
        "import matplotlib.pyplot as plt\n",
        "sns.set_style()\n",
        "import matplotlib\n",
        "%matplotlib inline\n",
        "\n",
        "import warnings\n",
        "warnings.filterwarnings(\"ignore\")"
      ]
    },
    {
      "cell_type": "markdown",
      "metadata": {
        "id": "Rw8vn18XPy_s"
      },
      "source": [
        "**Loading the Accident dataset**"
      ]
    },
    {
      "cell_type": "code",
      "execution_count": null,
      "metadata": {
        "id": "-dHnuIaqPwrE"
      },
      "outputs": [],
      "source": [
        "import pandas as pd\n",
        "# Load the dataset into a Pandas DataFrame\n",
        "df = pd.read_csv('/content/Airplane_Crashes_and_Fatalities_Since_1908.csv')"
      ]
    },
    {
      "cell_type": "markdown",
      "metadata": {
        "id": "kIhTSNaCP9vf"
      },
      "source": [
        "**Displaying the first 5 rows of the data.**"
      ]
    },
    {
      "cell_type": "code",
      "execution_count": null,
      "metadata": {
        "colab": {
          "base_uri": "https://localhost:8080/",
          "height": 547
        },
        "id": "ERVyADGeP43O",
        "outputId": "6f6e13d7-a11a-4d0b-d3b4-5ddf4cbebb47"
      },
      "outputs": [
        {
          "data": {
            "text/html": [
              "\n",
              "  <div id=\"df-51a4237d-5892-4e1a-8c56-859b8dd4c0bf\">\n",
              "    <div class=\"colab-df-container\">\n",
              "      <div>\n",
              "<style scoped>\n",
              "    .dataframe tbody tr th:only-of-type {\n",
              "        vertical-align: middle;\n",
              "    }\n",
              "\n",
              "    .dataframe tbody tr th {\n",
              "        vertical-align: top;\n",
              "    }\n",
              "\n",
              "    .dataframe thead th {\n",
              "        text-align: right;\n",
              "    }\n",
              "</style>\n",
              "<table border=\"1\" class=\"dataframe\">\n",
              "  <thead>\n",
              "    <tr style=\"text-align: right;\">\n",
              "      <th></th>\n",
              "      <th>Date</th>\n",
              "      <th>Time</th>\n",
              "      <th>Location</th>\n",
              "      <th>Operator</th>\n",
              "      <th>Flight #</th>\n",
              "      <th>Route</th>\n",
              "      <th>Type</th>\n",
              "      <th>Registration</th>\n",
              "      <th>cn/In</th>\n",
              "      <th>Aboard</th>\n",
              "      <th>Fatalities</th>\n",
              "      <th>Ground</th>\n",
              "      <th>Summary</th>\n",
              "    </tr>\n",
              "  </thead>\n",
              "  <tbody>\n",
              "    <tr>\n",
              "      <th>0</th>\n",
              "      <td>09/17/1908</td>\n",
              "      <td>17:18</td>\n",
              "      <td>Fort Myer, Virginia</td>\n",
              "      <td>Military - U.S. Army</td>\n",
              "      <td>NaN</td>\n",
              "      <td>Demonstration</td>\n",
              "      <td>Wright Flyer III</td>\n",
              "      <td>NaN</td>\n",
              "      <td>1</td>\n",
              "      <td>2.0</td>\n",
              "      <td>1.0</td>\n",
              "      <td>0.0</td>\n",
              "      <td>During a demonstration flight, a U.S. Army fly...</td>\n",
              "    </tr>\n",
              "    <tr>\n",
              "      <th>1</th>\n",
              "      <td>07/12/1912</td>\n",
              "      <td>06:30</td>\n",
              "      <td>AtlantiCity, New Jersey</td>\n",
              "      <td>Military - U.S. Navy</td>\n",
              "      <td>NaN</td>\n",
              "      <td>Test flight</td>\n",
              "      <td>Dirigible</td>\n",
              "      <td>NaN</td>\n",
              "      <td>NaN</td>\n",
              "      <td>5.0</td>\n",
              "      <td>5.0</td>\n",
              "      <td>0.0</td>\n",
              "      <td>First U.S. dirigible Akron exploded just offsh...</td>\n",
              "    </tr>\n",
              "    <tr>\n",
              "      <th>2</th>\n",
              "      <td>08/06/1913</td>\n",
              "      <td>NaN</td>\n",
              "      <td>Victoria, British Columbia, Canada</td>\n",
              "      <td>Private</td>\n",
              "      <td>-</td>\n",
              "      <td>NaN</td>\n",
              "      <td>Curtiss seaplane</td>\n",
              "      <td>NaN</td>\n",
              "      <td>NaN</td>\n",
              "      <td>1.0</td>\n",
              "      <td>1.0</td>\n",
              "      <td>0.0</td>\n",
              "      <td>The first fatal airplane accident in Canada oc...</td>\n",
              "    </tr>\n",
              "    <tr>\n",
              "      <th>3</th>\n",
              "      <td>09/09/1913</td>\n",
              "      <td>18:30</td>\n",
              "      <td>Over the North Sea</td>\n",
              "      <td>Military - German Navy</td>\n",
              "      <td>NaN</td>\n",
              "      <td>NaN</td>\n",
              "      <td>Zeppelin L-1 (airship)</td>\n",
              "      <td>NaN</td>\n",
              "      <td>NaN</td>\n",
              "      <td>20.0</td>\n",
              "      <td>14.0</td>\n",
              "      <td>0.0</td>\n",
              "      <td>The airship flew into a thunderstorm and encou...</td>\n",
              "    </tr>\n",
              "    <tr>\n",
              "      <th>4</th>\n",
              "      <td>10/17/1913</td>\n",
              "      <td>10:30</td>\n",
              "      <td>Near Johannisthal, Germany</td>\n",
              "      <td>Military - German Navy</td>\n",
              "      <td>NaN</td>\n",
              "      <td>NaN</td>\n",
              "      <td>Zeppelin L-2 (airship)</td>\n",
              "      <td>NaN</td>\n",
              "      <td>NaN</td>\n",
              "      <td>30.0</td>\n",
              "      <td>30.0</td>\n",
              "      <td>0.0</td>\n",
              "      <td>Hydrogen gas which was being vented was sucked...</td>\n",
              "    </tr>\n",
              "  </tbody>\n",
              "</table>\n",
              "</div>\n",
              "      <button class=\"colab-df-convert\" onclick=\"convertToInteractive('df-51a4237d-5892-4e1a-8c56-859b8dd4c0bf')\"\n",
              "              title=\"Convert this dataframe to an interactive table.\"\n",
              "              style=\"display:none;\">\n",
              "        \n",
              "  <svg xmlns=\"http://www.w3.org/2000/svg\" height=\"24px\"viewBox=\"0 0 24 24\"\n",
              "       width=\"24px\">\n",
              "    <path d=\"M0 0h24v24H0V0z\" fill=\"none\"/>\n",
              "    <path d=\"M18.56 5.44l.94 2.06.94-2.06 2.06-.94-2.06-.94-.94-2.06-.94 2.06-2.06.94zm-11 1L8.5 8.5l.94-2.06 2.06-.94-2.06-.94L8.5 2.5l-.94 2.06-2.06.94zm10 10l.94 2.06.94-2.06 2.06-.94-2.06-.94-.94-2.06-.94 2.06-2.06.94z\"/><path d=\"M17.41 7.96l-1.37-1.37c-.4-.4-.92-.59-1.43-.59-.52 0-1.04.2-1.43.59L10.3 9.45l-7.72 7.72c-.78.78-.78 2.05 0 2.83L4 21.41c.39.39.9.59 1.41.59.51 0 1.02-.2 1.41-.59l7.78-7.78 2.81-2.81c.8-.78.8-2.07 0-2.86zM5.41 20L4 18.59l7.72-7.72 1.47 1.35L5.41 20z\"/>\n",
              "  </svg>\n",
              "      </button>\n",
              "      \n",
              "  <style>\n",
              "    .colab-df-container {\n",
              "      display:flex;\n",
              "      flex-wrap:wrap;\n",
              "      gap: 12px;\n",
              "    }\n",
              "\n",
              "    .colab-df-convert {\n",
              "      background-color: #E8F0FE;\n",
              "      border: none;\n",
              "      border-radius: 50%;\n",
              "      cursor: pointer;\n",
              "      display: none;\n",
              "      fill: #1967D2;\n",
              "      height: 32px;\n",
              "      padding: 0 0 0 0;\n",
              "      width: 32px;\n",
              "    }\n",
              "\n",
              "    .colab-df-convert:hover {\n",
              "      background-color: #E2EBFA;\n",
              "      box-shadow: 0px 1px 2px rgba(60, 64, 67, 0.3), 0px 1px 3px 1px rgba(60, 64, 67, 0.15);\n",
              "      fill: #174EA6;\n",
              "    }\n",
              "\n",
              "    [theme=dark] .colab-df-convert {\n",
              "      background-color: #3B4455;\n",
              "      fill: #D2E3FC;\n",
              "    }\n",
              "\n",
              "    [theme=dark] .colab-df-convert:hover {\n",
              "      background-color: #434B5C;\n",
              "      box-shadow: 0px 1px 3px 1px rgba(0, 0, 0, 0.15);\n",
              "      filter: drop-shadow(0px 1px 2px rgba(0, 0, 0, 0.3));\n",
              "      fill: #FFFFFF;\n",
              "    }\n",
              "  </style>\n",
              "\n",
              "      <script>\n",
              "        const buttonEl =\n",
              "          document.querySelector('#df-51a4237d-5892-4e1a-8c56-859b8dd4c0bf button.colab-df-convert');\n",
              "        buttonEl.style.display =\n",
              "          google.colab.kernel.accessAllowed ? 'block' : 'none';\n",
              "\n",
              "        async function convertToInteractive(key) {\n",
              "          const element = document.querySelector('#df-51a4237d-5892-4e1a-8c56-859b8dd4c0bf');\n",
              "          const dataTable =\n",
              "            await google.colab.kernel.invokeFunction('convertToInteractive',\n",
              "                                                     [key], {});\n",
              "          if (!dataTable) return;\n",
              "\n",
              "          const docLinkHtml = 'Like what you see? Visit the ' +\n",
              "            '<a target=\"_blank\" href=https://colab.research.google.com/notebooks/data_table.ipynb>data table notebook</a>'\n",
              "            + ' to learn more about interactive tables.';\n",
              "          element.innerHTML = '';\n",
              "          dataTable['output_type'] = 'display_data';\n",
              "          await google.colab.output.renderOutput(dataTable, element);\n",
              "          const docLink = document.createElement('div');\n",
              "          docLink.innerHTML = docLinkHtml;\n",
              "          element.appendChild(docLink);\n",
              "        }\n",
              "      </script>\n",
              "    </div>\n",
              "  </div>\n",
              "  "
            ],
            "text/plain": [
              "         Date   Time                            Location  \\\n",
              "0  09/17/1908  17:18                 Fort Myer, Virginia   \n",
              "1  07/12/1912  06:30             AtlantiCity, New Jersey   \n",
              "2  08/06/1913    NaN  Victoria, British Columbia, Canada   \n",
              "3  09/09/1913  18:30                  Over the North Sea   \n",
              "4  10/17/1913  10:30          Near Johannisthal, Germany   \n",
              "\n",
              "                 Operator Flight #          Route                    Type  \\\n",
              "0    Military - U.S. Army      NaN  Demonstration        Wright Flyer III   \n",
              "1    Military - U.S. Navy      NaN    Test flight               Dirigible   \n",
              "2                 Private        -            NaN        Curtiss seaplane   \n",
              "3  Military - German Navy      NaN            NaN  Zeppelin L-1 (airship)   \n",
              "4  Military - German Navy      NaN            NaN  Zeppelin L-2 (airship)   \n",
              "\n",
              "  Registration cn/In  Aboard  Fatalities  Ground  \\\n",
              "0          NaN     1     2.0         1.0     0.0   \n",
              "1          NaN   NaN     5.0         5.0     0.0   \n",
              "2          NaN   NaN     1.0         1.0     0.0   \n",
              "3          NaN   NaN    20.0        14.0     0.0   \n",
              "4          NaN   NaN    30.0        30.0     0.0   \n",
              "\n",
              "                                             Summary  \n",
              "0  During a demonstration flight, a U.S. Army fly...  \n",
              "1  First U.S. dirigible Akron exploded just offsh...  \n",
              "2  The first fatal airplane accident in Canada oc...  \n",
              "3  The airship flew into a thunderstorm and encou...  \n",
              "4  Hydrogen gas which was being vented was sucked...  "
            ]
          },
          "execution_count": 207,
          "metadata": {},
          "output_type": "execute_result"
        }
      ],
      "source": [
        "df.head()"
      ]
    },
    {
      "cell_type": "markdown",
      "metadata": {
        "id": "db5qMvw2QWkN"
      },
      "source": [
        "**DATA DESCRIPTION**"
      ]
    },
    {
      "cell_type": "markdown",
      "metadata": {
        "id": "dJmfaaWVQaPY"
      },
      "source": [
        "**The shape**"
      ]
    },
    {
      "cell_type": "code",
      "execution_count": null,
      "metadata": {
        "colab": {
          "base_uri": "https://localhost:8080/"
        },
        "id": "GOsGJd-gQTng",
        "outputId": "5c690990-9173-473f-eef2-b515d0c1f45b"
      },
      "outputs": [
        {
          "data": {
            "text/plain": [
              "(5268, 13)"
            ]
          },
          "execution_count": 208,
          "metadata": {},
          "output_type": "execute_result"
        }
      ],
      "source": [
        "df.shape"
      ]
    },
    {
      "cell_type": "markdown",
      "metadata": {
        "id": "OSTFem-WQnUg"
      },
      "source": [
        "**Printing the information of the dataset.**\n"
      ]
    },
    {
      "cell_type": "code",
      "execution_count": null,
      "metadata": {
        "colab": {
          "base_uri": "https://localhost:8080/"
        },
        "id": "diqvW3zVQdZd",
        "outputId": "f9e2aa60-1e96-40f9-cbd0-429b580ac1c8"
      },
      "outputs": [
        {
          "name": "stdout",
          "output_type": "stream",
          "text": [
            "<class 'pandas.core.frame.DataFrame'>\n",
            "RangeIndex: 5268 entries, 0 to 5267\n",
            "Data columns (total 13 columns):\n",
            " #   Column        Non-Null Count  Dtype  \n",
            "---  ------        --------------  -----  \n",
            " 0   Date          5268 non-null   object \n",
            " 1   Time          3049 non-null   object \n",
            " 2   Location      5248 non-null   object \n",
            " 3   Operator      5250 non-null   object \n",
            " 4   Flight #      1069 non-null   object \n",
            " 5   Route         3562 non-null   object \n",
            " 6   Type          5241 non-null   object \n",
            " 7   Registration  4933 non-null   object \n",
            " 8   cn/In         4040 non-null   object \n",
            " 9   Aboard        5246 non-null   float64\n",
            " 10  Fatalities    5256 non-null   float64\n",
            " 11  Ground        5246 non-null   float64\n",
            " 12  Summary       4878 non-null   object \n",
            "dtypes: float64(3), object(10)\n",
            "memory usage: 535.2+ KB\n"
          ]
        }
      ],
      "source": [
        "df.info()"
      ]
    },
    {
      "cell_type": "markdown",
      "metadata": {
        "id": "PC8cL0VeQjG0"
      },
      "source": [
        "**Description of the data**"
      ]
    },
    {
      "cell_type": "code",
      "execution_count": null,
      "metadata": {
        "colab": {
          "base_uri": "https://localhost:8080/",
          "height": 300
        },
        "id": "EKfSxvKYQf9w",
        "outputId": "76137c8c-8d4a-416f-9b3a-5aebc3ee15dc"
      },
      "outputs": [
        {
          "data": {
            "text/html": [
              "\n",
              "  <div id=\"df-0b1b1006-cd23-42b5-a955-4771ba99d649\">\n",
              "    <div class=\"colab-df-container\">\n",
              "      <div>\n",
              "<style scoped>\n",
              "    .dataframe tbody tr th:only-of-type {\n",
              "        vertical-align: middle;\n",
              "    }\n",
              "\n",
              "    .dataframe tbody tr th {\n",
              "        vertical-align: top;\n",
              "    }\n",
              "\n",
              "    .dataframe thead th {\n",
              "        text-align: right;\n",
              "    }\n",
              "</style>\n",
              "<table border=\"1\" class=\"dataframe\">\n",
              "  <thead>\n",
              "    <tr style=\"text-align: right;\">\n",
              "      <th></th>\n",
              "      <th>Aboard</th>\n",
              "      <th>Fatalities</th>\n",
              "      <th>Ground</th>\n",
              "    </tr>\n",
              "  </thead>\n",
              "  <tbody>\n",
              "    <tr>\n",
              "      <th>count</th>\n",
              "      <td>5246.000000</td>\n",
              "      <td>5256.000000</td>\n",
              "      <td>5246.000000</td>\n",
              "    </tr>\n",
              "    <tr>\n",
              "      <th>mean</th>\n",
              "      <td>27.554518</td>\n",
              "      <td>20.068303</td>\n",
              "      <td>1.608845</td>\n",
              "    </tr>\n",
              "    <tr>\n",
              "      <th>std</th>\n",
              "      <td>43.076711</td>\n",
              "      <td>33.199952</td>\n",
              "      <td>53.987827</td>\n",
              "    </tr>\n",
              "    <tr>\n",
              "      <th>min</th>\n",
              "      <td>0.000000</td>\n",
              "      <td>0.000000</td>\n",
              "      <td>0.000000</td>\n",
              "    </tr>\n",
              "    <tr>\n",
              "      <th>25%</th>\n",
              "      <td>5.000000</td>\n",
              "      <td>3.000000</td>\n",
              "      <td>0.000000</td>\n",
              "    </tr>\n",
              "    <tr>\n",
              "      <th>50%</th>\n",
              "      <td>13.000000</td>\n",
              "      <td>9.000000</td>\n",
              "      <td>0.000000</td>\n",
              "    </tr>\n",
              "    <tr>\n",
              "      <th>75%</th>\n",
              "      <td>30.000000</td>\n",
              "      <td>23.000000</td>\n",
              "      <td>0.000000</td>\n",
              "    </tr>\n",
              "    <tr>\n",
              "      <th>max</th>\n",
              "      <td>644.000000</td>\n",
              "      <td>583.000000</td>\n",
              "      <td>2750.000000</td>\n",
              "    </tr>\n",
              "  </tbody>\n",
              "</table>\n",
              "</div>\n",
              "      <button class=\"colab-df-convert\" onclick=\"convertToInteractive('df-0b1b1006-cd23-42b5-a955-4771ba99d649')\"\n",
              "              title=\"Convert this dataframe to an interactive table.\"\n",
              "              style=\"display:none;\">\n",
              "        \n",
              "  <svg xmlns=\"http://www.w3.org/2000/svg\" height=\"24px\"viewBox=\"0 0 24 24\"\n",
              "       width=\"24px\">\n",
              "    <path d=\"M0 0h24v24H0V0z\" fill=\"none\"/>\n",
              "    <path d=\"M18.56 5.44l.94 2.06.94-2.06 2.06-.94-2.06-.94-.94-2.06-.94 2.06-2.06.94zm-11 1L8.5 8.5l.94-2.06 2.06-.94-2.06-.94L8.5 2.5l-.94 2.06-2.06.94zm10 10l.94 2.06.94-2.06 2.06-.94-2.06-.94-.94-2.06-.94 2.06-2.06.94z\"/><path d=\"M17.41 7.96l-1.37-1.37c-.4-.4-.92-.59-1.43-.59-.52 0-1.04.2-1.43.59L10.3 9.45l-7.72 7.72c-.78.78-.78 2.05 0 2.83L4 21.41c.39.39.9.59 1.41.59.51 0 1.02-.2 1.41-.59l7.78-7.78 2.81-2.81c.8-.78.8-2.07 0-2.86zM5.41 20L4 18.59l7.72-7.72 1.47 1.35L5.41 20z\"/>\n",
              "  </svg>\n",
              "      </button>\n",
              "      \n",
              "  <style>\n",
              "    .colab-df-container {\n",
              "      display:flex;\n",
              "      flex-wrap:wrap;\n",
              "      gap: 12px;\n",
              "    }\n",
              "\n",
              "    .colab-df-convert {\n",
              "      background-color: #E8F0FE;\n",
              "      border: none;\n",
              "      border-radius: 50%;\n",
              "      cursor: pointer;\n",
              "      display: none;\n",
              "      fill: #1967D2;\n",
              "      height: 32px;\n",
              "      padding: 0 0 0 0;\n",
              "      width: 32px;\n",
              "    }\n",
              "\n",
              "    .colab-df-convert:hover {\n",
              "      background-color: #E2EBFA;\n",
              "      box-shadow: 0px 1px 2px rgba(60, 64, 67, 0.3), 0px 1px 3px 1px rgba(60, 64, 67, 0.15);\n",
              "      fill: #174EA6;\n",
              "    }\n",
              "\n",
              "    [theme=dark] .colab-df-convert {\n",
              "      background-color: #3B4455;\n",
              "      fill: #D2E3FC;\n",
              "    }\n",
              "\n",
              "    [theme=dark] .colab-df-convert:hover {\n",
              "      background-color: #434B5C;\n",
              "      box-shadow: 0px 1px 3px 1px rgba(0, 0, 0, 0.15);\n",
              "      filter: drop-shadow(0px 1px 2px rgba(0, 0, 0, 0.3));\n",
              "      fill: #FFFFFF;\n",
              "    }\n",
              "  </style>\n",
              "\n",
              "      <script>\n",
              "        const buttonEl =\n",
              "          document.querySelector('#df-0b1b1006-cd23-42b5-a955-4771ba99d649 button.colab-df-convert');\n",
              "        buttonEl.style.display =\n",
              "          google.colab.kernel.accessAllowed ? 'block' : 'none';\n",
              "\n",
              "        async function convertToInteractive(key) {\n",
              "          const element = document.querySelector('#df-0b1b1006-cd23-42b5-a955-4771ba99d649');\n",
              "          const dataTable =\n",
              "            await google.colab.kernel.invokeFunction('convertToInteractive',\n",
              "                                                     [key], {});\n",
              "          if (!dataTable) return;\n",
              "\n",
              "          const docLinkHtml = 'Like what you see? Visit the ' +\n",
              "            '<a target=\"_blank\" href=https://colab.research.google.com/notebooks/data_table.ipynb>data table notebook</a>'\n",
              "            + ' to learn more about interactive tables.';\n",
              "          element.innerHTML = '';\n",
              "          dataTable['output_type'] = 'display_data';\n",
              "          await google.colab.output.renderOutput(dataTable, element);\n",
              "          const docLink = document.createElement('div');\n",
              "          docLink.innerHTML = docLinkHtml;\n",
              "          element.appendChild(docLink);\n",
              "        }\n",
              "      </script>\n",
              "    </div>\n",
              "  </div>\n",
              "  "
            ],
            "text/plain": [
              "            Aboard   Fatalities       Ground\n",
              "count  5246.000000  5256.000000  5246.000000\n",
              "mean     27.554518    20.068303     1.608845\n",
              "std      43.076711    33.199952    53.987827\n",
              "min       0.000000     0.000000     0.000000\n",
              "25%       5.000000     3.000000     0.000000\n",
              "50%      13.000000     9.000000     0.000000\n",
              "75%      30.000000    23.000000     0.000000\n",
              "max     644.000000   583.000000  2750.000000"
            ]
          },
          "execution_count": 210,
          "metadata": {},
          "output_type": "execute_result"
        }
      ],
      "source": [
        "df.describe()"
      ]
    },
    {
      "cell_type": "markdown",
      "metadata": {
        "id": "Do2XzY1IQs_x"
      },
      "source": [
        "**Details of the null values in the datset.**"
      ]
    },
    {
      "cell_type": "code",
      "execution_count": null,
      "metadata": {
        "colab": {
          "base_uri": "https://localhost:8080/"
        },
        "id": "X6eIFaINQqzU",
        "outputId": "902648b1-6bbf-40e8-8c78-3e07349d0bcd"
      },
      "outputs": [
        {
          "data": {
            "text/plain": [
              "Date               0\n",
              "Time            2219\n",
              "Location          20\n",
              "Operator          18\n",
              "Flight #        4199\n",
              "Route           1706\n",
              "Type              27\n",
              "Registration     335\n",
              "cn/In           1228\n",
              "Aboard            22\n",
              "Fatalities        12\n",
              "Ground            22\n",
              "Summary          390\n",
              "dtype: int64"
            ]
          },
          "execution_count": 211,
          "metadata": {},
          "output_type": "execute_result"
        }
      ],
      "source": [
        "df.isnull().sum()"
      ]
    },
    {
      "cell_type": "code",
      "execution_count": null,
      "metadata": {
        "colab": {
          "base_uri": "https://localhost:8080/",
          "height": 457
        },
        "id": "H7TVY0AeQv9O",
        "outputId": "01d1d8d5-79c4-40c5-a8f9-ab6f87545ff7"
      },
      "outputs": [
        {
          "data": {
            "text/html": [
              "\n",
              "  <div id=\"df-7f895b3f-f478-4e47-8e36-92b0747da8cd\">\n",
              "    <div class=\"colab-df-container\">\n",
              "      <div>\n",
              "<style scoped>\n",
              "    .dataframe tbody tr th:only-of-type {\n",
              "        vertical-align: middle;\n",
              "    }\n",
              "\n",
              "    .dataframe tbody tr th {\n",
              "        vertical-align: top;\n",
              "    }\n",
              "\n",
              "    .dataframe thead th {\n",
              "        text-align: right;\n",
              "    }\n",
              "</style>\n",
              "<table border=\"1\" class=\"dataframe\">\n",
              "  <thead>\n",
              "    <tr style=\"text-align: right;\">\n",
              "      <th></th>\n",
              "      <th>percentage of null vlaues</th>\n",
              "      <th>Null Values</th>\n",
              "    </tr>\n",
              "  </thead>\n",
              "  <tbody>\n",
              "    <tr>\n",
              "      <th>Date</th>\n",
              "      <td>0.000</td>\n",
              "      <td>0</td>\n",
              "    </tr>\n",
              "    <tr>\n",
              "      <th>Time</th>\n",
              "      <td>0.421</td>\n",
              "      <td>2219</td>\n",
              "    </tr>\n",
              "    <tr>\n",
              "      <th>Location</th>\n",
              "      <td>0.004</td>\n",
              "      <td>20</td>\n",
              "    </tr>\n",
              "    <tr>\n",
              "      <th>Operator</th>\n",
              "      <td>0.003</td>\n",
              "      <td>18</td>\n",
              "    </tr>\n",
              "    <tr>\n",
              "      <th>Flight #</th>\n",
              "      <td>0.797</td>\n",
              "      <td>4199</td>\n",
              "    </tr>\n",
              "    <tr>\n",
              "      <th>Route</th>\n",
              "      <td>0.324</td>\n",
              "      <td>1706</td>\n",
              "    </tr>\n",
              "    <tr>\n",
              "      <th>Type</th>\n",
              "      <td>0.005</td>\n",
              "      <td>27</td>\n",
              "    </tr>\n",
              "    <tr>\n",
              "      <th>Registration</th>\n",
              "      <td>0.064</td>\n",
              "      <td>335</td>\n",
              "    </tr>\n",
              "    <tr>\n",
              "      <th>cn/In</th>\n",
              "      <td>0.233</td>\n",
              "      <td>1228</td>\n",
              "    </tr>\n",
              "    <tr>\n",
              "      <th>Aboard</th>\n",
              "      <td>0.004</td>\n",
              "      <td>22</td>\n",
              "    </tr>\n",
              "    <tr>\n",
              "      <th>Fatalities</th>\n",
              "      <td>0.002</td>\n",
              "      <td>12</td>\n",
              "    </tr>\n",
              "    <tr>\n",
              "      <th>Ground</th>\n",
              "      <td>0.004</td>\n",
              "      <td>22</td>\n",
              "    </tr>\n",
              "    <tr>\n",
              "      <th>Summary</th>\n",
              "      <td>0.074</td>\n",
              "      <td>390</td>\n",
              "    </tr>\n",
              "  </tbody>\n",
              "</table>\n",
              "</div>\n",
              "      <button class=\"colab-df-convert\" onclick=\"convertToInteractive('df-7f895b3f-f478-4e47-8e36-92b0747da8cd')\"\n",
              "              title=\"Convert this dataframe to an interactive table.\"\n",
              "              style=\"display:none;\">\n",
              "        \n",
              "  <svg xmlns=\"http://www.w3.org/2000/svg\" height=\"24px\"viewBox=\"0 0 24 24\"\n",
              "       width=\"24px\">\n",
              "    <path d=\"M0 0h24v24H0V0z\" fill=\"none\"/>\n",
              "    <path d=\"M18.56 5.44l.94 2.06.94-2.06 2.06-.94-2.06-.94-.94-2.06-.94 2.06-2.06.94zm-11 1L8.5 8.5l.94-2.06 2.06-.94-2.06-.94L8.5 2.5l-.94 2.06-2.06.94zm10 10l.94 2.06.94-2.06 2.06-.94-2.06-.94-.94-2.06-.94 2.06-2.06.94z\"/><path d=\"M17.41 7.96l-1.37-1.37c-.4-.4-.92-.59-1.43-.59-.52 0-1.04.2-1.43.59L10.3 9.45l-7.72 7.72c-.78.78-.78 2.05 0 2.83L4 21.41c.39.39.9.59 1.41.59.51 0 1.02-.2 1.41-.59l7.78-7.78 2.81-2.81c.8-.78.8-2.07 0-2.86zM5.41 20L4 18.59l7.72-7.72 1.47 1.35L5.41 20z\"/>\n",
              "  </svg>\n",
              "      </button>\n",
              "      \n",
              "  <style>\n",
              "    .colab-df-container {\n",
              "      display:flex;\n",
              "      flex-wrap:wrap;\n",
              "      gap: 12px;\n",
              "    }\n",
              "\n",
              "    .colab-df-convert {\n",
              "      background-color: #E8F0FE;\n",
              "      border: none;\n",
              "      border-radius: 50%;\n",
              "      cursor: pointer;\n",
              "      display: none;\n",
              "      fill: #1967D2;\n",
              "      height: 32px;\n",
              "      padding: 0 0 0 0;\n",
              "      width: 32px;\n",
              "    }\n",
              "\n",
              "    .colab-df-convert:hover {\n",
              "      background-color: #E2EBFA;\n",
              "      box-shadow: 0px 1px 2px rgba(60, 64, 67, 0.3), 0px 1px 3px 1px rgba(60, 64, 67, 0.15);\n",
              "      fill: #174EA6;\n",
              "    }\n",
              "\n",
              "    [theme=dark] .colab-df-convert {\n",
              "      background-color: #3B4455;\n",
              "      fill: #D2E3FC;\n",
              "    }\n",
              "\n",
              "    [theme=dark] .colab-df-convert:hover {\n",
              "      background-color: #434B5C;\n",
              "      box-shadow: 0px 1px 3px 1px rgba(0, 0, 0, 0.15);\n",
              "      filter: drop-shadow(0px 1px 2px rgba(0, 0, 0, 0.3));\n",
              "      fill: #FFFFFF;\n",
              "    }\n",
              "  </style>\n",
              "\n",
              "      <script>\n",
              "        const buttonEl =\n",
              "          document.querySelector('#df-7f895b3f-f478-4e47-8e36-92b0747da8cd button.colab-df-convert');\n",
              "        buttonEl.style.display =\n",
              "          google.colab.kernel.accessAllowed ? 'block' : 'none';\n",
              "\n",
              "        async function convertToInteractive(key) {\n",
              "          const element = document.querySelector('#df-7f895b3f-f478-4e47-8e36-92b0747da8cd');\n",
              "          const dataTable =\n",
              "            await google.colab.kernel.invokeFunction('convertToInteractive',\n",
              "                                                     [key], {});\n",
              "          if (!dataTable) return;\n",
              "\n",
              "          const docLinkHtml = 'Like what you see? Visit the ' +\n",
              "            '<a target=\"_blank\" href=https://colab.research.google.com/notebooks/data_table.ipynb>data table notebook</a>'\n",
              "            + ' to learn more about interactive tables.';\n",
              "          element.innerHTML = '';\n",
              "          dataTable['output_type'] = 'display_data';\n",
              "          await google.colab.output.renderOutput(dataTable, element);\n",
              "          const docLink = document.createElement('div');\n",
              "          docLink.innerHTML = docLinkHtml;\n",
              "          element.appendChild(docLink);\n",
              "        }\n",
              "      </script>\n",
              "    </div>\n",
              "  </div>\n",
              "  "
            ],
            "text/plain": [
              "              percentage of null vlaues  Null Values\n",
              "Date                              0.000            0\n",
              "Time                              0.421         2219\n",
              "Location                          0.004           20\n",
              "Operator                          0.003           18\n",
              "Flight #                          0.797         4199\n",
              "Route                             0.324         1706\n",
              "Type                              0.005           27\n",
              "Registration                      0.064          335\n",
              "cn/In                             0.233         1228\n",
              "Aboard                            0.004           22\n",
              "Fatalities                        0.002           12\n",
              "Ground                            0.004           22\n",
              "Summary                           0.074          390"
            ]
          },
          "execution_count": 212,
          "metadata": {},
          "output_type": "execute_result"
        }
      ],
      "source": [
        "percentage = pd.Series(round(df.isnull().sum()/len(df),3), name = \"percentage of null vlaues\")\n",
        "Null_values = pd.Series(df.isnull().sum(), name =\"Null Values\")\n",
        "pd.concat([percentage,Null_values],axis = 1)"
      ]
    },
    {
      "cell_type": "markdown",
      "metadata": {
        "id": "GQt5oDqeQ2NJ"
      },
      "source": [
        "**Inference:** As there are more null values in Flight # therefore we drop that column."
      ]
    },
    {
      "cell_type": "markdown",
      "metadata": {
        "id": "KMXOm9SvQ496"
      },
      "source": [
        "**Droping the column which has more null values.**"
      ]
    },
    {
      "cell_type": "code",
      "execution_count": null,
      "metadata": {
        "id": "1B9hzkx9Qz4k"
      },
      "outputs": [],
      "source": [
        "df.drop([\"Flight #\"],axis=1,inplace = True)"
      ]
    },
    {
      "cell_type": "markdown",
      "metadata": {
        "id": "f_fqhR6yQ9JY"
      },
      "source": [
        "**Handelling Null Values**"
      ]
    },
    {
      "cell_type": "code",
      "execution_count": null,
      "metadata": {
        "colab": {
          "base_uri": "https://localhost:8080/"
        },
        "id": "q67UVgxkQ7SS",
        "outputId": "c2d4a530-3eee-434b-a1ee-06380792da6a"
      },
      "outputs": [
        {
          "name": "stdout",
          "output_type": "stream",
          "text": [
            "<class 'pandas.core.frame.DataFrame'>\n",
            "RangeIndex: 5268 entries, 0 to 5267\n",
            "Data columns (total 12 columns):\n",
            " #   Column        Non-Null Count  Dtype  \n",
            "---  ------        --------------  -----  \n",
            " 0   Date          5268 non-null   object \n",
            " 1   Time          3049 non-null   object \n",
            " 2   Location      5248 non-null   object \n",
            " 3   Operator      5250 non-null   object \n",
            " 4   Route         3562 non-null   object \n",
            " 5   Type          5241 non-null   object \n",
            " 6   Registration  4933 non-null   object \n",
            " 7   cn/In         4040 non-null   object \n",
            " 8   Aboard        5246 non-null   float64\n",
            " 9   Fatalities    5256 non-null   float64\n",
            " 10  Ground        5246 non-null   float64\n",
            " 11  Summary       4878 non-null   object \n",
            "dtypes: float64(3), object(9)\n",
            "memory usage: 494.0+ KB\n"
          ]
        }
      ],
      "source": [
        "df.info()"
      ]
    },
    {
      "cell_type": "markdown",
      "metadata": {
        "id": "Xhnre5eVRr2L"
      },
      "source": [
        "**Imputing the mode for the null values.**"
      ]
    },
    {
      "cell_type": "code",
      "execution_count": null,
      "metadata": {
        "id": "9OKNt6hQRphn"
      },
      "outputs": [],
      "source": [
        "mode_loca = df[\"Location\"].mode()\n",
        "df[\"Location\"] = df[\"Location\"].fillna(mode_loca)"
      ]
    },
    {
      "cell_type": "code",
      "execution_count": null,
      "metadata": {
        "colab": {
          "base_uri": "https://localhost:8080/"
        },
        "id": "Be7NzxK1Rvdf",
        "outputId": "2682b1d1-4de9-45db-ce7f-af3644fa1aad"
      },
      "outputs": [
        {
          "name": "stdout",
          "output_type": "stream",
          "text": [
            "the  number of variables 9\n",
            "the categorical column ['Date', 'Time', 'Location', 'Operator', 'Route', 'Type', 'Registration', 'cn/In', 'Summary']\n"
          ]
        }
      ],
      "source": [
        "categorical = [i for i in df.columns if df[i].dtype==\"object\"]\n",
        "no_categorical = len(categorical)\n",
        "print(\"the  number of variables\", no_categorical)\n",
        "print(\"the categorical column\",categorical)"
      ]
    },
    {
      "cell_type": "code",
      "execution_count": null,
      "metadata": {
        "colab": {
          "base_uri": "https://localhost:8080/"
        },
        "id": "qYIWuArBR5Kf",
        "outputId": "ada24fa1-a1ce-4c41-9f60-708e9f7c346e"
      },
      "outputs": [
        {
          "name": "stdout",
          "output_type": "stream",
          "text": [
            "09/11/2001    4\n",
            "02/28/1973    4\n",
            "08/31/1988    4\n",
            "08/28/1976    4\n",
            "08/27/1992    4\n",
            "             ..\n",
            "04/22/1962    1\n",
            "05/06/1962    1\n",
            "05/08/1962    1\n",
            "05/09/1962    1\n",
            "06/08/2009    1\n",
            "Name: Date, Length: 4753, dtype: int64\n",
            "15:00    32\n",
            "12:00    31\n",
            "11:00    29\n",
            "19:30    26\n",
            "16:00    26\n",
            "         ..\n",
            "19:37     1\n",
            "19:18     1\n",
            "07:54     1\n",
            "13:49     1\n",
            "15:32     1\n",
            "Name: Time, Length: 1005, dtype: int64\n",
            "Sao Paulo, Brazil                    15\n",
            "Moscow, Russia                       15\n",
            "Rio de Janeiro, Brazil               14\n",
            "Anchorage, Alaska                    13\n",
            "Manila, Philippines                  13\n",
            "                                     ..\n",
            "Near Charana, Bolivia                 1\n",
            "Monte Matto, Italy                    1\n",
            "Misaki Mountain, Japan                1\n",
            "Angelholm, Sweden                     1\n",
            "State of Arunachal Pradesh, India     1\n",
            "Name: Location, Length: 4303, dtype: int64\n",
            "Aeroflot                               179\n",
            "Military - U.S. Air Force              176\n",
            "Air France                              70\n",
            "Deutsche Lufthansa                      65\n",
            "Air Taxi                                44\n",
            "                                      ... \n",
            "Military - Argentine Navy                1\n",
            "Richland Flying Service - Air Taxii      1\n",
            "Harbor Airlines - Air Taxi               1\n",
            "Aerovias Venezolanas SA (Venezuela)      1\n",
            "Strait Air                               1\n",
            "Name: Operator, Length: 2476, dtype: int64\n",
            "Training                      81\n",
            "Sightseeing                   29\n",
            "Test flight                   17\n",
            "Test                           6\n",
            "Sao Paulo - Rio de Janeiro     5\n",
            "                              ..\n",
            "Manila - Lapu Lapu             1\n",
            "Saint Denis - Paris            1\n",
            "Cork - London                  1\n",
            "Peoria, IL - St. Louis, MO     1\n",
            "Mechuka for Jorhat             1\n",
            "Name: Route, Length: 3244, dtype: int64\n",
            "Douglas DC-3                                334\n",
            "de Havilland Canada DHC-6 Twin Otter 300     81\n",
            "Douglas C-47A                                74\n",
            "Douglas C-47                                 62\n",
            "Douglas DC-4                                 40\n",
            "                                           ... \n",
            "Boeing 727-21                                 1\n",
            "NAMC-YS-11-111                                1\n",
            "Lockheed EC-121H                              1\n",
            "Cessna 205A                                   1\n",
            "Airbus A330-203                               1\n",
            "Name: Type, Length: 2446, dtype: int64\n",
            "49            3\n",
            "012           2\n",
            "XA-GOT        2\n",
            "N864JA        2\n",
            "N67941        2\n",
            "             ..\n",
            "PI-C489       1\n",
            "N842D         1\n",
            "N724US        1\n",
            "CCCP-11193    1\n",
            "C-FJJR        1\n",
            "Name: Registration, Length: 4905, dtype: int64\n",
            "178         6\n",
            "229         5\n",
            "19          5\n",
            "213         5\n",
            "125         5\n",
            "           ..\n",
            "1114        1\n",
            "19410       1\n",
            "42929       1\n",
            "45794/52    1\n",
            "424         1\n",
            "Name: cn/In, Length: 3707, dtype: int64\n",
            "Crashed during takeoff.                                                                                                                                                                                                                                                                                                                        15\n",
            "Crashed while en route.                                                                                                                                                                                                                                                                                                                        12\n",
            "Crashed into the sea.                                                                                                                                                                                                                                                                                                                          12\n",
            "Crashed into a mountain.                                                                                                                                                                                                                                                                                                                       12\n",
            "Struck a mountain.                                                                                                                                                                                                                                                                                                                             11\n",
            "                                                                                                                                                                                                                                                                                                                                               ..\n",
            "Shortly after taking off, the aircraft made a left bank attempting to return to McConnell Air Force Base and transmitted a distress message. Soon after, the plane crashed to the ground in a nose-down attitude into houses. Remains of a parachute were found in the No. 1 engine which may have led to an asymmetrical thrust condition.     1\n",
            "Crashed while en-route. VFR flight into adverse weather conditions.                                                                                                                                                                                                                                                                             1\n",
            "Crashed while en-route. Pilot flew into adverse weather conditions. Spatial disorientation.                                                                                                                                                                                                                                                     1\n",
            "The cargo plane veered off course and struck trees while attempting to land.  Loss of control during night instrument approach in adverse weather for undetermined reasons.                                                                                                                                                                     1\n",
            "The military transport went missing while en route and might have crashed due to heavy rain in the mountainous region.                                                                                                                                                                                                                          1\n",
            "Name: Summary, Length: 4673, dtype: int64\n"
          ]
        }
      ],
      "source": [
        "for i in categorical:\n",
        "    print(df[i].value_counts())"
      ]
    },
    {
      "cell_type": "code",
      "execution_count": null,
      "metadata": {
        "id": "GBvquycoR8o3"
      },
      "outputs": [],
      "source": [
        "for i in categorical:\n",
        "  df[i].fillna(df[i].mode()[0],inplace=True)"
      ]
    },
    {
      "cell_type": "code",
      "execution_count": null,
      "metadata": {
        "id": "-YzhKT9JSGJu"
      },
      "outputs": [],
      "source": [
        "mean_Ab = df[\"Aboard\"].mean()\n",
        "df[\"Aboard\"]= df[\"Aboard\"].fillna(mean_Ab)"
      ]
    },
    {
      "cell_type": "code",
      "execution_count": null,
      "metadata": {
        "id": "T7R-lRGkSInx"
      },
      "outputs": [],
      "source": [
        "mean_Fa  = df[\"Fatalities\"].mean()\n",
        "df[\"Fatalities\"]=df[\"Fatalities\"].fillna(mean_Fa)"
      ]
    },
    {
      "cell_type": "code",
      "execution_count": null,
      "metadata": {
        "id": "k5GEFexJSKym"
      },
      "outputs": [],
      "source": [
        "mean_Fa  = df[\"Ground\"].mean()\n",
        "df[\"Ground\"]=df[\"Ground\"].fillna(mean_Fa)"
      ]
    },
    {
      "cell_type": "code",
      "execution_count": null,
      "metadata": {
        "colab": {
          "base_uri": "https://localhost:8080/"
        },
        "id": "095uqa2bSNPo",
        "outputId": "afe4eac7-ff00-4310-aba5-70ecaf4a2813"
      },
      "outputs": [
        {
          "data": {
            "text/plain": [
              "Date            0\n",
              "Time            0\n",
              "Location        0\n",
              "Operator        0\n",
              "Route           0\n",
              "Type            0\n",
              "Registration    0\n",
              "cn/In           0\n",
              "Aboard          0\n",
              "Fatalities      0\n",
              "Ground          0\n",
              "Summary         0\n",
              "dtype: int64"
            ]
          },
          "execution_count": 222,
          "metadata": {},
          "output_type": "execute_result"
        }
      ],
      "source": [
        "df.isnull().sum()"
      ]
    },
    {
      "cell_type": "code",
      "execution_count": null,
      "metadata": {
        "colab": {
          "base_uri": "https://localhost:8080/",
          "height": 530
        },
        "id": "9NPunFp6SPzd",
        "outputId": "865d5c43-8db0-495c-937d-df52fee933d0"
      },
      "outputs": [
        {
          "data": {
            "text/html": [
              "\n",
              "  <div id=\"df-abc80782-f86c-44c1-914b-a5f1262e7998\">\n",
              "    <div class=\"colab-df-container\">\n",
              "      <div>\n",
              "<style scoped>\n",
              "    .dataframe tbody tr th:only-of-type {\n",
              "        vertical-align: middle;\n",
              "    }\n",
              "\n",
              "    .dataframe tbody tr th {\n",
              "        vertical-align: top;\n",
              "    }\n",
              "\n",
              "    .dataframe thead th {\n",
              "        text-align: right;\n",
              "    }\n",
              "</style>\n",
              "<table border=\"1\" class=\"dataframe\">\n",
              "  <thead>\n",
              "    <tr style=\"text-align: right;\">\n",
              "      <th></th>\n",
              "      <th>Date</th>\n",
              "      <th>Time</th>\n",
              "      <th>Location</th>\n",
              "      <th>Operator</th>\n",
              "      <th>Route</th>\n",
              "      <th>Type</th>\n",
              "      <th>Registration</th>\n",
              "      <th>cn/In</th>\n",
              "      <th>Aboard</th>\n",
              "      <th>Fatalities</th>\n",
              "      <th>Ground</th>\n",
              "      <th>Summary</th>\n",
              "    </tr>\n",
              "  </thead>\n",
              "  <tbody>\n",
              "    <tr>\n",
              "      <th>0</th>\n",
              "      <td>09/17/1908</td>\n",
              "      <td>17:18</td>\n",
              "      <td>Fort Myer, Virginia</td>\n",
              "      <td>Military - U.S. Army</td>\n",
              "      <td>Demonstration</td>\n",
              "      <td>Wright Flyer III</td>\n",
              "      <td>49</td>\n",
              "      <td>1</td>\n",
              "      <td>2.0</td>\n",
              "      <td>1.0</td>\n",
              "      <td>0.0</td>\n",
              "      <td>During a demonstration flight, a U.S. Army fly...</td>\n",
              "    </tr>\n",
              "    <tr>\n",
              "      <th>1</th>\n",
              "      <td>07/12/1912</td>\n",
              "      <td>06:30</td>\n",
              "      <td>AtlantiCity, New Jersey</td>\n",
              "      <td>Military - U.S. Navy</td>\n",
              "      <td>Test flight</td>\n",
              "      <td>Dirigible</td>\n",
              "      <td>49</td>\n",
              "      <td>178</td>\n",
              "      <td>5.0</td>\n",
              "      <td>5.0</td>\n",
              "      <td>0.0</td>\n",
              "      <td>First U.S. dirigible Akron exploded just offsh...</td>\n",
              "    </tr>\n",
              "    <tr>\n",
              "      <th>2</th>\n",
              "      <td>08/06/1913</td>\n",
              "      <td>15:00</td>\n",
              "      <td>Victoria, British Columbia, Canada</td>\n",
              "      <td>Private</td>\n",
              "      <td>Training</td>\n",
              "      <td>Curtiss seaplane</td>\n",
              "      <td>49</td>\n",
              "      <td>178</td>\n",
              "      <td>1.0</td>\n",
              "      <td>1.0</td>\n",
              "      <td>0.0</td>\n",
              "      <td>The first fatal airplane accident in Canada oc...</td>\n",
              "    </tr>\n",
              "    <tr>\n",
              "      <th>3</th>\n",
              "      <td>09/09/1913</td>\n",
              "      <td>18:30</td>\n",
              "      <td>Over the North Sea</td>\n",
              "      <td>Military - German Navy</td>\n",
              "      <td>Training</td>\n",
              "      <td>Zeppelin L-1 (airship)</td>\n",
              "      <td>49</td>\n",
              "      <td>178</td>\n",
              "      <td>20.0</td>\n",
              "      <td>14.0</td>\n",
              "      <td>0.0</td>\n",
              "      <td>The airship flew into a thunderstorm and encou...</td>\n",
              "    </tr>\n",
              "    <tr>\n",
              "      <th>4</th>\n",
              "      <td>10/17/1913</td>\n",
              "      <td>10:30</td>\n",
              "      <td>Near Johannisthal, Germany</td>\n",
              "      <td>Military - German Navy</td>\n",
              "      <td>Training</td>\n",
              "      <td>Zeppelin L-2 (airship)</td>\n",
              "      <td>49</td>\n",
              "      <td>178</td>\n",
              "      <td>30.0</td>\n",
              "      <td>30.0</td>\n",
              "      <td>0.0</td>\n",
              "      <td>Hydrogen gas which was being vented was sucked...</td>\n",
              "    </tr>\n",
              "  </tbody>\n",
              "</table>\n",
              "</div>\n",
              "      <button class=\"colab-df-convert\" onclick=\"convertToInteractive('df-abc80782-f86c-44c1-914b-a5f1262e7998')\"\n",
              "              title=\"Convert this dataframe to an interactive table.\"\n",
              "              style=\"display:none;\">\n",
              "        \n",
              "  <svg xmlns=\"http://www.w3.org/2000/svg\" height=\"24px\"viewBox=\"0 0 24 24\"\n",
              "       width=\"24px\">\n",
              "    <path d=\"M0 0h24v24H0V0z\" fill=\"none\"/>\n",
              "    <path d=\"M18.56 5.44l.94 2.06.94-2.06 2.06-.94-2.06-.94-.94-2.06-.94 2.06-2.06.94zm-11 1L8.5 8.5l.94-2.06 2.06-.94-2.06-.94L8.5 2.5l-.94 2.06-2.06.94zm10 10l.94 2.06.94-2.06 2.06-.94-2.06-.94-.94-2.06-.94 2.06-2.06.94z\"/><path d=\"M17.41 7.96l-1.37-1.37c-.4-.4-.92-.59-1.43-.59-.52 0-1.04.2-1.43.59L10.3 9.45l-7.72 7.72c-.78.78-.78 2.05 0 2.83L4 21.41c.39.39.9.59 1.41.59.51 0 1.02-.2 1.41-.59l7.78-7.78 2.81-2.81c.8-.78.8-2.07 0-2.86zM5.41 20L4 18.59l7.72-7.72 1.47 1.35L5.41 20z\"/>\n",
              "  </svg>\n",
              "      </button>\n",
              "      \n",
              "  <style>\n",
              "    .colab-df-container {\n",
              "      display:flex;\n",
              "      flex-wrap:wrap;\n",
              "      gap: 12px;\n",
              "    }\n",
              "\n",
              "    .colab-df-convert {\n",
              "      background-color: #E8F0FE;\n",
              "      border: none;\n",
              "      border-radius: 50%;\n",
              "      cursor: pointer;\n",
              "      display: none;\n",
              "      fill: #1967D2;\n",
              "      height: 32px;\n",
              "      padding: 0 0 0 0;\n",
              "      width: 32px;\n",
              "    }\n",
              "\n",
              "    .colab-df-convert:hover {\n",
              "      background-color: #E2EBFA;\n",
              "      box-shadow: 0px 1px 2px rgba(60, 64, 67, 0.3), 0px 1px 3px 1px rgba(60, 64, 67, 0.15);\n",
              "      fill: #174EA6;\n",
              "    }\n",
              "\n",
              "    [theme=dark] .colab-df-convert {\n",
              "      background-color: #3B4455;\n",
              "      fill: #D2E3FC;\n",
              "    }\n",
              "\n",
              "    [theme=dark] .colab-df-convert:hover {\n",
              "      background-color: #434B5C;\n",
              "      box-shadow: 0px 1px 3px 1px rgba(0, 0, 0, 0.15);\n",
              "      filter: drop-shadow(0px 1px 2px rgba(0, 0, 0, 0.3));\n",
              "      fill: #FFFFFF;\n",
              "    }\n",
              "  </style>\n",
              "\n",
              "      <script>\n",
              "        const buttonEl =\n",
              "          document.querySelector('#df-abc80782-f86c-44c1-914b-a5f1262e7998 button.colab-df-convert');\n",
              "        buttonEl.style.display =\n",
              "          google.colab.kernel.accessAllowed ? 'block' : 'none';\n",
              "\n",
              "        async function convertToInteractive(key) {\n",
              "          const element = document.querySelector('#df-abc80782-f86c-44c1-914b-a5f1262e7998');\n",
              "          const dataTable =\n",
              "            await google.colab.kernel.invokeFunction('convertToInteractive',\n",
              "                                                     [key], {});\n",
              "          if (!dataTable) return;\n",
              "\n",
              "          const docLinkHtml = 'Like what you see? Visit the ' +\n",
              "            '<a target=\"_blank\" href=https://colab.research.google.com/notebooks/data_table.ipynb>data table notebook</a>'\n",
              "            + ' to learn more about interactive tables.';\n",
              "          element.innerHTML = '';\n",
              "          dataTable['output_type'] = 'display_data';\n",
              "          await google.colab.output.renderOutput(dataTable, element);\n",
              "          const docLink = document.createElement('div');\n",
              "          docLink.innerHTML = docLinkHtml;\n",
              "          element.appendChild(docLink);\n",
              "        }\n",
              "      </script>\n",
              "    </div>\n",
              "  </div>\n",
              "  "
            ],
            "text/plain": [
              "         Date   Time                            Location  \\\n",
              "0  09/17/1908  17:18                 Fort Myer, Virginia   \n",
              "1  07/12/1912  06:30             AtlantiCity, New Jersey   \n",
              "2  08/06/1913  15:00  Victoria, British Columbia, Canada   \n",
              "3  09/09/1913  18:30                  Over the North Sea   \n",
              "4  10/17/1913  10:30          Near Johannisthal, Germany   \n",
              "\n",
              "                 Operator          Route                    Type Registration  \\\n",
              "0    Military - U.S. Army  Demonstration        Wright Flyer III           49   \n",
              "1    Military - U.S. Navy    Test flight               Dirigible           49   \n",
              "2                 Private       Training        Curtiss seaplane           49   \n",
              "3  Military - German Navy       Training  Zeppelin L-1 (airship)           49   \n",
              "4  Military - German Navy       Training  Zeppelin L-2 (airship)           49   \n",
              "\n",
              "  cn/In  Aboard  Fatalities  Ground  \\\n",
              "0     1     2.0         1.0     0.0   \n",
              "1   178     5.0         5.0     0.0   \n",
              "2   178     1.0         1.0     0.0   \n",
              "3   178    20.0        14.0     0.0   \n",
              "4   178    30.0        30.0     0.0   \n",
              "\n",
              "                                             Summary  \n",
              "0  During a demonstration flight, a U.S. Army fly...  \n",
              "1  First U.S. dirigible Akron exploded just offsh...  \n",
              "2  The first fatal airplane accident in Canada oc...  \n",
              "3  The airship flew into a thunderstorm and encou...  \n",
              "4  Hydrogen gas which was being vented was sucked...  "
            ]
          },
          "execution_count": 223,
          "metadata": {},
          "output_type": "execute_result"
        }
      ],
      "source": [
        "df.head(5)"
      ]
    },
    {
      "cell_type": "code",
      "execution_count": null,
      "metadata": {
        "colab": {
          "base_uri": "https://localhost:8080/"
        },
        "id": "wC-naWWBSVAC",
        "outputId": "86acf46c-d6e6-4a02-b76a-95d10ac95dd2"
      },
      "outputs": [
        {
          "data": {
            "text/plain": [
              "0    17/09/1908\n",
              "1    12/07/1912\n",
              "2    06/08/1913\n",
              "3    09/09/1913\n",
              "4    17/10/1913\n",
              "Name: Date, dtype: object"
            ]
          },
          "execution_count": 224,
          "metadata": {},
          "output_type": "execute_result"
        }
      ],
      "source": [
        "df['Date'] = pd.to_datetime(df['Date'])\n",
        "df['Date'] = df['Date'].dt.strftime(\"%d/%m/%Y\")\n",
        "df['Date'].head()"
      ]
    },
    {
      "cell_type": "code",
      "execution_count": null,
      "metadata": {
        "colab": {
          "base_uri": "https://localhost:8080/"
        },
        "id": "2Fuft0qwSZdR",
        "outputId": "366b6707-f29b-4897-b236-7d61ad0fb157"
      },
      "outputs": [
        {
          "data": {
            "text/plain": [
              "0    1908\n",
              "1    1912\n",
              "2    1913\n",
              "3    1913\n",
              "4    1913\n",
              "Name: Year, dtype: int64"
            ]
          },
          "execution_count": 225,
          "metadata": {},
          "output_type": "execute_result"
        }
      ],
      "source": [
        "df['Year'] = pd.DatetimeIndex(df['Date']).year\n",
        "df['Year'].head()"
      ]
    },
    {
      "cell_type": "code",
      "execution_count": null,
      "metadata": {
        "colab": {
          "base_uri": "https://localhost:8080/"
        },
        "id": "k2H9KVotScJ_",
        "outputId": "5ddc51f4-b6e5-481a-c04a-0982fca34892"
      },
      "outputs": [
        {
          "name": "stdout",
          "output_type": "stream",
          "text": [
            "<class 'pandas.core.frame.DataFrame'>\n",
            "RangeIndex: 5268 entries, 0 to 5267\n",
            "Data columns (total 13 columns):\n",
            " #   Column        Non-Null Count  Dtype  \n",
            "---  ------        --------------  -----  \n",
            " 0   Date          5268 non-null   object \n",
            " 1   Time          5268 non-null   object \n",
            " 2   Location      5268 non-null   object \n",
            " 3   Operator      5268 non-null   object \n",
            " 4   Route         5268 non-null   object \n",
            " 5   Type          5268 non-null   object \n",
            " 6   Registration  5268 non-null   object \n",
            " 7   cn/In         5268 non-null   object \n",
            " 8   Aboard        5268 non-null   float64\n",
            " 9   Fatalities    5268 non-null   float64\n",
            " 10  Ground        5268 non-null   float64\n",
            " 11  Summary       5268 non-null   object \n",
            " 12  Year          5268 non-null   int64  \n",
            "dtypes: float64(3), int64(1), object(9)\n",
            "memory usage: 535.2+ KB\n"
          ]
        }
      ],
      "source": [
        "df.info()"
      ]
    },
    {
      "cell_type": "code",
      "execution_count": null,
      "metadata": {
        "id": "xuCHaiKqSfyP"
      },
      "outputs": [],
      "source": [
        "df['Survived'] = df['Aboard'] - df['Fatalities']\n",
        "df['Survived'].fillna(0, inplace = True)"
      ]
    },
    {
      "cell_type": "code",
      "execution_count": null,
      "metadata": {
        "colab": {
          "base_uri": "https://localhost:8080/",
          "height": 530
        },
        "id": "EAzo_0BwSj7R",
        "outputId": "65e3de90-e3d5-4848-d10d-210262991fbf"
      },
      "outputs": [
        {
          "data": {
            "text/html": [
              "\n",
              "  <div id=\"df-86ceb237-2f58-44e7-b459-05f970b30a98\">\n",
              "    <div class=\"colab-df-container\">\n",
              "      <div>\n",
              "<style scoped>\n",
              "    .dataframe tbody tr th:only-of-type {\n",
              "        vertical-align: middle;\n",
              "    }\n",
              "\n",
              "    .dataframe tbody tr th {\n",
              "        vertical-align: top;\n",
              "    }\n",
              "\n",
              "    .dataframe thead th {\n",
              "        text-align: right;\n",
              "    }\n",
              "</style>\n",
              "<table border=\"1\" class=\"dataframe\">\n",
              "  <thead>\n",
              "    <tr style=\"text-align: right;\">\n",
              "      <th></th>\n",
              "      <th>Date</th>\n",
              "      <th>Time</th>\n",
              "      <th>Location</th>\n",
              "      <th>Operator</th>\n",
              "      <th>Route</th>\n",
              "      <th>Type</th>\n",
              "      <th>Registration</th>\n",
              "      <th>cn/In</th>\n",
              "      <th>Aboard</th>\n",
              "      <th>Fatalities</th>\n",
              "      <th>Ground</th>\n",
              "      <th>Summary</th>\n",
              "      <th>Year</th>\n",
              "      <th>Survived</th>\n",
              "    </tr>\n",
              "  </thead>\n",
              "  <tbody>\n",
              "    <tr>\n",
              "      <th>0</th>\n",
              "      <td>17/09/1908</td>\n",
              "      <td>17:18</td>\n",
              "      <td>Fort Myer, Virginia</td>\n",
              "      <td>Military - U.S. Army</td>\n",
              "      <td>Demonstration</td>\n",
              "      <td>Wright Flyer III</td>\n",
              "      <td>49</td>\n",
              "      <td>1</td>\n",
              "      <td>2.0</td>\n",
              "      <td>1.0</td>\n",
              "      <td>0.0</td>\n",
              "      <td>During a demonstration flight, a U.S. Army fly...</td>\n",
              "      <td>1908</td>\n",
              "      <td>1.0</td>\n",
              "    </tr>\n",
              "    <tr>\n",
              "      <th>1</th>\n",
              "      <td>12/07/1912</td>\n",
              "      <td>06:30</td>\n",
              "      <td>AtlantiCity, New Jersey</td>\n",
              "      <td>Military - U.S. Navy</td>\n",
              "      <td>Test flight</td>\n",
              "      <td>Dirigible</td>\n",
              "      <td>49</td>\n",
              "      <td>178</td>\n",
              "      <td>5.0</td>\n",
              "      <td>5.0</td>\n",
              "      <td>0.0</td>\n",
              "      <td>First U.S. dirigible Akron exploded just offsh...</td>\n",
              "      <td>1912</td>\n",
              "      <td>0.0</td>\n",
              "    </tr>\n",
              "    <tr>\n",
              "      <th>2</th>\n",
              "      <td>06/08/1913</td>\n",
              "      <td>15:00</td>\n",
              "      <td>Victoria, British Columbia, Canada</td>\n",
              "      <td>Private</td>\n",
              "      <td>Training</td>\n",
              "      <td>Curtiss seaplane</td>\n",
              "      <td>49</td>\n",
              "      <td>178</td>\n",
              "      <td>1.0</td>\n",
              "      <td>1.0</td>\n",
              "      <td>0.0</td>\n",
              "      <td>The first fatal airplane accident in Canada oc...</td>\n",
              "      <td>1913</td>\n",
              "      <td>0.0</td>\n",
              "    </tr>\n",
              "    <tr>\n",
              "      <th>3</th>\n",
              "      <td>09/09/1913</td>\n",
              "      <td>18:30</td>\n",
              "      <td>Over the North Sea</td>\n",
              "      <td>Military - German Navy</td>\n",
              "      <td>Training</td>\n",
              "      <td>Zeppelin L-1 (airship)</td>\n",
              "      <td>49</td>\n",
              "      <td>178</td>\n",
              "      <td>20.0</td>\n",
              "      <td>14.0</td>\n",
              "      <td>0.0</td>\n",
              "      <td>The airship flew into a thunderstorm and encou...</td>\n",
              "      <td>1913</td>\n",
              "      <td>6.0</td>\n",
              "    </tr>\n",
              "    <tr>\n",
              "      <th>4</th>\n",
              "      <td>17/10/1913</td>\n",
              "      <td>10:30</td>\n",
              "      <td>Near Johannisthal, Germany</td>\n",
              "      <td>Military - German Navy</td>\n",
              "      <td>Training</td>\n",
              "      <td>Zeppelin L-2 (airship)</td>\n",
              "      <td>49</td>\n",
              "      <td>178</td>\n",
              "      <td>30.0</td>\n",
              "      <td>30.0</td>\n",
              "      <td>0.0</td>\n",
              "      <td>Hydrogen gas which was being vented was sucked...</td>\n",
              "      <td>1913</td>\n",
              "      <td>0.0</td>\n",
              "    </tr>\n",
              "  </tbody>\n",
              "</table>\n",
              "</div>\n",
              "      <button class=\"colab-df-convert\" onclick=\"convertToInteractive('df-86ceb237-2f58-44e7-b459-05f970b30a98')\"\n",
              "              title=\"Convert this dataframe to an interactive table.\"\n",
              "              style=\"display:none;\">\n",
              "        \n",
              "  <svg xmlns=\"http://www.w3.org/2000/svg\" height=\"24px\"viewBox=\"0 0 24 24\"\n",
              "       width=\"24px\">\n",
              "    <path d=\"M0 0h24v24H0V0z\" fill=\"none\"/>\n",
              "    <path d=\"M18.56 5.44l.94 2.06.94-2.06 2.06-.94-2.06-.94-.94-2.06-.94 2.06-2.06.94zm-11 1L8.5 8.5l.94-2.06 2.06-.94-2.06-.94L8.5 2.5l-.94 2.06-2.06.94zm10 10l.94 2.06.94-2.06 2.06-.94-2.06-.94-.94-2.06-.94 2.06-2.06.94z\"/><path d=\"M17.41 7.96l-1.37-1.37c-.4-.4-.92-.59-1.43-.59-.52 0-1.04.2-1.43.59L10.3 9.45l-7.72 7.72c-.78.78-.78 2.05 0 2.83L4 21.41c.39.39.9.59 1.41.59.51 0 1.02-.2 1.41-.59l7.78-7.78 2.81-2.81c.8-.78.8-2.07 0-2.86zM5.41 20L4 18.59l7.72-7.72 1.47 1.35L5.41 20z\"/>\n",
              "  </svg>\n",
              "      </button>\n",
              "      \n",
              "  <style>\n",
              "    .colab-df-container {\n",
              "      display:flex;\n",
              "      flex-wrap:wrap;\n",
              "      gap: 12px;\n",
              "    }\n",
              "\n",
              "    .colab-df-convert {\n",
              "      background-color: #E8F0FE;\n",
              "      border: none;\n",
              "      border-radius: 50%;\n",
              "      cursor: pointer;\n",
              "      display: none;\n",
              "      fill: #1967D2;\n",
              "      height: 32px;\n",
              "      padding: 0 0 0 0;\n",
              "      width: 32px;\n",
              "    }\n",
              "\n",
              "    .colab-df-convert:hover {\n",
              "      background-color: #E2EBFA;\n",
              "      box-shadow: 0px 1px 2px rgba(60, 64, 67, 0.3), 0px 1px 3px 1px rgba(60, 64, 67, 0.15);\n",
              "      fill: #174EA6;\n",
              "    }\n",
              "\n",
              "    [theme=dark] .colab-df-convert {\n",
              "      background-color: #3B4455;\n",
              "      fill: #D2E3FC;\n",
              "    }\n",
              "\n",
              "    [theme=dark] .colab-df-convert:hover {\n",
              "      background-color: #434B5C;\n",
              "      box-shadow: 0px 1px 3px 1px rgba(0, 0, 0, 0.15);\n",
              "      filter: drop-shadow(0px 1px 2px rgba(0, 0, 0, 0.3));\n",
              "      fill: #FFFFFF;\n",
              "    }\n",
              "  </style>\n",
              "\n",
              "      <script>\n",
              "        const buttonEl =\n",
              "          document.querySelector('#df-86ceb237-2f58-44e7-b459-05f970b30a98 button.colab-df-convert');\n",
              "        buttonEl.style.display =\n",
              "          google.colab.kernel.accessAllowed ? 'block' : 'none';\n",
              "\n",
              "        async function convertToInteractive(key) {\n",
              "          const element = document.querySelector('#df-86ceb237-2f58-44e7-b459-05f970b30a98');\n",
              "          const dataTable =\n",
              "            await google.colab.kernel.invokeFunction('convertToInteractive',\n",
              "                                                     [key], {});\n",
              "          if (!dataTable) return;\n",
              "\n",
              "          const docLinkHtml = 'Like what you see? Visit the ' +\n",
              "            '<a target=\"_blank\" href=https://colab.research.google.com/notebooks/data_table.ipynb>data table notebook</a>'\n",
              "            + ' to learn more about interactive tables.';\n",
              "          element.innerHTML = '';\n",
              "          dataTable['output_type'] = 'display_data';\n",
              "          await google.colab.output.renderOutput(dataTable, element);\n",
              "          const docLink = document.createElement('div');\n",
              "          docLink.innerHTML = docLinkHtml;\n",
              "          element.appendChild(docLink);\n",
              "        }\n",
              "      </script>\n",
              "    </div>\n",
              "  </div>\n",
              "  "
            ],
            "text/plain": [
              "         Date   Time                            Location  \\\n",
              "0  17/09/1908  17:18                 Fort Myer, Virginia   \n",
              "1  12/07/1912  06:30             AtlantiCity, New Jersey   \n",
              "2  06/08/1913  15:00  Victoria, British Columbia, Canada   \n",
              "3  09/09/1913  18:30                  Over the North Sea   \n",
              "4  17/10/1913  10:30          Near Johannisthal, Germany   \n",
              "\n",
              "                 Operator          Route                    Type Registration  \\\n",
              "0    Military - U.S. Army  Demonstration        Wright Flyer III           49   \n",
              "1    Military - U.S. Navy    Test flight               Dirigible           49   \n",
              "2                 Private       Training        Curtiss seaplane           49   \n",
              "3  Military - German Navy       Training  Zeppelin L-1 (airship)           49   \n",
              "4  Military - German Navy       Training  Zeppelin L-2 (airship)           49   \n",
              "\n",
              "  cn/In  Aboard  Fatalities  Ground  \\\n",
              "0     1     2.0         1.0     0.0   \n",
              "1   178     5.0         5.0     0.0   \n",
              "2   178     1.0         1.0     0.0   \n",
              "3   178    20.0        14.0     0.0   \n",
              "4   178    30.0        30.0     0.0   \n",
              "\n",
              "                                             Summary  Year  Survived  \n",
              "0  During a demonstration flight, a U.S. Army fly...  1908       1.0  \n",
              "1  First U.S. dirigible Akron exploded just offsh...  1912       0.0  \n",
              "2  The first fatal airplane accident in Canada oc...  1913       0.0  \n",
              "3  The airship flew into a thunderstorm and encou...  1913       6.0  \n",
              "4  Hydrogen gas which was being vented was sucked...  1913       0.0  "
            ]
          },
          "execution_count": 228,
          "metadata": {},
          "output_type": "execute_result"
        }
      ],
      "source": [
        "df.head()"
      ]
    },
    {
      "cell_type": "markdown",
      "metadata": {
        "id": "0Ee0N70-SqIf"
      },
      "source": [
        "In the 'Summary' column, we have NaN values as well, so we're going to create a new dataframe with the 'Summary' data and dropping all rows with NaN values."
      ]
    },
    {
      "cell_type": "code",
      "execution_count": null,
      "metadata": {
        "id": "b3SYKpa1Smen"
      },
      "outputs": [],
      "source": [
        "text_data = df['Summary'].dropna()\n",
        "text_data = pd.DataFrame(text_data)\n",
        "# for reproducibility\n",
        "random_state = 0"
      ]
    },
    {
      "cell_type": "code",
      "execution_count": null,
      "metadata": {
        "id": "sKOtbcIhTSzJ"
      },
      "outputs": [],
      "source": [
        "from sklearn.feature_extraction.text import TfidfVectorizer\n",
        "from sklearn.cluster import KMeans\n",
        "from sklearn.cluster import MiniBatchKMeans\n",
        "from sklearn.metrics import adjusted_rand_score\n",
        "from sklearn.preprocessing import LabelEncoder\n",
        "from sklearn.preprocessing import MinMaxScaler\n",
        "import seaborn as sns\n",
        "import matplotlib.pyplot as plt\n",
        "from sklearn.decomposition import PCA"
      ]
    },
    {
      "cell_type": "code",
      "execution_count": null,
      "metadata": {
        "id": "GXAPTFBoTK3R"
      },
      "outputs": [],
      "source": [
        "documents = list(text_data['Summary'])\n",
        "vectorizer = TfidfVectorizer(stop_words='english') # Stop words are like \"a\", \"the\", or \"in\" which don't have significant meaning\n",
        "X = vectorizer.fit_transform(documents)\n",
        "vocabulary = vectorizer.vocabulary_\n",
        "terms = sorted(vocabulary, key=vocabulary.get)"
      ]
    },
    {
      "cell_type": "markdown",
      "metadata": {
        "id": "V5uYfYMafgcG"
      },
      "source": [
        "**Using Elbow method to find the number of clusters**"
      ]
    },
    {
      "cell_type": "code",
      "execution_count": null,
      "metadata": {
        "colab": {
          "base_uri": "https://localhost:8080/",
          "height": 472
        },
        "id": "nJeZlbAZf194",
        "outputId": "2281e0bd-9326-425d-a346-8d42a68e2f7b"
      },
      "outputs": [
        {
          "data": {
            "image/png": "[encoded data removed]",
            "text/plain": [
              "<Figure size 640x480 with 1 Axes>"
            ]
          },
          "metadata": {},
          "output_type": "display_data"
        }
      ],
      "source": [
        "from sklearn.cluster import KMeans\n",
        "wcss = []\n",
        "\n",
        "for i in range(1, 11):\n",
        "    kmeans = KMeans(n_clusters=i, init='k-means++', max_iter=300, n_init=10, random_state=0)\n",
        "    kmeans.fit(X)\n",
        "    wcss.append(kmeans.inertia_)\n",
        "plt.plot(range(1, 11), wcss)\n",
        "plt.title('Elbow Method')\n",
        "plt.xlabel('Number of clusters')\n",
        "plt.ylabel('WCSS')\n",
        "plt.show()"
      ]
    },
    {
      "cell_type": "markdown",
      "metadata": {
        "id": "D9nlLT2y4f02"
      },
      "source": [
        "**Inference:**\n",
        "From elbow method we choose number of clusters has 2."
      ]
    },
    {
      "cell_type": "markdown",
      "metadata": {
        "id": "AgQQO5it48Kf"
      },
      "source": [
        "K-means"
      ]
    },
    {
      "cell_type": "code",
      "execution_count": null,
      "metadata": {
        "colab": {
          "base_uri": "https://localhost:8080/",
          "height": 74
        },
        "id": "_xmBL7B-he2c",
        "outputId": "ded0e52b-9fb6-4656-e1ef-fa29fe62a615"
      },
      "outputs": [
        {
          "data": {
            "text/html": [
              "<style>#sk-container-id-7 {color: black;background-color: white;}#sk-container-id-7 pre{padding: 0;}#sk-container-id-7 div.sk-toggleable {background-color: white;}#sk-container-id-7 label.sk-toggleable__label {cursor: pointer;display: block;width: 100%;margin-bottom: 0;padding: 0.3em;box-sizing: border-box;text-align: center;}#sk-container-id-7 label.sk-toggleable__label-arrow:before {content: \"▸\";float: left;margin-right: 0.25em;color: #696969;}#sk-container-id-7 label.sk-toggleable__label-arrow:hover:before {color: black;}#sk-container-id-7 div.sk-estimator:hover label.sk-toggleable__label-arrow:before {color: black;}#sk-container-id-7 div.sk-toggleable__content {max-height: 0;max-width: 0;overflow: hidden;text-align: left;background-color: #f0f8ff;}#sk-container-id-7 div.sk-toggleable__content pre {margin: 0.2em;color: black;border-radius: 0.25em;background-color: #f0f8ff;}#sk-container-id-7 input.sk-toggleable__control:checked~div.sk-toggleable__content {max-height: 200px;max-width: 100%;overflow: auto;}#sk-container-id-7 input.sk-toggleable__control:checked~label.sk-toggleable__label-arrow:before {content: \"▾\";}#sk-container-id-7 div.sk-estimator input.sk-toggleable__control:checked~label.sk-toggleable__label {background-color: #d4ebff;}#sk-container-id-7 div.sk-label input.sk-toggleable__control:checked~label.sk-toggleable__label {background-color: #d4ebff;}#sk-container-id-7 input.sk-hidden--visually {border: 0;clip: rect(1px 1px 1px 1px);clip: rect(1px, 1px, 1px, 1px);height: 1px;margin: -1px;overflow: hidden;padding: 0;position: absolute;width: 1px;}#sk-container-id-7 div.sk-estimator {font-family: monospace;background-color: #f0f8ff;border: 1px dotted black;border-radius: 0.25em;box-sizing: border-box;margin-bottom: 0.5em;}#sk-container-id-7 div.sk-estimator:hover {background-color: #d4ebff;}#sk-container-id-7 div.sk-parallel-item::after {content: \"\";width: 100%;border-bottom: 1px solid gray;flex-grow: 1;}#sk-container-id-7 div.sk-label:hover label.sk-toggleable__label {background-color: #d4ebff;}#sk-container-id-7 div.sk-serial::before {content: \"\";position: absolute;border-left: 1px solid gray;box-sizing: border-box;top: 0;bottom: 0;left: 50%;z-index: 0;}#sk-container-id-7 div.sk-serial {display: flex;flex-direction: column;align-items: center;background-color: white;padding-right: 0.2em;padding-left: 0.2em;position: relative;}#sk-container-id-7 div.sk-item {position: relative;z-index: 1;}#sk-container-id-7 div.sk-parallel {display: flex;align-items: stretch;justify-content: center;background-color: white;position: relative;}#sk-container-id-7 div.sk-item::before, #sk-container-id-7 div.sk-parallel-item::before {content: \"\";position: absolute;border-left: 1px solid gray;box-sizing: border-box;top: 0;bottom: 0;left: 50%;z-index: -1;}#sk-container-id-7 div.sk-parallel-item {display: flex;flex-direction: column;z-index: 1;position: relative;background-color: white;}#sk-container-id-7 div.sk-parallel-item:first-child::after {align-self: flex-end;width: 50%;}#sk-container-id-7 div.sk-parallel-item:last-child::after {align-self: flex-start;width: 50%;}#sk-container-id-7 div.sk-parallel-item:only-child::after {width: 0;}#sk-container-id-7 div.sk-dashed-wrapped {border: 1px dashed gray;margin: 0 0.4em 0.5em 0.4em;box-sizing: border-box;padding-bottom: 0.4em;background-color: white;}#sk-container-id-7 div.sk-label label {font-family: monospace;font-weight: bold;display: inline-block;line-height: 1.2em;}#sk-container-id-7 div.sk-label-container {text-align: center;}#sk-container-id-7 div.sk-container {/* jupyter's `normalize.less` sets `[hidden] { display: none; }` but bootstrap.min.css set `[hidden] { display: none !important; }` so we also need the `!important` here to be able to override the default hidden behavior on the sphinx rendered scikit-learn.org. See: https://github.com/scikit-learn/scikit-learn/issues/21755 */display: inline-block !important;position: relative;}#sk-container-id-7 div.sk-text-repr-fallback {display: none;}</style><div id=\"sk-container-id-7\" class=\"sk-top-container\"><div class=\"sk-text-repr-fallback\"><pre>KMeans(n_clusters=3, n_init=10, random_state=0)</pre><b>In a Jupyter environment, please rerun this cell to show the HTML representation or trust the notebook. <br />On GitHub, the HTML representation is unable to render, please try loading this page with nbviewer.org.</b></div><div class=\"sk-container\" hidden><div class=\"sk-item\"><div class=\"sk-estimator sk-toggleable\"><input class=\"sk-toggleable__control sk-hidden--visually\" id=\"sk-estimator-id-7\" type=\"checkbox\" checked><label for=\"sk-estimator-id-7\" class=\"sk-toggleable__label sk-toggleable__label-arrow\">KMeans</label><div class=\"sk-toggleable__content\"><pre>KMeans(n_clusters=3, n_init=10, random_state=0)</pre></div></div></div></div></div>"
            ],
            "text/plain": [
              "KMeans(n_clusters=3, n_init=10, random_state=0)"
            ]
          },
          "execution_count": 236,
          "metadata": {},
          "output_type": "execute_result"
        }
      ],
      "source": [
        "kmeans = KMeans(n_clusters=3, init='k-means++', max_iter=300, n_init=10, random_state=0)\n",
        "kmeans.fit(X)"
      ]
    },
    {
      "cell_type": "code",
      "execution_count": null,
      "metadata": {
        "colab": {
          "base_uri": "https://localhost:8080/"
        },
        "id": "6X9jcX47hhiW",
        "outputId": "aabbe6da-fe81-4124-d43b-84983fe7da61"
      },
      "outputs": [
        {
          "data": {
            "text/plain": [
              "array([[0.00000000e+00, 5.06326377e-03, 0.00000000e+00, ...,\n",
              "        0.00000000e+00, 0.00000000e+00, 0.00000000e+00],\n",
              "       [0.00000000e+00, 0.00000000e+00, 0.00000000e+00, ...,\n",
              "        0.00000000e+00, 0.00000000e+00, 0.00000000e+00],\n",
              "       [1.21780746e-04, 8.09788267e-03, 9.20181767e-05, ...,\n",
              "        1.10416355e-04, 2.51083381e-04, 7.09146769e-05]])"
            ]
          },
          "execution_count": 237,
          "metadata": {},
          "output_type": "execute_result"
        }
      ],
      "source": [
        "kmeans.cluster_centers_"
      ]
    },
    {
      "cell_type": "code",
      "execution_count": null,
      "metadata": {
        "colab": {
          "base_uri": "https://localhost:8080/"
        },
        "id": "RctfmnRxhjFP",
        "outputId": "b5bd1761-1f14-4f7b-9f4e-c1d664b0e242"
      },
      "outputs": [
        {
          "data": {
            "text/plain": [
              "array([2, 2, 2, ..., 2, 2, 0], dtype=int32)"
            ]
          },
          "execution_count": 238,
          "metadata": {},
          "output_type": "execute_result"
        }
      ],
      "source": [
        "y_kmeans = kmeans.predict(X)\n",
        "kmeans.labels_"
      ]
    },
    {
      "cell_type": "code",
      "execution_count": null,
      "metadata": {
        "colab": {
          "base_uri": "https://localhost:8080/"
        },
        "id": "yOb9Msa-hlbq",
        "outputId": "fef2ebfa-3fa6-4640-fecf-b5f984bd7cc6"
      },
      "outputs": [
        {
          "name": "stdout",
          "output_type": "stream",
          "text": [
            "Most Common Terms per Cluster:\n",
            "\n",
            "\n",
            "Cluster 0:\n",
            "en\n",
            "route\n",
            "crashed\n",
            "disappeared\n",
            "mountain\n",
            "plane\n",
            "cargo\n",
            "weather\n",
            "flight\n",
            "conditions\n",
            "\n",
            "\n",
            "Cluster 1:\n",
            "takeoff\n",
            "crashed\n",
            "shortly\n",
            "failure\n",
            "overloaded\n",
            "river\n",
            "ocean\n",
            "plane\n",
            "burned\n",
            "sea\n",
            "\n",
            "\n",
            "Cluster 2:\n",
            "crashed\n",
            "aircraft\n",
            "plane\n",
            "approach\n",
            "engine\n",
            "pilot\n",
            "mountain\n",
            "runway\n",
            "flight\n",
            "failure\n"
          ]
        }
      ],
      "source": [
        "print ('Most Common Terms per Cluster:')\n",
        "order_centroids = kmeans.cluster_centers_.argsort()[:,::-1] #sort cluster centers by proximity to centroid\n",
        "\n",
        "for i in range(3):\n",
        "    print(\"\\n\")\n",
        "    print('Cluster %d:' % i)\n",
        "    for j in order_centroids[i, :10]: #replace 10 with n words per cluster\n",
        "        print ('%s' % terms[j]),\n",
        "    print"
      ]
    },
    {
      "cell_type": "code",
      "execution_count": null,
      "metadata": {
        "colab": {
          "base_uri": "https://localhost:8080/",
          "height": 447
        },
        "id": "fySanfRWhnl1",
        "outputId": "6e423576-5688-4d5b-8dce-53d7acaecb3f"
      },
      "outputs": [
        {
          "data": {
            "text/plain": [
              "<matplotlib.collections.PathCollection at 0x7f9d932c5460>"
            ]
          },
          "execution_count": 240,
          "metadata": {},
          "output_type": "execute_result"
        },
        {
          "data": {
            "image/png": "[encoded data removed]",
            "text/plain": [
              "<Figure size 640x480 with 1 Axes>"
            ]
          },
          "metadata": {},
          "output_type": "display_data"
        }
      ],
      "source": [
        "# reduce the features to 2D\n",
        "pca = PCA(n_components=3, random_state=random_state)\n",
        "reduced_features = pca.fit_transform(X.toarray())\n",
        "\n",
        "# reduce the cluster centers to 2D\n",
        "reduced_cluster_centers = pca.transform(kmeans.cluster_centers_)\n",
        "plt.scatter(reduced_features[:,0], reduced_features[:,1], c=kmeans.predict(X))\n",
        "plt.scatter(reduced_cluster_centers[:, 0], reduced_cluster_centers[:,1], marker='x', s=150, c='b')"
      ]
    },
    {
      "cell_type": "code",
      "execution_count": null,
      "metadata": {
        "colab": {
          "base_uri": "https://localhost:8080/",
          "height": 472
        },
        "id": "5FWY_zHZLDLZ",
        "outputId": "4b0f870e-24fb-48ea-becd-5d98c7494dda"
      },
      "outputs": [
        {
          "data": {
            "image/png": "[encoded data removed]",
            "text/plain": [
              "<Figure size 640x480 with 1 Axes>"
            ]
          },
          "metadata": {},
          "output_type": "display_data"
        }
      ],
      "source": [
        "from sklearn.cluster import KMeans\n",
        "from sklearn.metrics import silhouette_score\n",
        "# define the range of K values to test\n",
        "k_values = range(2, 10)\n",
        "\n",
        "# fit the KMeans model for each value of K and compute silhouette score\n",
        "scores = []\n",
        "for k in k_values:\n",
        "    model = KMeans(n_clusters=k, random_state=0)\n",
        "    labels = model.fit_predict(X)\n",
        "    score = silhouette_score(X, labels)\n",
        "    scores.append(score)\n",
        "# plot the silhouette scores\n",
        "plt.plot(k_values, scores, '-o')\n",
        "plt.xlabel('Number of clusters (K)')\n",
        "plt.ylabel('Silhouette score')\n",
        "plt.title('Silhouette score vs K')\n",
        "plt.show()"
      ]
    },
    {
      "cell_type": "code",
      "execution_count": null,
      "metadata": {
        "colab": {
          "base_uri": "https://localhost:8080/"
        },
        "id": "iBsq6LUQJMaW",
        "outputId": "6b613b8d-6d7e-4e7a-ba62-5eeefa362964"
      },
      "outputs": [
        {
          "name": "stdout",
          "output_type": "stream",
          "text": [
            "For n_clusters = 3 The average silhouette_score is : 0.7106112688439713\n"
          ]
        }
      ],
      "source": [
        "# Validation\n",
        "from sklearn.metrics import silhouette_score\n",
        "silhouette_avg = silhouette_score(reduced_features,y_kmeans)\n",
        "print(\"For n_clusters =\", 3, \"The average silhouette_score is :\", silhouette_avg)"
      ]
    },
    {
      "cell_type": "markdown",
      "metadata": {
        "id": "v8ACfHuWJuFt"
      },
      "source": [
        "**Inference:**\n",
        "\n",
        "A silhouette score of 0.71 indicates a relatively high level of similarity within clusters and dissimilarity between clusters. In general, a score above 0.5 is considered to be a good silhouette score, but as I mentioned before, the interpretation of the score also depends on the specific problem and dataset."
      ]
    },
    {
      "cell_type": "markdown",
      "metadata": {
        "id": "gkxsvQJFLIW4"
      },
      "source": [
        "**Prediction**"
      ]
    },
    {
      "cell_type": "code",
      "execution_count": null,
      "metadata": {
        "colab": {
          "base_uri": "https://localhost:8080/"
        },
        "id": "xCYK7qAYK9Ui",
        "outputId": "041f26f9-f594-449a-ccdf-1feeacb1ca6a"
      },
      "outputs": [
        {
          "name": "stdout",
          "output_type": "stream",
          "text": [
            "\n",
            "\n",
            "Prediction\n",
            "[2]\n",
            "[1]\n"
          ]
        }
      ],
      "source": [
        "print(\"\\n\")\n",
        "print(\"Prediction\")\n",
        "\n",
        "Y = vectorizer.transform([\"engine failure\"])\n",
        "prediction = kmeans.predict(Y)\n",
        "print(prediction)\n",
        "\n",
        "Y_2 = vectorizer.transform([\"takeoff from chennai to mumbai\"])\n",
        "prediction = kmeans.predict(Y_2)\n",
        "print(prediction)"
      ]
    },
    {
      "cell_type": "markdown",
      "metadata": {
        "id": "EhLAQPoTLRG1"
      },
      "source": [
        "**Inference:**\n",
        "\n",
        "The clusters are predicted."
      ]
    },
    {
      "cell_type": "markdown",
      "metadata": {
        "id": "dI4rPYFQ4Ne6"
      },
      "source": [
        "**PLOTTING A DENDROGRAM**"
      ]
    },
    {
      "cell_type": "markdown",
      "metadata": {
        "id": "_ejFnpjp4eHG"
      },
      "source": [
        "A dendrogram is a tree-like diagram that shows the hierarchical relationships between clusters in hierarchical clustering. It is a useful tool for visualizing the results of hierarchical clustering and can provide insights into the structure of the data."
      ]
    },
    {
      "cell_type": "code",
      "execution_count": null,
      "metadata": {
        "colab": {
          "base_uri": "https://localhost:8080/",
          "height": 436
        },
        "id": "VZWCXab8f8M9",
        "outputId": "46102e1c-ce40-4ab5-936b-238c7e5da953"
      },
      "outputs": [
        {
          "data": {
            "image/png": "[encoded data removed]",
            "text/plain": [
              "<Figure size 1000x500 with 1 Axes>"
            ]
          },
          "metadata": {},
          "output_type": "display_data"
        }
      ],
      "source": [
        "# convert X to a dense matrix\n",
        "X_dense = X.toarray()\n",
        "import scipy.cluster.hierarchy as sch\n",
        "from matplotlib import pyplot\n",
        "pyplot.figure(figsize=(10, 5))\n",
        "dendrogram = sch.dendrogram(sch.linkage(reduced_features, method = 'ward'))\n",
        "plt.title('Dendrogram')\n",
        "plt.ylabel('Euclidean distances')\n",
        "plt.show()"
      ]
    },
    {
      "cell_type": "markdown",
      "metadata": {
        "id": "qJP6FWTf5Nmm"
      },
      "source": [
        "**Inference:**\n",
        "We will now determine the optimal number of clusters for our model. For this, We will find the maximum vertical distance that does not cut any horizontal bar."
      ]
    },
    {
      "cell_type": "markdown",
      "metadata": {
        "id": "2nz2a0KY5NRe"
      },
      "source": [
        "**Hierarchical Model**"
      ]
    },
    {
      "cell_type": "code",
      "execution_count": null,
      "metadata": {
        "id": "GEAzOaSWiBai"
      },
      "outputs": [],
      "source": [
        "#training the hierarchical model on dataset\n",
        "from sklearn.cluster import AgglomerativeClustering\n",
        "hc= AgglomerativeClustering(n_clusters=3, affinity='euclidean', linkage='ward')\n",
        "y_pred= hc.fit_predict(reduced_features)"
      ]
    },
    {
      "cell_type": "markdown",
      "metadata": {
        "id": "Lhkda-QV5S4Q"
      },
      "source": [
        "**Visualizing**"
      ]
    },
    {
      "cell_type": "code",
      "execution_count": null,
      "metadata": {
        "id": "6qftNcGamDJ0"
      },
      "outputs": [],
      "source": [
        "import matplotlib\n",
        "matplotlib.use('agg')\n",
        "\n",
        "# Plot the clustered data\n",
        "fig, ax = plt.subplots(figsize=(12, 6))\n",
        "plt.scatter(reduced_features[y_pred == 0, 0], reduced_features[y_pred == 0, 1],\n",
        "            c='green', label='cluster 1')\n",
        "plt.scatter(reduced_features[y_pred == 1, 0], reduced_features[y_pred == 1, 1],\n",
        "            c='blue', label='cluster 2')\n",
        "plt.scatter(reduced_features[y_pred == 2, 0], reduced_features[y_pred == 2, 1],\n",
        "            c='yellow', label='cluster 3')\n",
        "plt.legend()\n",
        "plt.title('Analysis')\n",
        "ax.set_aspect('equal');\n",
        "\n",
        "plt.savefig('plot.png')\n"
      ]
    },
    {
      "cell_type": "code",
      "execution_count": null,
      "metadata": {
        "id": "f4izf4F09wu3"
      },
      "outputs": [],
      "source": [
        "# Plot the clustered data\n",
        "fig, ax = plt.subplots(figsize=(12, 6))\n",
        "plt.scatter(reduced_features[y_pred == 0, 0], reduced_features[y_pred == 0, 1],\n",
        "            c='green', label='cluster 1')\n",
        "plt.scatter(reduced_features[y_pred == 1, 0], reduced_features[y_pred == 1, 1],\n",
        "            c='blue', label='cluster 2')\n",
        "plt.scatter(reduced_features[y_pred == 2, 0], reduced_features[y_pred == 2, 1],\n",
        "            c='yellow', label='cluster 3')\n",
        "plt.legend()\n",
        "plt.title('Analysis')\n",
        "ax.set_aspect('equal');"
      ]
    },
    {
      "cell_type": "markdown",
      "metadata": {
        "id": "oRbjE53z5aL7"
      },
      "source": [
        "**Inference:**\n",
        "\n",
        "From the above diagram we can see that there are three distinct clusters are formed. If we compare the both scatter plot of K-means clustering and hierarchical clustering we can infer that the datapoints in third cluster of hierarchical has less datapoints compared to K-means because it has dealt with outliears."
      ]
    }
  ],
  "metadata": {
    "colab": {
      "provenance": []
    },
    "kernelspec": {
      "display_name": "Python 3",
      "name": "python3"
    },
    "language_info": {
      "name": "python"
    }
  },
  "nbformat": 4,
  "nbformat_minor": 0
}
