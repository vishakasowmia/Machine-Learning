{
  "cells": [
    {
      "cell_type": "markdown",
      "metadata": {},
      "source": [
        "Predicting the relationship between the H-index and total citation in the given dataset so that it will be easy for the authors to know the citations."
      ]
    },
    {
      "cell_type": "code",
      "execution_count": null,
      "metadata": {
        "id": "qvZVMEHRPVIg"
      },
      "outputs": [],
      "source": [
        "import numpy as np\n",
        "import pandas as pd\n",
        "import matplotlib.pyplot as plt\n",
        "from sklearn.linear_model import LinearRegression\n",
        "import sklearn.metrics as sm\n",
        "%matplotlib inline"
      ]
    },
    {
      "cell_type": "code",
      "execution_count": null,
      "metadata": {
        "colab": {
          "base_uri": "https://localhost:8080/",
          "height": 600
        },
        "id": "NuIv1JfaoiWW",
        "outputId": "4c81de28-781c-49d3-b167-8e7a0f0918a7"
      },
      "outputs": [
        {
          "data": {
            "text/html": [
              "\n",
              "  <div id=\"df-4f398bc0-0b4a-4faf-abc8-ad2fa0cf2596\">\n",
              "    <div class=\"colab-df-container\">\n",
              "      <div>\n",
              "<style scoped>\n",
              "    .dataframe tbody tr th:only-of-type {\n",
              "        vertical-align: middle;\n",
              "    }\n",
              "\n",
              "    .dataframe tbody tr th {\n",
              "        vertical-align: top;\n",
              "    }\n",
              "\n",
              "    .dataframe thead th {\n",
              "        text-align: right;\n",
              "    }\n",
              "</style>\n",
              "<table border=\"1\" class=\"dataframe\">\n",
              "  <thead>\n",
              "    <tr style=\"text-align: right;\">\n",
              "      <th></th>\n",
              "      <th>Unnamed: 0</th>\n",
              "      <th>Name</th>\n",
              "      <th>Affilation</th>\n",
              "      <th>H-index</th>\n",
              "      <th>Citations 2020</th>\n",
              "      <th>Total_citation</th>\n",
              "      <th>H-index_since_2016</th>\n",
              "      <th>Citation_since_2016</th>\n",
              "      <th>HomePage</th>\n",
              "      <th>Area of Research</th>\n",
              "      <th>Google_Scholar</th>\n",
              "    </tr>\n",
              "  </thead>\n",
              "  <tbody>\n",
              "    <tr>\n",
              "      <th>0</th>\n",
              "      <td>0</td>\n",
              "      <td>U Rajendra Acharya (SCI Highly Cited Researche...</td>\n",
              "      <td>Ngee Ann,  Singapore University of Social Scie...</td>\n",
              "      <td>108</td>\n",
              "      <td>8767</td>\n",
              "      <td>46452</td>\n",
              "      <td>97</td>\n",
              "      <td>36679</td>\n",
              "      <td>https://www.sgpc.gov.sg/sgpcmedia/media_releas...</td>\n",
              "      <td>Artificial Intelligence/Medical Informatics</td>\n",
              "      <td>https://scholar.google.com.sg/citations?user=8...</td>\n",
              "    </tr>\n",
              "    <tr>\n",
              "      <th>1</th>\n",
              "      <td>1</td>\n",
              "      <td>IAN  F.  AKYILDIZ</td>\n",
              "      <td>Truva Inc. , USA</td>\n",
              "      <td>131</td>\n",
              "      <td>6707</td>\n",
              "      <td>131149</td>\n",
              "      <td>86</td>\n",
              "      <td>45077</td>\n",
              "      <td>https://en.wikipedia.org/wiki/Ian_F._Akyildiz#...</td>\n",
              "      <td>Wireless Communication/5G/6G Wireless Systems/...</td>\n",
              "      <td>https://scholar.google.com/citations?user=rAGw...</td>\n",
              "    </tr>\n",
              "    <tr>\n",
              "      <th>2</th>\n",
              "      <td>2</td>\n",
              "      <td>Ibrahim Aljarah</td>\n",
              "      <td>Associate Professor, University of Jordan</td>\n",
              "      <td>42</td>\n",
              "      <td>2260</td>\n",
              "      <td>6956</td>\n",
              "      <td>42</td>\n",
              "      <td>6849</td>\n",
              "      <td>http://eacademic.ju.edu.jo/i.aljarah</td>\n",
              "      <td>Artificial  intelligence/Data Security/Data Sc...</td>\n",
              "      <td>https://scholar.google.com/citations?user=moOT...</td>\n",
              "    </tr>\n",
              "    <tr>\n",
              "      <th>3</th>\n",
              "      <td>3</td>\n",
              "      <td>Jeffrey Andrews</td>\n",
              "      <td>Cockrell Family Endowed Chair in Engineering, ...</td>\n",
              "      <td>104</td>\n",
              "      <td>4659</td>\n",
              "      <td>64221</td>\n",
              "      <td>79</td>\n",
              "      <td>34684</td>\n",
              "      <td>https://www.genealogy.math.ndsu.nodak.edu/id.p...</td>\n",
              "      <td>Wireless Communications/Communication Theory/M...</td>\n",
              "      <td>https://scholar.google.com/citations?user=Hr9G...</td>\n",
              "    </tr>\n",
              "    <tr>\n",
              "      <th>4</th>\n",
              "      <td>4</td>\n",
              "      <td>Bennis Mehdi</td>\n",
              "      <td>Full Professor, IEEE Fellow, Head of ICON, Uni...</td>\n",
              "      <td>64</td>\n",
              "      <td>5562</td>\n",
              "      <td>21992</td>\n",
              "      <td>61</td>\n",
              "      <td>20412</td>\n",
              "      <td>https://sites.google.com/view/dr-mehdi-bennis/...</td>\n",
              "      <td>B5G/6G/machine learning/semantic communication</td>\n",
              "      <td>https://scholar.google.com/citations?user=RW4s...</td>\n",
              "    </tr>\n",
              "  </tbody>\n",
              "</table>\n",
              "</div>\n",
              "      <button class=\"colab-df-convert\" onclick=\"convertToInteractive('df-4f398bc0-0b4a-4faf-abc8-ad2fa0cf2596')\"\n",
              "              title=\"Convert this dataframe to an interactive table.\"\n",
              "              style=\"display:none;\">\n",
              "        \n",
              "  <svg xmlns=\"http://www.w3.org/2000/svg\" height=\"24px\"viewBox=\"0 0 24 24\"\n",
              "       width=\"24px\">\n",
              "    <path d=\"M0 0h24v24H0V0z\" fill=\"none\"/>\n",
              "    <path d=\"M18.56 5.44l.94 2.06.94-2.06 2.06-.94-2.06-.94-.94-2.06-.94 2.06-2.06.94zm-11 1L8.5 8.5l.94-2.06 2.06-.94-2.06-.94L8.5 2.5l-.94 2.06-2.06.94zm10 10l.94 2.06.94-2.06 2.06-.94-2.06-.94-.94-2.06-.94 2.06-2.06.94z\"/><path d=\"M17.41 7.96l-1.37-1.37c-.4-.4-.92-.59-1.43-.59-.52 0-1.04.2-1.43.59L10.3 9.45l-7.72 7.72c-.78.78-.78 2.05 0 2.83L4 21.41c.39.39.9.59 1.41.59.51 0 1.02-.2 1.41-.59l7.78-7.78 2.81-2.81c.8-.78.8-2.07 0-2.86zM5.41 20L4 18.59l7.72-7.72 1.47 1.35L5.41 20z\"/>\n",
              "  </svg>\n",
              "      </button>\n",
              "      \n",
              "  <style>\n",
              "    .colab-df-container {\n",
              "      display:flex;\n",
              "      flex-wrap:wrap;\n",
              "      gap: 12px;\n",
              "    }\n",
              "\n",
              "    .colab-df-convert {\n",
              "      background-color: #E8F0FE;\n",
              "      border: none;\n",
              "      border-radius: 50%;\n",
              "      cursor: pointer;\n",
              "      display: none;\n",
              "      fill: #1967D2;\n",
              "      height: 32px;\n",
              "      padding: 0 0 0 0;\n",
              "      width: 32px;\n",
              "    }\n",
              "\n",
              "    .colab-df-convert:hover {\n",
              "      background-color: #E2EBFA;\n",
              "      box-shadow: 0px 1px 2px rgba(60, 64, 67, 0.3), 0px 1px 3px 1px rgba(60, 64, 67, 0.15);\n",
              "      fill: #174EA6;\n",
              "    }\n",
              "\n",
              "    [theme=dark] .colab-df-convert {\n",
              "      background-color: #3B4455;\n",
              "      fill: #D2E3FC;\n",
              "    }\n",
              "\n",
              "    [theme=dark] .colab-df-convert:hover {\n",
              "      background-color: #434B5C;\n",
              "      box-shadow: 0px 1px 3px 1px rgba(0, 0, 0, 0.15);\n",
              "      filter: drop-shadow(0px 1px 2px rgba(0, 0, 0, 0.3));\n",
              "      fill: #FFFFFF;\n",
              "    }\n",
              "  </style>\n",
              "\n",
              "      <script>\n",
              "        const buttonEl =\n",
              "          document.querySelector('#df-4f398bc0-0b4a-4faf-abc8-ad2fa0cf2596 button.colab-df-convert');\n",
              "        buttonEl.style.display =\n",
              "          google.colab.kernel.accessAllowed ? 'block' : 'none';\n",
              "\n",
              "        async function convertToInteractive(key) {\n",
              "          const element = document.querySelector('#df-4f398bc0-0b4a-4faf-abc8-ad2fa0cf2596');\n",
              "          const dataTable =\n",
              "            await google.colab.kernel.invokeFunction('convertToInteractive',\n",
              "                                                     [key], {});\n",
              "          if (!dataTable) return;\n",
              "\n",
              "          const docLinkHtml = 'Like what you see? Visit the ' +\n",
              "            '<a target=\"_blank\" href=https://colab.research.google.com/notebooks/data_table.ipynb>data table notebook</a>'\n",
              "            + ' to learn more about interactive tables.';\n",
              "          element.innerHTML = '';\n",
              "          dataTable['output_type'] = 'display_data';\n",
              "          await google.colab.output.renderOutput(dataTable, element);\n",
              "          const docLink = document.createElement('div');\n",
              "          docLink.innerHTML = docLinkHtml;\n",
              "          element.appendChild(docLink);\n",
              "        }\n",
              "      </script>\n",
              "    </div>\n",
              "  </div>\n",
              "  "
            ],
            "text/plain": [
              "   Unnamed: 0                                               Name  \\\n",
              "0           0  U Rajendra Acharya (SCI Highly Cited Researche...   \n",
              "1           1                                  IAN  F.  AKYILDIZ   \n",
              "2           2                                    Ibrahim Aljarah   \n",
              "3           3                                    Jeffrey Andrews   \n",
              "4           4                                       Bennis Mehdi   \n",
              "\n",
              "                                          Affilation  H-index  Citations 2020  \\\n",
              "0  Ngee Ann,  Singapore University of Social Scie...      108            8767   \n",
              "1                                   Truva Inc. , USA      131            6707   \n",
              "2          Associate Professor, University of Jordan       42            2260   \n",
              "3  Cockrell Family Endowed Chair in Engineering, ...      104            4659   \n",
              "4  Full Professor, IEEE Fellow, Head of ICON, Uni...       64            5562   \n",
              "\n",
              "   Total_citation  H-index_since_2016  Citation_since_2016  \\\n",
              "0           46452                  97                36679   \n",
              "1          131149                  86                45077   \n",
              "2            6956                  42                 6849   \n",
              "3           64221                  79                34684   \n",
              "4           21992                  61                20412   \n",
              "\n",
              "                                            HomePage  \\\n",
              "0  https://www.sgpc.gov.sg/sgpcmedia/media_releas...   \n",
              "1  https://en.wikipedia.org/wiki/Ian_F._Akyildiz#...   \n",
              "2               http://eacademic.ju.edu.jo/i.aljarah   \n",
              "3  https://www.genealogy.math.ndsu.nodak.edu/id.p...   \n",
              "4  https://sites.google.com/view/dr-mehdi-bennis/...   \n",
              "\n",
              "                                    Area of Research  \\\n",
              "0        Artificial Intelligence/Medical Informatics   \n",
              "1  Wireless Communication/5G/6G Wireless Systems/...   \n",
              "2  Artificial  intelligence/Data Security/Data Sc...   \n",
              "3  Wireless Communications/Communication Theory/M...   \n",
              "4     B5G/6G/machine learning/semantic communication   \n",
              "\n",
              "                                      Google_Scholar  \n",
              "0  https://scholar.google.com.sg/citations?user=8...  \n",
              "1  https://scholar.google.com/citations?user=rAGw...  \n",
              "2  https://scholar.google.com/citations?user=moOT...  \n",
              "3  https://scholar.google.com/citations?user=Hr9G...  \n",
              "4  https://scholar.google.com/citations?user=RW4s...  "
            ]
          },
          "execution_count": 11,
          "metadata": {},
          "output_type": "execute_result"
        }
      ],
      "source": [
        "data = pd.read_csv(\"/content/data.xls\")\n",
        "data.head()\n"
      ]
    },
    {
      "cell_type": "code",
      "execution_count": null,
      "metadata": {
        "colab": {
          "base_uri": "https://localhost:8080/"
        },
        "id": "cxvVrHFLrMOv",
        "outputId": "f2b14466-acc8-4f3e-e068-6bc7d1795f7f"
      },
      "outputs": [
        {
          "name": "stdout",
          "output_type": "stream",
          "text": [
            "<class 'pandas.core.frame.DataFrame'>\n",
            "RangeIndex: 104 entries, 0 to 103\n",
            "Data columns (total 11 columns):\n",
            " #   Column               Non-Null Count  Dtype \n",
            "---  ------               --------------  ----- \n",
            " 0   Unnamed: 0           104 non-null    int64 \n",
            " 1   Name                 104 non-null    object\n",
            " 2   Affilation           104 non-null    object\n",
            " 3   H-index              104 non-null    int64 \n",
            " 4   Citations 2020       104 non-null    int64 \n",
            " 5   Total_citation       104 non-null    int64 \n",
            " 6   H-index_since_2016   104 non-null    int64 \n",
            " 7   Citation_since_2016  104 non-null    int64 \n",
            " 8   HomePage             104 non-null    object\n",
            " 9   Area of Research     102 non-null    object\n",
            " 10  Google_Scholar       104 non-null    object\n",
            "dtypes: int64(6), object(5)\n",
            "memory usage: 9.1+ KB\n"
          ]
        }
      ],
      "source": [
        "data.info()\n"
      ]
    },
    {
      "cell_type": "code",
      "execution_count": null,
      "metadata": {
        "colab": {
          "base_uri": "https://localhost:8080/"
        },
        "id": "ot0i-xtzWvjH",
        "outputId": "78e957c4-93d5-4307-cdb9-bff6279adcf0"
      },
      "outputs": [
        {
          "data": {
            "text/plain": [
              "Index(['Unnamed: 0', 'Name', 'Affilation', 'H-index', 'Citations 2020',\n",
              "       'Total_citation', 'H-index_since_2016', 'Citation_since_2016',\n",
              "       'HomePage', 'Area of Research', 'Google_Scholar'],\n",
              "      dtype='object')"
            ]
          },
          "execution_count": 13,
          "metadata": {},
          "output_type": "execute_result"
        }
      ],
      "source": [
        "data.columns"
      ]
    },
    {
      "cell_type": "code",
      "execution_count": null,
      "metadata": {
        "colab": {
          "base_uri": "https://localhost:8080/",
          "height": 280
        },
        "id": "MF_7vTGMW0sT",
        "outputId": "2408ffae-dfc7-4dd5-9199-4c84e164b65e"
      },
      "outputs": [
        {
          "data": {
            "image/png": "[encoded data removed]",
            "text/plain": [
              "<Figure size 432x288 with 1 Axes>"
            ]
          },
          "metadata": {
            "needs_background": "light"
          },
          "output_type": "display_data"
        }
      ],
      "source": [
        "\n",
        "h = data[\"H-index\"].to_numpy()\n",
        "cite = data[\"Total_citation\"].to_numpy()\n",
        "# scatter plot\n",
        "plt.scatter(h,cite)\n",
        "plt.ylabel(\"H-index\")\n",
        "plt.xlabel(\"Total_citation\")\n",
        "plt.show()"
      ]
    },
    {
      "cell_type": "code",
      "execution_count": null,
      "metadata": {
        "id": "w67aEskUalQy"
      },
      "outputs": [],
      "source": [
        "from sklearn.model_selection import train_test_split\n",
        "h_train, h_test, cite_train, cite_test = train_test_split(h,cite)"
      ]
    },
    {
      "cell_type": "code",
      "execution_count": null,
      "metadata": {
        "colab": {
          "base_uri": "https://localhost:8080/",
          "height": 265
        },
        "id": "Bj-2hARkaUPK",
        "outputId": "77587280-9cc6-43fc-ad8e-2cd542256295"
      },
      "outputs": [
        {
          "data": {
            "image/png": "[encoded data removed]",
            "text/plain": [
              "<Figure size 432x288 with 1 Axes>"
            ]
          },
          "metadata": {
            "needs_background": "light"
          },
          "output_type": "display_data"
        }
      ],
      "source": [
        "from scipy.sparse.linalg.isolve.lsqr import sqrt\n",
        "h_pred = []\n",
        "length = len(cite_test)\n",
        "i=0\n",
        "while i < length:\n",
        "  y = cite_test[i]\n",
        "  h_pred.append(0.54*sqrt(y))\n",
        "  i+=1\n",
        "plot = plt.scatter(h_pred,cite_test)\n"
      ]
    },
    {
      "cell_type": "code",
      "execution_count": null,
      "metadata": {
        "colab": {
          "base_uri": "https://localhost:8080/",
          "height": 281
        },
        "id": "pmn2soOefdNy",
        "outputId": "f752a6e8-ac6e-4ed3-a718-218b1c5a3b7b"
      },
      "outputs": [
        {
          "data": {
            "image/png": "[encoded data removed]",
            "text/plain": [
              "<Figure size 432x288 with 1 Axes>"
            ]
          },
          "metadata": {
            "needs_background": "light"
          },
          "output_type": "display_data"
        }
      ],
      "source": [
        "plt.plot(h_test,h_pred, 'o', color = 'green')\n",
        "m, b = np.polyfit(h_test,h_pred, 1)\n",
        "plt.plot(h_test, m*h_test+b, color='red')\n",
        "plt.xlabel(\"H-index from model\")\n",
        "plt.ylabel(\"H_index from calculation\")\n",
        "plt.show()"
      ]
    },
    {
      "cell_type": "code",
      "execution_count": null,
      "metadata": {
        "colab": {
          "base_uri": "https://localhost:8080/"
        },
        "id": "ary4OGCCYQiA",
        "outputId": "97eb9528-b30b-4fc3-93b3-c2256bca377a"
      },
      "outputs": [
        {
          "name": "stdout",
          "output_type": "stream",
          "text": [
            "mean absolute error = 13.160447562243974\n",
            "mean square error = 347.25349468482244\n",
            "root mean square error = 18.634738921831516\n",
            "mean absolute percentage error = 0.1292984860747344\n",
            "Explain variance score = 0.861288057566314\n",
            "R^2 score = 0.7483170124490941\n"
          ]
        }
      ],
      "source": [
        "print('mean absolute error =', sm.mean_absolute_error(h_pred,h_test))\n",
        "print('mean square error =', sm.mean_squared_error(h_pred,h_test))\n",
        "print('root mean square error =', np.sqrt(sm.mean_squared_error(h_pred,h_test)))\n",
        "print('mean absolute percentage error =', sm.mean_absolute_percentage_error(h_pred,h_test))\n",
        "print(\"Explain variance score =\", sm.explained_variance_score(h_pred,h_test))\n",
        "print('R^2 score =', sm.r2_score(h_pred,h_test))"
      ]
    }
  ],
  "metadata": {
    "colab": {
      "provenance": []
    },
    "kernelspec": {
      "display_name": "Python 3",
      "name": "python3"
    },
    "language_info": {
      "name": "python"
    }
  },
  "nbformat": 4,
  "nbformat_minor": 0
}
