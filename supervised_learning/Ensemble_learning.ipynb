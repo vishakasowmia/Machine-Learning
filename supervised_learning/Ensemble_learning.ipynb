{
  "cells": [
    {
      "cell_type": "markdown",
      "metadata": {
        "id": "wuM-bKzdQ6pJ"
      },
      "source": [
        "**ACCIDENT SEVERITY PREDICTION USING ENSEMBLE LEARNING**"
      ]
    },
    {
      "cell_type": "markdown",
      "metadata": {
        "id": "t0Pffl5Vgimr"
      },
      "source": [
        "**Lab Overview**"
      ]
    },
    {
      "cell_type": "markdown",
      "metadata": {
        "id": "zE0fUzwxhAAj"
      },
      "source": [
        "**About the Dataset**\n",
        "The Road accident dataset which contains\n",
        "\n",
        "1. Classes -3\n",
        "2. Samples total - 12316\n",
        "3. Dimensionality - 31"
      ]
    },
    {
      "cell_type": "markdown",
      "metadata": {
        "id": "Ttgob8HchGnx"
      },
      "source": [
        "**PROBLEM STATMENT**\n",
        "Given a dataset of past traffic accidents, the goal is to predict the severity of future accidents. The severity can be classified into three levels, such as Slight Injury,Serious Injury,Fatal injury. The prediction can help authorities take preventive measures to minimize the likelihood and impact of future accidents, such as improving road infrastructure, enforcing traffic rules, and raising public awareness.\n",
        "\n",
        "**Dataset**\n",
        "The link of the dataset is given:\n",
        "\n",
        "https://www.kaggle.com/datasets/saurabhshahane/road-traffic-accidents"
      ]
    },
    {
      "cell_type": "code",
      "execution_count": null,
      "metadata": {
        "id": "XVefOYG2zbUq"
      },
      "outputs": [],
      "source": [
        "import pandas as pd\n",
        "import numpy  as np\n",
        "import seaborn as sns\n",
        "import matplotlib as plt\n",
        "%matplotlib inline"
      ]
    },
    {
      "cell_type": "markdown",
      "metadata": {
        "id": "AkuCrwX2TOFn"
      },
      "source": [
        "**LOADING THE DATASET**"
      ]
    },
    {
      "cell_type": "code",
      "execution_count": null,
      "metadata": {
        "id": "4wVhMkGDQger"
      },
      "outputs": [],
      "source": [
        "import pandas as pd\n",
        "\n",
        "# Load the dataset into a Pandas DataFrame\n",
        "df = pd.read_csv('/content/RTA Dataset.csv',na_values=['na'])\n"
      ]
    },
    {
      "cell_type": "markdown",
      "metadata": {
        "id": "O6_ENYFwTZCW"
      },
      "source": [
        "**DATA DESCRIPTION**"
      ]
    },
    {
      "cell_type": "markdown",
      "metadata": {
        "id": "UZBdxheRhRlb"
      },
      "source": [
        "**Displaying the first 5 rows of the data.**"
      ]
    },
    {
      "cell_type": "code",
      "execution_count": null,
      "metadata": {
        "colab": {
          "base_uri": "https://localhost:8080/",
          "height": 352
        },
        "id": "Uj6LqAo-RQIA",
        "outputId": "1d5d9909-a9c3-4ce4-d875-2ca8a2ae26a0"
      },
      "outputs": [
        {
          "data": {
            "text/html": [
              "\n",
              "  <div id=\"df-42192a6f-af3d-47cf-b039-d0304e046327\">\n",
              "    <div class=\"colab-df-container\">\n",
              "      <div>\n",
              "<style scoped>\n",
              "    .dataframe tbody tr th:only-of-type {\n",
              "        vertical-align: middle;\n",
              "    }\n",
              "\n",
              "    .dataframe tbody tr th {\n",
              "        vertical-align: top;\n",
              "    }\n",
              "\n",
              "    .dataframe thead th {\n",
              "        text-align: right;\n",
              "    }\n",
              "</style>\n",
              "<table border=\"1\" class=\"dataframe\">\n",
              "  <thead>\n",
              "    <tr style=\"text-align: right;\">\n",
              "      <th></th>\n",
              "      <th>Time</th>\n",
              "      <th>Day_of_week</th>\n",
              "      <th>Age_band_of_driver</th>\n",
              "      <th>Sex_of_driver</th>\n",
              "      <th>Educational_level</th>\n",
              "      <th>Vehicle_driver_relation</th>\n",
              "      <th>Driving_experience</th>\n",
              "      <th>Type_of_vehicle</th>\n",
              "      <th>Owner_of_vehicle</th>\n",
              "      <th>Service_year_of_vehicle</th>\n",
              "      <th>...</th>\n",
              "      <th>Vehicle_movement</th>\n",
              "      <th>Casualty_class</th>\n",
              "      <th>Sex_of_casualty</th>\n",
              "      <th>Age_band_of_casualty</th>\n",
              "      <th>Casualty_severity</th>\n",
              "      <th>Work_of_casuality</th>\n",
              "      <th>Fitness_of_casuality</th>\n",
              "      <th>Pedestrian_movement</th>\n",
              "      <th>Cause_of_accident</th>\n",
              "      <th>Accident_severity</th>\n",
              "    </tr>\n",
              "  </thead>\n",
              "  <tbody>\n",
              "    <tr>\n",
              "      <th>0</th>\n",
              "      <td>17:02:00</td>\n",
              "      <td>Monday</td>\n",
              "      <td>18-30</td>\n",
              "      <td>Male</td>\n",
              "      <td>Above high school</td>\n",
              "      <td>Employee</td>\n",
              "      <td>1-2yr</td>\n",
              "      <td>Automobile</td>\n",
              "      <td>Owner</td>\n",
              "      <td>Above 10yr</td>\n",
              "      <td>...</td>\n",
              "      <td>Going straight</td>\n",
              "      <td>NaN</td>\n",
              "      <td>NaN</td>\n",
              "      <td>NaN</td>\n",
              "      <td>NaN</td>\n",
              "      <td>NaN</td>\n",
              "      <td>NaN</td>\n",
              "      <td>Not a Pedestrian</td>\n",
              "      <td>Moving Backward</td>\n",
              "      <td>Slight Injury</td>\n",
              "    </tr>\n",
              "    <tr>\n",
              "      <th>1</th>\n",
              "      <td>17:02:00</td>\n",
              "      <td>Monday</td>\n",
              "      <td>31-50</td>\n",
              "      <td>Male</td>\n",
              "      <td>Junior high school</td>\n",
              "      <td>Employee</td>\n",
              "      <td>Above 10yr</td>\n",
              "      <td>Public (&gt; 45 seats)</td>\n",
              "      <td>Owner</td>\n",
              "      <td>5-10yrs</td>\n",
              "      <td>...</td>\n",
              "      <td>Going straight</td>\n",
              "      <td>NaN</td>\n",
              "      <td>NaN</td>\n",
              "      <td>NaN</td>\n",
              "      <td>NaN</td>\n",
              "      <td>NaN</td>\n",
              "      <td>NaN</td>\n",
              "      <td>Not a Pedestrian</td>\n",
              "      <td>Overtaking</td>\n",
              "      <td>Slight Injury</td>\n",
              "    </tr>\n",
              "    <tr>\n",
              "      <th>2</th>\n",
              "      <td>17:02:00</td>\n",
              "      <td>Monday</td>\n",
              "      <td>18-30</td>\n",
              "      <td>Male</td>\n",
              "      <td>Junior high school</td>\n",
              "      <td>Employee</td>\n",
              "      <td>1-2yr</td>\n",
              "      <td>Lorry (41?100Q)</td>\n",
              "      <td>Owner</td>\n",
              "      <td>NaN</td>\n",
              "      <td>...</td>\n",
              "      <td>Going straight</td>\n",
              "      <td>Driver or rider</td>\n",
              "      <td>Male</td>\n",
              "      <td>31-50</td>\n",
              "      <td>3.0</td>\n",
              "      <td>Driver</td>\n",
              "      <td>NaN</td>\n",
              "      <td>Not a Pedestrian</td>\n",
              "      <td>Changing lane to the left</td>\n",
              "      <td>Serious Injury</td>\n",
              "    </tr>\n",
              "    <tr>\n",
              "      <th>3</th>\n",
              "      <td>1:06:00</td>\n",
              "      <td>Sunday</td>\n",
              "      <td>18-30</td>\n",
              "      <td>Male</td>\n",
              "      <td>Junior high school</td>\n",
              "      <td>Employee</td>\n",
              "      <td>5-10yr</td>\n",
              "      <td>Public (&gt; 45 seats)</td>\n",
              "      <td>Governmental</td>\n",
              "      <td>NaN</td>\n",
              "      <td>...</td>\n",
              "      <td>Going straight</td>\n",
              "      <td>Pedestrian</td>\n",
              "      <td>Female</td>\n",
              "      <td>18-30</td>\n",
              "      <td>3.0</td>\n",
              "      <td>Driver</td>\n",
              "      <td>Normal</td>\n",
              "      <td>Not a Pedestrian</td>\n",
              "      <td>Changing lane to the right</td>\n",
              "      <td>Slight Injury</td>\n",
              "    </tr>\n",
              "    <tr>\n",
              "      <th>4</th>\n",
              "      <td>1:06:00</td>\n",
              "      <td>Sunday</td>\n",
              "      <td>18-30</td>\n",
              "      <td>Male</td>\n",
              "      <td>Junior high school</td>\n",
              "      <td>Employee</td>\n",
              "      <td>2-5yr</td>\n",
              "      <td>NaN</td>\n",
              "      <td>Owner</td>\n",
              "      <td>5-10yrs</td>\n",
              "      <td>...</td>\n",
              "      <td>Going straight</td>\n",
              "      <td>NaN</td>\n",
              "      <td>NaN</td>\n",
              "      <td>NaN</td>\n",
              "      <td>NaN</td>\n",
              "      <td>NaN</td>\n",
              "      <td>NaN</td>\n",
              "      <td>Not a Pedestrian</td>\n",
              "      <td>Overtaking</td>\n",
              "      <td>Slight Injury</td>\n",
              "    </tr>\n",
              "  </tbody>\n",
              "</table>\n",
              "<p>5 rows × 32 columns</p>\n",
              "</div>\n",
              "      <button class=\"colab-df-convert\" onclick=\"convertToInteractive('df-42192a6f-af3d-47cf-b039-d0304e046327')\"\n",
              "              title=\"Convert this dataframe to an interactive table.\"\n",
              "              style=\"display:none;\">\n",
              "        \n",
              "  <svg xmlns=\"http://www.w3.org/2000/svg\" height=\"24px\"viewBox=\"0 0 24 24\"\n",
              "       width=\"24px\">\n",
              "    <path d=\"M0 0h24v24H0V0z\" fill=\"none\"/>\n",
              "    <path d=\"M18.56 5.44l.94 2.06.94-2.06 2.06-.94-2.06-.94-.94-2.06-.94 2.06-2.06.94zm-11 1L8.5 8.5l.94-2.06 2.06-.94-2.06-.94L8.5 2.5l-.94 2.06-2.06.94zm10 10l.94 2.06.94-2.06 2.06-.94-2.06-.94-.94-2.06-.94 2.06-2.06.94z\"/><path d=\"M17.41 7.96l-1.37-1.37c-.4-.4-.92-.59-1.43-.59-.52 0-1.04.2-1.43.59L10.3 9.45l-7.72 7.72c-.78.78-.78 2.05 0 2.83L4 21.41c.39.39.9.59 1.41.59.51 0 1.02-.2 1.41-.59l7.78-7.78 2.81-2.81c.8-.78.8-2.07 0-2.86zM5.41 20L4 18.59l7.72-7.72 1.47 1.35L5.41 20z\"/>\n",
              "  </svg>\n",
              "      </button>\n",
              "      \n",
              "  <style>\n",
              "    .colab-df-container {\n",
              "      display:flex;\n",
              "      flex-wrap:wrap;\n",
              "      gap: 12px;\n",
              "    }\n",
              "\n",
              "    .colab-df-convert {\n",
              "      background-color: #E8F0FE;\n",
              "      border: none;\n",
              "      border-radius: 50%;\n",
              "      cursor: pointer;\n",
              "      display: none;\n",
              "      fill: #1967D2;\n",
              "      height: 32px;\n",
              "      padding: 0 0 0 0;\n",
              "      width: 32px;\n",
              "    }\n",
              "\n",
              "    .colab-df-convert:hover {\n",
              "      background-color: #E2EBFA;\n",
              "      box-shadow: 0px 1px 2px rgba(60, 64, 67, 0.3), 0px 1px 3px 1px rgba(60, 64, 67, 0.15);\n",
              "      fill: #174EA6;\n",
              "    }\n",
              "\n",
              "    [theme=dark] .colab-df-convert {\n",
              "      background-color: #3B4455;\n",
              "      fill: #D2E3FC;\n",
              "    }\n",
              "\n",
              "    [theme=dark] .colab-df-convert:hover {\n",
              "      background-color: #434B5C;\n",
              "      box-shadow: 0px 1px 3px 1px rgba(0, 0, 0, 0.15);\n",
              "      filter: drop-shadow(0px 1px 2px rgba(0, 0, 0, 0.3));\n",
              "      fill: #FFFFFF;\n",
              "    }\n",
              "  </style>\n",
              "\n",
              "      <script>\n",
              "        const buttonEl =\n",
              "          document.querySelector('#df-42192a6f-af3d-47cf-b039-d0304e046327 button.colab-df-convert');\n",
              "        buttonEl.style.display =\n",
              "          google.colab.kernel.accessAllowed ? 'block' : 'none';\n",
              "\n",
              "        async function convertToInteractive(key) {\n",
              "          const element = document.querySelector('#df-42192a6f-af3d-47cf-b039-d0304e046327');\n",
              "          const dataTable =\n",
              "            await google.colab.kernel.invokeFunction('convertToInteractive',\n",
              "                                                     [key], {});\n",
              "          if (!dataTable) return;\n",
              "\n",
              "          const docLinkHtml = 'Like what you see? Visit the ' +\n",
              "            '<a target=\"_blank\" href=https://colab.research.google.com/notebooks/data_table.ipynb>data table notebook</a>'\n",
              "            + ' to learn more about interactive tables.';\n",
              "          element.innerHTML = '';\n",
              "          dataTable['output_type'] = 'display_data';\n",
              "          await google.colab.output.renderOutput(dataTable, element);\n",
              "          const docLink = document.createElement('div');\n",
              "          docLink.innerHTML = docLinkHtml;\n",
              "          element.appendChild(docLink);\n",
              "        }\n",
              "      </script>\n",
              "    </div>\n",
              "  </div>\n",
              "  "
            ],
            "text/plain": [
              "       Time Day_of_week Age_band_of_driver Sex_of_driver   Educational_level  \\\n",
              "0  17:02:00      Monday              18-30          Male   Above high school   \n",
              "1  17:02:00      Monday              31-50          Male  Junior high school   \n",
              "2  17:02:00      Monday              18-30          Male  Junior high school   \n",
              "3   1:06:00      Sunday              18-30          Male  Junior high school   \n",
              "4   1:06:00      Sunday              18-30          Male  Junior high school   \n",
              "\n",
              "  Vehicle_driver_relation Driving_experience      Type_of_vehicle  \\\n",
              "0                Employee              1-2yr           Automobile   \n",
              "1                Employee         Above 10yr  Public (> 45 seats)   \n",
              "2                Employee              1-2yr      Lorry (41?100Q)   \n",
              "3                Employee             5-10yr  Public (> 45 seats)   \n",
              "4                Employee              2-5yr                  NaN   \n",
              "\n",
              "  Owner_of_vehicle Service_year_of_vehicle  ... Vehicle_movement  \\\n",
              "0            Owner              Above 10yr  ...   Going straight   \n",
              "1            Owner                 5-10yrs  ...   Going straight   \n",
              "2            Owner                     NaN  ...   Going straight   \n",
              "3     Governmental                     NaN  ...   Going straight   \n",
              "4            Owner                 5-10yrs  ...   Going straight   \n",
              "\n",
              "    Casualty_class Sex_of_casualty Age_band_of_casualty Casualty_severity  \\\n",
              "0              NaN             NaN                  NaN               NaN   \n",
              "1              NaN             NaN                  NaN               NaN   \n",
              "2  Driver or rider            Male                31-50               3.0   \n",
              "3       Pedestrian          Female                18-30               3.0   \n",
              "4              NaN             NaN                  NaN               NaN   \n",
              "\n",
              "  Work_of_casuality Fitness_of_casuality Pedestrian_movement  \\\n",
              "0               NaN                  NaN    Not a Pedestrian   \n",
              "1               NaN                  NaN    Not a Pedestrian   \n",
              "2            Driver                  NaN    Not a Pedestrian   \n",
              "3            Driver               Normal    Not a Pedestrian   \n",
              "4               NaN                  NaN    Not a Pedestrian   \n",
              "\n",
              "            Cause_of_accident Accident_severity  \n",
              "0             Moving Backward     Slight Injury  \n",
              "1                  Overtaking     Slight Injury  \n",
              "2   Changing lane to the left    Serious Injury  \n",
              "3  Changing lane to the right     Slight Injury  \n",
              "4                  Overtaking     Slight Injury  \n",
              "\n",
              "[5 rows x 32 columns]"
            ]
          },
          "execution_count": 354,
          "metadata": {},
          "output_type": "execute_result"
        }
      ],
      "source": [
        "df.head()"
      ]
    },
    {
      "cell_type": "markdown",
      "metadata": {
        "id": "1M7ebdWjhULA"
      },
      "source": [
        "**Printing the information of the dataset.**"
      ]
    },
    {
      "cell_type": "code",
      "execution_count": null,
      "metadata": {
        "colab": {
          "base_uri": "https://localhost:8080/"
        },
        "id": "hlsl5IF8Ru7F",
        "outputId": "35358bad-9bc0-4bb6-d3ac-3710bae28276"
      },
      "outputs": [
        {
          "name": "stdout",
          "output_type": "stream",
          "text": [
            "<class 'pandas.core.frame.DataFrame'>\n",
            "RangeIndex: 8998 entries, 0 to 8997\n",
            "Data columns (total 32 columns):\n",
            " #   Column                       Non-Null Count  Dtype  \n",
            "---  ------                       --------------  -----  \n",
            " 0   Time                         8998 non-null   object \n",
            " 1   Day_of_week                  8998 non-null   object \n",
            " 2   Age_band_of_driver           8998 non-null   object \n",
            " 3   Sex_of_driver                8998 non-null   object \n",
            " 4   Educational_level            8477 non-null   object \n",
            " 5   Vehicle_driver_relation      8621 non-null   object \n",
            " 6   Driving_experience           8400 non-null   object \n",
            " 7   Type_of_vehicle              8283 non-null   object \n",
            " 8   Owner_of_vehicle             8647 non-null   object \n",
            " 9   Service_year_of_vehicle      6041 non-null   object \n",
            " 10  Defect_of_vehicle            5710 non-null   object \n",
            " 11  Area_accident_occured        8822 non-null   object \n",
            " 12  Lanes_or_Medians             8702 non-null   object \n",
            " 13  Road_allignment              8884 non-null   object \n",
            " 14  Types_of_Junction            8997 non-null   object \n",
            " 15  Road_surface_type            8871 non-null   object \n",
            " 16  Road_surface_conditions      8997 non-null   object \n",
            " 17  Light_conditions             8997 non-null   object \n",
            " 18  Weather_conditions           8997 non-null   object \n",
            " 19  Type_of_collision            8892 non-null   object \n",
            " 20  Number_of_vehicles_involved  8997 non-null   float64\n",
            " 21  Number_of_casualties         8997 non-null   float64\n",
            " 22  Vehicle_movement             8787 non-null   object \n",
            " 23  Casualty_class               5811 non-null   object \n",
            " 24  Sex_of_casualty              5811 non-null   object \n",
            " 25  Age_band_of_casualty         5811 non-null   object \n",
            " 26  Casualty_severity            5811 non-null   float64\n",
            " 27  Work_of_casuality            6646 non-null   object \n",
            " 28  Fitness_of_casuality         7055 non-null   object \n",
            " 29  Pedestrian_movement          8997 non-null   object \n",
            " 30  Cause_of_accident            8997 non-null   object \n",
            " 31  Accident_severity            8997 non-null   object \n",
            "dtypes: float64(3), object(29)\n",
            "memory usage: 2.2+ MB\n"
          ]
        }
      ],
      "source": [
        "df.info()"
      ]
    },
    {
      "cell_type": "markdown",
      "metadata": {
        "id": "v8nL0lJ4heSl"
      },
      "source": [
        "**Description of the data**"
      ]
    },
    {
      "cell_type": "code",
      "execution_count": null,
      "metadata": {
        "colab": {
          "base_uri": "https://localhost:8080/",
          "height": 300
        },
        "id": "IO4qswttRWgo",
        "outputId": "05452da3-1f2c-4891-ba36-49a577b1a502"
      },
      "outputs": [
        {
          "data": {
            "text/html": [
              "\n",
              "  <div id=\"df-afe570fb-786a-4986-b81f-c4c44da00d21\">\n",
              "    <div class=\"colab-df-container\">\n",
              "      <div>\n",
              "<style scoped>\n",
              "    .dataframe tbody tr th:only-of-type {\n",
              "        vertical-align: middle;\n",
              "    }\n",
              "\n",
              "    .dataframe tbody tr th {\n",
              "        vertical-align: top;\n",
              "    }\n",
              "\n",
              "    .dataframe thead th {\n",
              "        text-align: right;\n",
              "    }\n",
              "</style>\n",
              "<table border=\"1\" class=\"dataframe\">\n",
              "  <thead>\n",
              "    <tr style=\"text-align: right;\">\n",
              "      <th></th>\n",
              "      <th>Number_of_vehicles_involved</th>\n",
              "      <th>Number_of_casualties</th>\n",
              "      <th>Casualty_severity</th>\n",
              "    </tr>\n",
              "  </thead>\n",
              "  <tbody>\n",
              "    <tr>\n",
              "      <th>count</th>\n",
              "      <td>8997.000000</td>\n",
              "      <td>8997.000000</td>\n",
              "      <td>5811.000000</td>\n",
              "    </tr>\n",
              "    <tr>\n",
              "      <th>mean</th>\n",
              "      <td>2.018673</td>\n",
              "      <td>1.522952</td>\n",
              "      <td>2.889348</td>\n",
              "    </tr>\n",
              "    <tr>\n",
              "      <th>std</th>\n",
              "      <td>0.641743</td>\n",
              "      <td>1.004022</td>\n",
              "      <td>0.327682</td>\n",
              "    </tr>\n",
              "    <tr>\n",
              "      <th>min</th>\n",
              "      <td>1.000000</td>\n",
              "      <td>1.000000</td>\n",
              "      <td>1.000000</td>\n",
              "    </tr>\n",
              "    <tr>\n",
              "      <th>25%</th>\n",
              "      <td>2.000000</td>\n",
              "      <td>1.000000</td>\n",
              "      <td>3.000000</td>\n",
              "    </tr>\n",
              "    <tr>\n",
              "      <th>50%</th>\n",
              "      <td>2.000000</td>\n",
              "      <td>1.000000</td>\n",
              "      <td>3.000000</td>\n",
              "    </tr>\n",
              "    <tr>\n",
              "      <th>75%</th>\n",
              "      <td>2.000000</td>\n",
              "      <td>2.000000</td>\n",
              "      <td>3.000000</td>\n",
              "    </tr>\n",
              "    <tr>\n",
              "      <th>max</th>\n",
              "      <td>7.000000</td>\n",
              "      <td>8.000000</td>\n",
              "      <td>3.000000</td>\n",
              "    </tr>\n",
              "  </tbody>\n",
              "</table>\n",
              "</div>\n",
              "      <button class=\"colab-df-convert\" onclick=\"convertToInteractive('df-afe570fb-786a-4986-b81f-c4c44da00d21')\"\n",
              "              title=\"Convert this dataframe to an interactive table.\"\n",
              "              style=\"display:none;\">\n",
              "        \n",
              "  <svg xmlns=\"http://www.w3.org/2000/svg\" height=\"24px\"viewBox=\"0 0 24 24\"\n",
              "       width=\"24px\">\n",
              "    <path d=\"M0 0h24v24H0V0z\" fill=\"none\"/>\n",
              "    <path d=\"M18.56 5.44l.94 2.06.94-2.06 2.06-.94-2.06-.94-.94-2.06-.94 2.06-2.06.94zm-11 1L8.5 8.5l.94-2.06 2.06-.94-2.06-.94L8.5 2.5l-.94 2.06-2.06.94zm10 10l.94 2.06.94-2.06 2.06-.94-2.06-.94-.94-2.06-.94 2.06-2.06.94z\"/><path d=\"M17.41 7.96l-1.37-1.37c-.4-.4-.92-.59-1.43-.59-.52 0-1.04.2-1.43.59L10.3 9.45l-7.72 7.72c-.78.78-.78 2.05 0 2.83L4 21.41c.39.39.9.59 1.41.59.51 0 1.02-.2 1.41-.59l7.78-7.78 2.81-2.81c.8-.78.8-2.07 0-2.86zM5.41 20L4 18.59l7.72-7.72 1.47 1.35L5.41 20z\"/>\n",
              "  </svg>\n",
              "      </button>\n",
              "      \n",
              "  <style>\n",
              "    .colab-df-container {\n",
              "      display:flex;\n",
              "      flex-wrap:wrap;\n",
              "      gap: 12px;\n",
              "    }\n",
              "\n",
              "    .colab-df-convert {\n",
              "      background-color: #E8F0FE;\n",
              "      border: none;\n",
              "      border-radius: 50%;\n",
              "      cursor: pointer;\n",
              "      display: none;\n",
              "      fill: #1967D2;\n",
              "      height: 32px;\n",
              "      padding: 0 0 0 0;\n",
              "      width: 32px;\n",
              "    }\n",
              "\n",
              "    .colab-df-convert:hover {\n",
              "      background-color: #E2EBFA;\n",
              "      box-shadow: 0px 1px 2px rgba(60, 64, 67, 0.3), 0px 1px 3px 1px rgba(60, 64, 67, 0.15);\n",
              "      fill: #174EA6;\n",
              "    }\n",
              "\n",
              "    [theme=dark] .colab-df-convert {\n",
              "      background-color: #3B4455;\n",
              "      fill: #D2E3FC;\n",
              "    }\n",
              "\n",
              "    [theme=dark] .colab-df-convert:hover {\n",
              "      background-color: #434B5C;\n",
              "      box-shadow: 0px 1px 3px 1px rgba(0, 0, 0, 0.15);\n",
              "      filter: drop-shadow(0px 1px 2px rgba(0, 0, 0, 0.3));\n",
              "      fill: #FFFFFF;\n",
              "    }\n",
              "  </style>\n",
              "\n",
              "      <script>\n",
              "        const buttonEl =\n",
              "          document.querySelector('#df-afe570fb-786a-4986-b81f-c4c44da00d21 button.colab-df-convert');\n",
              "        buttonEl.style.display =\n",
              "          google.colab.kernel.accessAllowed ? 'block' : 'none';\n",
              "\n",
              "        async function convertToInteractive(key) {\n",
              "          const element = document.querySelector('#df-afe570fb-786a-4986-b81f-c4c44da00d21');\n",
              "          const dataTable =\n",
              "            await google.colab.kernel.invokeFunction('convertToInteractive',\n",
              "                                                     [key], {});\n",
              "          if (!dataTable) return;\n",
              "\n",
              "          const docLinkHtml = 'Like what you see? Visit the ' +\n",
              "            '<a target=\"_blank\" href=https://colab.research.google.com/notebooks/data_table.ipynb>data table notebook</a>'\n",
              "            + ' to learn more about interactive tables.';\n",
              "          element.innerHTML = '';\n",
              "          dataTable['output_type'] = 'display_data';\n",
              "          await google.colab.output.renderOutput(dataTable, element);\n",
              "          const docLink = document.createElement('div');\n",
              "          docLink.innerHTML = docLinkHtml;\n",
              "          element.appendChild(docLink);\n",
              "        }\n",
              "      </script>\n",
              "    </div>\n",
              "  </div>\n",
              "  "
            ],
            "text/plain": [
              "       Number_of_vehicles_involved  Number_of_casualties  Casualty_severity\n",
              "count                  8997.000000           8997.000000        5811.000000\n",
              "mean                      2.018673              1.522952           2.889348\n",
              "std                       0.641743              1.004022           0.327682\n",
              "min                       1.000000              1.000000           1.000000\n",
              "25%                       2.000000              1.000000           3.000000\n",
              "50%                       2.000000              1.000000           3.000000\n",
              "75%                       2.000000              2.000000           3.000000\n",
              "max                       7.000000              8.000000           3.000000"
            ]
          },
          "execution_count": 356,
          "metadata": {},
          "output_type": "execute_result"
        }
      ],
      "source": [
        "df.describe()"
      ]
    },
    {
      "cell_type": "markdown",
      "metadata": {
        "id": "X4HVUMPchXCq"
      },
      "source": [
        "**The shape.**"
      ]
    },
    {
      "cell_type": "code",
      "execution_count": null,
      "metadata": {
        "colab": {
          "base_uri": "https://localhost:8080/"
        },
        "id": "6MKR7xQvQ_IL",
        "outputId": "cc237757-459e-4d9f-a950-a4221d0c2f82"
      },
      "outputs": [
        {
          "data": {
            "text/plain": [
              "(8998, 32)"
            ]
          },
          "execution_count": 357,
          "metadata": {},
          "output_type": "execute_result"
        }
      ],
      "source": [
        "df.shape"
      ]
    },
    {
      "cell_type": "markdown",
      "metadata": {
        "id": "n8x8dhxthYUk"
      },
      "source": [
        "**Details of the null values in the datset.**"
      ]
    },
    {
      "cell_type": "code",
      "execution_count": null,
      "metadata": {
        "colab": {
          "base_uri": "https://localhost:8080/"
        },
        "id": "FacTLJJNRUW9",
        "outputId": "c2e4ea03-3c4e-4244-b4b9-e8aff1f2fbd3"
      },
      "outputs": [
        {
          "data": {
            "text/plain": [
              "Time                              0\n",
              "Day_of_week                       0\n",
              "Age_band_of_driver                0\n",
              "Sex_of_driver                     0\n",
              "Educational_level               521\n",
              "Vehicle_driver_relation         377\n",
              "Driving_experience              598\n",
              "Type_of_vehicle                 715\n",
              "Owner_of_vehicle                351\n",
              "Service_year_of_vehicle        2957\n",
              "Defect_of_vehicle              3288\n",
              "Area_accident_occured           176\n",
              "Lanes_or_Medians                296\n",
              "Road_allignment                 114\n",
              "Types_of_Junction                 1\n",
              "Road_surface_type               127\n",
              "Road_surface_conditions           1\n",
              "Light_conditions                  1\n",
              "Weather_conditions                1\n",
              "Type_of_collision               106\n",
              "Number_of_vehicles_involved       1\n",
              "Number_of_casualties              1\n",
              "Vehicle_movement                211\n",
              "Casualty_class                 3187\n",
              "Sex_of_casualty                3187\n",
              "Age_band_of_casualty           3187\n",
              "Casualty_severity              3187\n",
              "Work_of_casuality              2352\n",
              "Fitness_of_casuality           1943\n",
              "Pedestrian_movement               1\n",
              "Cause_of_accident                 1\n",
              "Accident_severity                 1\n",
              "dtype: int64"
            ]
          },
          "execution_count": 358,
          "metadata": {},
          "output_type": "execute_result"
        }
      ],
      "source": [
        "df.isnull().sum()"
      ]
    },
    {
      "cell_type": "markdown",
      "metadata": {
        "id": "pH4-l2QxTlQA"
      },
      "source": [
        "**Dropping columns**"
      ]
    },
    {
      "cell_type": "code",
      "execution_count": null,
      "metadata": {
        "id": "WWXNTSYJTSrR"
      },
      "outputs": [],
      "source": [
        "df.drop(['Defect_of_vehicle','Service_year_of_vehicle','Casualty_class','Sex_of_casualty','Age_band_of_casualty','Work_of_casuality','Fitness_of_casuality','Casualty_severity','Time'], axis=1,inplace=True)"
      ]
    },
    {
      "cell_type": "markdown",
      "metadata": {
        "id": "vmB06KOfhm7M"
      },
      "source": [
        "**Handelling Null Values**"
      ]
    },
    {
      "cell_type": "code",
      "execution_count": null,
      "metadata": {
        "colab": {
          "base_uri": "https://localhost:8080/"
        },
        "id": "CSMRMgcmT2ky",
        "outputId": "1f3b8743-f509-4a38-ee67-8887b96cf25f"
      },
      "outputs": [
        {
          "data": {
            "text/plain": [
              "Day_of_week                      0\n",
              "Age_band_of_driver               0\n",
              "Sex_of_driver                    0\n",
              "Educational_level              521\n",
              "Vehicle_driver_relation        377\n",
              "Driving_experience             598\n",
              "Type_of_vehicle                715\n",
              "Owner_of_vehicle               351\n",
              "Area_accident_occured          176\n",
              "Lanes_or_Medians               296\n",
              "Road_allignment                114\n",
              "Types_of_Junction                1\n",
              "Road_surface_type              127\n",
              "Road_surface_conditions          1\n",
              "Light_conditions                 1\n",
              "Weather_conditions               1\n",
              "Type_of_collision              106\n",
              "Number_of_vehicles_involved      1\n",
              "Number_of_casualties             1\n",
              "Vehicle_movement               211\n",
              "Pedestrian_movement              1\n",
              "Cause_of_accident                1\n",
              "Accident_severity                1\n",
              "dtype: int64"
            ]
          },
          "execution_count": 360,
          "metadata": {},
          "output_type": "execute_result"
        }
      ],
      "source": [
        "df.isnull().sum()"
      ]
    },
    {
      "cell_type": "markdown",
      "metadata": {
        "id": "WbiuEtSihq7D"
      },
      "source": [
        "**Imputing Mean and Mode handling null values**"
      ]
    },
    {
      "cell_type": "code",
      "execution_count": null,
      "metadata": {
        "colab": {
          "base_uri": "https://localhost:8080/"
        },
        "id": "SPIa7IETCi2H",
        "outputId": "a13bd028-2a70-4e36-8d84-c00f63c3613e"
      },
      "outputs": [
        {
          "name": "stdout",
          "output_type": "stream",
          "text": [
            "The categorical variables are: ['Day_of_week', 'Age_band_of_driver', 'Sex_of_driver', 'Educational_level', 'Vehicle_driver_relation', 'Driving_experience', 'Type_of_vehicle', 'Owner_of_vehicle', 'Area_accident_occured', 'Lanes_or_Medians', 'Road_allignment', 'Types_of_Junction', 'Road_surface_type', 'Road_surface_conditions', 'Light_conditions', 'Weather_conditions', 'Type_of_collision', 'Vehicle_movement', 'Pedestrian_movement', 'Cause_of_accident', 'Accident_severity']\n",
            "The categorical variables are: 21\n"
          ]
        }
      ],
      "source": [
        "#storing all the categorical variable in categorical.\n",
        "categorical = [i for i in df.columns if df[i].dtype =='object']\n",
        "num_vari = len(categorical)\n",
        "print('The categorical variables are:',categorical)\n",
        "print('The categorical variables are:',num_vari)"
      ]
    },
    {
      "cell_type": "code",
      "execution_count": null,
      "metadata": {
        "colab": {
          "base_uri": "https://localhost:8080/"
        },
        "id": "1xt0DtM-Lklf",
        "outputId": "3f0eb606-0469-4ad2-c745-2154cc313da1"
      },
      "outputs": [
        {
          "name": "stdout",
          "output_type": "stream",
          "text": [
            "Friday       1446\n",
            "Thursday     1402\n",
            "Wednesday    1373\n",
            "Tuesday      1293\n",
            "Monday       1249\n",
            "Saturday     1227\n",
            "Sunday       1008\n",
            "Name: Day_of_week, dtype: int64\n",
            "18-30       3037\n",
            "31-50       2957\n",
            "Unknown     1365\n",
            "Over 51     1045\n",
            "Under 18     594\n",
            "Name: Age_band_of_driver, dtype: int64\n",
            "Male       8319\n",
            "Female      508\n",
            "Unknown     171\n",
            "Name: Sex_of_driver, dtype: int64\n",
            "Junior high school    5554\n",
            "Elementary school     1598\n",
            "High school            827\n",
            "Above high school      247\n",
            "Writing & reading      145\n",
            "Unknown                 71\n",
            "Illiterate              35\n",
            "Name: Educational_level, dtype: int64\n",
            "Employee    6994\n",
            "Owner       1524\n",
            "Other         89\n",
            "Unknown       14\n",
            "Name: Vehicle_driver_relation, dtype: int64\n",
            "5-10yr        2480\n",
            "2-5yr         1888\n",
            "Above 10yr    1665\n",
            "1-2yr         1266\n",
            "Below 1yr      987\n",
            "No Licence      87\n",
            "unknown         27\n",
            "Name: Driving_experience, dtype: int64\n",
            "Automobile              2352\n",
            "Lorry (41?100Q)         1594\n",
            "Other                    884\n",
            "Pick up upto 10Q         588\n",
            "Public (12 seats)        527\n",
            "Stationwagen             494\n",
            "Public (13?45 seats)     394\n",
            "Lorry (11?40Q)           393\n",
            "Public (> 45 seats)      292\n",
            "Long lorry               268\n",
            "Taxi                     192\n",
            "Motorcycle               123\n",
            "Ridden horse              57\n",
            "Special vehicle           56\n",
            "Turbo                     33\n",
            "Bajaj                     22\n",
            "Bicycle                   14\n",
            "Name: Type_of_vehicle, dtype: int64\n",
            "Owner           7637\n",
            "Governmental     768\n",
            "Organization     227\n",
            "Other             15\n",
            "Name: Owner_of_vehicle, dtype: int64\n",
            "Other                              2774\n",
            "Office areas                       2531\n",
            "Residential areas                  1487\n",
            " Church areas                       772\n",
            " Industrial areas                   353\n",
            "School areas                        288\n",
            "  Recreational areas                241\n",
            " Outside rural areas                169\n",
            " Hospital areas                      92\n",
            "  Market areas                       48\n",
            "Rural village areas                  36\n",
            "Unknown                              18\n",
            "Rural village areasOffice areas      12\n",
            "Recreational areas                    1\n",
            "Name: Area_accident_occured, dtype: int64\n",
            "Two-way (divided with broken lines road marking)    3186\n",
            "Undivided Two way                                   2761\n",
            "other                                               1241\n",
            "Double carriageway (median)                          777\n",
            "One way                                              599\n",
            "Two-way (divided with solid lines road marking)       95\n",
            "Unknown                                               43\n",
            "Name: Lanes_or_Medians, dtype: int64\n",
            "Tangent road with flat terrain                   7619\n",
            "Tangent road with mild grade and flat terrain     387\n",
            "Steep grade downward with mountainous terrain     304\n",
            "Tangent road with mountainous terrain and         289\n",
            "Gentle horizontal curve                           116\n",
            "Escarpments                                        91\n",
            "Sharp reverse curve                                36\n",
            "Tangent road with rolling terrain                  30\n",
            "Steep grade upward with mountainous terrain        12\n",
            "Name: Road_allignment, dtype: int64\n",
            "Y Shape        3507\n",
            "No junction    3077\n",
            "Crossing       1678\n",
            "Other           379\n",
            "Unknown         157\n",
            "O Shape         130\n",
            "T Shape          60\n",
            "X Shape           9\n",
            "Name: Types_of_Junction, dtype: int64\n",
            "Asphalt roads                       8245\n",
            "Earth roads                          266\n",
            "Gravel roads                         177\n",
            "Other                                124\n",
            "Asphalt roads with some distress      59\n",
            "Name: Road_surface_type, dtype: int64\n",
            "Dry                     7031\n",
            "Wet or damp             1928\n",
            "Snow                      36\n",
            "Flood over 3cm. deep       2\n",
            "Name: Road_surface_conditions, dtype: int64\n",
            "Daylight                   6451\n",
            "Darkness - lights lit      2405\n",
            "Darkness - no lighting      123\n",
            "Darkness - lights unlit      18\n",
            "Name: Light_conditions, dtype: int64\n",
            "Normal               7415\n",
            "Raining               889\n",
            "Unknown               267\n",
            "Other                 220\n",
            "Cloudy                 75\n",
            "Windy                  64\n",
            "Snow                   33\n",
            "Raining and Windy      28\n",
            "Fog or mist             6\n",
            "Name: Weather_conditions, dtype: int64\n",
            "Vehicle with vehicle collision             6393\n",
            "Collision with roadside objects            1305\n",
            "Collision with pedestrians                  660\n",
            "Rollover                                    293\n",
            "Collision with animals                      133\n",
            "Collision with roadside-parked vehicles      42\n",
            "Fall from vehicles                           26\n",
            "Other                                        19\n",
            "Unknown                                      14\n",
            "With Train                                    7\n",
            "Name: Type_of_collision, dtype: int64\n",
            "Going straight         5997\n",
            "Moving Backward         716\n",
            "Other                   633\n",
            "Reversing               425\n",
            "Turnover                365\n",
            "Getting off             246\n",
            "Entering a junction     130\n",
            "Unknown                  85\n",
            "Overtaking               70\n",
            "Stopping                 43\n",
            "U-Turn                   34\n",
            "Waiting to go            33\n",
            "Parked                   10\n",
            "Name: Vehicle_movement, dtype: int64\n",
            "Not a Pedestrian                                                                                                                         8297\n",
            "Crossing from nearside - masked by parked or statioNot a Pedestrianry vehicle                                                             254\n",
            "Unknown or other                                                                                                                          239\n",
            "Crossing from driver's nearside                                                                                                            93\n",
            "Crossing from offside - masked by  parked or statioNot a Pedestrianry vehicle                                                              48\n",
            "In carriageway, statioNot a Pedestrianry - not crossing  (standing or playing)                                                             38\n",
            "Walking along in carriageway, back to traffic                                                                                              12\n",
            "In carriageway, statioNot a Pedestrianry - not crossing  (standing or playing) - masked by parked or statioNot a Pedestrianry vehicle       9\n",
            "Walking along in carriageway, facing traffic                                                                                                7\n",
            "Name: Pedestrian_movement, dtype: int64\n",
            "No distancing                           1659\n",
            "Changing lane to the right              1344\n",
            "Changing lane to the left               1054\n",
            "Driving carelessly                      1010\n",
            "No priority to vehicle                   872\n",
            "Moving Backward                          836\n",
            "No priority to pedestrian                538\n",
            "Other                                    342\n",
            "Overtaking                               313\n",
            "Driving under the influence of drugs     237\n",
            "Driving to the left                      204\n",
            "Getting off the vehicle improperly       140\n",
            "Driving at high speed                    131\n",
            "Overturning                              108\n",
            "Turnover                                  58\n",
            "Overspeed                                 46\n",
            "Overloading                               46\n",
            "Drunk driving                             21\n",
            "Unknown                                   19\n",
            "Improper parking                          19\n",
            "Name: Cause_of_accident, dtype: int64\n",
            "Slight Injury     7729\n",
            "Serious Injury    1179\n",
            "Fatal injury        89\n",
            "Name: Accident_severity, dtype: int64\n"
          ]
        }
      ],
      "source": [
        "for i in categorical:\n",
        "    print(df[i].value_counts())"
      ]
    },
    {
      "cell_type": "code",
      "execution_count": null,
      "metadata": {
        "id": "-Yhh9N_LLuil"
      },
      "outputs": [],
      "source": [
        "#filling the categorical null values of the categorical using mode the values.\n",
        "for i in categorical:\n",
        "  df[i].fillna(df[i].mode()[0],inplace=True)"
      ]
    },
    {
      "cell_type": "code",
      "execution_count": null,
      "metadata": {
        "id": "akVlveDgORMm"
      },
      "outputs": [],
      "source": [
        "mean_value = df[\"Number_of_vehicles_involved\"].mean()\n",
        "df[\"Number_of_vehicles_involved\"] = df[\"Number_of_vehicles_involved\"].fillna(mean_value)"
      ]
    },
    {
      "cell_type": "code",
      "execution_count": null,
      "metadata": {
        "id": "IAXMFO2rO2tl"
      },
      "outputs": [],
      "source": [
        "mean = df[\"Number_of_casualties\"].mean()\n",
        "df[\"Number_of_casualties\"]=df[\"Number_of_casualties\"].fillna(mean)"
      ]
    },
    {
      "cell_type": "code",
      "execution_count": null,
      "metadata": {
        "colab": {
          "base_uri": "https://localhost:8080/"
        },
        "id": "N0R6kSqBPMhI",
        "outputId": "03b2dfe0-b2df-4f6e-b63f-0199ab1db8df"
      },
      "outputs": [
        {
          "data": {
            "text/plain": [
              "Day_of_week                    0\n",
              "Age_band_of_driver             0\n",
              "Sex_of_driver                  0\n",
              "Educational_level              0\n",
              "Vehicle_driver_relation        0\n",
              "Driving_experience             0\n",
              "Type_of_vehicle                0\n",
              "Owner_of_vehicle               0\n",
              "Area_accident_occured          0\n",
              "Lanes_or_Medians               0\n",
              "Road_allignment                0\n",
              "Types_of_Junction              0\n",
              "Road_surface_type              0\n",
              "Road_surface_conditions        0\n",
              "Light_conditions               0\n",
              "Weather_conditions             0\n",
              "Type_of_collision              0\n",
              "Number_of_vehicles_involved    0\n",
              "Number_of_casualties           0\n",
              "Vehicle_movement               0\n",
              "Pedestrian_movement            0\n",
              "Cause_of_accident              0\n",
              "Accident_severity              0\n",
              "dtype: int64"
            ]
          },
          "execution_count": 366,
          "metadata": {},
          "output_type": "execute_result"
        }
      ],
      "source": [
        "df.isnull().sum()"
      ]
    },
    {
      "cell_type": "markdown",
      "metadata": {
        "id": "VSi3qZ0hh_0t"
      },
      "source": [
        "**Inference:** There are no null values."
      ]
    },
    {
      "cell_type": "markdown",
      "metadata": {
        "id": "-w0KFjh6iFFr"
      },
      "source": [
        "**Feature Selection**"
      ]
    },
    {
      "cell_type": "markdown",
      "metadata": {
        "id": "4R36DLxAicR8"
      },
      "source": [
        "Since there are many categorical variable we apply X^2 freature selection method."
      ]
    },
    {
      "cell_type": "code",
      "execution_count": null,
      "metadata": {
        "id": "6qpTw3RlL3tx"
      },
      "outputs": [],
      "source": [
        "from sklearn.preprocessing import LabelEncoder\n",
        "le=LabelEncoder()"
      ]
    },
    {
      "cell_type": "code",
      "execution_count": null,
      "metadata": {
        "id": "2KHD1d1MMDT8"
      },
      "outputs": [],
      "source": [
        "#creating new data frame\n",
        "df1 = pd.DataFrame()"
      ]
    },
    {
      "cell_type": "code",
      "execution_count": null,
      "metadata": {
        "id": "Ensu6qPcMGqV"
      },
      "outputs": [],
      "source": [
        "for i in categorical:\n",
        "  if i!= 'Accident_severity':\n",
        "    df1[i]=le.fit_transform(df[i])"
      ]
    },
    {
      "cell_type": "code",
      "execution_count": null,
      "metadata": {
        "colab": {
          "base_uri": "https://localhost:8080/"
        },
        "id": "Ri9jTSCtMIkJ",
        "outputId": "08b8802a-fa47-4a29-f65c-62d6d32770aa"
      },
      "outputs": [
        {
          "name": "stdout",
          "output_type": "stream",
          "text": [
            "<class 'pandas.core.frame.DataFrame'>\n",
            "RangeIndex: 8998 entries, 0 to 8997\n",
            "Data columns (total 20 columns):\n",
            " #   Column                   Non-Null Count  Dtype\n",
            "---  ------                   --------------  -----\n",
            " 0   Day_of_week              8998 non-null   int64\n",
            " 1   Age_band_of_driver       8998 non-null   int64\n",
            " 2   Sex_of_driver            8998 non-null   int64\n",
            " 3   Educational_level        8998 non-null   int64\n",
            " 4   Vehicle_driver_relation  8998 non-null   int64\n",
            " 5   Driving_experience       8998 non-null   int64\n",
            " 6   Type_of_vehicle          8998 non-null   int64\n",
            " 7   Owner_of_vehicle         8998 non-null   int64\n",
            " 8   Area_accident_occured    8998 non-null   int64\n",
            " 9   Lanes_or_Medians         8998 non-null   int64\n",
            " 10  Road_allignment          8998 non-null   int64\n",
            " 11  Types_of_Junction        8998 non-null   int64\n",
            " 12  Road_surface_type        8998 non-null   int64\n",
            " 13  Road_surface_conditions  8998 non-null   int64\n",
            " 14  Light_conditions         8998 non-null   int64\n",
            " 15  Weather_conditions       8998 non-null   int64\n",
            " 16  Type_of_collision        8998 non-null   int64\n",
            " 17  Vehicle_movement         8998 non-null   int64\n",
            " 18  Pedestrian_movement      8998 non-null   int64\n",
            " 19  Cause_of_accident        8998 non-null   int64\n",
            "dtypes: int64(20)\n",
            "memory usage: 1.4 MB\n"
          ]
        }
      ],
      "source": [
        "df1.info()"
      ]
    },
    {
      "cell_type": "code",
      "execution_count": null,
      "metadata": {
        "colab": {
          "base_uri": "https://localhost:8080/",
          "height": 270
        },
        "id": "CZsQiW_VMgAF",
        "outputId": "78eaed37-1b6a-422a-9922-6c9bf1b0ad70"
      },
      "outputs": [
        {
          "data": {
            "text/html": [
              "\n",
              "  <div id=\"df-666a1897-24cc-4a61-b811-4226a0942116\">\n",
              "    <div class=\"colab-df-container\">\n",
              "      <div>\n",
              "<style scoped>\n",
              "    .dataframe tbody tr th:only-of-type {\n",
              "        vertical-align: middle;\n",
              "    }\n",
              "\n",
              "    .dataframe tbody tr th {\n",
              "        vertical-align: top;\n",
              "    }\n",
              "\n",
              "    .dataframe thead th {\n",
              "        text-align: right;\n",
              "    }\n",
              "</style>\n",
              "<table border=\"1\" class=\"dataframe\">\n",
              "  <thead>\n",
              "    <tr style=\"text-align: right;\">\n",
              "      <th></th>\n",
              "      <th>Day_of_week</th>\n",
              "      <th>Age_band_of_driver</th>\n",
              "      <th>Sex_of_driver</th>\n",
              "      <th>Educational_level</th>\n",
              "      <th>Vehicle_driver_relation</th>\n",
              "      <th>Driving_experience</th>\n",
              "      <th>Type_of_vehicle</th>\n",
              "      <th>Owner_of_vehicle</th>\n",
              "      <th>Area_accident_occured</th>\n",
              "      <th>Lanes_or_Medians</th>\n",
              "      <th>Road_allignment</th>\n",
              "      <th>Types_of_Junction</th>\n",
              "      <th>Road_surface_type</th>\n",
              "      <th>Road_surface_conditions</th>\n",
              "      <th>Light_conditions</th>\n",
              "      <th>Weather_conditions</th>\n",
              "      <th>Type_of_collision</th>\n",
              "      <th>Vehicle_movement</th>\n",
              "      <th>Pedestrian_movement</th>\n",
              "      <th>Cause_of_accident</th>\n",
              "    </tr>\n",
              "  </thead>\n",
              "  <tbody>\n",
              "    <tr>\n",
              "      <th>0</th>\n",
              "      <td>1</td>\n",
              "      <td>0</td>\n",
              "      <td>1</td>\n",
              "      <td>0</td>\n",
              "      <td>0</td>\n",
              "      <td>0</td>\n",
              "      <td>0</td>\n",
              "      <td>3</td>\n",
              "      <td>9</td>\n",
              "      <td>2</td>\n",
              "      <td>5</td>\n",
              "      <td>1</td>\n",
              "      <td>0</td>\n",
              "      <td>0</td>\n",
              "      <td>3</td>\n",
              "      <td>2</td>\n",
              "      <td>3</td>\n",
              "      <td>2</td>\n",
              "      <td>5</td>\n",
              "      <td>9</td>\n",
              "    </tr>\n",
              "    <tr>\n",
              "      <th>1</th>\n",
              "      <td>1</td>\n",
              "      <td>1</td>\n",
              "      <td>1</td>\n",
              "      <td>4</td>\n",
              "      <td>0</td>\n",
              "      <td>3</td>\n",
              "      <td>11</td>\n",
              "      <td>3</td>\n",
              "      <td>6</td>\n",
              "      <td>4</td>\n",
              "      <td>5</td>\n",
              "      <td>1</td>\n",
              "      <td>0</td>\n",
              "      <td>0</td>\n",
              "      <td>3</td>\n",
              "      <td>2</td>\n",
              "      <td>8</td>\n",
              "      <td>2</td>\n",
              "      <td>5</td>\n",
              "      <td>16</td>\n",
              "    </tr>\n",
              "    <tr>\n",
              "      <th>2</th>\n",
              "      <td>1</td>\n",
              "      <td>0</td>\n",
              "      <td>1</td>\n",
              "      <td>4</td>\n",
              "      <td>0</td>\n",
              "      <td>0</td>\n",
              "      <td>5</td>\n",
              "      <td>3</td>\n",
              "      <td>1</td>\n",
              "      <td>6</td>\n",
              "      <td>5</td>\n",
              "      <td>1</td>\n",
              "      <td>0</td>\n",
              "      <td>0</td>\n",
              "      <td>3</td>\n",
              "      <td>2</td>\n",
              "      <td>2</td>\n",
              "      <td>2</td>\n",
              "      <td>5</td>\n",
              "      <td>0</td>\n",
              "    </tr>\n",
              "    <tr>\n",
              "      <th>3</th>\n",
              "      <td>3</td>\n",
              "      <td>0</td>\n",
              "      <td>1</td>\n",
              "      <td>4</td>\n",
              "      <td>0</td>\n",
              "      <td>2</td>\n",
              "      <td>11</td>\n",
              "      <td>0</td>\n",
              "      <td>6</td>\n",
              "      <td>6</td>\n",
              "      <td>6</td>\n",
              "      <td>7</td>\n",
              "      <td>2</td>\n",
              "      <td>0</td>\n",
              "      <td>0</td>\n",
              "      <td>2</td>\n",
              "      <td>8</td>\n",
              "      <td>2</td>\n",
              "      <td>5</td>\n",
              "      <td>1</td>\n",
              "    </tr>\n",
              "    <tr>\n",
              "      <th>4</th>\n",
              "      <td>3</td>\n",
              "      <td>0</td>\n",
              "      <td>1</td>\n",
              "      <td>4</td>\n",
              "      <td>0</td>\n",
              "      <td>1</td>\n",
              "      <td>0</td>\n",
              "      <td>3</td>\n",
              "      <td>4</td>\n",
              "      <td>6</td>\n",
              "      <td>5</td>\n",
              "      <td>7</td>\n",
              "      <td>0</td>\n",
              "      <td>0</td>\n",
              "      <td>0</td>\n",
              "      <td>2</td>\n",
              "      <td>8</td>\n",
              "      <td>2</td>\n",
              "      <td>5</td>\n",
              "      <td>16</td>\n",
              "    </tr>\n",
              "  </tbody>\n",
              "</table>\n",
              "</div>\n",
              "      <button class=\"colab-df-convert\" onclick=\"convertToInteractive('df-666a1897-24cc-4a61-b811-4226a0942116')\"\n",
              "              title=\"Convert this dataframe to an interactive table.\"\n",
              "              style=\"display:none;\">\n",
              "        \n",
              "  <svg xmlns=\"http://www.w3.org/2000/svg\" height=\"24px\"viewBox=\"0 0 24 24\"\n",
              "       width=\"24px\">\n",
              "    <path d=\"M0 0h24v24H0V0z\" fill=\"none\"/>\n",
              "    <path d=\"M18.56 5.44l.94 2.06.94-2.06 2.06-.94-2.06-.94-.94-2.06-.94 2.06-2.06.94zm-11 1L8.5 8.5l.94-2.06 2.06-.94-2.06-.94L8.5 2.5l-.94 2.06-2.06.94zm10 10l.94 2.06.94-2.06 2.06-.94-2.06-.94-.94-2.06-.94 2.06-2.06.94z\"/><path d=\"M17.41 7.96l-1.37-1.37c-.4-.4-.92-.59-1.43-.59-.52 0-1.04.2-1.43.59L10.3 9.45l-7.72 7.72c-.78.78-.78 2.05 0 2.83L4 21.41c.39.39.9.59 1.41.59.51 0 1.02-.2 1.41-.59l7.78-7.78 2.81-2.81c.8-.78.8-2.07 0-2.86zM5.41 20L4 18.59l7.72-7.72 1.47 1.35L5.41 20z\"/>\n",
              "  </svg>\n",
              "      </button>\n",
              "      \n",
              "  <style>\n",
              "    .colab-df-container {\n",
              "      display:flex;\n",
              "      flex-wrap:wrap;\n",
              "      gap: 12px;\n",
              "    }\n",
              "\n",
              "    .colab-df-convert {\n",
              "      background-color: #E8F0FE;\n",
              "      border: none;\n",
              "      border-radius: 50%;\n",
              "      cursor: pointer;\n",
              "      display: none;\n",
              "      fill: #1967D2;\n",
              "      height: 32px;\n",
              "      padding: 0 0 0 0;\n",
              "      width: 32px;\n",
              "    }\n",
              "\n",
              "    .colab-df-convert:hover {\n",
              "      background-color: #E2EBFA;\n",
              "      box-shadow: 0px 1px 2px rgba(60, 64, 67, 0.3), 0px 1px 3px 1px rgba(60, 64, 67, 0.15);\n",
              "      fill: #174EA6;\n",
              "    }\n",
              "\n",
              "    [theme=dark] .colab-df-convert {\n",
              "      background-color: #3B4455;\n",
              "      fill: #D2E3FC;\n",
              "    }\n",
              "\n",
              "    [theme=dark] .colab-df-convert:hover {\n",
              "      background-color: #434B5C;\n",
              "      box-shadow: 0px 1px 3px 1px rgba(0, 0, 0, 0.15);\n",
              "      filter: drop-shadow(0px 1px 2px rgba(0, 0, 0, 0.3));\n",
              "      fill: #FFFFFF;\n",
              "    }\n",
              "  </style>\n",
              "\n",
              "      <script>\n",
              "        const buttonEl =\n",
              "          document.querySelector('#df-666a1897-24cc-4a61-b811-4226a0942116 button.colab-df-convert');\n",
              "        buttonEl.style.display =\n",
              "          google.colab.kernel.accessAllowed ? 'block' : 'none';\n",
              "\n",
              "        async function convertToInteractive(key) {\n",
              "          const element = document.querySelector('#df-666a1897-24cc-4a61-b811-4226a0942116');\n",
              "          const dataTable =\n",
              "            await google.colab.kernel.invokeFunction('convertToInteractive',\n",
              "                                                     [key], {});\n",
              "          if (!dataTable) return;\n",
              "\n",
              "          const docLinkHtml = 'Like what you see? Visit the ' +\n",
              "            '<a target=\"_blank\" href=https://colab.research.google.com/notebooks/data_table.ipynb>data table notebook</a>'\n",
              "            + ' to learn more about interactive tables.';\n",
              "          element.innerHTML = '';\n",
              "          dataTable['output_type'] = 'display_data';\n",
              "          await google.colab.output.renderOutput(dataTable, element);\n",
              "          const docLink = document.createElement('div');\n",
              "          docLink.innerHTML = docLinkHtml;\n",
              "          element.appendChild(docLink);\n",
              "        }\n",
              "      </script>\n",
              "    </div>\n",
              "  </div>\n",
              "  "
            ],
            "text/plain": [
              "   Day_of_week  Age_band_of_driver  Sex_of_driver  Educational_level  \\\n",
              "0            1                   0              1                  0   \n",
              "1            1                   1              1                  4   \n",
              "2            1                   0              1                  4   \n",
              "3            3                   0              1                  4   \n",
              "4            3                   0              1                  4   \n",
              "\n",
              "   Vehicle_driver_relation  Driving_experience  Type_of_vehicle  \\\n",
              "0                        0                   0                0   \n",
              "1                        0                   3               11   \n",
              "2                        0                   0                5   \n",
              "3                        0                   2               11   \n",
              "4                        0                   1                0   \n",
              "\n",
              "   Owner_of_vehicle  Area_accident_occured  Lanes_or_Medians  Road_allignment  \\\n",
              "0                 3                      9                 2                5   \n",
              "1                 3                      6                 4                5   \n",
              "2                 3                      1                 6                5   \n",
              "3                 0                      6                 6                6   \n",
              "4                 3                      4                 6                5   \n",
              "\n",
              "   Types_of_Junction  Road_surface_type  Road_surface_conditions  \\\n",
              "0                  1                  0                        0   \n",
              "1                  1                  0                        0   \n",
              "2                  1                  0                        0   \n",
              "3                  7                  2                        0   \n",
              "4                  7                  0                        0   \n",
              "\n",
              "   Light_conditions  Weather_conditions  Type_of_collision  Vehicle_movement  \\\n",
              "0                 3                   2                  3                 2   \n",
              "1                 3                   2                  8                 2   \n",
              "2                 3                   2                  2                 2   \n",
              "3                 0                   2                  8                 2   \n",
              "4                 0                   2                  8                 2   \n",
              "\n",
              "   Pedestrian_movement  Cause_of_accident  \n",
              "0                    5                  9  \n",
              "1                    5                 16  \n",
              "2                    5                  0  \n",
              "3                    5                  1  \n",
              "4                    5                 16  "
            ]
          },
          "execution_count": 371,
          "metadata": {},
          "output_type": "execute_result"
        }
      ],
      "source": [
        "#label encoded data set\n",
        "df1.head()"
      ]
    },
    {
      "cell_type": "code",
      "execution_count": null,
      "metadata": {
        "colab": {
          "base_uri": "https://localhost:8080/",
          "height": 75
        },
        "id": "rwYsOe7wQONu",
        "outputId": "dc69163e-3b64-4341-abb5-84cd3a6b4a7d"
      },
      "outputs": [
        {
          "data": {
            "text/html": [
              "<style>#sk-container-id-9 {color: black;background-color: white;}#sk-container-id-9 pre{padding: 0;}#sk-container-id-9 div.sk-toggleable {background-color: white;}#sk-container-id-9 label.sk-toggleable__label {cursor: pointer;display: block;width: 100%;margin-bottom: 0;padding: 0.3em;box-sizing: border-box;text-align: center;}#sk-container-id-9 label.sk-toggleable__label-arrow:before {content: \"▸\";float: left;margin-right: 0.25em;color: #696969;}#sk-container-id-9 label.sk-toggleable__label-arrow:hover:before {color: black;}#sk-container-id-9 div.sk-estimator:hover label.sk-toggleable__label-arrow:before {color: black;}#sk-container-id-9 div.sk-toggleable__content {max-height: 0;max-width: 0;overflow: hidden;text-align: left;background-color: #f0f8ff;}#sk-container-id-9 div.sk-toggleable__content pre {margin: 0.2em;color: black;border-radius: 0.25em;background-color: #f0f8ff;}#sk-container-id-9 input.sk-toggleable__control:checked~div.sk-toggleable__content {max-height: 200px;max-width: 100%;overflow: auto;}#sk-container-id-9 input.sk-toggleable__control:checked~label.sk-toggleable__label-arrow:before {content: \"▾\";}#sk-container-id-9 div.sk-estimator input.sk-toggleable__control:checked~label.sk-toggleable__label {background-color: #d4ebff;}#sk-container-id-9 div.sk-label input.sk-toggleable__control:checked~label.sk-toggleable__label {background-color: #d4ebff;}#sk-container-id-9 input.sk-hidden--visually {border: 0;clip: rect(1px 1px 1px 1px);clip: rect(1px, 1px, 1px, 1px);height: 1px;margin: -1px;overflow: hidden;padding: 0;position: absolute;width: 1px;}#sk-container-id-9 div.sk-estimator {font-family: monospace;background-color: #f0f8ff;border: 1px dotted black;border-radius: 0.25em;box-sizing: border-box;margin-bottom: 0.5em;}#sk-container-id-9 div.sk-estimator:hover {background-color: #d4ebff;}#sk-container-id-9 div.sk-parallel-item::after {content: \"\";width: 100%;border-bottom: 1px solid gray;flex-grow: 1;}#sk-container-id-9 div.sk-label:hover label.sk-toggleable__label {background-color: #d4ebff;}#sk-container-id-9 div.sk-serial::before {content: \"\";position: absolute;border-left: 1px solid gray;box-sizing: border-box;top: 0;bottom: 0;left: 50%;z-index: 0;}#sk-container-id-9 div.sk-serial {display: flex;flex-direction: column;align-items: center;background-color: white;padding-right: 0.2em;padding-left: 0.2em;position: relative;}#sk-container-id-9 div.sk-item {position: relative;z-index: 1;}#sk-container-id-9 div.sk-parallel {display: flex;align-items: stretch;justify-content: center;background-color: white;position: relative;}#sk-container-id-9 div.sk-item::before, #sk-container-id-9 div.sk-parallel-item::before {content: \"\";position: absolute;border-left: 1px solid gray;box-sizing: border-box;top: 0;bottom: 0;left: 50%;z-index: -1;}#sk-container-id-9 div.sk-parallel-item {display: flex;flex-direction: column;z-index: 1;position: relative;background-color: white;}#sk-container-id-9 div.sk-parallel-item:first-child::after {align-self: flex-end;width: 50%;}#sk-container-id-9 div.sk-parallel-item:last-child::after {align-self: flex-start;width: 50%;}#sk-container-id-9 div.sk-parallel-item:only-child::after {width: 0;}#sk-container-id-9 div.sk-dashed-wrapped {border: 1px dashed gray;margin: 0 0.4em 0.5em 0.4em;box-sizing: border-box;padding-bottom: 0.4em;background-color: white;}#sk-container-id-9 div.sk-label label {font-family: monospace;font-weight: bold;display: inline-block;line-height: 1.2em;}#sk-container-id-9 div.sk-label-container {text-align: center;}#sk-container-id-9 div.sk-container {/* jupyter's `normalize.less` sets `[hidden] { display: none; }` but bootstrap.min.css set `[hidden] { display: none !important; }` so we also need the `!important` here to be able to override the default hidden behavior on the sphinx rendered scikit-learn.org. See: https://github.com/scikit-learn/scikit-learn/issues/21755 */display: inline-block !important;position: relative;}#sk-container-id-9 div.sk-text-repr-fallback {display: none;}</style><div id=\"sk-container-id-9\" class=\"sk-top-container\"><div class=\"sk-text-repr-fallback\"><pre>SelectKBest(score_func=&lt;function chi2 at 0x7f794f406af0&gt;)</pre><b>In a Jupyter environment, please rerun this cell to show the HTML representation or trust the notebook. <br />On GitHub, the HTML representation is unable to render, please try loading this page with nbviewer.org.</b></div><div class=\"sk-container\" hidden><div class=\"sk-item\"><div class=\"sk-estimator sk-toggleable\"><input class=\"sk-toggleable__control sk-hidden--visually\" id=\"sk-estimator-id-9\" type=\"checkbox\" checked><label for=\"sk-estimator-id-9\" class=\"sk-toggleable__label sk-toggleable__label-arrow\">SelectKBest</label><div class=\"sk-toggleable__content\"><pre>SelectKBest(score_func=&lt;function chi2 at 0x7f794f406af0&gt;)</pre></div></div></div></div></div>"
            ],
            "text/plain": [
              "SelectKBest(score_func=<function chi2 at 0x7f794f406af0>)"
            ]
          },
          "execution_count": 372,
          "metadata": {},
          "output_type": "execute_result"
        }
      ],
      "source": [
        "# Apply chi-square feature selection and select the top K features\n",
        "from sklearn.feature_selection import chi2, SelectKBest\n",
        "K = 10\n",
        "selector = SelectKBest(chi2, k=K)\n",
        "selector.fit(df1, df['Accident_severity'])"
      ]
    },
    {
      "cell_type": "code",
      "execution_count": null,
      "metadata": {
        "id": "2MxtBz7ERFL9"
      },
      "outputs": [],
      "source": [
        "# Get the p-values of the features\n",
        "p_values = selector.pvalues_"
      ]
    },
    {
      "cell_type": "code",
      "execution_count": null,
      "metadata": {
        "id": "Zn8G1b90RHid"
      },
      "outputs": [],
      "source": [
        "# Set the significance level (alpha)\n",
        "alpha = 0.05"
      ]
    },
    {
      "cell_type": "code",
      "execution_count": null,
      "metadata": {
        "id": "Cpsxu2UNRLlN"
      },
      "outputs": [],
      "source": [
        "# Get the indices of the features that have a p-value less than alpha\n",
        "significant_indices = [i for i, p in enumerate(p_values) if p < alpha]"
      ]
    },
    {
      "cell_type": "code",
      "execution_count": null,
      "metadata": {
        "id": "wp99QsKmRR3i"
      },
      "outputs": [],
      "source": [
        "# Get the names of the top K features\n",
        "top_K_features = df1.columns[selector.get_support(indices=True)]"
      ]
    },
    {
      "cell_type": "code",
      "execution_count": null,
      "metadata": {
        "id": "ikrmTMuIRYu2"
      },
      "outputs": [],
      "source": [
        "# Select the top K features from the dataset\n",
        "X_selected = df1[top_K_features]"
      ]
    },
    {
      "cell_type": "code",
      "execution_count": null,
      "metadata": {
        "colab": {
          "base_uri": "https://localhost:8080/"
        },
        "id": "xIJEVQYzReUb",
        "outputId": "4ac841e7-287c-4b33-bd86-f8af63dfedba"
      },
      "outputs": [
        {
          "name": "stdout",
          "output_type": "stream",
          "text": [
            "<class 'pandas.core.frame.DataFrame'>\n",
            "RangeIndex: 8998 entries, 0 to 8997\n",
            "Data columns (total 10 columns):\n",
            " #   Column                   Non-Null Count  Dtype\n",
            "---  ------                   --------------  -----\n",
            " 0   Age_band_of_driver       8998 non-null   int64\n",
            " 1   Vehicle_driver_relation  8998 non-null   int64\n",
            " 2   Driving_experience       8998 non-null   int64\n",
            " 3   Type_of_vehicle          8998 non-null   int64\n",
            " 4   Road_surface_type        8998 non-null   int64\n",
            " 5   Light_conditions         8998 non-null   int64\n",
            " 6   Weather_conditions       8998 non-null   int64\n",
            " 7   Type_of_collision        8998 non-null   int64\n",
            " 8   Vehicle_movement         8998 non-null   int64\n",
            " 9   Cause_of_accident        8998 non-null   int64\n",
            "dtypes: int64(10)\n",
            "memory usage: 703.1 KB\n"
          ]
        }
      ],
      "source": [
        "X_selected.info()"
      ]
    },
    {
      "cell_type": "markdown",
      "metadata": {
        "id": "e21KCIsKimT7"
      },
      "source": [
        "**`Inference:`** From above table we need those features which have high F-statistic value and low P-value. We remove the lowest F-statistic values."
      ]
    },
    {
      "cell_type": "code",
      "execution_count": null,
      "metadata": {
        "id": "uF1udvEyTniI"
      },
      "outputs": [],
      "source": [
        "df1 = df.drop([\"Day_of_week\",\"Sex_of_driver\",\"Educational_level\",\"Type_of_vehicle\",\"Owner_of_vehicle\",\"Road_allignment\",\"Road_surface_type\",\"Road_surface_conditions\",\"Weather_conditions\",\"Vehicle_movement\",\"Pedestrian_movement\"],axis=1)"
      ]
    },
    {
      "cell_type": "code",
      "execution_count": null,
      "metadata": {
        "colab": {
          "base_uri": "https://localhost:8080/",
          "height": 374
        },
        "id": "xDii7inYVdml",
        "outputId": "9aa546d4-4593-48be-abe4-cae6d74d7145"
      },
      "outputs": [
        {
          "data": {
            "text/html": [
              "\n",
              "  <div id=\"df-289f6659-1b57-4441-9d7c-c18b97525ac0\">\n",
              "    <div class=\"colab-df-container\">\n",
              "      <div>\n",
              "<style scoped>\n",
              "    .dataframe tbody tr th:only-of-type {\n",
              "        vertical-align: middle;\n",
              "    }\n",
              "\n",
              "    .dataframe tbody tr th {\n",
              "        vertical-align: top;\n",
              "    }\n",
              "\n",
              "    .dataframe thead th {\n",
              "        text-align: right;\n",
              "    }\n",
              "</style>\n",
              "<table border=\"1\" class=\"dataframe\">\n",
              "  <thead>\n",
              "    <tr style=\"text-align: right;\">\n",
              "      <th></th>\n",
              "      <th>Age_band_of_driver</th>\n",
              "      <th>Vehicle_driver_relation</th>\n",
              "      <th>Driving_experience</th>\n",
              "      <th>Area_accident_occured</th>\n",
              "      <th>Lanes_or_Medians</th>\n",
              "      <th>Types_of_Junction</th>\n",
              "      <th>Light_conditions</th>\n",
              "      <th>Type_of_collision</th>\n",
              "      <th>Number_of_vehicles_involved</th>\n",
              "      <th>Number_of_casualties</th>\n",
              "      <th>Cause_of_accident</th>\n",
              "      <th>Accident_severity</th>\n",
              "    </tr>\n",
              "  </thead>\n",
              "  <tbody>\n",
              "    <tr>\n",
              "      <th>0</th>\n",
              "      <td>18-30</td>\n",
              "      <td>Employee</td>\n",
              "      <td>1-2yr</td>\n",
              "      <td>Residential areas</td>\n",
              "      <td>Two-way (divided with broken lines road marking)</td>\n",
              "      <td>No junction</td>\n",
              "      <td>Daylight</td>\n",
              "      <td>Collision with roadside-parked vehicles</td>\n",
              "      <td>2.0</td>\n",
              "      <td>2.0</td>\n",
              "      <td>Moving Backward</td>\n",
              "      <td>Slight Injury</td>\n",
              "    </tr>\n",
              "    <tr>\n",
              "      <th>1</th>\n",
              "      <td>31-50</td>\n",
              "      <td>Employee</td>\n",
              "      <td>Above 10yr</td>\n",
              "      <td>Office areas</td>\n",
              "      <td>Undivided Two way</td>\n",
              "      <td>No junction</td>\n",
              "      <td>Daylight</td>\n",
              "      <td>Vehicle with vehicle collision</td>\n",
              "      <td>2.0</td>\n",
              "      <td>2.0</td>\n",
              "      <td>Overtaking</td>\n",
              "      <td>Slight Injury</td>\n",
              "    </tr>\n",
              "    <tr>\n",
              "      <th>2</th>\n",
              "      <td>18-30</td>\n",
              "      <td>Employee</td>\n",
              "      <td>1-2yr</td>\n",
              "      <td>Recreational areas</td>\n",
              "      <td>other</td>\n",
              "      <td>No junction</td>\n",
              "      <td>Daylight</td>\n",
              "      <td>Collision with roadside objects</td>\n",
              "      <td>2.0</td>\n",
              "      <td>2.0</td>\n",
              "      <td>Changing lane to the left</td>\n",
              "      <td>Serious Injury</td>\n",
              "    </tr>\n",
              "    <tr>\n",
              "      <th>3</th>\n",
              "      <td>18-30</td>\n",
              "      <td>Employee</td>\n",
              "      <td>5-10yr</td>\n",
              "      <td>Office areas</td>\n",
              "      <td>other</td>\n",
              "      <td>Y Shape</td>\n",
              "      <td>Darkness - lights lit</td>\n",
              "      <td>Vehicle with vehicle collision</td>\n",
              "      <td>2.0</td>\n",
              "      <td>2.0</td>\n",
              "      <td>Changing lane to the right</td>\n",
              "      <td>Slight Injury</td>\n",
              "    </tr>\n",
              "    <tr>\n",
              "      <th>4</th>\n",
              "      <td>18-30</td>\n",
              "      <td>Employee</td>\n",
              "      <td>2-5yr</td>\n",
              "      <td>Industrial areas</td>\n",
              "      <td>other</td>\n",
              "      <td>Y Shape</td>\n",
              "      <td>Darkness - lights lit</td>\n",
              "      <td>Vehicle with vehicle collision</td>\n",
              "      <td>2.0</td>\n",
              "      <td>2.0</td>\n",
              "      <td>Overtaking</td>\n",
              "      <td>Slight Injury</td>\n",
              "    </tr>\n",
              "  </tbody>\n",
              "</table>\n",
              "</div>\n",
              "      <button class=\"colab-df-convert\" onclick=\"convertToInteractive('df-289f6659-1b57-4441-9d7c-c18b97525ac0')\"\n",
              "              title=\"Convert this dataframe to an interactive table.\"\n",
              "              style=\"display:none;\">\n",
              "        \n",
              "  <svg xmlns=\"http://www.w3.org/2000/svg\" height=\"24px\"viewBox=\"0 0 24 24\"\n",
              "       width=\"24px\">\n",
              "    <path d=\"M0 0h24v24H0V0z\" fill=\"none\"/>\n",
              "    <path d=\"M18.56 5.44l.94 2.06.94-2.06 2.06-.94-2.06-.94-.94-2.06-.94 2.06-2.06.94zm-11 1L8.5 8.5l.94-2.06 2.06-.94-2.06-.94L8.5 2.5l-.94 2.06-2.06.94zm10 10l.94 2.06.94-2.06 2.06-.94-2.06-.94-.94-2.06-.94 2.06-2.06.94z\"/><path d=\"M17.41 7.96l-1.37-1.37c-.4-.4-.92-.59-1.43-.59-.52 0-1.04.2-1.43.59L10.3 9.45l-7.72 7.72c-.78.78-.78 2.05 0 2.83L4 21.41c.39.39.9.59 1.41.59.51 0 1.02-.2 1.41-.59l7.78-7.78 2.81-2.81c.8-.78.8-2.07 0-2.86zM5.41 20L4 18.59l7.72-7.72 1.47 1.35L5.41 20z\"/>\n",
              "  </svg>\n",
              "      </button>\n",
              "      \n",
              "  <style>\n",
              "    .colab-df-container {\n",
              "      display:flex;\n",
              "      flex-wrap:wrap;\n",
              "      gap: 12px;\n",
              "    }\n",
              "\n",
              "    .colab-df-convert {\n",
              "      background-color: #E8F0FE;\n",
              "      border: none;\n",
              "      border-radius: 50%;\n",
              "      cursor: pointer;\n",
              "      display: none;\n",
              "      fill: #1967D2;\n",
              "      height: 32px;\n",
              "      padding: 0 0 0 0;\n",
              "      width: 32px;\n",
              "    }\n",
              "\n",
              "    .colab-df-convert:hover {\n",
              "      background-color: #E2EBFA;\n",
              "      box-shadow: 0px 1px 2px rgba(60, 64, 67, 0.3), 0px 1px 3px 1px rgba(60, 64, 67, 0.15);\n",
              "      fill: #174EA6;\n",
              "    }\n",
              "\n",
              "    [theme=dark] .colab-df-convert {\n",
              "      background-color: #3B4455;\n",
              "      fill: #D2E3FC;\n",
              "    }\n",
              "\n",
              "    [theme=dark] .colab-df-convert:hover {\n",
              "      background-color: #434B5C;\n",
              "      box-shadow: 0px 1px 3px 1px rgba(0, 0, 0, 0.15);\n",
              "      filter: drop-shadow(0px 1px 2px rgba(0, 0, 0, 0.3));\n",
              "      fill: #FFFFFF;\n",
              "    }\n",
              "  </style>\n",
              "\n",
              "      <script>\n",
              "        const buttonEl =\n",
              "          document.querySelector('#df-289f6659-1b57-4441-9d7c-c18b97525ac0 button.colab-df-convert');\n",
              "        buttonEl.style.display =\n",
              "          google.colab.kernel.accessAllowed ? 'block' : 'none';\n",
              "\n",
              "        async function convertToInteractive(key) {\n",
              "          const element = document.querySelector('#df-289f6659-1b57-4441-9d7c-c18b97525ac0');\n",
              "          const dataTable =\n",
              "            await google.colab.kernel.invokeFunction('convertToInteractive',\n",
              "                                                     [key], {});\n",
              "          if (!dataTable) return;\n",
              "\n",
              "          const docLinkHtml = 'Like what you see? Visit the ' +\n",
              "            '<a target=\"_blank\" href=https://colab.research.google.com/notebooks/data_table.ipynb>data table notebook</a>'\n",
              "            + ' to learn more about interactive tables.';\n",
              "          element.innerHTML = '';\n",
              "          dataTable['output_type'] = 'display_data';\n",
              "          await google.colab.output.renderOutput(dataTable, element);\n",
              "          const docLink = document.createElement('div');\n",
              "          docLink.innerHTML = docLinkHtml;\n",
              "          element.appendChild(docLink);\n",
              "        }\n",
              "      </script>\n",
              "    </div>\n",
              "  </div>\n",
              "  "
            ],
            "text/plain": [
              "  Age_band_of_driver Vehicle_driver_relation Driving_experience  \\\n",
              "0              18-30                Employee              1-2yr   \n",
              "1              31-50                Employee         Above 10yr   \n",
              "2              18-30                Employee              1-2yr   \n",
              "3              18-30                Employee             5-10yr   \n",
              "4              18-30                Employee              2-5yr   \n",
              "\n",
              "  Area_accident_occured                                  Lanes_or_Medians  \\\n",
              "0     Residential areas  Two-way (divided with broken lines road marking)   \n",
              "1          Office areas                                 Undivided Two way   \n",
              "2    Recreational areas                                             other   \n",
              "3          Office areas                                             other   \n",
              "4      Industrial areas                                             other   \n",
              "\n",
              "  Types_of_Junction       Light_conditions  \\\n",
              "0       No junction               Daylight   \n",
              "1       No junction               Daylight   \n",
              "2       No junction               Daylight   \n",
              "3           Y Shape  Darkness - lights lit   \n",
              "4           Y Shape  Darkness - lights lit   \n",
              "\n",
              "                         Type_of_collision  Number_of_vehicles_involved  \\\n",
              "0  Collision with roadside-parked vehicles                          2.0   \n",
              "1           Vehicle with vehicle collision                          2.0   \n",
              "2          Collision with roadside objects                          2.0   \n",
              "3           Vehicle with vehicle collision                          2.0   \n",
              "4           Vehicle with vehicle collision                          2.0   \n",
              "\n",
              "   Number_of_casualties           Cause_of_accident Accident_severity  \n",
              "0                   2.0             Moving Backward     Slight Injury  \n",
              "1                   2.0                  Overtaking     Slight Injury  \n",
              "2                   2.0   Changing lane to the left    Serious Injury  \n",
              "3                   2.0  Changing lane to the right     Slight Injury  \n",
              "4                   2.0                  Overtaking     Slight Injury  "
            ]
          },
          "execution_count": 380,
          "metadata": {},
          "output_type": "execute_result"
        }
      ],
      "source": [
        "df1.head()"
      ]
    },
    {
      "cell_type": "code",
      "execution_count": null,
      "metadata": {
        "colab": {
          "base_uri": "https://localhost:8080/"
        },
        "id": "kxpbRF-hXOvk",
        "outputId": "2b8e831e-7642-4079-b174-26842d9accf1"
      },
      "outputs": [
        {
          "data": {
            "text/plain": [
              "(8998, 12)"
            ]
          },
          "execution_count": 381,
          "metadata": {},
          "output_type": "execute_result"
        }
      ],
      "source": [
        "df1.shape"
      ]
    },
    {
      "cell_type": "code",
      "execution_count": null,
      "metadata": {
        "colab": {
          "base_uri": "https://localhost:8080/"
        },
        "id": "k_ZrS_0EXSkl",
        "outputId": "8bd2edbf-72ab-44ec-fa0b-64efc5d654c1"
      },
      "outputs": [
        {
          "name": "stdout",
          "output_type": "stream",
          "text": [
            "<class 'pandas.core.frame.DataFrame'>\n",
            "RangeIndex: 8998 entries, 0 to 8997\n",
            "Data columns (total 12 columns):\n",
            " #   Column                       Non-Null Count  Dtype  \n",
            "---  ------                       --------------  -----  \n",
            " 0   Age_band_of_driver           8998 non-null   object \n",
            " 1   Vehicle_driver_relation      8998 non-null   object \n",
            " 2   Driving_experience           8998 non-null   object \n",
            " 3   Area_accident_occured        8998 non-null   object \n",
            " 4   Lanes_or_Medians             8998 non-null   object \n",
            " 5   Types_of_Junction            8998 non-null   object \n",
            " 6   Light_conditions             8998 non-null   object \n",
            " 7   Type_of_collision            8998 non-null   object \n",
            " 8   Number_of_vehicles_involved  8998 non-null   float64\n",
            " 9   Number_of_casualties         8998 non-null   float64\n",
            " 10  Cause_of_accident            8998 non-null   object \n",
            " 11  Accident_severity            8998 non-null   object \n",
            "dtypes: float64(2), object(10)\n",
            "memory usage: 843.7+ KB\n"
          ]
        }
      ],
      "source": [
        "df1.info()"
      ]
    },
    {
      "cell_type": "code",
      "execution_count": null,
      "metadata": {
        "colab": {
          "base_uri": "https://localhost:8080/"
        },
        "id": "MYZX8NUBXlPR",
        "outputId": "4b72f41f-e639-4614-d391-ab16d886528a"
      },
      "outputs": [
        {
          "name": "stdout",
          "output_type": "stream",
          "text": [
            "the number of column 10\n",
            "the number of column ['Age_band_of_driver', 'Vehicle_driver_relation', 'Driving_experience', 'Area_accident_occured', 'Lanes_or_Medians', 'Types_of_Junction', 'Light_conditions', 'Type_of_collision', 'Cause_of_accident', 'Accident_severity']\n"
          ]
        }
      ],
      "source": [
        "categorical_df1 = [i for i in df1.columns if df1[i].dtype =='object']\n",
        "number = len(categorical_df1)\n",
        "print(\"the number of column\",number)\n",
        "print(\"the number of column\",categorical_df1)"
      ]
    },
    {
      "cell_type": "code",
      "execution_count": null,
      "metadata": {
        "colab": {
          "base_uri": "https://localhost:8080/"
        },
        "id": "2F-7vturYxYZ",
        "outputId": "97aa7652-0999-42e1-a358-e4479755824a"
      },
      "outputs": [
        {
          "name": "stdout",
          "output_type": "stream",
          "text": [
            "18-30       3037\n",
            "31-50       2957\n",
            "Unknown     1365\n",
            "Over 51     1045\n",
            "Under 18     594\n",
            "Name: Age_band_of_driver, dtype: int64\n",
            "Employee    7371\n",
            "Owner       1524\n",
            "Other         89\n",
            "Unknown       14\n",
            "Name: Vehicle_driver_relation, dtype: int64\n",
            "5-10yr        3078\n",
            "2-5yr         1888\n",
            "Above 10yr    1665\n",
            "1-2yr         1266\n",
            "Below 1yr      987\n",
            "No Licence      87\n",
            "unknown         27\n",
            "Name: Driving_experience, dtype: int64\n",
            "Other                              2950\n",
            "Office areas                       2531\n",
            "Residential areas                  1487\n",
            " Church areas                       772\n",
            " Industrial areas                   353\n",
            "School areas                        288\n",
            "  Recreational areas                241\n",
            " Outside rural areas                169\n",
            " Hospital areas                      92\n",
            "  Market areas                       48\n",
            "Rural village areas                  36\n",
            "Unknown                              18\n",
            "Rural village areasOffice areas      12\n",
            "Recreational areas                    1\n",
            "Name: Area_accident_occured, dtype: int64\n",
            "Two-way (divided with broken lines road marking)    3482\n",
            "Undivided Two way                                   2761\n",
            "other                                               1241\n",
            "Double carriageway (median)                          777\n",
            "One way                                              599\n",
            "Two-way (divided with solid lines road marking)       95\n",
            "Unknown                                               43\n",
            "Name: Lanes_or_Medians, dtype: int64\n",
            "Y Shape        3508\n",
            "No junction    3077\n",
            "Crossing       1678\n",
            "Other           379\n",
            "Unknown         157\n",
            "O Shape         130\n",
            "T Shape          60\n",
            "X Shape           9\n",
            "Name: Types_of_Junction, dtype: int64\n",
            "Daylight                   6452\n",
            "Darkness - lights lit      2405\n",
            "Darkness - no lighting      123\n",
            "Darkness - lights unlit      18\n",
            "Name: Light_conditions, dtype: int64\n",
            "Vehicle with vehicle collision             6499\n",
            "Collision with roadside objects            1305\n",
            "Collision with pedestrians                  660\n",
            "Rollover                                    293\n",
            "Collision with animals                      133\n",
            "Collision with roadside-parked vehicles      42\n",
            "Fall from vehicles                           26\n",
            "Other                                        19\n",
            "Unknown                                      14\n",
            "With Train                                    7\n",
            "Name: Type_of_collision, dtype: int64\n",
            "No distancing                           1660\n",
            "Changing lane to the right              1344\n",
            "Changing lane to the left               1054\n",
            "Driving carelessly                      1010\n",
            "No priority to vehicle                   872\n",
            "Moving Backward                          836\n",
            "No priority to pedestrian                538\n",
            "Other                                    342\n",
            "Overtaking                               313\n",
            "Driving under the influence of drugs     237\n",
            "Driving to the left                      204\n",
            "Getting off the vehicle improperly       140\n",
            "Driving at high speed                    131\n",
            "Overturning                              108\n",
            "Turnover                                  58\n",
            "Overspeed                                 46\n",
            "Overloading                               46\n",
            "Drunk driving                             21\n",
            "Unknown                                   19\n",
            "Improper parking                          19\n",
            "Name: Cause_of_accident, dtype: int64\n",
            "Slight Injury     7730\n",
            "Serious Injury    1179\n",
            "Fatal injury        89\n",
            "Name: Accident_severity, dtype: int64\n"
          ]
        }
      ],
      "source": [
        "for i in categorical_df1:\n",
        "  print(df1[i].value_counts())"
      ]
    },
    {
      "cell_type": "markdown",
      "metadata": {
        "id": "FXnLc4wbi3fy"
      },
      "source": [
        "**Inference:** Here there some values in the column which is denoted as unknown.Remove the unknown values."
      ]
    },
    {
      "cell_type": "code",
      "execution_count": null,
      "metadata": {
        "colab": {
          "base_uri": "https://localhost:8080/"
        },
        "id": "_bmqA9isN2TG",
        "outputId": "9da8b910-ba8d-4ae7-f6c6-041b9d21efc5"
      },
      "outputs": [
        {
          "data": {
            "text/plain": [
              "Age_band_of_driver             0\n",
              "Vehicle_driver_relation        0\n",
              "Driving_experience             0\n",
              "Area_accident_occured          0\n",
              "Lanes_or_Medians               0\n",
              "Types_of_Junction              0\n",
              "Light_conditions               0\n",
              "Type_of_collision              0\n",
              "Number_of_vehicles_involved    0\n",
              "Number_of_casualties           0\n",
              "Cause_of_accident              0\n",
              "Accident_severity              0\n",
              "dtype: int64"
            ]
          },
          "execution_count": 385,
          "metadata": {},
          "output_type": "execute_result"
        }
      ],
      "source": [
        "df1.isnull().sum()"
      ]
    },
    {
      "cell_type": "markdown",
      "metadata": {
        "id": "BpbwTVHRjCc3"
      },
      "source": [
        "**FEATURE ENGINEERING**"
      ]
    },
    {
      "cell_type": "markdown",
      "metadata": {
        "id": "dfEoUE_wjH7h"
      },
      "source": [
        "Imputing those unknown and Unknown values using mode."
      ]
    },
    {
      "cell_type": "code",
      "execution_count": null,
      "metadata": {
        "id": "Pflvaz92amBP"
      },
      "outputs": [],
      "source": [
        "from sklearn.impute import SimpleImputer\n",
        "imp = SimpleImputer(missing_values='unknown', strategy='most_frequent')\n",
        "imp.fit(df1)\n",
        "df2=imp.transform(df1)"
      ]
    },
    {
      "cell_type": "code",
      "execution_count": null,
      "metadata": {
        "id": "omdMzuWmcfa9"
      },
      "outputs": [],
      "source": [
        "from sklearn.impute import SimpleImputer\n",
        "imp = SimpleImputer(missing_values =\"Unknown\",strategy=\"most_frequent\")\n",
        "imp.fit(df2)\n",
        "df3 = imp.transform(df2)"
      ]
    },
    {
      "cell_type": "code",
      "execution_count": null,
      "metadata": {
        "id": "tyA5b6-4eFAw"
      },
      "outputs": [],
      "source": [
        "df3 = pd.DataFrame(df3, columns=df1.columns)"
      ]
    },
    {
      "cell_type": "code",
      "execution_count": null,
      "metadata": {
        "colab": {
          "base_uri": "https://localhost:8080/"
        },
        "id": "Sgb4Y1J5hJcz",
        "outputId": "0449a657-3671-4349-c9b9-2ab1546cdf9b"
      },
      "outputs": [
        {
          "name": "stdout",
          "output_type": "stream",
          "text": [
            "<class 'pandas.core.frame.DataFrame'>\n",
            "RangeIndex: 8998 entries, 0 to 8997\n",
            "Data columns (total 12 columns):\n",
            " #   Column                       Non-Null Count  Dtype \n",
            "---  ------                       --------------  ----- \n",
            " 0   Age_band_of_driver           8998 non-null   object\n",
            " 1   Vehicle_driver_relation      8998 non-null   object\n",
            " 2   Driving_experience           8998 non-null   object\n",
            " 3   Area_accident_occured        8998 non-null   object\n",
            " 4   Lanes_or_Medians             8998 non-null   object\n",
            " 5   Types_of_Junction            8998 non-null   object\n",
            " 6   Light_conditions             8998 non-null   object\n",
            " 7   Type_of_collision            8998 non-null   object\n",
            " 8   Number_of_vehicles_involved  8998 non-null   object\n",
            " 9   Number_of_casualties         8998 non-null   object\n",
            " 10  Cause_of_accident            8998 non-null   object\n",
            " 11  Accident_severity            8998 non-null   object\n",
            "dtypes: object(12)\n",
            "memory usage: 843.7+ KB\n"
          ]
        }
      ],
      "source": [
        "df3.info()"
      ]
    },
    {
      "cell_type": "code",
      "execution_count": null,
      "metadata": {
        "colab": {
          "base_uri": "https://localhost:8080/"
        },
        "id": "r46aSugahW0d",
        "outputId": "142882ba-7c16-4c25-d0fe-9ea2e5a2a671"
      },
      "outputs": [
        {
          "name": "stdout",
          "output_type": "stream",
          "text": [
            "18-30       4402\n",
            "31-50       2957\n",
            "Over 51     1045\n",
            "Under 18     594\n",
            "Name: Age_band_of_driver, dtype: int64\n",
            "Employee    7385\n",
            "Owner       1524\n",
            "Other         89\n",
            "Name: Vehicle_driver_relation, dtype: int64\n",
            "5-10yr        3105\n",
            "2-5yr         1888\n",
            "Above 10yr    1665\n",
            "1-2yr         1266\n",
            "Below 1yr      987\n",
            "No Licence      87\n",
            "Name: Driving_experience, dtype: int64\n",
            "Other                              2968\n",
            "Office areas                       2531\n",
            "Residential areas                  1487\n",
            " Church areas                       772\n",
            " Industrial areas                   353\n",
            "School areas                        288\n",
            "  Recreational areas                241\n",
            " Outside rural areas                169\n",
            " Hospital areas                      92\n",
            "  Market areas                       48\n",
            "Rural village areas                  36\n",
            "Rural village areasOffice areas      12\n",
            "Recreational areas                    1\n",
            "Name: Area_accident_occured, dtype: int64\n",
            "Two-way (divided with broken lines road marking)    3525\n",
            "Undivided Two way                                   2761\n",
            "other                                               1241\n",
            "Double carriageway (median)                          777\n",
            "One way                                              599\n",
            "Two-way (divided with solid lines road marking)       95\n",
            "Name: Lanes_or_Medians, dtype: int64\n",
            "Y Shape        3665\n",
            "No junction    3077\n",
            "Crossing       1678\n",
            "Other           379\n",
            "O Shape         130\n",
            "T Shape          60\n",
            "X Shape           9\n",
            "Name: Types_of_Junction, dtype: int64\n",
            "Daylight                   6452\n",
            "Darkness - lights lit      2405\n",
            "Darkness - no lighting      123\n",
            "Darkness - lights unlit      18\n",
            "Name: Light_conditions, dtype: int64\n",
            "Vehicle with vehicle collision             6513\n",
            "Collision with roadside objects            1305\n",
            "Collision with pedestrians                  660\n",
            "Rollover                                    293\n",
            "Collision with animals                      133\n",
            "Collision with roadside-parked vehicles      42\n",
            "Fall from vehicles                           26\n",
            "Other                                        19\n",
            "With Train                                    7\n",
            "Name: Type_of_collision, dtype: int64\n",
            "2.000000    6270\n",
            "1.000000    1423\n",
            "3.000000    1050\n",
            "4.000000     241\n",
            "7.000000       7\n",
            "6.000000       6\n",
            "2.018673       1\n",
            "Name: Number_of_vehicles_involved, dtype: int64\n",
            "1.000000    6289\n",
            "2.000000    1582\n",
            "3.000000     622\n",
            "4.000000     268\n",
            "5.000000     143\n",
            "6.000000      63\n",
            "7.000000      22\n",
            "8.000000       8\n",
            "1.522952       1\n",
            "Name: Number_of_casualties, dtype: int64\n",
            "No distancing                           1679\n",
            "Changing lane to the right              1344\n",
            "Changing lane to the left               1054\n",
            "Driving carelessly                      1010\n",
            "No priority to vehicle                   872\n",
            "Moving Backward                          836\n",
            "No priority to pedestrian                538\n",
            "Other                                    342\n",
            "Overtaking                               313\n",
            "Driving under the influence of drugs     237\n",
            "Driving to the left                      204\n",
            "Getting off the vehicle improperly       140\n",
            "Driving at high speed                    131\n",
            "Overturning                              108\n",
            "Turnover                                  58\n",
            "Overspeed                                 46\n",
            "Overloading                               46\n",
            "Drunk driving                             21\n",
            "Improper parking                          19\n",
            "Name: Cause_of_accident, dtype: int64\n",
            "Slight Injury     7730\n",
            "Serious Injury    1179\n",
            "Fatal injury        89\n",
            "Name: Accident_severity, dtype: int64\n"
          ]
        }
      ],
      "source": [
        "for i in df3:\n",
        "  print(df3[i].value_counts())"
      ]
    },
    {
      "cell_type": "markdown",
      "metadata": {
        "id": "kQzwMr7rjmTf"
      },
      "source": [
        "**Inference:** Here from the dataset we have removed the rows called unknown."
      ]
    },
    {
      "cell_type": "markdown",
      "metadata": {
        "id": "5ttAnwPOh6Ii"
      },
      "source": [
        "**Handling Categorical values**"
      ]
    },
    {
      "cell_type": "markdown",
      "metadata": {
        "id": "IXOgXEXdiHwc"
      },
      "source": [
        "Handling categorical values using one-hot encoding."
      ]
    },
    {
      "cell_type": "code",
      "execution_count": null,
      "metadata": {
        "id": "JO9W3NE2hxXp"
      },
      "outputs": [],
      "source": [
        "df3[\"Number_of_vehicles_involved\"] = df3[\"Number_of_vehicles_involved\"].astype(int)\n",
        "df3[\"Number_of_casualties\"]=df3[\"Number_of_casualties\"].astype(int)"
      ]
    },
    {
      "cell_type": "code",
      "execution_count": null,
      "metadata": {
        "colab": {
          "base_uri": "https://localhost:8080/"
        },
        "id": "MFE7clJzijTB",
        "outputId": "702d211a-e405-4020-aa9b-6bfe77d17b56"
      },
      "outputs": [
        {
          "name": "stdout",
          "output_type": "stream",
          "text": [
            "<class 'pandas.core.frame.DataFrame'>\n",
            "RangeIndex: 8998 entries, 0 to 8997\n",
            "Data columns (total 12 columns):\n",
            " #   Column                       Non-Null Count  Dtype \n",
            "---  ------                       --------------  ----- \n",
            " 0   Age_band_of_driver           8998 non-null   object\n",
            " 1   Vehicle_driver_relation      8998 non-null   object\n",
            " 2   Driving_experience           8998 non-null   object\n",
            " 3   Area_accident_occured        8998 non-null   object\n",
            " 4   Lanes_or_Medians             8998 non-null   object\n",
            " 5   Types_of_Junction            8998 non-null   object\n",
            " 6   Light_conditions             8998 non-null   object\n",
            " 7   Type_of_collision            8998 non-null   object\n",
            " 8   Number_of_vehicles_involved  8998 non-null   int64 \n",
            " 9   Number_of_casualties         8998 non-null   int64 \n",
            " 10  Cause_of_accident            8998 non-null   object\n",
            " 11  Accident_severity            8998 non-null   object\n",
            "dtypes: int64(2), object(10)\n",
            "memory usage: 843.7+ KB\n"
          ]
        }
      ],
      "source": [
        "df3.info()"
      ]
    },
    {
      "cell_type": "markdown",
      "metadata": {
        "id": "tc-1tkdji5ge"
      },
      "source": [
        "Using one-hot encoding to convert the dataset into numericals."
      ]
    },
    {
      "cell_type": "code",
      "execution_count": null,
      "metadata": {
        "colab": {
          "base_uri": "https://localhost:8080/",
          "height": 374
        },
        "id": "UY672z9GlNA8",
        "outputId": "5245e23f-2a15-48e6-f435-5efbfea219e7"
      },
      "outputs": [
        {
          "data": {
            "text/html": [
              "\n",
              "  <div id=\"df-75eb7480-291a-4811-99c2-f6d35281608e\">\n",
              "    <div class=\"colab-df-container\">\n",
              "      <div>\n",
              "<style scoped>\n",
              "    .dataframe tbody tr th:only-of-type {\n",
              "        vertical-align: middle;\n",
              "    }\n",
              "\n",
              "    .dataframe tbody tr th {\n",
              "        vertical-align: top;\n",
              "    }\n",
              "\n",
              "    .dataframe thead th {\n",
              "        text-align: right;\n",
              "    }\n",
              "</style>\n",
              "<table border=\"1\" class=\"dataframe\">\n",
              "  <thead>\n",
              "    <tr style=\"text-align: right;\">\n",
              "      <th></th>\n",
              "      <th>Age_band_of_driver</th>\n",
              "      <th>Vehicle_driver_relation</th>\n",
              "      <th>Driving_experience</th>\n",
              "      <th>Area_accident_occured</th>\n",
              "      <th>Lanes_or_Medians</th>\n",
              "      <th>Types_of_Junction</th>\n",
              "      <th>Light_conditions</th>\n",
              "      <th>Type_of_collision</th>\n",
              "      <th>Number_of_vehicles_involved</th>\n",
              "      <th>Number_of_casualties</th>\n",
              "      <th>Cause_of_accident</th>\n",
              "      <th>Accident_severity</th>\n",
              "    </tr>\n",
              "  </thead>\n",
              "  <tbody>\n",
              "    <tr>\n",
              "      <th>0</th>\n",
              "      <td>18-30</td>\n",
              "      <td>Employee</td>\n",
              "      <td>1-2yr</td>\n",
              "      <td>Residential areas</td>\n",
              "      <td>Two-way (divided with broken lines road marking)</td>\n",
              "      <td>No junction</td>\n",
              "      <td>Daylight</td>\n",
              "      <td>Collision with roadside-parked vehicles</td>\n",
              "      <td>2</td>\n",
              "      <td>2</td>\n",
              "      <td>Moving Backward</td>\n",
              "      <td>Slight Injury</td>\n",
              "    </tr>\n",
              "    <tr>\n",
              "      <th>1</th>\n",
              "      <td>31-50</td>\n",
              "      <td>Employee</td>\n",
              "      <td>Above 10yr</td>\n",
              "      <td>Office areas</td>\n",
              "      <td>Undivided Two way</td>\n",
              "      <td>No junction</td>\n",
              "      <td>Daylight</td>\n",
              "      <td>Vehicle with vehicle collision</td>\n",
              "      <td>2</td>\n",
              "      <td>2</td>\n",
              "      <td>Overtaking</td>\n",
              "      <td>Slight Injury</td>\n",
              "    </tr>\n",
              "    <tr>\n",
              "      <th>2</th>\n",
              "      <td>18-30</td>\n",
              "      <td>Employee</td>\n",
              "      <td>1-2yr</td>\n",
              "      <td>Recreational areas</td>\n",
              "      <td>other</td>\n",
              "      <td>No junction</td>\n",
              "      <td>Daylight</td>\n",
              "      <td>Collision with roadside objects</td>\n",
              "      <td>2</td>\n",
              "      <td>2</td>\n",
              "      <td>Changing lane to the left</td>\n",
              "      <td>Serious Injury</td>\n",
              "    </tr>\n",
              "    <tr>\n",
              "      <th>3</th>\n",
              "      <td>18-30</td>\n",
              "      <td>Employee</td>\n",
              "      <td>5-10yr</td>\n",
              "      <td>Office areas</td>\n",
              "      <td>other</td>\n",
              "      <td>Y Shape</td>\n",
              "      <td>Darkness - lights lit</td>\n",
              "      <td>Vehicle with vehicle collision</td>\n",
              "      <td>2</td>\n",
              "      <td>2</td>\n",
              "      <td>Changing lane to the right</td>\n",
              "      <td>Slight Injury</td>\n",
              "    </tr>\n",
              "    <tr>\n",
              "      <th>4</th>\n",
              "      <td>18-30</td>\n",
              "      <td>Employee</td>\n",
              "      <td>2-5yr</td>\n",
              "      <td>Industrial areas</td>\n",
              "      <td>other</td>\n",
              "      <td>Y Shape</td>\n",
              "      <td>Darkness - lights lit</td>\n",
              "      <td>Vehicle with vehicle collision</td>\n",
              "      <td>2</td>\n",
              "      <td>2</td>\n",
              "      <td>Overtaking</td>\n",
              "      <td>Slight Injury</td>\n",
              "    </tr>\n",
              "  </tbody>\n",
              "</table>\n",
              "</div>\n",
              "      <button class=\"colab-df-convert\" onclick=\"convertToInteractive('df-75eb7480-291a-4811-99c2-f6d35281608e')\"\n",
              "              title=\"Convert this dataframe to an interactive table.\"\n",
              "              style=\"display:none;\">\n",
              "        \n",
              "  <svg xmlns=\"http://www.w3.org/2000/svg\" height=\"24px\"viewBox=\"0 0 24 24\"\n",
              "       width=\"24px\">\n",
              "    <path d=\"M0 0h24v24H0V0z\" fill=\"none\"/>\n",
              "    <path d=\"M18.56 5.44l.94 2.06.94-2.06 2.06-.94-2.06-.94-.94-2.06-.94 2.06-2.06.94zm-11 1L8.5 8.5l.94-2.06 2.06-.94-2.06-.94L8.5 2.5l-.94 2.06-2.06.94zm10 10l.94 2.06.94-2.06 2.06-.94-2.06-.94-.94-2.06-.94 2.06-2.06.94z\"/><path d=\"M17.41 7.96l-1.37-1.37c-.4-.4-.92-.59-1.43-.59-.52 0-1.04.2-1.43.59L10.3 9.45l-7.72 7.72c-.78.78-.78 2.05 0 2.83L4 21.41c.39.39.9.59 1.41.59.51 0 1.02-.2 1.41-.59l7.78-7.78 2.81-2.81c.8-.78.8-2.07 0-2.86zM5.41 20L4 18.59l7.72-7.72 1.47 1.35L5.41 20z\"/>\n",
              "  </svg>\n",
              "      </button>\n",
              "      \n",
              "  <style>\n",
              "    .colab-df-container {\n",
              "      display:flex;\n",
              "      flex-wrap:wrap;\n",
              "      gap: 12px;\n",
              "    }\n",
              "\n",
              "    .colab-df-convert {\n",
              "      background-color: #E8F0FE;\n",
              "      border: none;\n",
              "      border-radius: 50%;\n",
              "      cursor: pointer;\n",
              "      display: none;\n",
              "      fill: #1967D2;\n",
              "      height: 32px;\n",
              "      padding: 0 0 0 0;\n",
              "      width: 32px;\n",
              "    }\n",
              "\n",
              "    .colab-df-convert:hover {\n",
              "      background-color: #E2EBFA;\n",
              "      box-shadow: 0px 1px 2px rgba(60, 64, 67, 0.3), 0px 1px 3px 1px rgba(60, 64, 67, 0.15);\n",
              "      fill: #174EA6;\n",
              "    }\n",
              "\n",
              "    [theme=dark] .colab-df-convert {\n",
              "      background-color: #3B4455;\n",
              "      fill: #D2E3FC;\n",
              "    }\n",
              "\n",
              "    [theme=dark] .colab-df-convert:hover {\n",
              "      background-color: #434B5C;\n",
              "      box-shadow: 0px 1px 3px 1px rgba(0, 0, 0, 0.15);\n",
              "      filter: drop-shadow(0px 1px 2px rgba(0, 0, 0, 0.3));\n",
              "      fill: #FFFFFF;\n",
              "    }\n",
              "  </style>\n",
              "\n",
              "      <script>\n",
              "        const buttonEl =\n",
              "          document.querySelector('#df-75eb7480-291a-4811-99c2-f6d35281608e button.colab-df-convert');\n",
              "        buttonEl.style.display =\n",
              "          google.colab.kernel.accessAllowed ? 'block' : 'none';\n",
              "\n",
              "        async function convertToInteractive(key) {\n",
              "          const element = document.querySelector('#df-75eb7480-291a-4811-99c2-f6d35281608e');\n",
              "          const dataTable =\n",
              "            await google.colab.kernel.invokeFunction('convertToInteractive',\n",
              "                                                     [key], {});\n",
              "          if (!dataTable) return;\n",
              "\n",
              "          const docLinkHtml = 'Like what you see? Visit the ' +\n",
              "            '<a target=\"_blank\" href=https://colab.research.google.com/notebooks/data_table.ipynb>data table notebook</a>'\n",
              "            + ' to learn more about interactive tables.';\n",
              "          element.innerHTML = '';\n",
              "          dataTable['output_type'] = 'display_data';\n",
              "          await google.colab.output.renderOutput(dataTable, element);\n",
              "          const docLink = document.createElement('div');\n",
              "          docLink.innerHTML = docLinkHtml;\n",
              "          element.appendChild(docLink);\n",
              "        }\n",
              "      </script>\n",
              "    </div>\n",
              "  </div>\n",
              "  "
            ],
            "text/plain": [
              "  Age_band_of_driver Vehicle_driver_relation Driving_experience  \\\n",
              "0              18-30                Employee              1-2yr   \n",
              "1              31-50                Employee         Above 10yr   \n",
              "2              18-30                Employee              1-2yr   \n",
              "3              18-30                Employee             5-10yr   \n",
              "4              18-30                Employee              2-5yr   \n",
              "\n",
              "  Area_accident_occured                                  Lanes_or_Medians  \\\n",
              "0     Residential areas  Two-way (divided with broken lines road marking)   \n",
              "1          Office areas                                 Undivided Two way   \n",
              "2    Recreational areas                                             other   \n",
              "3          Office areas                                             other   \n",
              "4      Industrial areas                                             other   \n",
              "\n",
              "  Types_of_Junction       Light_conditions  \\\n",
              "0       No junction               Daylight   \n",
              "1       No junction               Daylight   \n",
              "2       No junction               Daylight   \n",
              "3           Y Shape  Darkness - lights lit   \n",
              "4           Y Shape  Darkness - lights lit   \n",
              "\n",
              "                         Type_of_collision  Number_of_vehicles_involved  \\\n",
              "0  Collision with roadside-parked vehicles                            2   \n",
              "1           Vehicle with vehicle collision                            2   \n",
              "2          Collision with roadside objects                            2   \n",
              "3           Vehicle with vehicle collision                            2   \n",
              "4           Vehicle with vehicle collision                            2   \n",
              "\n",
              "   Number_of_casualties           Cause_of_accident Accident_severity  \n",
              "0                     2             Moving Backward     Slight Injury  \n",
              "1                     2                  Overtaking     Slight Injury  \n",
              "2                     2   Changing lane to the left    Serious Injury  \n",
              "3                     2  Changing lane to the right     Slight Injury  \n",
              "4                     2                  Overtaking     Slight Injury  "
            ]
          },
          "execution_count": 393,
          "metadata": {},
          "output_type": "execute_result"
        }
      ],
      "source": [
        "df3.head()"
      ]
    },
    {
      "cell_type": "code",
      "execution_count": null,
      "metadata": {
        "colab": {
          "base_uri": "https://localhost:8080/",
          "height": 334
        },
        "id": "SwzuiD34i3N6",
        "outputId": "5f351da7-b116-45d7-bfe1-8c627345c10e"
      },
      "outputs": [
        {
          "data": {
            "text/html": [
              "\n",
              "  <div id=\"df-e091d919-dcee-474e-89b6-9fada6ee73f1\">\n",
              "    <div class=\"colab-df-container\">\n",
              "      <div>\n",
              "<style scoped>\n",
              "    .dataframe tbody tr th:only-of-type {\n",
              "        vertical-align: middle;\n",
              "    }\n",
              "\n",
              "    .dataframe tbody tr th {\n",
              "        vertical-align: top;\n",
              "    }\n",
              "\n",
              "    .dataframe thead th {\n",
              "        text-align: right;\n",
              "    }\n",
              "</style>\n",
              "<table border=\"1\" class=\"dataframe\">\n",
              "  <thead>\n",
              "    <tr style=\"text-align: right;\">\n",
              "      <th></th>\n",
              "      <th>Age_band_of_driver_31-50</th>\n",
              "      <th>Age_band_of_driver_Over 51</th>\n",
              "      <th>Age_band_of_driver_Under 18</th>\n",
              "      <th>Driving_experience_2-5yr</th>\n",
              "      <th>Driving_experience_5-10yr</th>\n",
              "      <th>Driving_experience_Above 10yr</th>\n",
              "      <th>Driving_experience_Below 1yr</th>\n",
              "      <th>Driving_experience_No Licence</th>\n",
              "      <th>Area_accident_occured_  Recreational areas</th>\n",
              "      <th>Area_accident_occured_ Church areas</th>\n",
              "      <th>...</th>\n",
              "      <th>Cause_of_accident_No priority to pedestrian</th>\n",
              "      <th>Cause_of_accident_No priority to vehicle</th>\n",
              "      <th>Cause_of_accident_Other</th>\n",
              "      <th>Cause_of_accident_Overloading</th>\n",
              "      <th>Cause_of_accident_Overspeed</th>\n",
              "      <th>Cause_of_accident_Overtaking</th>\n",
              "      <th>Cause_of_accident_Overturning</th>\n",
              "      <th>Cause_of_accident_Turnover</th>\n",
              "      <th>Vehicle_driver_relation_Other</th>\n",
              "      <th>Vehicle_driver_relation_Owner</th>\n",
              "    </tr>\n",
              "  </thead>\n",
              "  <tbody>\n",
              "    <tr>\n",
              "      <th>0</th>\n",
              "      <td>0</td>\n",
              "      <td>0</td>\n",
              "      <td>0</td>\n",
              "      <td>0</td>\n",
              "      <td>0</td>\n",
              "      <td>0</td>\n",
              "      <td>0</td>\n",
              "      <td>0</td>\n",
              "      <td>0</td>\n",
              "      <td>0</td>\n",
              "      <td>...</td>\n",
              "      <td>0</td>\n",
              "      <td>0</td>\n",
              "      <td>0</td>\n",
              "      <td>0</td>\n",
              "      <td>0</td>\n",
              "      <td>0</td>\n",
              "      <td>0</td>\n",
              "      <td>0</td>\n",
              "      <td>0</td>\n",
              "      <td>0</td>\n",
              "    </tr>\n",
              "    <tr>\n",
              "      <th>1</th>\n",
              "      <td>1</td>\n",
              "      <td>0</td>\n",
              "      <td>0</td>\n",
              "      <td>0</td>\n",
              "      <td>0</td>\n",
              "      <td>1</td>\n",
              "      <td>0</td>\n",
              "      <td>0</td>\n",
              "      <td>0</td>\n",
              "      <td>0</td>\n",
              "      <td>...</td>\n",
              "      <td>0</td>\n",
              "      <td>0</td>\n",
              "      <td>0</td>\n",
              "      <td>0</td>\n",
              "      <td>0</td>\n",
              "      <td>1</td>\n",
              "      <td>0</td>\n",
              "      <td>0</td>\n",
              "      <td>0</td>\n",
              "      <td>0</td>\n",
              "    </tr>\n",
              "    <tr>\n",
              "      <th>2</th>\n",
              "      <td>0</td>\n",
              "      <td>0</td>\n",
              "      <td>0</td>\n",
              "      <td>0</td>\n",
              "      <td>0</td>\n",
              "      <td>0</td>\n",
              "      <td>0</td>\n",
              "      <td>0</td>\n",
              "      <td>1</td>\n",
              "      <td>0</td>\n",
              "      <td>...</td>\n",
              "      <td>0</td>\n",
              "      <td>0</td>\n",
              "      <td>0</td>\n",
              "      <td>0</td>\n",
              "      <td>0</td>\n",
              "      <td>0</td>\n",
              "      <td>0</td>\n",
              "      <td>0</td>\n",
              "      <td>0</td>\n",
              "      <td>0</td>\n",
              "    </tr>\n",
              "    <tr>\n",
              "      <th>3</th>\n",
              "      <td>0</td>\n",
              "      <td>0</td>\n",
              "      <td>0</td>\n",
              "      <td>0</td>\n",
              "      <td>1</td>\n",
              "      <td>0</td>\n",
              "      <td>0</td>\n",
              "      <td>0</td>\n",
              "      <td>0</td>\n",
              "      <td>0</td>\n",
              "      <td>...</td>\n",
              "      <td>0</td>\n",
              "      <td>0</td>\n",
              "      <td>0</td>\n",
              "      <td>0</td>\n",
              "      <td>0</td>\n",
              "      <td>0</td>\n",
              "      <td>0</td>\n",
              "      <td>0</td>\n",
              "      <td>0</td>\n",
              "      <td>0</td>\n",
              "    </tr>\n",
              "    <tr>\n",
              "      <th>4</th>\n",
              "      <td>0</td>\n",
              "      <td>0</td>\n",
              "      <td>0</td>\n",
              "      <td>1</td>\n",
              "      <td>0</td>\n",
              "      <td>0</td>\n",
              "      <td>0</td>\n",
              "      <td>0</td>\n",
              "      <td>0</td>\n",
              "      <td>0</td>\n",
              "      <td>...</td>\n",
              "      <td>0</td>\n",
              "      <td>0</td>\n",
              "      <td>0</td>\n",
              "      <td>0</td>\n",
              "      <td>0</td>\n",
              "      <td>1</td>\n",
              "      <td>0</td>\n",
              "      <td>0</td>\n",
              "      <td>0</td>\n",
              "      <td>0</td>\n",
              "    </tr>\n",
              "  </tbody>\n",
              "</table>\n",
              "<p>5 rows × 62 columns</p>\n",
              "</div>\n",
              "      <button class=\"colab-df-convert\" onclick=\"convertToInteractive('df-e091d919-dcee-474e-89b6-9fada6ee73f1')\"\n",
              "              title=\"Convert this dataframe to an interactive table.\"\n",
              "              style=\"display:none;\">\n",
              "        \n",
              "  <svg xmlns=\"http://www.w3.org/2000/svg\" height=\"24px\"viewBox=\"0 0 24 24\"\n",
              "       width=\"24px\">\n",
              "    <path d=\"M0 0h24v24H0V0z\" fill=\"none\"/>\n",
              "    <path d=\"M18.56 5.44l.94 2.06.94-2.06 2.06-.94-2.06-.94-.94-2.06-.94 2.06-2.06.94zm-11 1L8.5 8.5l.94-2.06 2.06-.94-2.06-.94L8.5 2.5l-.94 2.06-2.06.94zm10 10l.94 2.06.94-2.06 2.06-.94-2.06-.94-.94-2.06-.94 2.06-2.06.94z\"/><path d=\"M17.41 7.96l-1.37-1.37c-.4-.4-.92-.59-1.43-.59-.52 0-1.04.2-1.43.59L10.3 9.45l-7.72 7.72c-.78.78-.78 2.05 0 2.83L4 21.41c.39.39.9.59 1.41.59.51 0 1.02-.2 1.41-.59l7.78-7.78 2.81-2.81c.8-.78.8-2.07 0-2.86zM5.41 20L4 18.59l7.72-7.72 1.47 1.35L5.41 20z\"/>\n",
              "  </svg>\n",
              "      </button>\n",
              "      \n",
              "  <style>\n",
              "    .colab-df-container {\n",
              "      display:flex;\n",
              "      flex-wrap:wrap;\n",
              "      gap: 12px;\n",
              "    }\n",
              "\n",
              "    .colab-df-convert {\n",
              "      background-color: #E8F0FE;\n",
              "      border: none;\n",
              "      border-radius: 50%;\n",
              "      cursor: pointer;\n",
              "      display: none;\n",
              "      fill: #1967D2;\n",
              "      height: 32px;\n",
              "      padding: 0 0 0 0;\n",
              "      width: 32px;\n",
              "    }\n",
              "\n",
              "    .colab-df-convert:hover {\n",
              "      background-color: #E2EBFA;\n",
              "      box-shadow: 0px 1px 2px rgba(60, 64, 67, 0.3), 0px 1px 3px 1px rgba(60, 64, 67, 0.15);\n",
              "      fill: #174EA6;\n",
              "    }\n",
              "\n",
              "    [theme=dark] .colab-df-convert {\n",
              "      background-color: #3B4455;\n",
              "      fill: #D2E3FC;\n",
              "    }\n",
              "\n",
              "    [theme=dark] .colab-df-convert:hover {\n",
              "      background-color: #434B5C;\n",
              "      box-shadow: 0px 1px 3px 1px rgba(0, 0, 0, 0.15);\n",
              "      filter: drop-shadow(0px 1px 2px rgba(0, 0, 0, 0.3));\n",
              "      fill: #FFFFFF;\n",
              "    }\n",
              "  </style>\n",
              "\n",
              "      <script>\n",
              "        const buttonEl =\n",
              "          document.querySelector('#df-e091d919-dcee-474e-89b6-9fada6ee73f1 button.colab-df-convert');\n",
              "        buttonEl.style.display =\n",
              "          google.colab.kernel.accessAllowed ? 'block' : 'none';\n",
              "\n",
              "        async function convertToInteractive(key) {\n",
              "          const element = document.querySelector('#df-e091d919-dcee-474e-89b6-9fada6ee73f1');\n",
              "          const dataTable =\n",
              "            await google.colab.kernel.invokeFunction('convertToInteractive',\n",
              "                                                     [key], {});\n",
              "          if (!dataTable) return;\n",
              "\n",
              "          const docLinkHtml = 'Like what you see? Visit the ' +\n",
              "            '<a target=\"_blank\" href=https://colab.research.google.com/notebooks/data_table.ipynb>data table notebook</a>'\n",
              "            + ' to learn more about interactive tables.';\n",
              "          element.innerHTML = '';\n",
              "          dataTable['output_type'] = 'display_data';\n",
              "          await google.colab.output.renderOutput(dataTable, element);\n",
              "          const docLink = document.createElement('div');\n",
              "          docLink.innerHTML = docLinkHtml;\n",
              "          element.appendChild(docLink);\n",
              "        }\n",
              "      </script>\n",
              "    </div>\n",
              "  </div>\n",
              "  "
            ],
            "text/plain": [
              "   Age_band_of_driver_31-50  Age_band_of_driver_Over 51  \\\n",
              "0                         0                           0   \n",
              "1                         1                           0   \n",
              "2                         0                           0   \n",
              "3                         0                           0   \n",
              "4                         0                           0   \n",
              "\n",
              "   Age_band_of_driver_Under 18  Driving_experience_2-5yr  \\\n",
              "0                            0                         0   \n",
              "1                            0                         0   \n",
              "2                            0                         0   \n",
              "3                            0                         0   \n",
              "4                            0                         1   \n",
              "\n",
              "   Driving_experience_5-10yr  Driving_experience_Above 10yr  \\\n",
              "0                          0                              0   \n",
              "1                          0                              1   \n",
              "2                          0                              0   \n",
              "3                          1                              0   \n",
              "4                          0                              0   \n",
              "\n",
              "   Driving_experience_Below 1yr  Driving_experience_No Licence  \\\n",
              "0                             0                              0   \n",
              "1                             0                              0   \n",
              "2                             0                              0   \n",
              "3                             0                              0   \n",
              "4                             0                              0   \n",
              "\n",
              "   Area_accident_occured_  Recreational areas  \\\n",
              "0                                           0   \n",
              "1                                           0   \n",
              "2                                           1   \n",
              "3                                           0   \n",
              "4                                           0   \n",
              "\n",
              "   Area_accident_occured_ Church areas  ...  \\\n",
              "0                                    0  ...   \n",
              "1                                    0  ...   \n",
              "2                                    0  ...   \n",
              "3                                    0  ...   \n",
              "4                                    0  ...   \n",
              "\n",
              "   Cause_of_accident_No priority to pedestrian  \\\n",
              "0                                            0   \n",
              "1                                            0   \n",
              "2                                            0   \n",
              "3                                            0   \n",
              "4                                            0   \n",
              "\n",
              "   Cause_of_accident_No priority to vehicle  Cause_of_accident_Other  \\\n",
              "0                                         0                        0   \n",
              "1                                         0                        0   \n",
              "2                                         0                        0   \n",
              "3                                         0                        0   \n",
              "4                                         0                        0   \n",
              "\n",
              "   Cause_of_accident_Overloading  Cause_of_accident_Overspeed  \\\n",
              "0                              0                            0   \n",
              "1                              0                            0   \n",
              "2                              0                            0   \n",
              "3                              0                            0   \n",
              "4                              0                            0   \n",
              "\n",
              "   Cause_of_accident_Overtaking  Cause_of_accident_Overturning  \\\n",
              "0                             0                              0   \n",
              "1                             1                              0   \n",
              "2                             0                              0   \n",
              "3                             0                              0   \n",
              "4                             1                              0   \n",
              "\n",
              "   Cause_of_accident_Turnover  Vehicle_driver_relation_Other  \\\n",
              "0                           0                              0   \n",
              "1                           0                              0   \n",
              "2                           0                              0   \n",
              "3                           0                              0   \n",
              "4                           0                              0   \n",
              "\n",
              "   Vehicle_driver_relation_Owner  \n",
              "0                              0  \n",
              "1                              0  \n",
              "2                              0  \n",
              "3                              0  \n",
              "4                              0  \n",
              "\n",
              "[5 rows x 62 columns]"
            ]
          },
          "execution_count": 394,
          "metadata": {},
          "output_type": "execute_result"
        }
      ],
      "source": [
        "#get_dummies\n",
        "dummy=pd.get_dummies(df3[['Age_band_of_driver','Driving_experience','Area_accident_occured', 'Lanes_or_Medians', 'Types_of_Junction',\n",
        "                          'Light_conditions','Type_of_collision',\n",
        "                            'Cause_of_accident','Vehicle_driver_relation']],drop_first=True)\n",
        "dummy.head()"
      ]
    },
    {
      "cell_type": "code",
      "execution_count": null,
      "metadata": {
        "colab": {
          "base_uri": "https://localhost:8080/",
          "height": 438
        },
        "id": "86ys1RILv9Gc",
        "outputId": "b48f82b8-d0ca-46a8-a762-f0c02e6bf1c2"
      },
      "outputs": [
        {
          "data": {
            "text/html": [
              "\n",
              "  <div id=\"df-862a7c6c-fc04-4d2f-8c0a-9984e104fbbf\">\n",
              "    <div class=\"colab-df-container\">\n",
              "      <div>\n",
              "<style scoped>\n",
              "    .dataframe tbody tr th:only-of-type {\n",
              "        vertical-align: middle;\n",
              "    }\n",
              "\n",
              "    .dataframe tbody tr th {\n",
              "        vertical-align: top;\n",
              "    }\n",
              "\n",
              "    .dataframe thead th {\n",
              "        text-align: right;\n",
              "    }\n",
              "</style>\n",
              "<table border=\"1\" class=\"dataframe\">\n",
              "  <thead>\n",
              "    <tr style=\"text-align: right;\">\n",
              "      <th></th>\n",
              "      <th>Age_band_of_driver</th>\n",
              "      <th>Vehicle_driver_relation</th>\n",
              "      <th>Driving_experience</th>\n",
              "      <th>Area_accident_occured</th>\n",
              "      <th>Lanes_or_Medians</th>\n",
              "      <th>Types_of_Junction</th>\n",
              "      <th>Light_conditions</th>\n",
              "      <th>Type_of_collision</th>\n",
              "      <th>Number_of_vehicles_involved</th>\n",
              "      <th>Number_of_casualties</th>\n",
              "      <th>...</th>\n",
              "      <th>Cause_of_accident_No priority to pedestrian</th>\n",
              "      <th>Cause_of_accident_No priority to vehicle</th>\n",
              "      <th>Cause_of_accident_Other</th>\n",
              "      <th>Cause_of_accident_Overloading</th>\n",
              "      <th>Cause_of_accident_Overspeed</th>\n",
              "      <th>Cause_of_accident_Overtaking</th>\n",
              "      <th>Cause_of_accident_Overturning</th>\n",
              "      <th>Cause_of_accident_Turnover</th>\n",
              "      <th>Vehicle_driver_relation_Other</th>\n",
              "      <th>Vehicle_driver_relation_Owner</th>\n",
              "    </tr>\n",
              "  </thead>\n",
              "  <tbody>\n",
              "    <tr>\n",
              "      <th>0</th>\n",
              "      <td>18-30</td>\n",
              "      <td>Employee</td>\n",
              "      <td>1-2yr</td>\n",
              "      <td>Residential areas</td>\n",
              "      <td>Two-way (divided with broken lines road marking)</td>\n",
              "      <td>No junction</td>\n",
              "      <td>Daylight</td>\n",
              "      <td>Collision with roadside-parked vehicles</td>\n",
              "      <td>2</td>\n",
              "      <td>2</td>\n",
              "      <td>...</td>\n",
              "      <td>0</td>\n",
              "      <td>0</td>\n",
              "      <td>0</td>\n",
              "      <td>0</td>\n",
              "      <td>0</td>\n",
              "      <td>0</td>\n",
              "      <td>0</td>\n",
              "      <td>0</td>\n",
              "      <td>0</td>\n",
              "      <td>0</td>\n",
              "    </tr>\n",
              "    <tr>\n",
              "      <th>1</th>\n",
              "      <td>31-50</td>\n",
              "      <td>Employee</td>\n",
              "      <td>Above 10yr</td>\n",
              "      <td>Office areas</td>\n",
              "      <td>Undivided Two way</td>\n",
              "      <td>No junction</td>\n",
              "      <td>Daylight</td>\n",
              "      <td>Vehicle with vehicle collision</td>\n",
              "      <td>2</td>\n",
              "      <td>2</td>\n",
              "      <td>...</td>\n",
              "      <td>0</td>\n",
              "      <td>0</td>\n",
              "      <td>0</td>\n",
              "      <td>0</td>\n",
              "      <td>0</td>\n",
              "      <td>1</td>\n",
              "      <td>0</td>\n",
              "      <td>0</td>\n",
              "      <td>0</td>\n",
              "      <td>0</td>\n",
              "    </tr>\n",
              "    <tr>\n",
              "      <th>2</th>\n",
              "      <td>18-30</td>\n",
              "      <td>Employee</td>\n",
              "      <td>1-2yr</td>\n",
              "      <td>Recreational areas</td>\n",
              "      <td>other</td>\n",
              "      <td>No junction</td>\n",
              "      <td>Daylight</td>\n",
              "      <td>Collision with roadside objects</td>\n",
              "      <td>2</td>\n",
              "      <td>2</td>\n",
              "      <td>...</td>\n",
              "      <td>0</td>\n",
              "      <td>0</td>\n",
              "      <td>0</td>\n",
              "      <td>0</td>\n",
              "      <td>0</td>\n",
              "      <td>0</td>\n",
              "      <td>0</td>\n",
              "      <td>0</td>\n",
              "      <td>0</td>\n",
              "      <td>0</td>\n",
              "    </tr>\n",
              "    <tr>\n",
              "      <th>3</th>\n",
              "      <td>18-30</td>\n",
              "      <td>Employee</td>\n",
              "      <td>5-10yr</td>\n",
              "      <td>Office areas</td>\n",
              "      <td>other</td>\n",
              "      <td>Y Shape</td>\n",
              "      <td>Darkness - lights lit</td>\n",
              "      <td>Vehicle with vehicle collision</td>\n",
              "      <td>2</td>\n",
              "      <td>2</td>\n",
              "      <td>...</td>\n",
              "      <td>0</td>\n",
              "      <td>0</td>\n",
              "      <td>0</td>\n",
              "      <td>0</td>\n",
              "      <td>0</td>\n",
              "      <td>0</td>\n",
              "      <td>0</td>\n",
              "      <td>0</td>\n",
              "      <td>0</td>\n",
              "      <td>0</td>\n",
              "    </tr>\n",
              "    <tr>\n",
              "      <th>4</th>\n",
              "      <td>18-30</td>\n",
              "      <td>Employee</td>\n",
              "      <td>2-5yr</td>\n",
              "      <td>Industrial areas</td>\n",
              "      <td>other</td>\n",
              "      <td>Y Shape</td>\n",
              "      <td>Darkness - lights lit</td>\n",
              "      <td>Vehicle with vehicle collision</td>\n",
              "      <td>2</td>\n",
              "      <td>2</td>\n",
              "      <td>...</td>\n",
              "      <td>0</td>\n",
              "      <td>0</td>\n",
              "      <td>0</td>\n",
              "      <td>0</td>\n",
              "      <td>0</td>\n",
              "      <td>1</td>\n",
              "      <td>0</td>\n",
              "      <td>0</td>\n",
              "      <td>0</td>\n",
              "      <td>0</td>\n",
              "    </tr>\n",
              "  </tbody>\n",
              "</table>\n",
              "<p>5 rows × 74 columns</p>\n",
              "</div>\n",
              "      <button class=\"colab-df-convert\" onclick=\"convertToInteractive('df-862a7c6c-fc04-4d2f-8c0a-9984e104fbbf')\"\n",
              "              title=\"Convert this dataframe to an interactive table.\"\n",
              "              style=\"display:none;\">\n",
              "        \n",
              "  <svg xmlns=\"http://www.w3.org/2000/svg\" height=\"24px\"viewBox=\"0 0 24 24\"\n",
              "       width=\"24px\">\n",
              "    <path d=\"M0 0h24v24H0V0z\" fill=\"none\"/>\n",
              "    <path d=\"M18.56 5.44l.94 2.06.94-2.06 2.06-.94-2.06-.94-.94-2.06-.94 2.06-2.06.94zm-11 1L8.5 8.5l.94-2.06 2.06-.94-2.06-.94L8.5 2.5l-.94 2.06-2.06.94zm10 10l.94 2.06.94-2.06 2.06-.94-2.06-.94-.94-2.06-.94 2.06-2.06.94z\"/><path d=\"M17.41 7.96l-1.37-1.37c-.4-.4-.92-.59-1.43-.59-.52 0-1.04.2-1.43.59L10.3 9.45l-7.72 7.72c-.78.78-.78 2.05 0 2.83L4 21.41c.39.39.9.59 1.41.59.51 0 1.02-.2 1.41-.59l7.78-7.78 2.81-2.81c.8-.78.8-2.07 0-2.86zM5.41 20L4 18.59l7.72-7.72 1.47 1.35L5.41 20z\"/>\n",
              "  </svg>\n",
              "      </button>\n",
              "      \n",
              "  <style>\n",
              "    .colab-df-container {\n",
              "      display:flex;\n",
              "      flex-wrap:wrap;\n",
              "      gap: 12px;\n",
              "    }\n",
              "\n",
              "    .colab-df-convert {\n",
              "      background-color: #E8F0FE;\n",
              "      border: none;\n",
              "      border-radius: 50%;\n",
              "      cursor: pointer;\n",
              "      display: none;\n",
              "      fill: #1967D2;\n",
              "      height: 32px;\n",
              "      padding: 0 0 0 0;\n",
              "      width: 32px;\n",
              "    }\n",
              "\n",
              "    .colab-df-convert:hover {\n",
              "      background-color: #E2EBFA;\n",
              "      box-shadow: 0px 1px 2px rgba(60, 64, 67, 0.3), 0px 1px 3px 1px rgba(60, 64, 67, 0.15);\n",
              "      fill: #174EA6;\n",
              "    }\n",
              "\n",
              "    [theme=dark] .colab-df-convert {\n",
              "      background-color: #3B4455;\n",
              "      fill: #D2E3FC;\n",
              "    }\n",
              "\n",
              "    [theme=dark] .colab-df-convert:hover {\n",
              "      background-color: #434B5C;\n",
              "      box-shadow: 0px 1px 3px 1px rgba(0, 0, 0, 0.15);\n",
              "      filter: drop-shadow(0px 1px 2px rgba(0, 0, 0, 0.3));\n",
              "      fill: #FFFFFF;\n",
              "    }\n",
              "  </style>\n",
              "\n",
              "      <script>\n",
              "        const buttonEl =\n",
              "          document.querySelector('#df-862a7c6c-fc04-4d2f-8c0a-9984e104fbbf button.colab-df-convert');\n",
              "        buttonEl.style.display =\n",
              "          google.colab.kernel.accessAllowed ? 'block' : 'none';\n",
              "\n",
              "        async function convertToInteractive(key) {\n",
              "          const element = document.querySelector('#df-862a7c6c-fc04-4d2f-8c0a-9984e104fbbf');\n",
              "          const dataTable =\n",
              "            await google.colab.kernel.invokeFunction('convertToInteractive',\n",
              "                                                     [key], {});\n",
              "          if (!dataTable) return;\n",
              "\n",
              "          const docLinkHtml = 'Like what you see? Visit the ' +\n",
              "            '<a target=\"_blank\" href=https://colab.research.google.com/notebooks/data_table.ipynb>data table notebook</a>'\n",
              "            + ' to learn more about interactive tables.';\n",
              "          element.innerHTML = '';\n",
              "          dataTable['output_type'] = 'display_data';\n",
              "          await google.colab.output.renderOutput(dataTable, element);\n",
              "          const docLink = document.createElement('div');\n",
              "          docLink.innerHTML = docLinkHtml;\n",
              "          element.appendChild(docLink);\n",
              "        }\n",
              "      </script>\n",
              "    </div>\n",
              "  </div>\n",
              "  "
            ],
            "text/plain": [
              "  Age_band_of_driver Vehicle_driver_relation Driving_experience  \\\n",
              "0              18-30                Employee              1-2yr   \n",
              "1              31-50                Employee         Above 10yr   \n",
              "2              18-30                Employee              1-2yr   \n",
              "3              18-30                Employee             5-10yr   \n",
              "4              18-30                Employee              2-5yr   \n",
              "\n",
              "  Area_accident_occured                                  Lanes_or_Medians  \\\n",
              "0     Residential areas  Two-way (divided with broken lines road marking)   \n",
              "1          Office areas                                 Undivided Two way   \n",
              "2    Recreational areas                                             other   \n",
              "3          Office areas                                             other   \n",
              "4      Industrial areas                                             other   \n",
              "\n",
              "  Types_of_Junction       Light_conditions  \\\n",
              "0       No junction               Daylight   \n",
              "1       No junction               Daylight   \n",
              "2       No junction               Daylight   \n",
              "3           Y Shape  Darkness - lights lit   \n",
              "4           Y Shape  Darkness - lights lit   \n",
              "\n",
              "                         Type_of_collision  Number_of_vehicles_involved  \\\n",
              "0  Collision with roadside-parked vehicles                            2   \n",
              "1           Vehicle with vehicle collision                            2   \n",
              "2          Collision with roadside objects                            2   \n",
              "3           Vehicle with vehicle collision                            2   \n",
              "4           Vehicle with vehicle collision                            2   \n",
              "\n",
              "   Number_of_casualties  ... Cause_of_accident_No priority to pedestrian  \\\n",
              "0                     2  ...                                           0   \n",
              "1                     2  ...                                           0   \n",
              "2                     2  ...                                           0   \n",
              "3                     2  ...                                           0   \n",
              "4                     2  ...                                           0   \n",
              "\n",
              "  Cause_of_accident_No priority to vehicle  Cause_of_accident_Other  \\\n",
              "0                                        0                        0   \n",
              "1                                        0                        0   \n",
              "2                                        0                        0   \n",
              "3                                        0                        0   \n",
              "4                                        0                        0   \n",
              "\n",
              "   Cause_of_accident_Overloading  Cause_of_accident_Overspeed  \\\n",
              "0                              0                            0   \n",
              "1                              0                            0   \n",
              "2                              0                            0   \n",
              "3                              0                            0   \n",
              "4                              0                            0   \n",
              "\n",
              "   Cause_of_accident_Overtaking  Cause_of_accident_Overturning  \\\n",
              "0                             0                              0   \n",
              "1                             1                              0   \n",
              "2                             0                              0   \n",
              "3                             0                              0   \n",
              "4                             1                              0   \n",
              "\n",
              "   Cause_of_accident_Turnover  Vehicle_driver_relation_Other  \\\n",
              "0                           0                              0   \n",
              "1                           0                              0   \n",
              "2                           0                              0   \n",
              "3                           0                              0   \n",
              "4                           0                              0   \n",
              "\n",
              "   Vehicle_driver_relation_Owner  \n",
              "0                              0  \n",
              "1                              0  \n",
              "2                              0  \n",
              "3                              0  \n",
              "4                              0  \n",
              "\n",
              "[5 rows x 74 columns]"
            ]
          },
          "execution_count": 395,
          "metadata": {},
          "output_type": "execute_result"
        }
      ],
      "source": [
        "#concatinate dummy and old data frame\n",
        "df4=pd.concat([df3,dummy],axis=1)\n",
        "df4.head()"
      ]
    },
    {
      "cell_type": "code",
      "execution_count": null,
      "metadata": {
        "colab": {
          "base_uri": "https://localhost:8080/",
          "height": 334
        },
        "id": "vSUC35a9wGpC",
        "outputId": "add867f0-9b13-4135-a825-a3307cee6345"
      },
      "outputs": [
        {
          "data": {
            "text/html": [
              "\n",
              "  <div id=\"df-7f48f8e1-a157-4888-b32a-51560ce74b68\">\n",
              "    <div class=\"colab-df-container\">\n",
              "      <div>\n",
              "<style scoped>\n",
              "    .dataframe tbody tr th:only-of-type {\n",
              "        vertical-align: middle;\n",
              "    }\n",
              "\n",
              "    .dataframe tbody tr th {\n",
              "        vertical-align: top;\n",
              "    }\n",
              "\n",
              "    .dataframe thead th {\n",
              "        text-align: right;\n",
              "    }\n",
              "</style>\n",
              "<table border=\"1\" class=\"dataframe\">\n",
              "  <thead>\n",
              "    <tr style=\"text-align: right;\">\n",
              "      <th></th>\n",
              "      <th>Number_of_vehicles_involved</th>\n",
              "      <th>Number_of_casualties</th>\n",
              "      <th>Accident_severity</th>\n",
              "      <th>Age_band_of_driver_31-50</th>\n",
              "      <th>Age_band_of_driver_Over 51</th>\n",
              "      <th>Age_band_of_driver_Under 18</th>\n",
              "      <th>Driving_experience_2-5yr</th>\n",
              "      <th>Driving_experience_5-10yr</th>\n",
              "      <th>Driving_experience_Above 10yr</th>\n",
              "      <th>Driving_experience_Below 1yr</th>\n",
              "      <th>...</th>\n",
              "      <th>Cause_of_accident_No priority to pedestrian</th>\n",
              "      <th>Cause_of_accident_No priority to vehicle</th>\n",
              "      <th>Cause_of_accident_Other</th>\n",
              "      <th>Cause_of_accident_Overloading</th>\n",
              "      <th>Cause_of_accident_Overspeed</th>\n",
              "      <th>Cause_of_accident_Overtaking</th>\n",
              "      <th>Cause_of_accident_Overturning</th>\n",
              "      <th>Cause_of_accident_Turnover</th>\n",
              "      <th>Vehicle_driver_relation_Other</th>\n",
              "      <th>Vehicle_driver_relation_Owner</th>\n",
              "    </tr>\n",
              "  </thead>\n",
              "  <tbody>\n",
              "    <tr>\n",
              "      <th>0</th>\n",
              "      <td>2</td>\n",
              "      <td>2</td>\n",
              "      <td>Slight Injury</td>\n",
              "      <td>0</td>\n",
              "      <td>0</td>\n",
              "      <td>0</td>\n",
              "      <td>0</td>\n",
              "      <td>0</td>\n",
              "      <td>0</td>\n",
              "      <td>0</td>\n",
              "      <td>...</td>\n",
              "      <td>0</td>\n",
              "      <td>0</td>\n",
              "      <td>0</td>\n",
              "      <td>0</td>\n",
              "      <td>0</td>\n",
              "      <td>0</td>\n",
              "      <td>0</td>\n",
              "      <td>0</td>\n",
              "      <td>0</td>\n",
              "      <td>0</td>\n",
              "    </tr>\n",
              "    <tr>\n",
              "      <th>1</th>\n",
              "      <td>2</td>\n",
              "      <td>2</td>\n",
              "      <td>Slight Injury</td>\n",
              "      <td>1</td>\n",
              "      <td>0</td>\n",
              "      <td>0</td>\n",
              "      <td>0</td>\n",
              "      <td>0</td>\n",
              "      <td>1</td>\n",
              "      <td>0</td>\n",
              "      <td>...</td>\n",
              "      <td>0</td>\n",
              "      <td>0</td>\n",
              "      <td>0</td>\n",
              "      <td>0</td>\n",
              "      <td>0</td>\n",
              "      <td>1</td>\n",
              "      <td>0</td>\n",
              "      <td>0</td>\n",
              "      <td>0</td>\n",
              "      <td>0</td>\n",
              "    </tr>\n",
              "    <tr>\n",
              "      <th>2</th>\n",
              "      <td>2</td>\n",
              "      <td>2</td>\n",
              "      <td>Serious Injury</td>\n",
              "      <td>0</td>\n",
              "      <td>0</td>\n",
              "      <td>0</td>\n",
              "      <td>0</td>\n",
              "      <td>0</td>\n",
              "      <td>0</td>\n",
              "      <td>0</td>\n",
              "      <td>...</td>\n",
              "      <td>0</td>\n",
              "      <td>0</td>\n",
              "      <td>0</td>\n",
              "      <td>0</td>\n",
              "      <td>0</td>\n",
              "      <td>0</td>\n",
              "      <td>0</td>\n",
              "      <td>0</td>\n",
              "      <td>0</td>\n",
              "      <td>0</td>\n",
              "    </tr>\n",
              "    <tr>\n",
              "      <th>3</th>\n",
              "      <td>2</td>\n",
              "      <td>2</td>\n",
              "      <td>Slight Injury</td>\n",
              "      <td>0</td>\n",
              "      <td>0</td>\n",
              "      <td>0</td>\n",
              "      <td>0</td>\n",
              "      <td>1</td>\n",
              "      <td>0</td>\n",
              "      <td>0</td>\n",
              "      <td>...</td>\n",
              "      <td>0</td>\n",
              "      <td>0</td>\n",
              "      <td>0</td>\n",
              "      <td>0</td>\n",
              "      <td>0</td>\n",
              "      <td>0</td>\n",
              "      <td>0</td>\n",
              "      <td>0</td>\n",
              "      <td>0</td>\n",
              "      <td>0</td>\n",
              "    </tr>\n",
              "    <tr>\n",
              "      <th>4</th>\n",
              "      <td>2</td>\n",
              "      <td>2</td>\n",
              "      <td>Slight Injury</td>\n",
              "      <td>0</td>\n",
              "      <td>0</td>\n",
              "      <td>0</td>\n",
              "      <td>1</td>\n",
              "      <td>0</td>\n",
              "      <td>0</td>\n",
              "      <td>0</td>\n",
              "      <td>...</td>\n",
              "      <td>0</td>\n",
              "      <td>0</td>\n",
              "      <td>0</td>\n",
              "      <td>0</td>\n",
              "      <td>0</td>\n",
              "      <td>1</td>\n",
              "      <td>0</td>\n",
              "      <td>0</td>\n",
              "      <td>0</td>\n",
              "      <td>0</td>\n",
              "    </tr>\n",
              "  </tbody>\n",
              "</table>\n",
              "<p>5 rows × 65 columns</p>\n",
              "</div>\n",
              "      <button class=\"colab-df-convert\" onclick=\"convertToInteractive('df-7f48f8e1-a157-4888-b32a-51560ce74b68')\"\n",
              "              title=\"Convert this dataframe to an interactive table.\"\n",
              "              style=\"display:none;\">\n",
              "        \n",
              "  <svg xmlns=\"http://www.w3.org/2000/svg\" height=\"24px\"viewBox=\"0 0 24 24\"\n",
              "       width=\"24px\">\n",
              "    <path d=\"M0 0h24v24H0V0z\" fill=\"none\"/>\n",
              "    <path d=\"M18.56 5.44l.94 2.06.94-2.06 2.06-.94-2.06-.94-.94-2.06-.94 2.06-2.06.94zm-11 1L8.5 8.5l.94-2.06 2.06-.94-2.06-.94L8.5 2.5l-.94 2.06-2.06.94zm10 10l.94 2.06.94-2.06 2.06-.94-2.06-.94-.94-2.06-.94 2.06-2.06.94z\"/><path d=\"M17.41 7.96l-1.37-1.37c-.4-.4-.92-.59-1.43-.59-.52 0-1.04.2-1.43.59L10.3 9.45l-7.72 7.72c-.78.78-.78 2.05 0 2.83L4 21.41c.39.39.9.59 1.41.59.51 0 1.02-.2 1.41-.59l7.78-7.78 2.81-2.81c.8-.78.8-2.07 0-2.86zM5.41 20L4 18.59l7.72-7.72 1.47 1.35L5.41 20z\"/>\n",
              "  </svg>\n",
              "      </button>\n",
              "      \n",
              "  <style>\n",
              "    .colab-df-container {\n",
              "      display:flex;\n",
              "      flex-wrap:wrap;\n",
              "      gap: 12px;\n",
              "    }\n",
              "\n",
              "    .colab-df-convert {\n",
              "      background-color: #E8F0FE;\n",
              "      border: none;\n",
              "      border-radius: 50%;\n",
              "      cursor: pointer;\n",
              "      display: none;\n",
              "      fill: #1967D2;\n",
              "      height: 32px;\n",
              "      padding: 0 0 0 0;\n",
              "      width: 32px;\n",
              "    }\n",
              "\n",
              "    .colab-df-convert:hover {\n",
              "      background-color: #E2EBFA;\n",
              "      box-shadow: 0px 1px 2px rgba(60, 64, 67, 0.3), 0px 1px 3px 1px rgba(60, 64, 67, 0.15);\n",
              "      fill: #174EA6;\n",
              "    }\n",
              "\n",
              "    [theme=dark] .colab-df-convert {\n",
              "      background-color: #3B4455;\n",
              "      fill: #D2E3FC;\n",
              "    }\n",
              "\n",
              "    [theme=dark] .colab-df-convert:hover {\n",
              "      background-color: #434B5C;\n",
              "      box-shadow: 0px 1px 3px 1px rgba(0, 0, 0, 0.15);\n",
              "      filter: drop-shadow(0px 1px 2px rgba(0, 0, 0, 0.3));\n",
              "      fill: #FFFFFF;\n",
              "    }\n",
              "  </style>\n",
              "\n",
              "      <script>\n",
              "        const buttonEl =\n",
              "          document.querySelector('#df-7f48f8e1-a157-4888-b32a-51560ce74b68 button.colab-df-convert');\n",
              "        buttonEl.style.display =\n",
              "          google.colab.kernel.accessAllowed ? 'block' : 'none';\n",
              "\n",
              "        async function convertToInteractive(key) {\n",
              "          const element = document.querySelector('#df-7f48f8e1-a157-4888-b32a-51560ce74b68');\n",
              "          const dataTable =\n",
              "            await google.colab.kernel.invokeFunction('convertToInteractive',\n",
              "                                                     [key], {});\n",
              "          if (!dataTable) return;\n",
              "\n",
              "          const docLinkHtml = 'Like what you see? Visit the ' +\n",
              "            '<a target=\"_blank\" href=https://colab.research.google.com/notebooks/data_table.ipynb>data table notebook</a>'\n",
              "            + ' to learn more about interactive tables.';\n",
              "          element.innerHTML = '';\n",
              "          dataTable['output_type'] = 'display_data';\n",
              "          await google.colab.output.renderOutput(dataTable, element);\n",
              "          const docLink = document.createElement('div');\n",
              "          docLink.innerHTML = docLinkHtml;\n",
              "          element.appendChild(docLink);\n",
              "        }\n",
              "      </script>\n",
              "    </div>\n",
              "  </div>\n",
              "  "
            ],
            "text/plain": [
              "   Number_of_vehicles_involved  Number_of_casualties Accident_severity  \\\n",
              "0                            2                     2     Slight Injury   \n",
              "1                            2                     2     Slight Injury   \n",
              "2                            2                     2    Serious Injury   \n",
              "3                            2                     2     Slight Injury   \n",
              "4                            2                     2     Slight Injury   \n",
              "\n",
              "   Age_band_of_driver_31-50  Age_band_of_driver_Over 51  \\\n",
              "0                         0                           0   \n",
              "1                         1                           0   \n",
              "2                         0                           0   \n",
              "3                         0                           0   \n",
              "4                         0                           0   \n",
              "\n",
              "   Age_band_of_driver_Under 18  Driving_experience_2-5yr  \\\n",
              "0                            0                         0   \n",
              "1                            0                         0   \n",
              "2                            0                         0   \n",
              "3                            0                         0   \n",
              "4                            0                         1   \n",
              "\n",
              "   Driving_experience_5-10yr  Driving_experience_Above 10yr  \\\n",
              "0                          0                              0   \n",
              "1                          0                              1   \n",
              "2                          0                              0   \n",
              "3                          1                              0   \n",
              "4                          0                              0   \n",
              "\n",
              "   Driving_experience_Below 1yr  ...  \\\n",
              "0                             0  ...   \n",
              "1                             0  ...   \n",
              "2                             0  ...   \n",
              "3                             0  ...   \n",
              "4                             0  ...   \n",
              "\n",
              "   Cause_of_accident_No priority to pedestrian  \\\n",
              "0                                            0   \n",
              "1                                            0   \n",
              "2                                            0   \n",
              "3                                            0   \n",
              "4                                            0   \n",
              "\n",
              "   Cause_of_accident_No priority to vehicle  Cause_of_accident_Other  \\\n",
              "0                                         0                        0   \n",
              "1                                         0                        0   \n",
              "2                                         0                        0   \n",
              "3                                         0                        0   \n",
              "4                                         0                        0   \n",
              "\n",
              "   Cause_of_accident_Overloading  Cause_of_accident_Overspeed  \\\n",
              "0                              0                            0   \n",
              "1                              0                            0   \n",
              "2                              0                            0   \n",
              "3                              0                            0   \n",
              "4                              0                            0   \n",
              "\n",
              "   Cause_of_accident_Overtaking  Cause_of_accident_Overturning  \\\n",
              "0                             0                              0   \n",
              "1                             1                              0   \n",
              "2                             0                              0   \n",
              "3                             0                              0   \n",
              "4                             1                              0   \n",
              "\n",
              "   Cause_of_accident_Turnover  Vehicle_driver_relation_Other  \\\n",
              "0                           0                              0   \n",
              "1                           0                              0   \n",
              "2                           0                              0   \n",
              "3                           0                              0   \n",
              "4                           0                              0   \n",
              "\n",
              "   Vehicle_driver_relation_Owner  \n",
              "0                              0  \n",
              "1                              0  \n",
              "2                              0  \n",
              "3                              0  \n",
              "4                              0  \n",
              "\n",
              "[5 rows x 65 columns]"
            ]
          },
          "execution_count": 396,
          "metadata": {},
          "output_type": "execute_result"
        }
      ],
      "source": [
        "#dropping dummied columns\n",
        "df4.drop(['Age_band_of_driver', 'Driving_experience', 'Area_accident_occured', 'Lanes_or_Medians',\n",
        "          'Types_of_Junction','Light_conditions','Type_of_collision','Cause_of_accident','Vehicle_driver_relation'],axis=1,inplace=True)\n",
        "df4.head()"
      ]
    },
    {
      "cell_type": "code",
      "execution_count": null,
      "metadata": {
        "colab": {
          "base_uri": "https://localhost:8080/"
        },
        "id": "TP8qX8PCz8Yp",
        "outputId": "ce50c271-1772-47ea-9c65-8661ff8f2732"
      },
      "outputs": [
        {
          "data": {
            "text/plain": [
              "(8998, 64)"
            ]
          },
          "execution_count": 397,
          "metadata": {},
          "output_type": "execute_result"
        }
      ],
      "source": [
        "x=df4.drop(['Accident_severity'],axis=1)\n",
        "x.shape"
      ]
    },
    {
      "cell_type": "code",
      "execution_count": null,
      "metadata": {
        "colab": {
          "base_uri": "https://localhost:8080/",
          "height": 334
        },
        "id": "F7yqsO9Nz_XB",
        "outputId": "2fc119af-ea80-4395-bbd3-74a260f5a40b"
      },
      "outputs": [
        {
          "data": {
            "text/html": [
              "\n",
              "  <div id=\"df-576c56c3-ee2b-4cc0-84f3-bc107baa029f\">\n",
              "    <div class=\"colab-df-container\">\n",
              "      <div>\n",
              "<style scoped>\n",
              "    .dataframe tbody tr th:only-of-type {\n",
              "        vertical-align: middle;\n",
              "    }\n",
              "\n",
              "    .dataframe tbody tr th {\n",
              "        vertical-align: top;\n",
              "    }\n",
              "\n",
              "    .dataframe thead th {\n",
              "        text-align: right;\n",
              "    }\n",
              "</style>\n",
              "<table border=\"1\" class=\"dataframe\">\n",
              "  <thead>\n",
              "    <tr style=\"text-align: right;\">\n",
              "      <th></th>\n",
              "      <th>Number_of_vehicles_involved</th>\n",
              "      <th>Number_of_casualties</th>\n",
              "      <th>Age_band_of_driver_31-50</th>\n",
              "      <th>Age_band_of_driver_Over 51</th>\n",
              "      <th>Age_band_of_driver_Under 18</th>\n",
              "      <th>Driving_experience_2-5yr</th>\n",
              "      <th>Driving_experience_5-10yr</th>\n",
              "      <th>Driving_experience_Above 10yr</th>\n",
              "      <th>Driving_experience_Below 1yr</th>\n",
              "      <th>Driving_experience_No Licence</th>\n",
              "      <th>...</th>\n",
              "      <th>Cause_of_accident_No priority to pedestrian</th>\n",
              "      <th>Cause_of_accident_No priority to vehicle</th>\n",
              "      <th>Cause_of_accident_Other</th>\n",
              "      <th>Cause_of_accident_Overloading</th>\n",
              "      <th>Cause_of_accident_Overspeed</th>\n",
              "      <th>Cause_of_accident_Overtaking</th>\n",
              "      <th>Cause_of_accident_Overturning</th>\n",
              "      <th>Cause_of_accident_Turnover</th>\n",
              "      <th>Vehicle_driver_relation_Other</th>\n",
              "      <th>Vehicle_driver_relation_Owner</th>\n",
              "    </tr>\n",
              "  </thead>\n",
              "  <tbody>\n",
              "    <tr>\n",
              "      <th>0</th>\n",
              "      <td>2</td>\n",
              "      <td>2</td>\n",
              "      <td>0</td>\n",
              "      <td>0</td>\n",
              "      <td>0</td>\n",
              "      <td>0</td>\n",
              "      <td>0</td>\n",
              "      <td>0</td>\n",
              "      <td>0</td>\n",
              "      <td>0</td>\n",
              "      <td>...</td>\n",
              "      <td>0</td>\n",
              "      <td>0</td>\n",
              "      <td>0</td>\n",
              "      <td>0</td>\n",
              "      <td>0</td>\n",
              "      <td>0</td>\n",
              "      <td>0</td>\n",
              "      <td>0</td>\n",
              "      <td>0</td>\n",
              "      <td>0</td>\n",
              "    </tr>\n",
              "    <tr>\n",
              "      <th>1</th>\n",
              "      <td>2</td>\n",
              "      <td>2</td>\n",
              "      <td>1</td>\n",
              "      <td>0</td>\n",
              "      <td>0</td>\n",
              "      <td>0</td>\n",
              "      <td>0</td>\n",
              "      <td>1</td>\n",
              "      <td>0</td>\n",
              "      <td>0</td>\n",
              "      <td>...</td>\n",
              "      <td>0</td>\n",
              "      <td>0</td>\n",
              "      <td>0</td>\n",
              "      <td>0</td>\n",
              "      <td>0</td>\n",
              "      <td>1</td>\n",
              "      <td>0</td>\n",
              "      <td>0</td>\n",
              "      <td>0</td>\n",
              "      <td>0</td>\n",
              "    </tr>\n",
              "    <tr>\n",
              "      <th>2</th>\n",
              "      <td>2</td>\n",
              "      <td>2</td>\n",
              "      <td>0</td>\n",
              "      <td>0</td>\n",
              "      <td>0</td>\n",
              "      <td>0</td>\n",
              "      <td>0</td>\n",
              "      <td>0</td>\n",
              "      <td>0</td>\n",
              "      <td>0</td>\n",
              "      <td>...</td>\n",
              "      <td>0</td>\n",
              "      <td>0</td>\n",
              "      <td>0</td>\n",
              "      <td>0</td>\n",
              "      <td>0</td>\n",
              "      <td>0</td>\n",
              "      <td>0</td>\n",
              "      <td>0</td>\n",
              "      <td>0</td>\n",
              "      <td>0</td>\n",
              "    </tr>\n",
              "    <tr>\n",
              "      <th>3</th>\n",
              "      <td>2</td>\n",
              "      <td>2</td>\n",
              "      <td>0</td>\n",
              "      <td>0</td>\n",
              "      <td>0</td>\n",
              "      <td>0</td>\n",
              "      <td>1</td>\n",
              "      <td>0</td>\n",
              "      <td>0</td>\n",
              "      <td>0</td>\n",
              "      <td>...</td>\n",
              "      <td>0</td>\n",
              "      <td>0</td>\n",
              "      <td>0</td>\n",
              "      <td>0</td>\n",
              "      <td>0</td>\n",
              "      <td>0</td>\n",
              "      <td>0</td>\n",
              "      <td>0</td>\n",
              "      <td>0</td>\n",
              "      <td>0</td>\n",
              "    </tr>\n",
              "    <tr>\n",
              "      <th>4</th>\n",
              "      <td>2</td>\n",
              "      <td>2</td>\n",
              "      <td>0</td>\n",
              "      <td>0</td>\n",
              "      <td>0</td>\n",
              "      <td>1</td>\n",
              "      <td>0</td>\n",
              "      <td>0</td>\n",
              "      <td>0</td>\n",
              "      <td>0</td>\n",
              "      <td>...</td>\n",
              "      <td>0</td>\n",
              "      <td>0</td>\n",
              "      <td>0</td>\n",
              "      <td>0</td>\n",
              "      <td>0</td>\n",
              "      <td>1</td>\n",
              "      <td>0</td>\n",
              "      <td>0</td>\n",
              "      <td>0</td>\n",
              "      <td>0</td>\n",
              "    </tr>\n",
              "  </tbody>\n",
              "</table>\n",
              "<p>5 rows × 64 columns</p>\n",
              "</div>\n",
              "      <button class=\"colab-df-convert\" onclick=\"convertToInteractive('df-576c56c3-ee2b-4cc0-84f3-bc107baa029f')\"\n",
              "              title=\"Convert this dataframe to an interactive table.\"\n",
              "              style=\"display:none;\">\n",
              "        \n",
              "  <svg xmlns=\"http://www.w3.org/2000/svg\" height=\"24px\"viewBox=\"0 0 24 24\"\n",
              "       width=\"24px\">\n",
              "    <path d=\"M0 0h24v24H0V0z\" fill=\"none\"/>\n",
              "    <path d=\"M18.56 5.44l.94 2.06.94-2.06 2.06-.94-2.06-.94-.94-2.06-.94 2.06-2.06.94zm-11 1L8.5 8.5l.94-2.06 2.06-.94-2.06-.94L8.5 2.5l-.94 2.06-2.06.94zm10 10l.94 2.06.94-2.06 2.06-.94-2.06-.94-.94-2.06-.94 2.06-2.06.94z\"/><path d=\"M17.41 7.96l-1.37-1.37c-.4-.4-.92-.59-1.43-.59-.52 0-1.04.2-1.43.59L10.3 9.45l-7.72 7.72c-.78.78-.78 2.05 0 2.83L4 21.41c.39.39.9.59 1.41.59.51 0 1.02-.2 1.41-.59l7.78-7.78 2.81-2.81c.8-.78.8-2.07 0-2.86zM5.41 20L4 18.59l7.72-7.72 1.47 1.35L5.41 20z\"/>\n",
              "  </svg>\n",
              "      </button>\n",
              "      \n",
              "  <style>\n",
              "    .colab-df-container {\n",
              "      display:flex;\n",
              "      flex-wrap:wrap;\n",
              "      gap: 12px;\n",
              "    }\n",
              "\n",
              "    .colab-df-convert {\n",
              "      background-color: #E8F0FE;\n",
              "      border: none;\n",
              "      border-radius: 50%;\n",
              "      cursor: pointer;\n",
              "      display: none;\n",
              "      fill: #1967D2;\n",
              "      height: 32px;\n",
              "      padding: 0 0 0 0;\n",
              "      width: 32px;\n",
              "    }\n",
              "\n",
              "    .colab-df-convert:hover {\n",
              "      background-color: #E2EBFA;\n",
              "      box-shadow: 0px 1px 2px rgba(60, 64, 67, 0.3), 0px 1px 3px 1px rgba(60, 64, 67, 0.15);\n",
              "      fill: #174EA6;\n",
              "    }\n",
              "\n",
              "    [theme=dark] .colab-df-convert {\n",
              "      background-color: #3B4455;\n",
              "      fill: #D2E3FC;\n",
              "    }\n",
              "\n",
              "    [theme=dark] .colab-df-convert:hover {\n",
              "      background-color: #434B5C;\n",
              "      box-shadow: 0px 1px 3px 1px rgba(0, 0, 0, 0.15);\n",
              "      filter: drop-shadow(0px 1px 2px rgba(0, 0, 0, 0.3));\n",
              "      fill: #FFFFFF;\n",
              "    }\n",
              "  </style>\n",
              "\n",
              "      <script>\n",
              "        const buttonEl =\n",
              "          document.querySelector('#df-576c56c3-ee2b-4cc0-84f3-bc107baa029f button.colab-df-convert');\n",
              "        buttonEl.style.display =\n",
              "          google.colab.kernel.accessAllowed ? 'block' : 'none';\n",
              "\n",
              "        async function convertToInteractive(key) {\n",
              "          const element = document.querySelector('#df-576c56c3-ee2b-4cc0-84f3-bc107baa029f');\n",
              "          const dataTable =\n",
              "            await google.colab.kernel.invokeFunction('convertToInteractive',\n",
              "                                                     [key], {});\n",
              "          if (!dataTable) return;\n",
              "\n",
              "          const docLinkHtml = 'Like what you see? Visit the ' +\n",
              "            '<a target=\"_blank\" href=https://colab.research.google.com/notebooks/data_table.ipynb>data table notebook</a>'\n",
              "            + ' to learn more about interactive tables.';\n",
              "          element.innerHTML = '';\n",
              "          dataTable['output_type'] = 'display_data';\n",
              "          await google.colab.output.renderOutput(dataTable, element);\n",
              "          const docLink = document.createElement('div');\n",
              "          docLink.innerHTML = docLinkHtml;\n",
              "          element.appendChild(docLink);\n",
              "        }\n",
              "      </script>\n",
              "    </div>\n",
              "  </div>\n",
              "  "
            ],
            "text/plain": [
              "   Number_of_vehicles_involved  Number_of_casualties  \\\n",
              "0                            2                     2   \n",
              "1                            2                     2   \n",
              "2                            2                     2   \n",
              "3                            2                     2   \n",
              "4                            2                     2   \n",
              "\n",
              "   Age_band_of_driver_31-50  Age_band_of_driver_Over 51  \\\n",
              "0                         0                           0   \n",
              "1                         1                           0   \n",
              "2                         0                           0   \n",
              "3                         0                           0   \n",
              "4                         0                           0   \n",
              "\n",
              "   Age_band_of_driver_Under 18  Driving_experience_2-5yr  \\\n",
              "0                            0                         0   \n",
              "1                            0                         0   \n",
              "2                            0                         0   \n",
              "3                            0                         0   \n",
              "4                            0                         1   \n",
              "\n",
              "   Driving_experience_5-10yr  Driving_experience_Above 10yr  \\\n",
              "0                          0                              0   \n",
              "1                          0                              1   \n",
              "2                          0                              0   \n",
              "3                          1                              0   \n",
              "4                          0                              0   \n",
              "\n",
              "   Driving_experience_Below 1yr  Driving_experience_No Licence  ...  \\\n",
              "0                             0                              0  ...   \n",
              "1                             0                              0  ...   \n",
              "2                             0                              0  ...   \n",
              "3                             0                              0  ...   \n",
              "4                             0                              0  ...   \n",
              "\n",
              "   Cause_of_accident_No priority to pedestrian  \\\n",
              "0                                            0   \n",
              "1                                            0   \n",
              "2                                            0   \n",
              "3                                            0   \n",
              "4                                            0   \n",
              "\n",
              "   Cause_of_accident_No priority to vehicle  Cause_of_accident_Other  \\\n",
              "0                                         0                        0   \n",
              "1                                         0                        0   \n",
              "2                                         0                        0   \n",
              "3                                         0                        0   \n",
              "4                                         0                        0   \n",
              "\n",
              "   Cause_of_accident_Overloading  Cause_of_accident_Overspeed  \\\n",
              "0                              0                            0   \n",
              "1                              0                            0   \n",
              "2                              0                            0   \n",
              "3                              0                            0   \n",
              "4                              0                            0   \n",
              "\n",
              "   Cause_of_accident_Overtaking  Cause_of_accident_Overturning  \\\n",
              "0                             0                              0   \n",
              "1                             1                              0   \n",
              "2                             0                              0   \n",
              "3                             0                              0   \n",
              "4                             1                              0   \n",
              "\n",
              "   Cause_of_accident_Turnover  Vehicle_driver_relation_Other  \\\n",
              "0                           0                              0   \n",
              "1                           0                              0   \n",
              "2                           0                              0   \n",
              "3                           0                              0   \n",
              "4                           0                              0   \n",
              "\n",
              "   Vehicle_driver_relation_Owner  \n",
              "0                              0  \n",
              "1                              0  \n",
              "2                              0  \n",
              "3                              0  \n",
              "4                              0  \n",
              "\n",
              "[5 rows x 64 columns]"
            ]
          },
          "execution_count": 398,
          "metadata": {},
          "output_type": "execute_result"
        }
      ],
      "source": [
        "x.head()"
      ]
    },
    {
      "cell_type": "code",
      "execution_count": null,
      "metadata": {
        "colab": {
          "base_uri": "https://localhost:8080/"
        },
        "id": "747ZCLwP0C2T",
        "outputId": "125aec4e-c4db-41f0-f88d-415dd928c6bb"
      },
      "outputs": [
        {
          "data": {
            "text/plain": [
              "0     Slight Injury\n",
              "1     Slight Injury\n",
              "2    Serious Injury\n",
              "3     Slight Injury\n",
              "4     Slight Injury\n",
              "Name: Accident_severity, dtype: object"
            ]
          },
          "execution_count": 399,
          "metadata": {},
          "output_type": "execute_result"
        }
      ],
      "source": [
        "y=df4.iloc[:,2]\n",
        "y.head()"
      ]
    },
    {
      "cell_type": "code",
      "execution_count": null,
      "metadata": {
        "colab": {
          "base_uri": "https://localhost:8080/"
        },
        "id": "vVZO5RJf0E64",
        "outputId": "06a85d77-bfd0-4324-ffbf-00c21da42aae"
      },
      "outputs": [
        {
          "data": {
            "text/plain": [
              "Slight Injury     7730\n",
              "Serious Injury    1179\n",
              "Fatal injury        89\n",
              "Name: Accident_severity, dtype: int64"
            ]
          },
          "execution_count": 400,
          "metadata": {},
          "output_type": "execute_result"
        }
      ],
      "source": [
        "#checking the count of each item in the output column\n",
        "y.value_counts()"
      ]
    },
    {
      "cell_type": "code",
      "execution_count": null,
      "metadata": {
        "colab": {
          "base_uri": "https://localhost:8080/",
          "height": 298
        },
        "id": "fDdq_yOL0IC5",
        "outputId": "8e26672f-7fa2-44c3-fad5-266547fb8881"
      },
      "outputs": [
        {
          "data": {
            "text/plain": [
              "<Axes: xlabel='Accident_severity', ylabel='count'>"
            ]
          },
          "execution_count": 401,
          "metadata": {},
          "output_type": "execute_result"
        },
        {
          "data": {
            "image/png": "[encoded data removed]",
            "text/plain": [
              "<Figure size 432x288 with 1 Axes>"
            ]
          },
          "metadata": {
            "needs_background": "light"
          },
          "output_type": "display_data"
        }
      ],
      "source": [
        "#plotting count plot using seaborn\n",
        "sns.countplot(x = y, palette='muted')"
      ]
    },
    {
      "cell_type": "markdown",
      "metadata": {
        "id": "LohjQUKekD0b"
      },
      "source": [
        "**Inference:** There is imbalance in the target values treating them using oversampling method."
      ]
    },
    {
      "cell_type": "markdown",
      "metadata": {
        "id": "BHhbsoYo0M_U"
      },
      "source": [
        "**Oversampling**\n",
        "\n",
        "SMOTE (Synthetic Minority Over-sampling Technique) is a commonly used oversampling technique for imbalanced datasets. It generates synthetic samples for the minority class by interpolating between the feature vectors of the minority class samples."
      ]
    },
    {
      "cell_type": "code",
      "execution_count": null,
      "metadata": {
        "id": "HKlHq6zR0KlH"
      },
      "outputs": [],
      "source": [
        "#importing SMOTE\n",
        "from imblearn.over_sampling import SMOTE\n",
        "oversample=SMOTE()\n",
        "xo,yo=oversample.fit_resample(x,y)"
      ]
    },
    {
      "cell_type": "code",
      "execution_count": null,
      "metadata": {
        "colab": {
          "base_uri": "https://localhost:8080/"
        },
        "id": "Qzluozch0QTR",
        "outputId": "6f043faf-8411-44e3-9fff-f34f3a02fc0f"
      },
      "outputs": [
        {
          "data": {
            "text/plain": [
              "Accident_severity\n",
              "Fatal injury         7730\n",
              "Serious Injury       7730\n",
              "Slight Injury        7730\n",
              "dtype: int64"
            ]
          },
          "execution_count": 403,
          "metadata": {},
          "output_type": "execute_result"
        }
      ],
      "source": [
        "#checking the oversampling output\n",
        "y1=pd.DataFrame(yo)\n",
        "y1.value_counts()"
      ]
    },
    {
      "cell_type": "code",
      "execution_count": null,
      "metadata": {
        "colab": {
          "base_uri": "https://localhost:8080/",
          "height": 298
        },
        "id": "4Wofh5Yd0Xd_",
        "outputId": "45a60b86-eba8-42f2-8d17-721cc9f80a32"
      },
      "outputs": [
        {
          "data": {
            "text/plain": [
              "<Axes: xlabel='Accident_severity', ylabel='count'>"
            ]
          },
          "execution_count": 404,
          "metadata": {},
          "output_type": "execute_result"
        },
        {
          "data": {
            "image/png": "[encoded data removed]",
            "text/plain": [
              "<Figure size 432x288 with 1 Axes>"
            ]
          },
          "metadata": {
            "needs_background": "light"
          },
          "output_type": "display_data"
        }
      ],
      "source": [
        "#plotting count plot using seaborn\n",
        "sns.countplot(x = yo, palette='muted')"
      ]
    },
    {
      "cell_type": "markdown",
      "metadata": {
        "id": "LR9soFrV0chI"
      },
      "source": [
        "**Inference:** The target variables  is balanced."
      ]
    },
    {
      "cell_type": "markdown",
      "metadata": {
        "id": "97WZMOq80s3k"
      },
      "source": [
        "**SPLITTING THE DATASET**"
      ]
    },
    {
      "cell_type": "code",
      "execution_count": null,
      "metadata": {
        "id": "QKtur-WL0Z9e"
      },
      "outputs": [],
      "source": [
        "#converting data to training data and testing data\n",
        "from sklearn.model_selection import train_test_split, StratifiedKFold, cross_val_score\n",
        "#splitting 70% of the data to training data and 25% of data to testing data\n",
        "x_train,x_test,y_train,y_test=train_test_split(xo,yo,test_size=0.25,random_state=42)"
      ]
    },
    {
      "cell_type": "markdown",
      "metadata": {
        "id": "Tkj3pp1TrmBz"
      },
      "source": [
        "**RANDOM FOREST CLASSIFIER**\n",
        "\n",
        "Random Forest Classifier is a machine learning algorithm that is used for classification tasks. It is an ensemble learning method that builds multiple decision trees and combines them to make a final prediction.\n",
        "In a random forest classifier, each decision tree is built independently using a randomly sampled subset of the training data and a randomly selected subset of the features. This randomness helps to reduce the variance and overfitting problems associated with decision trees."
      ]
    },
    {
      "cell_type": "code",
      "execution_count": null,
      "metadata": {
        "id": "bpaZ4tDlbcmw"
      },
      "outputs": [],
      "source": [
        "from sklearn.ensemble import RandomForestClassifier\n",
        "rf = RandomForestClassifier(n_estimators=100, random_state=42)"
      ]
    },
    {
      "cell_type": "markdown",
      "metadata": {
        "id": "rW_999CisVDc"
      },
      "source": [
        "**BAGGING CLASSIFIERS**\n",
        "In Random Forest Classifier, bagging (Bootstrap Aggregating) is used to build multiple decision trees on different subsets of the training data. Bagging is a technique where multiple random subsets of the training data are created by sampling with replacement. Each subset is used to train a decision tree model. These models are then combined using an ensemble method to improve the accuracy and robustness of the classification model."
      ]
    },
    {
      "cell_type": "code",
      "execution_count": null,
      "metadata": {
        "id": "Ftl6rMBxexa2"
      },
      "outputs": [],
      "source": [
        "# Initialize the bagging classifier\n",
        "from sklearn.ensemble import AdaBoostClassifier, BaggingClassifier,VotingClassifier\n",
        "rf_bag = BaggingClassifier(base_estimator=rf, n_estimators=10, random_state=42)"
      ]
    },
    {
      "cell_type": "markdown",
      "metadata": {
        "id": "Tg45fXeBsrfX"
      },
      "source": [
        "**AdaBosting Classifiers**\n",
        "\n",
        "AdaBoost (Adaptive Boosting) is another ensemble learning technique that is commonly used with decision trees in Random Forest Classifier. AdaBoost is a meta-algorithm that combines multiple weak learners (models that perform slightly better than random guessing) to create a strong learner."
      ]
    },
    {
      "cell_type": "code",
      "execution_count": null,
      "metadata": {
        "id": "iOJL5JKQhF2x"
      },
      "outputs": [],
      "source": [
        "rf_ada = AdaBoostClassifier(estimator=rf, n_estimators=10, random_state=42)"
      ]
    },
    {
      "cell_type": "code",
      "execution_count": null,
      "metadata": {
        "id": "xHXfU5jXh0wV"
      },
      "outputs": [],
      "source": [
        "vc = VotingClassifier(estimators=[('rf_bag',rf_bag),(\"rf_ada\",rf_ada)], voting='hard')"
      ]
    },
    {
      "cell_type": "markdown",
      "metadata": {
        "id": "n5NuJjj0i18L"
      },
      "source": [
        "**FITTING THE MODEL AND PREDICTING**"
      ]
    },
    {
      "cell_type": "code",
      "execution_count": null,
      "metadata": {
        "id": "r7C6xMNyiVsC"
      },
      "outputs": [],
      "source": [
        "rf.fit(x_train, y_train)\n",
        "predA = rf.predict(x_test)"
      ]
    },
    {
      "cell_type": "markdown",
      "metadata": {
        "id": "NrNmXF5pjkga"
      },
      "source": [
        "**FITTING THE MODEL AND PREDICTING THE BAGGING CLASSIFIERS**"
      ]
    },
    {
      "cell_type": "code",
      "execution_count": null,
      "metadata": {
        "colab": {
          "base_uri": "https://localhost:8080/"
        },
        "id": "NedeQSxoiwEz",
        "outputId": "27d3f381-77f9-43d8-9331-aac6dd84781c"
      },
      "outputs": [
        {
          "name": "stderr",
          "output_type": "stream",
          "text": [
            "/usr/local/lib/python3.9/dist-packages/sklearn/ensemble/_base.py:166: FutureWarning: `base_estimator` was renamed to `estimator` in version 1.2 and will be removed in 1.4.\n",
            "  warnings.warn(\n"
          ]
        }
      ],
      "source": [
        "rf_bag.fit(x_train,y_train)\n",
        "pred_bag = rf_bag.predict(x_test)"
      ]
    },
    {
      "cell_type": "markdown",
      "metadata": {
        "id": "no8qN_tLjxf9"
      },
      "source": [
        "**FITTING THE MODEL AND PREDICTING THE BOOSTING CLASSIFIERS**"
      ]
    },
    {
      "cell_type": "code",
      "execution_count": null,
      "metadata": {
        "id": "fvnzK90JjcSn"
      },
      "outputs": [],
      "source": [
        "rf_ada.fit(x_train,y_train)\n",
        "pred_ada = rf_ada.predict(x_test)"
      ]
    },
    {
      "cell_type": "markdown",
      "metadata": {
        "id": "ySMeLYdtj-Je"
      },
      "source": [
        "**ACCURACY OF THE MODEL**"
      ]
    },
    {
      "cell_type": "code",
      "execution_count": null,
      "metadata": {
        "colab": {
          "base_uri": "https://localhost:8080/"
        },
        "id": "-OYS35Nhj8D0",
        "outputId": "08b5e4ee-908b-4128-e406-f1ea4c8cebdf"
      },
      "outputs": [
        {
          "name": "stdout",
          "output_type": "stream",
          "text": [
            "Accuracy of the Random Forest:  0.9084166954122112\n"
          ]
        }
      ],
      "source": [
        "from sklearn.metrics import accuracy_score, confusion_matrix\n",
        "print(\"Accuracy of the Random Forest: \",accuracy_score(y_test,predA))"
      ]
    },
    {
      "cell_type": "code",
      "execution_count": null,
      "metadata": {
        "colab": {
          "base_uri": "https://localhost:8080/"
        },
        "id": "bXkszxszsHbL",
        "outputId": "ab45b0f1-11fe-4ed5-8c9e-49e15fb5de43"
      },
      "outputs": [
        {
          "name": "stdout",
          "output_type": "stream",
          "text": [
            "[[1948    3   11]\n",
            " [  15 1709  172]\n",
            " [  10  320 1610]]\n"
          ]
        }
      ],
      "source": [
        "cm = confusion_matrix(y_test,predA)\n",
        "print(cm)"
      ]
    },
    {
      "cell_type": "code",
      "execution_count": null,
      "metadata": {
        "colab": {
          "base_uri": "https://localhost:8080/"
        },
        "id": "8GgO2EJStzEq",
        "outputId": "710f5516-8952-41a9-d368-ebbc652b22cc"
      },
      "outputs": [
        {
          "name": "stdout",
          "output_type": "stream",
          "text": [
            "                precision    recall  f1-score   support\n",
            "\n",
            "  Fatal injury       0.99      0.99      0.99      1962\n",
            "Serious Injury       0.84      0.90      0.87      1896\n",
            " Slight Injury       0.90      0.83      0.86      1940\n",
            "\n",
            "      accuracy                           0.91      5798\n",
            "     macro avg       0.91      0.91      0.91      5798\n",
            "  weighted avg       0.91      0.91      0.91      5798\n",
            "\n"
          ]
        }
      ],
      "source": [
        "from sklearn.metrics import classification_report\n",
        "print(classification_report(y_test, predA))"
      ]
    },
    {
      "cell_type": "markdown",
      "metadata": {
        "id": "ScfLbR26rHRK"
      },
      "source": [
        "**ACCURACY OF THE BAGGING CLASSIFIERS**"
      ]
    },
    {
      "cell_type": "code",
      "execution_count": null,
      "metadata": {
        "colab": {
          "base_uri": "https://localhost:8080/"
        },
        "id": "h0DAvl_Mklrx",
        "outputId": "70e7bc47-bcae-42c6-8542-d6da92afcbdb"
      },
      "outputs": [
        {
          "name": "stdout",
          "output_type": "stream",
          "text": [
            "Accuracy using bagging with hard voting:  0.905829596412556\n"
          ]
        }
      ],
      "source": [
        "print(\"Accuracy using bagging with hard voting: \",accuracy_score(y_test,pred_bag))"
      ]
    },
    {
      "cell_type": "code",
      "execution_count": null,
      "metadata": {
        "colab": {
          "base_uri": "https://localhost:8080/"
        },
        "id": "AQkPqdmet1wT",
        "outputId": "9afc9ed8-ac10-4034-e216-1a250fcef9c9"
      },
      "outputs": [
        {
          "name": "stdout",
          "output_type": "stream",
          "text": [
            "[[1948    1   13]\n",
            " [  19 1726  151]\n",
            " [  11  351 1578]]\n"
          ]
        }
      ],
      "source": [
        "cm = confusion_matrix(y_test,pred_bag)\n",
        "print(cm)"
      ]
    },
    {
      "cell_type": "code",
      "execution_count": null,
      "metadata": {
        "colab": {
          "base_uri": "https://localhost:8080/"
        },
        "id": "WUZfyM85t2Ht",
        "outputId": "c24838e3-bbf0-40af-ccc8-b5bc1de2f234"
      },
      "outputs": [
        {
          "name": "stdout",
          "output_type": "stream",
          "text": [
            "                precision    recall  f1-score   support\n",
            "\n",
            "  Fatal injury       0.98      0.99      0.99      1962\n",
            "Serious Injury       0.83      0.91      0.87      1896\n",
            " Slight Injury       0.91      0.81      0.86      1940\n",
            "\n",
            "      accuracy                           0.91      5798\n",
            "     macro avg       0.91      0.91      0.90      5798\n",
            "  weighted avg       0.91      0.91      0.91      5798\n",
            "\n"
          ]
        }
      ],
      "source": [
        "from sklearn.metrics import classification_report\n",
        "print(classification_report(y_test, pred_bag))"
      ]
    },
    {
      "cell_type": "markdown",
      "metadata": {
        "id": "WciwOj5KrPM1"
      },
      "source": [
        "**ACCURACY OF THE ADABOOSTING CLASSIFIERS**"
      ]
    },
    {
      "cell_type": "code",
      "execution_count": null,
      "metadata": {
        "colab": {
          "base_uri": "https://localhost:8080/"
        },
        "id": "BwPoN9BRoQWy",
        "outputId": "5821cac3-1802-4f47-b111-3069bc38b078"
      },
      "outputs": [
        {
          "name": "stdout",
          "output_type": "stream",
          "text": [
            "Accuracy using adaboosting with hard voting:  0.9139358399448085\n"
          ]
        }
      ],
      "source": [
        "print(\"Accuracy using adaboosting with hard voting: \",accuracy_score(y_test,pred_ada))"
      ]
    },
    {
      "cell_type": "code",
      "execution_count": null,
      "metadata": {
        "colab": {
          "base_uri": "https://localhost:8080/"
        },
        "id": "1jN4bLjht9kU",
        "outputId": "59d79fdf-5266-4f5e-c9e5-56622ab14ff6"
      },
      "outputs": [
        {
          "name": "stdout",
          "output_type": "stream",
          "text": [
            "[[1942    2   18]\n",
            " [  15 1736  145]\n",
            " [   7  312 1621]]\n"
          ]
        }
      ],
      "source": [
        "cm = confusion_matrix(y_test,pred_ada)\n",
        "print(cm)"
      ]
    },
    {
      "cell_type": "code",
      "execution_count": null,
      "metadata": {
        "colab": {
          "base_uri": "https://localhost:8080/"
        },
        "id": "mkN--7Wct-Jh",
        "outputId": "8b114712-47db-4627-e465-81baeee9f95a"
      },
      "outputs": [
        {
          "name": "stdout",
          "output_type": "stream",
          "text": [
            "                precision    recall  f1-score   support\n",
            "\n",
            "  Fatal injury       0.99      0.99      0.99      1962\n",
            "Serious Injury       0.85      0.92      0.88      1896\n",
            " Slight Injury       0.91      0.84      0.87      1940\n",
            "\n",
            "      accuracy                           0.91      5798\n",
            "     macro avg       0.91      0.91      0.91      5798\n",
            "  weighted avg       0.92      0.91      0.91      5798\n",
            "\n"
          ]
        }
      ],
      "source": [
        "from sklearn.metrics import classification_report\n",
        "print(classification_report(y_test, pred_ada))"
      ]
    },
    {
      "cell_type": "markdown",
      "metadata": {
        "id": "Qm8ALeORreQD"
      },
      "source": [
        "**ACCURACY OF THE ENSEMBLED MODEL**"
      ]
    },
    {
      "cell_type": "code",
      "execution_count": null,
      "metadata": {
        "colab": {
          "base_uri": "https://localhost:8080/"
        },
        "id": "GbQJ0kS-o9Fh",
        "outputId": "63132dc6-6f3f-4b44-9377-cfca8380a3ee"
      },
      "outputs": [
        {
          "name": "stderr",
          "output_type": "stream",
          "text": [
            "/usr/local/lib/python3.9/dist-packages/sklearn/ensemble/_base.py:166: FutureWarning: `base_estimator` was renamed to `estimator` in version 1.2 and will be removed in 1.4.\n",
            "  warnings.warn(\n"
          ]
        },
        {
          "name": "stdout",
          "output_type": "stream",
          "text": [
            "Accuracy using adaboosting with hard voting:  0.9015177647464643\n"
          ]
        }
      ],
      "source": [
        "vc.fit(x_train, y_train)\n",
        "print(\"Accuracy using adaboosting with hard voting: \",(vc.score(x_test,y_test)))"
      ]
    },
    {
      "cell_type": "markdown",
      "metadata": {
        "id": "nB3J6d1McVnC"
      },
      "source": [
        "**Decision tree**\n",
        "\n",
        "A decision tree is a type of machine learning algorithm that is commonly used for both classification and regression tasks. It is a hierarchical model that consists of nodes and edges, where each node represents a decision or a feature, and each edge represents the outcome or the path to follow based on that decision.\n",
        "The tree is built by recursively partitioning the data into smaller subsets based on the value of a specific feature or attribute, until a stopping criterion is met. The decision at each node is made based on a certain criterion, such as information gain, Gini index or entropy, which determines the best feature to split the data at that node."
      ]
    },
    {
      "cell_type": "code",
      "execution_count": null,
      "metadata": {
        "id": "kget8YtWcOBA"
      },
      "outputs": [],
      "source": [
        "from sklearn.tree import DecisionTreeClassifier\n",
        "# Create a decision tree classifier\n",
        "clf = DecisionTreeClassifier()\n",
        "# Train the classifier on the training data\n",
        "clf.fit(x_train, y_train)\n",
        "predc = clf.predict(x_test)"
      ]
    },
    {
      "cell_type": "code",
      "execution_count": null,
      "metadata": {
        "colab": {
          "base_uri": "https://localhost:8080/"
        },
        "id": "Ro2gWrBbdy-v",
        "outputId": "5e8a77d3-5c84-464d-acb6-ac1a0d89c4a3"
      },
      "outputs": [
        {
          "name": "stderr",
          "output_type": "stream",
          "text": [
            "/usr/local/lib/python3.9/dist-packages/sklearn/ensemble/_base.py:166: FutureWarning: `base_estimator` was renamed to `estimator` in version 1.2 and will be removed in 1.4.\n",
            "  warnings.warn(\n"
          ]
        }
      ],
      "source": [
        "clf_bag = BaggingClassifier(base_estimator=clf, n_estimators=10, random_state=42)\n",
        "clf_bag.fit(x_train,y_train)\n",
        "pred_clf_bag = clf_bag.predict(x_test)"
      ]
    },
    {
      "cell_type": "code",
      "execution_count": null,
      "metadata": {
        "id": "L8oZLZ8xeWvi"
      },
      "outputs": [],
      "source": [
        "clf_ada = AdaBoostClassifier(estimator=clf, n_estimators=10, random_state=42,algorithm='SAMME')\n",
        "clf_ada.fit(x_train,y_train)\n",
        "pred_clf_ada = clf_ada.predict(x_test)"
      ]
    },
    {
      "cell_type": "code",
      "execution_count": null,
      "metadata": {
        "id": "Rpm5q-PDey1M"
      },
      "outputs": [],
      "source": [
        "vc_clf = VotingClassifier(estimators=[('clf_bag',clf_bag),(\"clf_ada\",clf_ada)], voting='hard')"
      ]
    },
    {
      "cell_type": "markdown",
      "metadata": {
        "id": "4-Qk502derT5"
      },
      "source": [
        "**Accuracy of the Model**"
      ]
    },
    {
      "cell_type": "code",
      "execution_count": null,
      "metadata": {
        "colab": {
          "base_uri": "https://localhost:8080/"
        },
        "id": "kk0hZI_Geq7s",
        "outputId": "fa19078f-1029-4adc-be58-7bd40f380b29"
      },
      "outputs": [
        {
          "name": "stdout",
          "output_type": "stream",
          "text": [
            "Accuracy with the model:  0.8644360124180752\n"
          ]
        }
      ],
      "source": [
        "# Evaluate the performance of the SVM on the testing set\n",
        "print(\"Accuracy with the model: \",accuracy_score(y_test,predc))"
      ]
    },
    {
      "cell_type": "code",
      "execution_count": null,
      "metadata": {
        "colab": {
          "base_uri": "https://localhost:8080/"
        },
        "id": "0yiYJqqTfws-",
        "outputId": "fd35c5e3-6902-4705-a192-f98387eec1e0"
      },
      "outputs": [
        {
          "name": "stdout",
          "output_type": "stream",
          "text": [
            "Accuracy with the bagging:  0.8763366678164884\n"
          ]
        }
      ],
      "source": [
        "# Evaluate the performance of the SVM on the testing set\n",
        "print(\"Accuracy with the bagging: \",accuracy_score(y_test,pred_clf_bag))"
      ]
    },
    {
      "cell_type": "code",
      "execution_count": null,
      "metadata": {
        "colab": {
          "base_uri": "https://localhost:8080/"
        },
        "id": "t-w58clOf6PB",
        "outputId": "a4427dfd-9f9d-4e34-b1b3-ffdf77724a1b"
      },
      "outputs": [
        {
          "name": "stdout",
          "output_type": "stream",
          "text": [
            "Accuracy with the bagging:  0.8915143152811315\n"
          ]
        }
      ],
      "source": [
        "# Evaluate the performance of the SVM on the testing set\n",
        "print(\"Accuracy with the bagging: \",accuracy_score(y_test,pred_clf_ada))"
      ]
    },
    {
      "cell_type": "code",
      "execution_count": null,
      "metadata": {
        "colab": {
          "base_uri": "https://localhost:8080/"
        },
        "id": "vuiBxHxFgA78",
        "outputId": "2f8e68e5-6899-444e-c2cd-3c45888b9d3f"
      },
      "outputs": [
        {
          "name": "stderr",
          "output_type": "stream",
          "text": [
            "/usr/local/lib/python3.9/dist-packages/sklearn/ensemble/_base.py:166: FutureWarning: `base_estimator` was renamed to `estimator` in version 1.2 and will be removed in 1.4.\n",
            "  warnings.warn(\n"
          ]
        },
        {
          "name": "stdout",
          "output_type": "stream",
          "text": [
            "Accuracy using adaboosting with hard voting:  0.8625388064849948\n"
          ]
        }
      ],
      "source": [
        "vc_clf.fit(x_train, y_train)\n",
        "print(\"Accuracy using adaboosting with hard voting: \",(vc_clf.score(x_test,y_test)))"
      ]
    },
    {
      "cell_type": "markdown",
      "metadata": {
        "id": "1UHCMXDMkY-o"
      },
      "source": [
        "**INFERENCE:**\n",
        "\n",
        "Accuracy of the model is 0.88 without using bagging and bosting techniques using logistic regression. Using bagging technique the"
      ]
    }
  ],
  "metadata": {
    "colab": {
      "provenance": []
    },
    "kernelspec": {
      "display_name": "Python 3",
      "name": "python3"
    },
    "language_info": {
      "name": "python"
    }
  },
  "nbformat": 4,
  "nbformat_minor": 0
}
