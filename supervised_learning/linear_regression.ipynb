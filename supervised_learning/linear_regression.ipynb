{
  "nbformat": 4,
  "nbformat_minor": 0,
  "metadata": {
    "colab": {
      "provenance": []
    },
    "kernelspec": {
      "name": "python3",
      "display_name": "Python 3"
    },
    "language_info": {
      "name": "python"
    }
  },
  "cells": [
    {
      "cell_type": "markdown",
      "source": [
        "**SIMPLE LINEAR REGRESSION**\n",
        "\n",
        "Simple linear regression is a statistical method used to model the relationship between a single independent variable and a dependent variable. It is called \"simple\" because it only involves one independent variable. The goal of simple linear regression is to find the line of best fit that minimizes the sum of the squared differences between the actual and predicted values of the dependent variable. The line of best fit is represented by an equation, called the regression equation, that be used to make predictions about the dependent variable based on a given value of the independent variable."
      ],
      "metadata": {
        "id": "YlfYxM23aIkR"
      }
    },
    {
      "cell_type": "markdown",
      "source": [
        "**OBJECTIVE**\n",
        "\n",
        "Simple linear regression is used to model the relationship between a single independent variable and a dependent variable. In this case, the independent variable is \"comb (L/100km)\" and the dependent variable is \"fuel consumption\".Here comb (L/100km) is a measure of fuel consumption and represents the amount of fuel used by a vehicle in 100 kilometers of driving.\n",
        "\n",
        "If there is a significant relationship between the two variables, linear regression can be used to model this relationship and make predictions about fuel consumption based on comb (L/100km).\n",
        "\n",
        "\n",
        "\n"
      ],
      "metadata": {
        "id": "TM3eeGvajZW5"
      }
    },
    {
      "cell_type": "markdown",
      "source": [
        "**ASSUMPTION:**\n",
        "1. Linearity: The relationship between the independent and dependent variables should be linear.\n",
        "\n",
        "2. Homoscedasticity: The variance of the errors should be constant across all values of the independent variables.\n",
        "\n",
        "3. Normality: To check whether the dependent variable as well independent variable follows a normal distribution."
      ],
      "metadata": {
        "id": "dzJ02vi4DEpb"
      }
    },
    {
      "cell_type": "markdown",
      "source": [
        "**IMPORTING THE DATASET**"
      ],
      "metadata": {
        "id": "tRWCn_cWurBj"
      }
    },
    {
      "cell_type": "code",
      "execution_count": null,
      "metadata": {
        "id": "m2MVBnp1JZwc"
      },
      "outputs": [],
      "source": [
        "import numpy as np\n",
        "import pandas as pd\n",
        "import matplotlib.pyplot as plt\n",
        "import seaborn as sns\n",
        "import sklearn"
      ]
    },
    {
      "cell_type": "code",
      "source": [
        "data = pd.read_csv(\"/content/Fuel_Consumption_2000-2022.csv\")"
      ],
      "metadata": {
        "id": "xGsDGiJlJ9hR"
      },
      "execution_count": null,
      "outputs": []
    },
    {
      "cell_type": "markdown",
      "source": [
        "Displaying the first 4 rows of the dataset."
      ],
      "metadata": {
        "id": "lvxATj39vdfr"
      }
    },
    {
      "cell_type": "code",
      "source": [
        "data.head()"
      ],
      "metadata": {
        "colab": {
          "base_uri": "https://localhost:8080/",
          "height": 268
        },
        "id": "vVMCQXjMvEl2",
        "outputId": "d9e8853a-c4fa-4c41-f90f-5d5337603c60"
      },
      "execution_count": null,
      "outputs": [
        {
          "output_type": "execute_result",
          "data": {
            "text/plain": [
              "   YEAR   MAKE    MODEL VEHICLE CLASS  ENGINE SIZE  CYLINDERS TRANSMISSION  \\\n",
              "0  2000  ACURA    1.6EL       COMPACT          1.6          4           A4   \n",
              "1  2000  ACURA    1.6EL       COMPACT          1.6          4           M5   \n",
              "2  2000  ACURA    3.2TL      MID-SIZE          3.2          6          AS5   \n",
              "3  2000  ACURA    3.5RL      MID-SIZE          3.5          6           A4   \n",
              "4  2000  ACURA  INTEGRA    SUBCOMPACT          1.8          4           A4   \n",
              "\n",
              "  FUEL  FUEL CONSUMPTION  HWY (L/100 km)  COMB (L/100 km)  COMB (mpg)  \\\n",
              "0    X               9.2             6.7              8.1          35   \n",
              "1    X               8.5             6.5              7.6          37   \n",
              "2    Z              12.2             7.4             10.0          28   \n",
              "3    Z              13.4             9.2             11.5          25   \n",
              "4    X              10.0             7.0              8.6          33   \n",
              "\n",
              "   EMISSIONS  \n",
              "0        186  \n",
              "1        175  \n",
              "2        230  \n",
              "3        264  \n",
              "4        198  "
            ],
            "text/html": [
              "\n",
              "  <div id=\"df-c186107d-3894-4ec5-8319-cc0ed7e9d2d0\">\n",
              "    <div class=\"colab-df-container\">\n",
              "      <div>\n",
              "<style scoped>\n",
              "    .dataframe tbody tr th:only-of-type {\n",
              "        vertical-align: middle;\n",
              "    }\n",
              "\n",
              "    .dataframe tbody tr th {\n",
              "        vertical-align: top;\n",
              "    }\n",
              "\n",
              "    .dataframe thead th {\n",
              "        text-align: right;\n",
              "    }\n",
              "</style>\n",
              "<table border=\"1\" class=\"dataframe\">\n",
              "  <thead>\n",
              "    <tr style=\"text-align: right;\">\n",
              "      <th></th>\n",
              "      <th>YEAR</th>\n",
              "      <th>MAKE</th>\n",
              "      <th>MODEL</th>\n",
              "      <th>VEHICLE CLASS</th>\n",
              "      <th>ENGINE SIZE</th>\n",
              "      <th>CYLINDERS</th>\n",
              "      <th>TRANSMISSION</th>\n",
              "      <th>FUEL</th>\n",
              "      <th>FUEL CONSUMPTION</th>\n",
              "      <th>HWY (L/100 km)</th>\n",
              "      <th>COMB (L/100 km)</th>\n",
              "      <th>COMB (mpg)</th>\n",
              "      <th>EMISSIONS</th>\n",
              "    </tr>\n",
              "  </thead>\n",
              "  <tbody>\n",
              "    <tr>\n",
              "      <th>0</th>\n",
              "      <td>2000</td>\n",
              "      <td>ACURA</td>\n",
              "      <td>1.6EL</td>\n",
              "      <td>COMPACT</td>\n",
              "      <td>1.6</td>\n",
              "      <td>4</td>\n",
              "      <td>A4</td>\n",
              "      <td>X</td>\n",
              "      <td>9.2</td>\n",
              "      <td>6.7</td>\n",
              "      <td>8.1</td>\n",
              "      <td>35</td>\n",
              "      <td>186</td>\n",
              "    </tr>\n",
              "    <tr>\n",
              "      <th>1</th>\n",
              "      <td>2000</td>\n",
              "      <td>ACURA</td>\n",
              "      <td>1.6EL</td>\n",
              "      <td>COMPACT</td>\n",
              "      <td>1.6</td>\n",
              "      <td>4</td>\n",
              "      <td>M5</td>\n",
              "      <td>X</td>\n",
              "      <td>8.5</td>\n",
              "      <td>6.5</td>\n",
              "      <td>7.6</td>\n",
              "      <td>37</td>\n",
              "      <td>175</td>\n",
              "    </tr>\n",
              "    <tr>\n",
              "      <th>2</th>\n",
              "      <td>2000</td>\n",
              "      <td>ACURA</td>\n",
              "      <td>3.2TL</td>\n",
              "      <td>MID-SIZE</td>\n",
              "      <td>3.2</td>\n",
              "      <td>6</td>\n",
              "      <td>AS5</td>\n",
              "      <td>Z</td>\n",
              "      <td>12.2</td>\n",
              "      <td>7.4</td>\n",
              "      <td>10.0</td>\n",
              "      <td>28</td>\n",
              "      <td>230</td>\n",
              "    </tr>\n",
              "    <tr>\n",
              "      <th>3</th>\n",
              "      <td>2000</td>\n",
              "      <td>ACURA</td>\n",
              "      <td>3.5RL</td>\n",
              "      <td>MID-SIZE</td>\n",
              "      <td>3.5</td>\n",
              "      <td>6</td>\n",
              "      <td>A4</td>\n",
              "      <td>Z</td>\n",
              "      <td>13.4</td>\n",
              "      <td>9.2</td>\n",
              "      <td>11.5</td>\n",
              "      <td>25</td>\n",
              "      <td>264</td>\n",
              "    </tr>\n",
              "    <tr>\n",
              "      <th>4</th>\n",
              "      <td>2000</td>\n",
              "      <td>ACURA</td>\n",
              "      <td>INTEGRA</td>\n",
              "      <td>SUBCOMPACT</td>\n",
              "      <td>1.8</td>\n",
              "      <td>4</td>\n",
              "      <td>A4</td>\n",
              "      <td>X</td>\n",
              "      <td>10.0</td>\n",
              "      <td>7.0</td>\n",
              "      <td>8.6</td>\n",
              "      <td>33</td>\n",
              "      <td>198</td>\n",
              "    </tr>\n",
              "  </tbody>\n",
              "</table>\n",
              "</div>\n",
              "      <button class=\"colab-df-convert\" onclick=\"convertToInteractive('df-c186107d-3894-4ec5-8319-cc0ed7e9d2d0')\"\n",
              "              title=\"Convert this dataframe to an interactive table.\"\n",
              "              style=\"display:none;\">\n",
              "        \n",
              "  <svg xmlns=\"http://www.w3.org/2000/svg\" height=\"24px\"viewBox=\"0 0 24 24\"\n",
              "       width=\"24px\">\n",
              "    <path d=\"M0 0h24v24H0V0z\" fill=\"none\"/>\n",
              "    <path d=\"M18.56 5.44l.94 2.06.94-2.06 2.06-.94-2.06-.94-.94-2.06-.94 2.06-2.06.94zm-11 1L8.5 8.5l.94-2.06 2.06-.94-2.06-.94L8.5 2.5l-.94 2.06-2.06.94zm10 10l.94 2.06.94-2.06 2.06-.94-2.06-.94-.94-2.06-.94 2.06-2.06.94z\"/><path d=\"M17.41 7.96l-1.37-1.37c-.4-.4-.92-.59-1.43-.59-.52 0-1.04.2-1.43.59L10.3 9.45l-7.72 7.72c-.78.78-.78 2.05 0 2.83L4 21.41c.39.39.9.59 1.41.59.51 0 1.02-.2 1.41-.59l7.78-7.78 2.81-2.81c.8-.78.8-2.07 0-2.86zM5.41 20L4 18.59l7.72-7.72 1.47 1.35L5.41 20z\"/>\n",
              "  </svg>\n",
              "      </button>\n",
              "      \n",
              "  <style>\n",
              "    .colab-df-container {\n",
              "      display:flex;\n",
              "      flex-wrap:wrap;\n",
              "      gap: 12px;\n",
              "    }\n",
              "\n",
              "    .colab-df-convert {\n",
              "      background-color: #E8F0FE;\n",
              "      border: none;\n",
              "      border-radius: 50%;\n",
              "      cursor: pointer;\n",
              "      display: none;\n",
              "      fill: #1967D2;\n",
              "      height: 32px;\n",
              "      padding: 0 0 0 0;\n",
              "      width: 32px;\n",
              "    }\n",
              "\n",
              "    .colab-df-convert:hover {\n",
              "      background-color: #E2EBFA;\n",
              "      box-shadow: 0px 1px 2px rgba(60, 64, 67, 0.3), 0px 1px 3px 1px rgba(60, 64, 67, 0.15);\n",
              "      fill: #174EA6;\n",
              "    }\n",
              "\n",
              "    [theme=dark] .colab-df-convert {\n",
              "      background-color: #3B4455;\n",
              "      fill: #D2E3FC;\n",
              "    }\n",
              "\n",
              "    [theme=dark] .colab-df-convert:hover {\n",
              "      background-color: #434B5C;\n",
              "      box-shadow: 0px 1px 3px 1px rgba(0, 0, 0, 0.15);\n",
              "      filter: drop-shadow(0px 1px 2px rgba(0, 0, 0, 0.3));\n",
              "      fill: #FFFFFF;\n",
              "    }\n",
              "  </style>\n",
              "\n",
              "      <script>\n",
              "        const buttonEl =\n",
              "          document.querySelector('#df-c186107d-3894-4ec5-8319-cc0ed7e9d2d0 button.colab-df-convert');\n",
              "        buttonEl.style.display =\n",
              "          google.colab.kernel.accessAllowed ? 'block' : 'none';\n",
              "\n",
              "        async function convertToInteractive(key) {\n",
              "          const element = document.querySelector('#df-c186107d-3894-4ec5-8319-cc0ed7e9d2d0');\n",
              "          const dataTable =\n",
              "            await google.colab.kernel.invokeFunction('convertToInteractive',\n",
              "                                                     [key], {});\n",
              "          if (!dataTable) return;\n",
              "\n",
              "          const docLinkHtml = 'Like what you see? Visit the ' +\n",
              "            '<a target=\"_blank\" href=https://colab.research.google.com/notebooks/data_table.ipynb>data table notebook</a>'\n",
              "            + ' to learn more about interactive tables.';\n",
              "          element.innerHTML = '';\n",
              "          dataTable['output_type'] = 'display_data';\n",
              "          await google.colab.output.renderOutput(dataTable, element);\n",
              "          const docLink = document.createElement('div');\n",
              "          docLink.innerHTML = docLinkHtml;\n",
              "          element.appendChild(docLink);\n",
              "        }\n",
              "      </script>\n",
              "    </div>\n",
              "  </div>\n",
              "  "
            ]
          },
          "metadata": {},
          "execution_count": 480
        }
      ]
    },
    {
      "cell_type": "markdown",
      "source": [
        "**EXPLORATORY ANALYSIS**"
      ],
      "metadata": {
        "id": "EiLG_vKuvJjr"
      }
    },
    {
      "cell_type": "code",
      "source": [
        "data.shape"
      ],
      "metadata": {
        "colab": {
          "base_uri": "https://localhost:8080/"
        },
        "id": "2-m7qHTE9UaV",
        "outputId": "d2cbcb5c-723c-49ee-9b81-c93337359a2b"
      },
      "execution_count": null,
      "outputs": [
        {
          "output_type": "execute_result",
          "data": {
            "text/plain": [
              "(22556, 13)"
            ]
          },
          "metadata": {},
          "execution_count": 442
        }
      ]
    },
    {
      "cell_type": "markdown",
      "source": [
        "The shape function is used to display the number of rows and columns."
      ],
      "metadata": {
        "id": "FxLVR9COvwXf"
      }
    },
    {
      "cell_type": "code",
      "source": [
        "data.info()"
      ],
      "metadata": {
        "colab": {
          "base_uri": "https://localhost:8080/"
        },
        "id": "g9fjrZSh99uP",
        "outputId": "7fe614c6-7ecd-4e65-bf26-db7a18a82502"
      },
      "execution_count": null,
      "outputs": [
        {
          "output_type": "stream",
          "name": "stdout",
          "text": [
            "<class 'pandas.core.frame.DataFrame'>\n",
            "RangeIndex: 22556 entries, 0 to 22555\n",
            "Data columns (total 13 columns):\n",
            " #   Column            Non-Null Count  Dtype  \n",
            "---  ------            --------------  -----  \n",
            " 0   YEAR              22556 non-null  int64  \n",
            " 1   MAKE              22556 non-null  object \n",
            " 2   MODEL             22556 non-null  object \n",
            " 3   VEHICLE CLASS     22556 non-null  object \n",
            " 4   ENGINE SIZE       22556 non-null  float64\n",
            " 5   CYLINDERS         22556 non-null  int64  \n",
            " 6   TRANSMISSION      22556 non-null  object \n",
            " 7   FUEL              22556 non-null  object \n",
            " 8   FUEL CONSUMPTION  22556 non-null  float64\n",
            " 9   HWY (L/100 km)    22556 non-null  float64\n",
            " 10  COMB (L/100 km)   22556 non-null  float64\n",
            " 11  COMB (mpg)        22556 non-null  int64  \n",
            " 12  EMISSIONS         22556 non-null  int64  \n",
            "dtypes: float64(4), int64(4), object(5)\n",
            "memory usage: 2.2+ MB\n"
          ]
        }
      ]
    },
    {
      "cell_type": "markdown",
      "source": [
        " The info function is used to display the features null values and number values in a features and its data type. In our dataset there is no null values."
      ],
      "metadata": {
        "id": "uyd2kQU7v6K6"
      }
    },
    {
      "cell_type": "code",
      "source": [
        "data.describe()"
      ],
      "metadata": {
        "colab": {
          "base_uri": "https://localhost:8080/",
          "height": 300
        },
        "id": "195O69mA-EGB",
        "outputId": "0d2a27d8-98e9-4390-faac-278d77c618c4"
      },
      "execution_count": null,
      "outputs": [
        {
          "output_type": "execute_result",
          "data": {
            "text/plain": [
              "               YEAR   ENGINE SIZE     CYLINDERS  FUEL CONSUMPTION  \\\n",
              "count  22556.000000  22556.000000  22556.000000      22556.000000   \n",
              "mean    2011.554442      3.356646      5.854141         12.763513   \n",
              "std        6.298269      1.335425      1.819597          3.500999   \n",
              "min     2000.000000      0.800000      2.000000          3.500000   \n",
              "25%     2006.000000      2.300000      4.000000         10.400000   \n",
              "50%     2012.000000      3.000000      6.000000         12.300000   \n",
              "75%     2017.000000      4.200000      8.000000         14.725000   \n",
              "max     2022.000000      8.400000     16.000000         30.600000   \n",
              "\n",
              "       HWY (L/100 km)  COMB (L/100 km)    COMB (mpg)     EMISSIONS  \n",
              "count    22556.000000     22556.000000  22556.000000  22556.000000  \n",
              "mean         8.919126        11.034341     27.374534    250.068452  \n",
              "std          2.274764         2.910920      7.376982     59.355276  \n",
              "min          3.200000         3.600000     11.000000     83.000000  \n",
              "25%          7.300000         9.100000     22.000000    209.000000  \n",
              "50%          8.400000        10.600000     27.000000    243.000000  \n",
              "75%         10.200000        12.700000     31.000000    288.000000  \n",
              "max         20.900000        26.100000     78.000000    608.000000  "
            ],
            "text/html": [
              "\n",
              "  <div id=\"df-090b2e9e-c267-407d-83b6-7acec4db67ef\">\n",
              "    <div class=\"colab-df-container\">\n",
              "      <div>\n",
              "<style scoped>\n",
              "    .dataframe tbody tr th:only-of-type {\n",
              "        vertical-align: middle;\n",
              "    }\n",
              "\n",
              "    .dataframe tbody tr th {\n",
              "        vertical-align: top;\n",
              "    }\n",
              "\n",
              "    .dataframe thead th {\n",
              "        text-align: right;\n",
              "    }\n",
              "</style>\n",
              "<table border=\"1\" class=\"dataframe\">\n",
              "  <thead>\n",
              "    <tr style=\"text-align: right;\">\n",
              "      <th></th>\n",
              "      <th>YEAR</th>\n",
              "      <th>ENGINE SIZE</th>\n",
              "      <th>CYLINDERS</th>\n",
              "      <th>FUEL CONSUMPTION</th>\n",
              "      <th>HWY (L/100 km)</th>\n",
              "      <th>COMB (L/100 km)</th>\n",
              "      <th>COMB (mpg)</th>\n",
              "      <th>EMISSIONS</th>\n",
              "    </tr>\n",
              "  </thead>\n",
              "  <tbody>\n",
              "    <tr>\n",
              "      <th>count</th>\n",
              "      <td>22556.000000</td>\n",
              "      <td>22556.000000</td>\n",
              "      <td>22556.000000</td>\n",
              "      <td>22556.000000</td>\n",
              "      <td>22556.000000</td>\n",
              "      <td>22556.000000</td>\n",
              "      <td>22556.000000</td>\n",
              "      <td>22556.000000</td>\n",
              "    </tr>\n",
              "    <tr>\n",
              "      <th>mean</th>\n",
              "      <td>2011.554442</td>\n",
              "      <td>3.356646</td>\n",
              "      <td>5.854141</td>\n",
              "      <td>12.763513</td>\n",
              "      <td>8.919126</td>\n",
              "      <td>11.034341</td>\n",
              "      <td>27.374534</td>\n",
              "      <td>250.068452</td>\n",
              "    </tr>\n",
              "    <tr>\n",
              "      <th>std</th>\n",
              "      <td>6.298269</td>\n",
              "      <td>1.335425</td>\n",
              "      <td>1.819597</td>\n",
              "      <td>3.500999</td>\n",
              "      <td>2.274764</td>\n",
              "      <td>2.910920</td>\n",
              "      <td>7.376982</td>\n",
              "      <td>59.355276</td>\n",
              "    </tr>\n",
              "    <tr>\n",
              "      <th>min</th>\n",
              "      <td>2000.000000</td>\n",
              "      <td>0.800000</td>\n",
              "      <td>2.000000</td>\n",
              "      <td>3.500000</td>\n",
              "      <td>3.200000</td>\n",
              "      <td>3.600000</td>\n",
              "      <td>11.000000</td>\n",
              "      <td>83.000000</td>\n",
              "    </tr>\n",
              "    <tr>\n",
              "      <th>25%</th>\n",
              "      <td>2006.000000</td>\n",
              "      <td>2.300000</td>\n",
              "      <td>4.000000</td>\n",
              "      <td>10.400000</td>\n",
              "      <td>7.300000</td>\n",
              "      <td>9.100000</td>\n",
              "      <td>22.000000</td>\n",
              "      <td>209.000000</td>\n",
              "    </tr>\n",
              "    <tr>\n",
              "      <th>50%</th>\n",
              "      <td>2012.000000</td>\n",
              "      <td>3.000000</td>\n",
              "      <td>6.000000</td>\n",
              "      <td>12.300000</td>\n",
              "      <td>8.400000</td>\n",
              "      <td>10.600000</td>\n",
              "      <td>27.000000</td>\n",
              "      <td>243.000000</td>\n",
              "    </tr>\n",
              "    <tr>\n",
              "      <th>75%</th>\n",
              "      <td>2017.000000</td>\n",
              "      <td>4.200000</td>\n",
              "      <td>8.000000</td>\n",
              "      <td>14.725000</td>\n",
              "      <td>10.200000</td>\n",
              "      <td>12.700000</td>\n",
              "      <td>31.000000</td>\n",
              "      <td>288.000000</td>\n",
              "    </tr>\n",
              "    <tr>\n",
              "      <th>max</th>\n",
              "      <td>2022.000000</td>\n",
              "      <td>8.400000</td>\n",
              "      <td>16.000000</td>\n",
              "      <td>30.600000</td>\n",
              "      <td>20.900000</td>\n",
              "      <td>26.100000</td>\n",
              "      <td>78.000000</td>\n",
              "      <td>608.000000</td>\n",
              "    </tr>\n",
              "  </tbody>\n",
              "</table>\n",
              "</div>\n",
              "      <button class=\"colab-df-convert\" onclick=\"convertToInteractive('df-090b2e9e-c267-407d-83b6-7acec4db67ef')\"\n",
              "              title=\"Convert this dataframe to an interactive table.\"\n",
              "              style=\"display:none;\">\n",
              "        \n",
              "  <svg xmlns=\"http://www.w3.org/2000/svg\" height=\"24px\"viewBox=\"0 0 24 24\"\n",
              "       width=\"24px\">\n",
              "    <path d=\"M0 0h24v24H0V0z\" fill=\"none\"/>\n",
              "    <path d=\"M18.56 5.44l.94 2.06.94-2.06 2.06-.94-2.06-.94-.94-2.06-.94 2.06-2.06.94zm-11 1L8.5 8.5l.94-2.06 2.06-.94-2.06-.94L8.5 2.5l-.94 2.06-2.06.94zm10 10l.94 2.06.94-2.06 2.06-.94-2.06-.94-.94-2.06-.94 2.06-2.06.94z\"/><path d=\"M17.41 7.96l-1.37-1.37c-.4-.4-.92-.59-1.43-.59-.52 0-1.04.2-1.43.59L10.3 9.45l-7.72 7.72c-.78.78-.78 2.05 0 2.83L4 21.41c.39.39.9.59 1.41.59.51 0 1.02-.2 1.41-.59l7.78-7.78 2.81-2.81c.8-.78.8-2.07 0-2.86zM5.41 20L4 18.59l7.72-7.72 1.47 1.35L5.41 20z\"/>\n",
              "  </svg>\n",
              "      </button>\n",
              "      \n",
              "  <style>\n",
              "    .colab-df-container {\n",
              "      display:flex;\n",
              "      flex-wrap:wrap;\n",
              "      gap: 12px;\n",
              "    }\n",
              "\n",
              "    .colab-df-convert {\n",
              "      background-color: #E8F0FE;\n",
              "      border: none;\n",
              "      border-radius: 50%;\n",
              "      cursor: pointer;\n",
              "      display: none;\n",
              "      fill: #1967D2;\n",
              "      height: 32px;\n",
              "      padding: 0 0 0 0;\n",
              "      width: 32px;\n",
              "    }\n",
              "\n",
              "    .colab-df-convert:hover {\n",
              "      background-color: #E2EBFA;\n",
              "      box-shadow: 0px 1px 2px rgba(60, 64, 67, 0.3), 0px 1px 3px 1px rgba(60, 64, 67, 0.15);\n",
              "      fill: #174EA6;\n",
              "    }\n",
              "\n",
              "    [theme=dark] .colab-df-convert {\n",
              "      background-color: #3B4455;\n",
              "      fill: #D2E3FC;\n",
              "    }\n",
              "\n",
              "    [theme=dark] .colab-df-convert:hover {\n",
              "      background-color: #434B5C;\n",
              "      box-shadow: 0px 1px 3px 1px rgba(0, 0, 0, 0.15);\n",
              "      filter: drop-shadow(0px 1px 2px rgba(0, 0, 0, 0.3));\n",
              "      fill: #FFFFFF;\n",
              "    }\n",
              "  </style>\n",
              "\n",
              "      <script>\n",
              "        const buttonEl =\n",
              "          document.querySelector('#df-090b2e9e-c267-407d-83b6-7acec4db67ef button.colab-df-convert');\n",
              "        buttonEl.style.display =\n",
              "          google.colab.kernel.accessAllowed ? 'block' : 'none';\n",
              "\n",
              "        async function convertToInteractive(key) {\n",
              "          const element = document.querySelector('#df-090b2e9e-c267-407d-83b6-7acec4db67ef');\n",
              "          const dataTable =\n",
              "            await google.colab.kernel.invokeFunction('convertToInteractive',\n",
              "                                                     [key], {});\n",
              "          if (!dataTable) return;\n",
              "\n",
              "          const docLinkHtml = 'Like what you see? Visit the ' +\n",
              "            '<a target=\"_blank\" href=https://colab.research.google.com/notebooks/data_table.ipynb>data table notebook</a>'\n",
              "            + ' to learn more about interactive tables.';\n",
              "          element.innerHTML = '';\n",
              "          dataTable['output_type'] = 'display_data';\n",
              "          await google.colab.output.renderOutput(dataTable, element);\n",
              "          const docLink = document.createElement('div');\n",
              "          docLink.innerHTML = docLinkHtml;\n",
              "          element.appendChild(docLink);\n",
              "        }\n",
              "      </script>\n",
              "    </div>\n",
              "  </div>\n",
              "  "
            ]
          },
          "metadata": {},
          "execution_count": 444
        }
      ]
    },
    {
      "cell_type": "markdown",
      "source": [
        "The describe function is used to display the features descriptive statistics.\n"
      ],
      "metadata": {
        "id": "0-fqjV9BwdAH"
      }
    },
    {
      "cell_type": "markdown",
      "source": [
        "**FINDING OUTLIERS**"
      ],
      "metadata": {
        "id": "A2uuT9X5H1-L"
      }
    },
    {
      "cell_type": "markdown",
      "source": [
        "By plotting the box plot we can find the outliears."
      ],
      "metadata": {
        "id": "bBg1_bkFw7K0"
      }
    },
    {
      "cell_type": "code",
      "source": [
        "plt.figure(figsize=(15,8))\n",
        "data2 = data[\"EMISSIONS\"], data[\"FUEL CONSUMPTION\"],data['ENGINE SIZE'],data['CYLINDERS'],data['HWY (L/100 km)'],data['COMB (L/100 km)'],data['COMB (mpg)']\n",
        "plt.boxplot(data2, labels=['EMISSIONS','FUEL CONSUMPTION','ENGINE SIZE','CYLINDERS','HWY (L/100 km)','COMB (L/100 km)','COMB (mpg)'])\n",
        "plt.show()"
      ],
      "metadata": {
        "colab": {
          "base_uri": "https://localhost:8080/",
          "height": 483
        },
        "id": "gwm3nyuSXzXe",
        "outputId": "d57a86e0-722f-4631-d99f-a2b27e5df839"
      },
      "execution_count": null,
      "outputs": [
        {
          "output_type": "display_data",
          "data": {
            "text/plain": [
              "<Figure size 1080x576 with 1 Axes>"
            ],
            "image/png": "[encoded data removed]"
          },
          "metadata": {
            "needs_background": "light"
          }
        }
      ]
    },
    {
      "cell_type": "code",
      "source": [
        "data2 = data[\"COMB (L/100 km)\"], data[\"FUEL CONSUMPTION\"]\n",
        "plt.figure(figsize=(15,8))\n",
        "plt.boxplot(data2, labels=['COMB (L/100 km)','FUEL CONSUMPTION'])\n",
        "plt.show()"
      ],
      "metadata": {
        "colab": {
          "base_uri": "https://localhost:8080/",
          "height": 483
        },
        "id": "nF4BYVjq8r8b",
        "outputId": "52102b90-2a22-4e07-d743-dcdd7226016a"
      },
      "execution_count": null,
      "outputs": [
        {
          "output_type": "display_data",
          "data": {
            "text/plain": [
              "<Figure size 1080x576 with 1 Axes>"
            ],
            "image/png": "[encoded data removed]"
          },
          "metadata": {
            "needs_background": "light"
          }
        }
      ]
    },
    {
      "cell_type": "markdown",
      "source": [
        "**HANDLING OUTLIERS**"
      ],
      "metadata": {
        "id": "CfxsbC-LIJF9"
      }
    },
    {
      "cell_type": "code",
      "source": [
        "outlier = []\n",
        "def detect_outliers_iqr(data):\n",
        "    data = sorted(data)\n",
        "    q1 = np.percentile(data, 25)\n",
        "    q3 = np.percentile(data, 75)\n",
        "# print(q1, q3)\n",
        "    IQR = q3-q1\n",
        "    lwr_bound = q1-(1.5*IQR)\n",
        "    upr_bound = q3+(1.5*IQR)\n",
        "# print(lwr_bound, upr_bound)\n",
        "    for i in data:\n",
        "        if (i<lwr_bound or i>upr_bound):\n",
        "            outlier.append(i)\n",
        "    return outlier"
      ],
      "metadata": {
        "id": "ck8n59OwG236"
      },
      "execution_count": null,
      "outputs": []
    },
    {
      "cell_type": "code",
      "source": [
        "# checking outliears for Emission.\n",
        "sample_outliers = detect_outliers_iqr(data['COMB (L/100 km)'])\n",
        "Q1, Q3 = data[\"COMB (L/100 km)\"].quantile([0.25,0.75])\n",
        "LCL = Q1 - 1.5 * (Q3 - Q1)\n",
        "UCL = Q3 + 1.5 * (Q3 - Q1)\n",
        "print(\"Upper bound = \", round(UCL))\n",
        "print(\"Lower bound = \", round(LCL))"
      ],
      "metadata": {
        "colab": {
          "base_uri": "https://localhost:8080/"
        },
        "id": "7rjnC31oMH7S",
        "outputId": "6ab19a31-1562-4acf-de43-36fa8fb7fc6a"
      },
      "execution_count": null,
      "outputs": [
        {
          "output_type": "stream",
          "name": "stdout",
          "text": [
            "Upper bound =  18\n",
            "Lower bound =  4\n"
          ]
        }
      ]
    },
    {
      "cell_type": "code",
      "source": [
        "# Handling outlier for emissions.\n",
        "data[\"COMB (L/100 km)\"] = data[\"COMB (L/100 km)\"].map(\n",
        "    lambda x: 18 if x > 18 else x\n",
        ")\n",
        "data[\"COMB (L/100 km)\"] = data[\"COMB (L/100 km)\"].map(\n",
        "    lambda x: 4 if x < 4 else x\n",
        ")"
      ],
      "metadata": {
        "id": "bcOvMpJ3MnaV"
      },
      "execution_count": null,
      "outputs": []
    },
    {
      "cell_type": "markdown",
      "source": [
        "The outliers are handled by outlier capped at a certain value above 18th percentile value or floored at a factor  below 4th percentile value."
      ],
      "metadata": {
        "id": "30hIhBK8xo-A"
      }
    },
    {
      "cell_type": "code",
      "source": [
        "# boxplot after handling the COMB (L/100 km).\n",
        "plt.figure(figsize=(10,5))\n",
        "sns.boxplot(data['COMB (L/100 km)'])\n",
        "plt.show()"
      ],
      "metadata": {
        "colab": {
          "base_uri": "https://localhost:8080/",
          "height": 389
        },
        "id": "D3wYwKlORbR-",
        "outputId": "a7d6c78a-9d48-43af-9782-21d1ea6197db"
      },
      "execution_count": null,
      "outputs": [
        {
          "output_type": "stream",
          "name": "stderr",
          "text": [
            "/usr/local/lib/python3.8/dist-packages/seaborn/_decorators.py:36: FutureWarning: Pass the following variable as a keyword arg: x. From version 0.12, the only valid positional argument will be `data`, and passing other arguments without an explicit keyword will result in an error or misinterpretation.\n",
            "  warnings.warn(\n"
          ]
        },
        {
          "output_type": "display_data",
          "data": {
            "text/plain": [
              "<Figure size 720x360 with 1 Axes>"
            ],
            "image/png": "[encoded data removed]"
          },
          "metadata": {
            "needs_background": "light"
          }
        }
      ]
    },
    {
      "cell_type": "code",
      "source": [
        "# checking outliears for FUEL CONSUMPTION.\n",
        "sample_outliers = detect_outliers_iqr(data['FUEL CONSUMPTION'])\n",
        "Q1, Q3 = data[\"FUEL CONSUMPTION\"].quantile([0.25,0.75])\n",
        "LCL = Q1 - 1.5 * (Q3 - Q1)\n",
        "UCL = Q3 + 1.5 * (Q3 - Q1)\n",
        "print(\"Upper bound = \", round(UCL))\n",
        "print(\"Lower bound = \", round(LCL))"
      ],
      "metadata": {
        "colab": {
          "base_uri": "https://localhost:8080/"
        },
        "id": "yXN5PZT0RzG_",
        "outputId": "de04e082-ca8c-4c64-88c8-e101fd30b39a"
      },
      "execution_count": null,
      "outputs": [
        {
          "output_type": "stream",
          "name": "stdout",
          "text": [
            "Upper bound =  21\n",
            "Lower bound =  4\n"
          ]
        }
      ]
    },
    {
      "cell_type": "code",
      "source": [
        "# Handling outlier for emissions.\n",
        "data[\"FUEL CONSUMPTION\"] = data[\"FUEL CONSUMPTION\"].map(\n",
        "    lambda x: 21 if x > 21 else x\n",
        ")\n",
        "data[\"FUEL CONSUMPTION\"] = data[\"FUEL CONSUMPTION\"].map(\n",
        "    lambda x: 4 if x < 4 else x\n",
        ")"
      ],
      "metadata": {
        "id": "vZ3szkuSR97L"
      },
      "execution_count": null,
      "outputs": []
    },
    {
      "cell_type": "markdown",
      "source": [
        "The outliers are handled by the outlier is capped at a certain value above 21th percentile value or floored at a factor  below 4th percentile value."
      ],
      "metadata": {
        "id": "Ah9bxz_cxs5y"
      }
    },
    {
      "cell_type": "code",
      "source": [
        "# boxplot after handling the emissions.\n",
        "plt.figure(figsize=(10,5))\n",
        "sns.boxplot(data['FUEL CONSUMPTION'])\n",
        "plt.show()"
      ],
      "metadata": {
        "colab": {
          "base_uri": "https://localhost:8080/",
          "height": 389
        },
        "id": "_fJ28QAASGBV",
        "outputId": "21f74e63-f5e0-493c-ea2b-145d4f3e9d5d"
      },
      "execution_count": null,
      "outputs": [
        {
          "output_type": "stream",
          "name": "stderr",
          "text": [
            "/usr/local/lib/python3.8/dist-packages/seaborn/_decorators.py:36: FutureWarning: Pass the following variable as a keyword arg: x. From version 0.12, the only valid positional argument will be `data`, and passing other arguments without an explicit keyword will result in an error or misinterpretation.\n",
            "  warnings.warn(\n"
          ]
        },
        {
          "output_type": "display_data",
          "data": {
            "text/plain": [
              "<Figure size 720x360 with 1 Axes>"
            ],
            "image/png": "[encoded data removed]"
          },
          "metadata": {
            "needs_background": "light"
          }
        }
      ]
    },
    {
      "cell_type": "markdown",
      "source": [
        "There is no outlier after handeling the outlier."
      ],
      "metadata": {
        "id": "sxKXgYL3xx-e"
      }
    },
    {
      "cell_type": "markdown",
      "source": [
        "**PLOTTING CORRELATION MATRIX**"
      ],
      "metadata": {
        "id": "9aYaC-7cUgFL"
      }
    },
    {
      "cell_type": "markdown",
      "source": [
        "A correlation matrix is a table showing the correlation between multiple variables. The purpose of a correlation matrix is to analyze the strength and direction of the relationships between variables."
      ],
      "metadata": {
        "id": "GWXgBK1NzAxo"
      }
    },
    {
      "cell_type": "code",
      "source": [
        "data_corr = data.corr()\n",
        "plt.figure(figsize=(10,5))\n",
        "sns.heatmap(data_corr, cmap=\"Blues\", annot=True)\n",
        "plt.title('Correlation between different features')\n",
        "plt.show()"
      ],
      "metadata": {
        "colab": {
          "base_uri": "https://localhost:8080/",
          "height": 428
        },
        "id": "whrPaiU4UfwJ",
        "outputId": "09738af5-145e-4e83-c803-550765965126"
      },
      "execution_count": null,
      "outputs": [
        {
          "output_type": "display_data",
          "data": {
            "text/plain": [
              "<Figure size 720x360 with 2 Axes>"
            ],
            "image/png": "[encoded data removed]"
          },
          "metadata": {
            "needs_background": "light"
          }
        }
      ]
    },
    {
      "cell_type": "markdown",
      "source": [
        "**SIMPLE LINEAR REGRESSION**"
      ],
      "metadata": {
        "id": "_8b8wj1cEDz8"
      }
    },
    {
      "cell_type": "markdown",
      "source": [
        "Selecting the target and independent features."
      ],
      "metadata": {
        "id": "RZdT4BPpEMBB"
      }
    },
    {
      "cell_type": "code",
      "source": [
        "y = data[\"FUEL CONSUMPTION\"]\n",
        "x = data[\"COMB (L/100 km)\"]"
      ],
      "metadata": {
        "id": "gzbKCjQxEGKd"
      },
      "execution_count": null,
      "outputs": []
    },
    {
      "cell_type": "markdown",
      "source": [
        "**SCATTER PLOT**"
      ],
      "metadata": {
        "id": "TpeLiIsBEUzq"
      }
    },
    {
      "cell_type": "markdown",
      "source": [
        "The scatter plot is plotted to check the linearity of the relationship."
      ],
      "metadata": {
        "id": "Ba6wOL2qEWAx"
      }
    },
    {
      "cell_type": "code",
      "source": [
        "plt.scatter(x,y)\n",
        "plt.title('COMB (L/100 km) against FUEL CONSUMPTION')\n",
        "plt.xlabel('COMB (L/100 km)')\n",
        "plt.ylabel('FUEL CONSUMPTION')\n",
        "plt.show()"
      ],
      "metadata": {
        "id": "QiSCQsXaERut"
      },
      "execution_count": null,
      "outputs": []
    },
    {
      "cell_type": "markdown",
      "source": [
        "And as we can see the both target and fuel consumption feature are linearly distributed. Therefore Linearity assumption is satisfied.\n",
        "\n",
        "\n",
        "---\n",
        "\n"
      ],
      "metadata": {
        "id": "DkLV1u3kEgDa"
      }
    },
    {
      "cell_type": "markdown",
      "source": [
        "**PLOTTING DISTRIBUTION PLOT**"
      ],
      "metadata": {
        "id": "8qQ-EjaHV-OP"
      }
    },
    {
      "cell_type": "code",
      "source": [
        "fig = plt.figure()\n",
        "sns.distplot(data[\"COMB (L/100 km)\"],bins=15)\n",
        "plt.show()"
      ],
      "metadata": {
        "colab": {
          "base_uri": "https://localhost:8080/",
          "height": 334
        },
        "id": "i2SWHyInV9qA",
        "outputId": "438c32bf-2e88-4da4-bbd0-66fbb2147b88"
      },
      "execution_count": null,
      "outputs": [
        {
          "output_type": "stream",
          "name": "stderr",
          "text": [
            "/usr/local/lib/python3.8/dist-packages/seaborn/distributions.py:2619: FutureWarning: `distplot` is a deprecated function and will be removed in a future version. Please adapt your code to use either `displot` (a figure-level function with similar flexibility) or `histplot` (an axes-level function for histograms).\n",
            "  warnings.warn(msg, FutureWarning)\n"
          ]
        },
        {
          "output_type": "display_data",
          "data": {
            "text/plain": [
              "<Figure size 432x288 with 1 Axes>"
            ],
            "image/png": "[encoded data removed]"
          },
          "metadata": {
            "needs_background": "light"
          }
        }
      ]
    },
    {
      "cell_type": "markdown",
      "source": [
        "**INFERENCE:**  COMB (L/100 km) feature in the dataset is normally distributed. We can infer this from the distribution plot and the normality condition is satisfied."
      ],
      "metadata": {
        "id": "DO-zuF1yb0Xs"
      }
    },
    {
      "cell_type": "code",
      "source": [
        "fig = plt.figure()\n",
        "sns.distplot(data[\"FUEL CONSUMPTION\"],bins=15)\n",
        "plt.show()"
      ],
      "metadata": {
        "colab": {
          "base_uri": "https://localhost:8080/",
          "height": 334
        },
        "id": "MZmPPp34XpMR",
        "outputId": "b31470a7-c692-4c4f-e37c-ae5d2fa68c8b"
      },
      "execution_count": null,
      "outputs": [
        {
          "output_type": "stream",
          "name": "stderr",
          "text": [
            "/usr/local/lib/python3.8/dist-packages/seaborn/distributions.py:2619: FutureWarning: `distplot` is a deprecated function and will be removed in a future version. Please adapt your code to use either `displot` (a figure-level function with similar flexibility) or `histplot` (an axes-level function for histograms).\n",
            "  warnings.warn(msg, FutureWarning)\n"
          ]
        },
        {
          "output_type": "display_data",
          "data": {
            "text/plain": [
              "<Figure size 432x288 with 1 Axes>"
            ],
            "image/png": "[encoded data removed]"
          },
          "metadata": {
            "needs_background": "light"
          }
        }
      ]
    },
    {
      "cell_type": "markdown",
      "source": [
        "**INFERENCE:** Fuel consumption feature in the dataset is normally distributed. We can infer this from the distributionplot  and the normality condition is satisfied."
      ],
      "metadata": {
        "id": "9FLpaY0ocZFG"
      }
    },
    {
      "cell_type": "markdown",
      "source": [
        "**SPLITTING THE DATA INTO TRAIN AND TEST**\n",
        "\n",
        "Splitting the data into train and test sets is a common step in the process of building a predictive model. The purpose of splitting the data is to have a portion of the data to train the model and another portion to evaluate its performance.The training set is used to train the model, while the testing set is used to evaluate the model's performance. The most common split is to use 80% of the data for training and 20% for testing."
      ],
      "metadata": {
        "id": "Vih96OaKr_RN"
      }
    },
    {
      "cell_type": "code",
      "source": [
        "from sklearn.model_selection import train_test_split"
      ],
      "metadata": {
        "id": "1c9Qaq44MbJC"
      },
      "execution_count": null,
      "outputs": []
    },
    {
      "cell_type": "code",
      "source": [
        "x_train,x_test,y_train,y_test = train_test_split(x,y, train_size=0.8 , test_size=0.2,random_state = 10)"
      ],
      "metadata": {
        "id": "P-7fIqYUN8_j"
      },
      "execution_count": null,
      "outputs": []
    },
    {
      "cell_type": "code",
      "source": [
        "x_train.astype(int)"
      ],
      "metadata": {
        "colab": {
          "base_uri": "https://localhost:8080/"
        },
        "id": "_JdXdMrUO4oj",
        "outputId": "d88aff03-9a33-4ace-c8a9-55190ae77c1a"
      },
      "execution_count": null,
      "outputs": [
        {
          "output_type": "execute_result",
          "data": {
            "text/plain": [
              "4636      9\n",
              "10670    12\n",
              "6387      9\n",
              "18994    10\n",
              "11438    12\n",
              "         ..\n",
              "9372     10\n",
              "7291     13\n",
              "17728     9\n",
              "7293     12\n",
              "17673    14\n",
              "Name: COMB (L/100 km), Length: 18044, dtype: int64"
            ]
          },
          "metadata": {},
          "execution_count": 460
        }
      ]
    },
    {
      "cell_type": "code",
      "source": [
        "y_train.astype(int)"
      ],
      "metadata": {
        "colab": {
          "base_uri": "https://localhost:8080/"
        },
        "id": "iVRVb47KO_f3",
        "outputId": "6e2e1b5b-a8c7-468b-e61d-956bacb80810"
      },
      "execution_count": null,
      "outputs": [
        {
          "output_type": "execute_result",
          "data": {
            "text/plain": [
              "4636     10\n",
              "10670    14\n",
              "6387     10\n",
              "18994    11\n",
              "11438    14\n",
              "         ..\n",
              "9372     11\n",
              "7291     15\n",
              "17728    10\n",
              "7293     14\n",
              "17673    17\n",
              "Name: FUEL CONSUMPTION, Length: 18044, dtype: int64"
            ]
          },
          "metadata": {},
          "execution_count": 461
        }
      ]
    },
    {
      "cell_type": "code",
      "source": [
        "x_test.astype(int)"
      ],
      "metadata": {
        "colab": {
          "base_uri": "https://localhost:8080/"
        },
        "id": "Shidd8Wzmaqt",
        "outputId": "ab516cfd-1fc7-4367-a8a7-34e98b0d3fea"
      },
      "execution_count": null,
      "outputs": [
        {
          "output_type": "execute_result",
          "data": {
            "text/plain": [
              "19116     8\n",
              "11016     9\n",
              "15481    10\n",
              "824      13\n",
              "13397     6\n",
              "         ..\n",
              "13233     7\n",
              "20579     9\n",
              "3551      8\n",
              "12605    16\n",
              "9984      8\n",
              "Name: COMB (L/100 km), Length: 4512, dtype: int64"
            ]
          },
          "metadata": {},
          "execution_count": 462
        }
      ]
    },
    {
      "cell_type": "code",
      "source": [
        "y_test.astype(int)"
      ],
      "metadata": {
        "colab": {
          "base_uri": "https://localhost:8080/"
        },
        "id": "zmXg9fyNmgW9",
        "outputId": "9002eee3-9799-4c68-cd84-26cbb1589073"
      },
      "execution_count": null,
      "outputs": [
        {
          "output_type": "execute_result",
          "data": {
            "text/plain": [
              "19116     9\n",
              "11016    10\n",
              "15481    12\n",
              "824      15\n",
              "13397     8\n",
              "         ..\n",
              "13233     8\n",
              "20579    10\n",
              "3551     10\n",
              "12605    19\n",
              "9984     10\n",
              "Name: FUEL CONSUMPTION, Length: 4512, dtype: int64"
            ]
          },
          "metadata": {},
          "execution_count": 463
        }
      ]
    },
    {
      "cell_type": "markdown",
      "source": [
        "**BUILDING THE MODEL**\n",
        "\n",
        "The statsmodels library in Python is commonly used for statistical modeling and hypothesis testing. It includes functions for linear regression, including simple linear regression."
      ],
      "metadata": {
        "id": "TWgrPLfjtPDg"
      }
    },
    {
      "cell_type": "code",
      "source": [
        "import statsmodels.api as lm"
      ],
      "metadata": {
        "id": "yCczQrrwPB8s"
      },
      "execution_count": null,
      "outputs": []
    },
    {
      "cell_type": "markdown",
      "source": [
        "The simple linear equation y = β0 + β1x has a  it has intercept value β0, therefore we adding the intercept value."
      ],
      "metadata": {
        "id": "HUhcg0DN2eVz"
      }
    },
    {
      "cell_type": "code",
      "source": [
        "x_train_lm = lm.add_constant(x_train)"
      ],
      "metadata": {
        "colab": {
          "base_uri": "https://localhost:8080/"
        },
        "id": "xsBdHS1WPVn8",
        "outputId": "3c3d25cf-9d0e-4e4c-b085-b56f9dd60d98"
      },
      "execution_count": null,
      "outputs": [
        {
          "output_type": "stream",
          "name": "stderr",
          "text": [
            "/usr/local/lib/python3.8/dist-packages/statsmodels/tsa/tsatools.py:142: FutureWarning: In a future version of pandas all arguments of concat except for the argument 'objs' will be keyword-only\n",
            "  x = pd.concat(x[::order], 1)\n"
          ]
        }
      ]
    },
    {
      "cell_type": "markdown",
      "source": [
        "The sm.OLS function is used to fit an ordinary least squares (OLS) regression model. The fit method is used to fit the model to the data."
      ],
      "metadata": {
        "id": "9bP0Etr034ly"
      }
    },
    {
      "cell_type": "code",
      "source": [
        "model = lm.OLS(y_train,x_train_lm).fit()"
      ],
      "metadata": {
        "id": "kXvq9gJuQLZ3"
      },
      "execution_count": null,
      "outputs": []
    },
    {
      "cell_type": "markdown",
      "source": [
        "The coefficient of the independent variable and intercept is found."
      ],
      "metadata": {
        "id": "8YwOwYx64ACA"
      }
    },
    {
      "cell_type": "code",
      "source": [
        "model.params"
      ],
      "metadata": {
        "colab": {
          "base_uri": "https://localhost:8080/"
        },
        "id": "maw2e_sHQfHm",
        "outputId": "ddff2c8d-1e8e-4217-93e3-32abeb3e6fcf"
      },
      "execution_count": null,
      "outputs": [
        {
          "output_type": "execute_result",
          "data": {
            "text/plain": [
              "const             -0.414741\n",
              "COMB (L/100 km)    1.194215\n",
              "dtype: float64"
            ]
          },
          "metadata": {},
          "execution_count": 467
        }
      ]
    },
    {
      "cell_type": "markdown",
      "source": [
        "The summary of the model is displayed."
      ],
      "metadata": {
        "id": "YRoLTHjN4TBC"
      }
    },
    {
      "cell_type": "code",
      "source": [
        "model.summary()"
      ],
      "metadata": {
        "colab": {
          "base_uri": "https://localhost:8080/",
          "height": 452
        },
        "id": "BK_OhyYAQsfj",
        "outputId": "d77a648c-e5af-4cb1-a6f7-c416b9e93525"
      },
      "execution_count": null,
      "outputs": [
        {
          "output_type": "execute_result",
          "data": {
            "text/plain": [
              "<class 'statsmodels.iolib.summary.Summary'>\n",
              "\"\"\"\n",
              "                            OLS Regression Results                            \n",
              "==============================================================================\n",
              "Dep. Variable:       FUEL CONSUMPTION   R-squared:                       0.986\n",
              "Model:                            OLS   Adj. R-squared:                  0.986\n",
              "Method:                 Least Squares   F-statistic:                 1.274e+06\n",
              "Date:                Sun, 05 Feb 2023   Prob (F-statistic):               0.00\n",
              "Time:                        08:17:02   Log-Likelihood:                -8894.2\n",
              "No. Observations:               18044   AIC:                         1.779e+04\n",
              "Df Residuals:                   18042   BIC:                         1.781e+04\n",
              "Df Model:                           1                                         \n",
              "Covariance Type:            nonrobust                                         \n",
              "===================================================================================\n",
              "                      coef    std err          t      P>|t|      [0.025      0.975]\n",
              "-----------------------------------------------------------------------------------\n",
              "const              -0.4147      0.012    -34.539      0.000      -0.438      -0.391\n",
              "COMB (L/100 km)     1.1942      0.001   1128.504      0.000       1.192       1.196\n",
              "==============================================================================\n",
              "Omnibus:                     1179.600   Durbin-Watson:                   2.014\n",
              "Prob(Omnibus):                  0.000   Jarque-Bera (JB):             2322.648\n",
              "Skew:                          -0.463   Prob(JB):                         0.00\n",
              "Kurtosis:                       4.494   Cond. No.                         46.5\n",
              "==============================================================================\n",
              "\n",
              "Notes:\n",
              "[1] Standard Errors assume that the covariance matrix of the errors is correctly specified.\n",
              "\"\"\""
            ],
            "text/html": [
              "<table class=\"simpletable\">\n",
              "<caption>OLS Regression Results</caption>\n",
              "<tr>\n",
              "  <th>Dep. Variable:</th>    <td>FUEL CONSUMPTION</td> <th>  R-squared:         </th> <td>   0.986</td> \n",
              "</tr>\n",
              "<tr>\n",
              "  <th>Model:</th>                   <td>OLS</td>       <th>  Adj. R-squared:    </th> <td>   0.986</td> \n",
              "</tr>\n",
              "<tr>\n",
              "  <th>Method:</th>             <td>Least Squares</td>  <th>  F-statistic:       </th> <td>1.274e+06</td>\n",
              "</tr>\n",
              "<tr>\n",
              "  <th>Date:</th>             <td>Sun, 05 Feb 2023</td> <th>  Prob (F-statistic):</th>  <td>  0.00</td>  \n",
              "</tr>\n",
              "<tr>\n",
              "  <th>Time:</th>                 <td>08:17:02</td>     <th>  Log-Likelihood:    </th> <td> -8894.2</td> \n",
              "</tr>\n",
              "<tr>\n",
              "  <th>No. Observations:</th>      <td> 18044</td>      <th>  AIC:               </th> <td>1.779e+04</td>\n",
              "</tr>\n",
              "<tr>\n",
              "  <th>Df Residuals:</th>          <td> 18042</td>      <th>  BIC:               </th> <td>1.781e+04</td>\n",
              "</tr>\n",
              "<tr>\n",
              "  <th>Df Model:</th>              <td>     1</td>      <th>                     </th>     <td> </td>    \n",
              "</tr>\n",
              "<tr>\n",
              "  <th>Covariance Type:</th>      <td>nonrobust</td>    <th>                     </th>     <td> </td>    \n",
              "</tr>\n",
              "</table>\n",
              "<table class=\"simpletable\">\n",
              "<tr>\n",
              "         <td></td>            <th>coef</th>     <th>std err</th>      <th>t</th>      <th>P>|t|</th>  <th>[0.025</th>    <th>0.975]</th>  \n",
              "</tr>\n",
              "<tr>\n",
              "  <th>const</th>           <td>   -0.4147</td> <td>    0.012</td> <td>  -34.539</td> <td> 0.000</td> <td>   -0.438</td> <td>   -0.391</td>\n",
              "</tr>\n",
              "<tr>\n",
              "  <th>COMB (L/100 km)</th> <td>    1.1942</td> <td>    0.001</td> <td> 1128.504</td> <td> 0.000</td> <td>    1.192</td> <td>    1.196</td>\n",
              "</tr>\n",
              "</table>\n",
              "<table class=\"simpletable\">\n",
              "<tr>\n",
              "  <th>Omnibus:</th>       <td>1179.600</td> <th>  Durbin-Watson:     </th> <td>   2.014</td>\n",
              "</tr>\n",
              "<tr>\n",
              "  <th>Prob(Omnibus):</th>  <td> 0.000</td>  <th>  Jarque-Bera (JB):  </th> <td>2322.648</td>\n",
              "</tr>\n",
              "<tr>\n",
              "  <th>Skew:</th>           <td>-0.463</td>  <th>  Prob(JB):          </th> <td>    0.00</td>\n",
              "</tr>\n",
              "<tr>\n",
              "  <th>Kurtosis:</th>       <td> 4.494</td>  <th>  Cond. No.          </th> <td>    46.5</td>\n",
              "</tr>\n",
              "</table><br/><br/>Notes:<br/>[1] Standard Errors assume that the covariance matrix of the errors is correctly specified."
            ]
          },
          "metadata": {},
          "execution_count": 468
        }
      ]
    },
    {
      "cell_type": "markdown",
      "source": [
        "The r^2 value is 98.6% indicates the model express the output well. And adjusted-square value is 98.6% the fuel consumption variance can be expressed COMB (L/100 km) using this line.The p value for F-statistic is less than of\n",
        "0.05 and it is concluded that regression coefficents are significant (not equal to zero). The Durbin-Watson test is a statistical test used to detect autocorrelation in errors. It is value 2 indicating there is no autocorrelation."
      ],
      "metadata": {
        "id": "7yeKw5604cD3"
      }
    },
    {
      "cell_type": "markdown",
      "source": [
        "**Visualising the fitted line to  train dataset**"
      ],
      "metadata": {
        "id": "ED6B7TDL7w0J"
      }
    },
    {
      "cell_type": "code",
      "source": [
        "plt.scatter(x_train,y_train)\n",
        "plt.plot(x_train ,  -0.4147+1.1942*x_train, 'r')\n",
        "plt.xlabel('COMB (L/100 km)')\n",
        "plt.ylabel('FUEL CONSUMPTION')\n",
        "plt.show()"
      ],
      "metadata": {
        "colab": {
          "base_uri": "https://localhost:8080/",
          "height": 279
        },
        "id": "4z493E7eRY0Q",
        "outputId": "3be9f17f-045a-406a-aa95-605203ef45fd"
      },
      "execution_count": null,
      "outputs": [
        {
          "output_type": "display_data",
          "data": {
            "text/plain": [
              "<Figure size 432x288 with 1 Axes>"
            ],
            "image/png": "[encoded data removed]"
          },
          "metadata": {
            "needs_background": "light"
          }
        }
      ]
    },
    {
      "cell_type": "markdown",
      "source": [
        "The red line is the fitted line where the equation is\n",
        "FUEL CONSUMPTION = y = -0.4147 + 1.1942*COMB (L/100 km)."
      ],
      "metadata": {
        "id": "WuHubT2d8S01"
      }
    },
    {
      "cell_type": "markdown",
      "source": [
        "**predicting using train dataset**"
      ],
      "metadata": {
        "id": "o_V2NMs576Rg"
      }
    },
    {
      "cell_type": "code",
      "source": [
        "y_train_pred = model.predict(x_train_lm)\n",
        "resid = (y_train - y_train_pred)\n",
        "resid"
      ],
      "metadata": {
        "colab": {
          "base_uri": "https://localhost:8080/"
        },
        "id": "anFqrvqUSxHF",
        "outputId": "2235cfaf-bd25-479b-80e6-03ef1072fd69"
      },
      "execution_count": null,
      "outputs": [
        {
          "output_type": "execute_result",
          "data": {
            "text/plain": [
              "4636     0.066804\n",
              "10670    0.064737\n",
              "6387    -0.269146\n",
              "18994   -0.085676\n",
              "11438    0.084159\n",
              "           ...   \n",
              "9372     0.053167\n",
              "7291     0.170522\n",
              "17728   -0.010882\n",
              "7293     0.148208\n",
              "17673    0.159778\n",
              "Length: 18044, dtype: float64"
            ]
          },
          "metadata": {},
          "execution_count": 470
        }
      ]
    },
    {
      "cell_type": "code",
      "source": [
        "fig = plt.figure()\n",
        "sns.distplot(resid,bins=15)\n",
        "plt.show()"
      ],
      "metadata": {
        "colab": {
          "base_uri": "https://localhost:8080/",
          "height": 322
        },
        "id": "ZxHtk-jKTU6w",
        "outputId": "7d26ab7d-0ca1-4a0a-a198-842b393475d0"
      },
      "execution_count": null,
      "outputs": [
        {
          "output_type": "stream",
          "name": "stderr",
          "text": [
            "/usr/local/lib/python3.8/dist-packages/seaborn/distributions.py:2619: FutureWarning: `distplot` is a deprecated function and will be removed in a future version. Please adapt your code to use either `displot` (a figure-level function with similar flexibility) or `histplot` (an axes-level function for histograms).\n",
            "  warnings.warn(msg, FutureWarning)\n"
          ]
        },
        {
          "output_type": "display_data",
          "data": {
            "text/plain": [
              "<Figure size 432x288 with 1 Axes>"
            ],
            "image/png": "[encoded data removed]"
          },
          "metadata": {
            "needs_background": "light"
          }
        }
      ]
    },
    {
      "cell_type": "markdown",
      "source": [
        "**INFERENCE:** The residuals are normally distributed."
      ],
      "metadata": {
        "id": "3N8vBXotqgEn"
      }
    },
    {
      "cell_type": "code",
      "source": [
        "plt.scatter(y_train_pred,resid)\n",
        "plt.xlabel(\"fuel consumption predicted\")\n",
        "plt.ylabel(\"residual\")\n",
        "plt.show()"
      ],
      "metadata": {
        "colab": {
          "base_uri": "https://localhost:8080/",
          "height": 279
        },
        "id": "eKx49Y2kteMV",
        "outputId": "c175eaa0-3596-443f-d96c-bf0be45d21a4"
      },
      "execution_count": null,
      "outputs": [
        {
          "output_type": "display_data",
          "data": {
            "text/plain": [
              "<Figure size 432x288 with 1 Axes>"
            ],
            "image/png": "[encoded data removed]"
          },
          "metadata": {
            "needs_background": "light"
          }
        }
      ]
    },
    {
      "cell_type": "code",
      "source": [
        "plt.scatter(x_train,resid)\n",
        "plt.xlabel(\"COMB (L/100 km))\")\n",
        "plt.ylabel(\"residual\")\n",
        "plt.show()"
      ],
      "metadata": {
        "colab": {
          "base_uri": "https://localhost:8080/",
          "height": 279
        },
        "id": "IfuprFhutrCB",
        "outputId": "03ff6c8c-52a5-4a7b-c7c2-4184c986ab92"
      },
      "execution_count": null,
      "outputs": [
        {
          "output_type": "display_data",
          "data": {
            "text/plain": [
              "<Figure size 432x288 with 1 Axes>"
            ],
            "image/png": "[encoded data removed]"
          },
          "metadata": {
            "needs_background": "light"
          }
        }
      ]
    },
    {
      "cell_type": "code",
      "source": [
        "import scipy.stats as stats\n",
        "plt.figure(figsize=(7,7))\n",
        "stats.probplot(resid, dist=\"norm\", plot=plt)\n",
        "plt.title(\"Normal Q-Q Plot\")"
      ],
      "metadata": {
        "colab": {
          "base_uri": "https://localhost:8080/",
          "height": 475
        },
        "id": "nhCstEi8t4Cy",
        "outputId": "b086b94e-6c48-44c8-9f59-9aa7fa85b65e"
      },
      "execution_count": null,
      "outputs": [
        {
          "output_type": "execute_result",
          "data": {
            "text/plain": [
              "Text(0.5, 1.0, 'Normal Q-Q Plot')"
            ]
          },
          "metadata": {},
          "execution_count": 474
        },
        {
          "output_type": "display_data",
          "data": {
            "text/plain": [
              "<Figure size 504x504 with 1 Axes>"
            ],
            "image/png": "[encoded data removed]"
          },
          "metadata": {
            "needs_background": "light"
          }
        }
      ]
    },
    {
      "cell_type": "markdown",
      "source": [
        "**Predicting using the test dataset.**"
      ],
      "metadata": {
        "id": "bb3FLlGl9ONx"
      }
    },
    {
      "cell_type": "code",
      "source": [
        "x_test_lm = lm.add_constant(x_test)\n",
        "y_test_pred = model.predict(x_test_lm)\n",
        "y_test_pred.astype(int)"
      ],
      "metadata": {
        "colab": {
          "base_uri": "https://localhost:8080/"
        },
        "id": "Ix6JxG-wuE6W",
        "outputId": "40cfc887-b2d7-4cb5-88f6-0d60eeb0bb03"
      },
      "execution_count": null,
      "outputs": [
        {
          "output_type": "stream",
          "name": "stderr",
          "text": [
            "/usr/local/lib/python3.8/dist-packages/statsmodels/tsa/tsatools.py:142: FutureWarning: In a future version of pandas all arguments of concat except for the argument 'objs' will be keyword-only\n",
            "  x = pd.concat(x[::order], 1)\n"
          ]
        },
        {
          "output_type": "execute_result",
          "data": {
            "text/plain": [
              "19116     9\n",
              "11016    10\n",
              "15481    12\n",
              "824      15\n",
              "13397     7\n",
              "         ..\n",
              "13233     8\n",
              "20579    10\n",
              "3551     10\n",
              "12605    19\n",
              "9984     10\n",
              "Length: 4512, dtype: int64"
            ]
          },
          "metadata": {},
          "execution_count": 475
        }
      ]
    },
    {
      "cell_type": "code",
      "source": [
        "from sklearn.metrics import r2_score\n",
        "r_squared = r2_score(y_test, y_test_pred)\n",
        "r_squared"
      ],
      "metadata": {
        "colab": {
          "base_uri": "https://localhost:8080/"
        },
        "id": "I-mcGyqhuJi3",
        "outputId": "84ea773a-d2ef-44fc-f45d-f4f9f1b99967"
      },
      "execution_count": null,
      "outputs": [
        {
          "output_type": "execute_result",
          "data": {
            "text/plain": [
              "0.9853610335689378"
            ]
          },
          "metadata": {},
          "execution_count": 476
        }
      ]
    },
    {
      "cell_type": "markdown",
      "source": [
        "An R-squared value of 0.98 indicates that the independent variable(s) in a regression model explain 98% of the variability in the dependent variable."
      ],
      "metadata": {
        "id": "MvOZq8rQ9a_o"
      }
    },
    {
      "cell_type": "markdown",
      "source": [
        "**Visualising the fitted line to  train dataset**"
      ],
      "metadata": {
        "id": "AnJIJRCf9LsF"
      }
    },
    {
      "cell_type": "code",
      "source": [
        "plt.scatter(x_test, y_test)\n",
        "plt.plot(x_test, y_test_pred, 'r')\n",
        "plt.show()"
      ],
      "metadata": {
        "colab": {
          "base_uri": "https://localhost:8080/",
          "height": 265
        },
        "id": "Ad4pitTuuNHd",
        "outputId": "63ceaec1-18d3-4aa9-8355-ab39ad842e61"
      },
      "execution_count": null,
      "outputs": [
        {
          "output_type": "display_data",
          "data": {
            "text/plain": [
              "<Figure size 432x288 with 1 Axes>"
            ],
            "image/png": "[encoded data removed]"
          },
          "metadata": {
            "needs_background": "light"
          }
        }
      ]
    },
    {
      "cell_type": "code",
      "source": [
        "from sklearn.metrics import mean_squared_error\n",
        "mean_squared_error(y_test, y_test_pred)"
      ],
      "metadata": {
        "colab": {
          "base_uri": "https://localhost:8080/"
        },
        "id": "58ixsl8jCC7c",
        "outputId": "6a87e344-69d5-4517-a536-91957948ad27"
      },
      "execution_count": null,
      "outputs": [
        {
          "output_type": "execute_result",
          "data": {
            "text/plain": [
              "0.1607925363576144"
            ]
          },
          "metadata": {},
          "execution_count": 486
        }
      ]
    },
    {
      "cell_type": "markdown",
      "source": [
        "**CONCLUSION:**\n",
        "An R-squared value of 0.98 indicates that 98% of the variance in the dependent variable (fuel consumption) can be explained by the independent variable (engine displacement). This is a high R-squared value, which suggests a strong relationship between engine displacement and fuel consumption.\n",
        "\n",
        "A mean squared error (MSE) of 0.1607925363576144 suggests that on average, the model's predictions are off by 0.16 units of the dependent variable (fuel consumption).\n",
        "\n",
        "In conclusion, the high R-squared value and relatively low MSE suggest that the simple linear regression model is a good fit for the data and provides a strong relationship between engine displacement and fuel consumption."
      ],
      "metadata": {
        "id": "pR_t3rW9-ibK"
      }
    }
  ]
}